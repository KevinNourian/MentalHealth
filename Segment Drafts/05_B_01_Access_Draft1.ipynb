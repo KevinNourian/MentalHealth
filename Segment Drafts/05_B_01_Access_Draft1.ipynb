{
 "cells": [
  {
   "cell_type": "markdown",
   "id": "67245561",
   "metadata": {},
   "source": [
    "# Access"
   ]
  },
  {
   "cell_type": "code",
   "execution_count": 1,
   "id": "e1e914e5",
   "metadata": {},
   "outputs": [],
   "source": [
    "import pandas as pd\n",
    "import numpy as np\n",
    "import sqlite3\n",
    "import seaborn as sns\n",
    "import matplotlib as mpl\n",
    "import matplotlib.pyplot as plt\n",
    "import warnings\n",
    "import datetime\n",
    "import matplotlib.dates as mdates\n",
    "\n",
    "from scipy import stats\n",
    "from matplotlib.dates import DateFormatter\n",
    "from IPython.display import display"
   ]
  },
  {
   "cell_type": "markdown",
   "id": "d1b3e303",
   "metadata": {},
   "source": [
    "# Load and Display Raw Data"
   ]
  },
  {
   "cell_type": "code",
   "execution_count": 2,
   "id": "1e7b07c8",
   "metadata": {},
   "outputs": [],
   "source": [
    "db_survey = sqlite3.connect(\n",
    "    \"C:\\\\Users\\\\Space\\\\Documents\\\\py\\\\Projects\\\\TuringCollege\\\\TechMentalHealth\\\\DataSet\\\\mental_health.sqlite\"\n",
    ")"
   ]
  },
  {
   "cell_type": "code",
   "execution_count": 3,
   "id": "ed95df31",
   "metadata": {},
   "outputs": [],
   "source": [
    "%matplotlib inline\n",
    "pd.options.display.max_rows = 300000\n",
    "pd.options.display.max_columns = 999\n",
    "pd.options.display.max_colwidth = 500"
   ]
  },
  {
   "cell_type": "markdown",
   "id": "ee59e7da",
   "metadata": {},
   "source": [
    "# Colors"
   ]
  },
  {
   "cell_type": "code",
   "execution_count": 4,
   "id": "f5875b09",
   "metadata": {},
   "outputs": [],
   "source": [
    "ord_color = \"bisque\"\n",
    "spec_lev1 = \"crimson\"\n",
    "spec_lev2 = \"orangered\"\n",
    "spec_lev3 = \"lightcoral\"\n",
    "male_color = \"royalblue\"\n",
    "female_color = \"pink\"\n",
    "graph_color1 = \"indianred\"\n",
    "graph_color2 = \"slategrey\""
   ]
  },
  {
   "cell_type": "markdown",
   "id": "d67adfa2",
   "metadata": {},
   "source": [
    "# Answers"
   ]
  },
  {
   "cell_type": "code",
   "execution_count": 5,
   "id": "2a53bfed",
   "metadata": {
    "scrolled": true
   },
   "outputs": [
    {
     "data": {
      "text/html": [
       "<div>\n",
       "<style scoped>\n",
       "    .dataframe tbody tr th:only-of-type {\n",
       "        vertical-align: middle;\n",
       "    }\n",
       "\n",
       "    .dataframe tbody tr th {\n",
       "        vertical-align: top;\n",
       "    }\n",
       "\n",
       "    .dataframe thead th {\n",
       "        text-align: right;\n",
       "    }\n",
       "</style>\n",
       "<table border=\"1\" class=\"dataframe\">\n",
       "  <thead>\n",
       "    <tr style=\"text-align: right;\">\n",
       "      <th></th>\n",
       "      <th>AnswerText</th>\n",
       "      <th>SurveyID</th>\n",
       "      <th>UserID</th>\n",
       "      <th>QuestionID</th>\n",
       "    </tr>\n",
       "  </thead>\n",
       "  <tbody>\n",
       "    <tr>\n",
       "      <th>0</th>\n",
       "      <td>37</td>\n",
       "      <td>2014</td>\n",
       "      <td>1</td>\n",
       "      <td>1</td>\n",
       "    </tr>\n",
       "    <tr>\n",
       "      <th>1</th>\n",
       "      <td>44</td>\n",
       "      <td>2014</td>\n",
       "      <td>2</td>\n",
       "      <td>1</td>\n",
       "    </tr>\n",
       "    <tr>\n",
       "      <th>2</th>\n",
       "      <td>32</td>\n",
       "      <td>2014</td>\n",
       "      <td>3</td>\n",
       "      <td>1</td>\n",
       "    </tr>\n",
       "    <tr>\n",
       "      <th>3</th>\n",
       "      <td>31</td>\n",
       "      <td>2014</td>\n",
       "      <td>4</td>\n",
       "      <td>1</td>\n",
       "    </tr>\n",
       "    <tr>\n",
       "      <th>4</th>\n",
       "      <td>31</td>\n",
       "      <td>2014</td>\n",
       "      <td>5</td>\n",
       "      <td>1</td>\n",
       "    </tr>\n",
       "  </tbody>\n",
       "</table>\n",
       "</div>"
      ],
      "text/plain": [
       "  AnswerText  SurveyID  UserID  QuestionID\n",
       "0         37      2014       1           1\n",
       "1         44      2014       2           1\n",
       "2         32      2014       3           1\n",
       "3         31      2014       4           1\n",
       "4         31      2014       5           1"
      ]
     },
     "execution_count": 5,
     "metadata": {},
     "output_type": "execute_result"
    }
   ],
   "source": [
    "df_answers = pd.read_sql_query(\"SELECT * FROM Answer\", db_survey)\n",
    "df_answers.head()"
   ]
  },
  {
   "cell_type": "markdown",
   "id": "96a5d0f3",
   "metadata": {},
   "source": [
    "# Tech Workers in Tech Companies"
   ]
  },
  {
   "cell_type": "code",
   "execution_count": 6,
   "id": "56f2966b",
   "metadata": {},
   "outputs": [],
   "source": [
    "df_Answer9 = pd.read_sql_query(\n",
    "    \"SELECT USERID FROM Answer where QuestionID = 9 AND AnswerText = '1'\",\n",
    "    db_survey\n",
    ")"
   ]
  },
  {
   "cell_type": "code",
   "execution_count": 7,
   "id": "e1195166",
   "metadata": {},
   "outputs": [
    {
     "data": {
      "text/plain": [
       "UserID    2888\n",
       "dtype: int64"
      ]
     },
     "execution_count": 7,
     "metadata": {},
     "output_type": "execute_result"
    }
   ],
   "source": [
    "df_Answer9.count()"
   ]
  },
  {
   "cell_type": "code",
   "execution_count": 8,
   "id": "ad7ef606",
   "metadata": {},
   "outputs": [],
   "source": [
    "df_Answer13 = pd.read_sql_query(\n",
    "    \"SELECT USERID FROM Answer where QuestionID = 13 AND AnswerText = '1'\",\n",
    "    db_survey\n",
    ")"
   ]
  },
  {
   "cell_type": "code",
   "execution_count": 9,
   "id": "0b28c6ae",
   "metadata": {},
   "outputs": [
    {
     "data": {
      "text/plain": [
       "UserID    1471\n",
       "dtype: int64"
      ]
     },
     "execution_count": 9,
     "metadata": {},
     "output_type": "execute_result"
    }
   ],
   "source": [
    "df_Answer13.count()"
   ]
  },
  {
   "cell_type": "code",
   "execution_count": 10,
   "id": "f1dedb9a",
   "metadata": {},
   "outputs": [],
   "source": [
    "df_TechinTech = pd.merge(df_Answer13, df_Answer9 , on='UserID', how='inner')"
   ]
  },
  {
   "cell_type": "code",
   "execution_count": 11,
   "id": "5ea0df00",
   "metadata": {},
   "outputs": [
    {
     "data": {
      "text/plain": [
       "UserID    909\n",
       "dtype: int64"
      ]
     },
     "execution_count": 11,
     "metadata": {},
     "output_type": "execute_result"
    }
   ],
   "source": [
    "Total_TechinTech = df_TechinTech.count()\n",
    "Total_TechinTech"
   ]
  },
  {
   "cell_type": "markdown",
   "id": "9d607708",
   "metadata": {},
   "source": [
    "# 14 \n",
    "Do you know options for mental health care available under your employer provided health coverage?"
   ]
  },
  {
   "cell_type": "code",
   "execution_count": 12,
   "id": "10b06e19",
   "metadata": {},
   "outputs": [
    {
     "data": {
      "text/html": [
       "<div>\n",
       "<style scoped>\n",
       "    .dataframe tbody tr th:only-of-type {\n",
       "        vertical-align: middle;\n",
       "    }\n",
       "\n",
       "    .dataframe tbody tr th {\n",
       "        vertical-align: top;\n",
       "    }\n",
       "\n",
       "    .dataframe thead th {\n",
       "        text-align: right;\n",
       "    }\n",
       "</style>\n",
       "<table border=\"1\" class=\"dataframe\">\n",
       "  <thead>\n",
       "    <tr style=\"text-align: right;\">\n",
       "      <th></th>\n",
       "      <th>AnswerText</th>\n",
       "      <th>SurveyID</th>\n",
       "      <th>UserID</th>\n",
       "      <th>QuestionID</th>\n",
       "    </tr>\n",
       "  </thead>\n",
       "  <tbody>\n",
       "    <tr>\n",
       "      <th>0</th>\n",
       "      <td>-1</td>\n",
       "      <td>2016</td>\n",
       "      <td>1261</td>\n",
       "      <td>14</td>\n",
       "    </tr>\n",
       "    <tr>\n",
       "      <th>1</th>\n",
       "      <td>Yes</td>\n",
       "      <td>2016</td>\n",
       "      <td>1262</td>\n",
       "      <td>14</td>\n",
       "    </tr>\n",
       "    <tr>\n",
       "      <th>2</th>\n",
       "      <td>-1</td>\n",
       "      <td>2016</td>\n",
       "      <td>1263</td>\n",
       "      <td>14</td>\n",
       "    </tr>\n",
       "    <tr>\n",
       "      <th>3</th>\n",
       "      <td>-1</td>\n",
       "      <td>2016</td>\n",
       "      <td>1264</td>\n",
       "      <td>14</td>\n",
       "    </tr>\n",
       "    <tr>\n",
       "      <th>4</th>\n",
       "      <td>Yes</td>\n",
       "      <td>2016</td>\n",
       "      <td>1265</td>\n",
       "      <td>14</td>\n",
       "    </tr>\n",
       "  </tbody>\n",
       "</table>\n",
       "</div>"
      ],
      "text/plain": [
       "  AnswerText  SurveyID  UserID  QuestionID\n",
       "0         -1      2016    1261          14\n",
       "1        Yes      2016    1262          14\n",
       "2         -1      2016    1263          14\n",
       "3         -1      2016    1264          14\n",
       "4        Yes      2016    1265          14"
      ]
     },
     "execution_count": 12,
     "metadata": {},
     "output_type": "execute_result"
    }
   ],
   "source": [
    "df_Answer14 = pd.read_sql_query(\n",
    "    \"SELECT * FROM Answer where QuestionID = 14\",\n",
    "    db_survey\n",
    ")\n",
    "df_Answer14.head()"
   ]
  },
  {
   "cell_type": "code",
   "execution_count": 13,
   "id": "8e1c044f",
   "metadata": {},
   "outputs": [
    {
     "data": {
      "text/plain": [
       "AnswerText    2958\n",
       "SurveyID      2958\n",
       "UserID        2958\n",
       "QuestionID    2958\n",
       "dtype: int64"
      ]
     },
     "execution_count": 13,
     "metadata": {},
     "output_type": "execute_result"
    }
   ],
   "source": [
    "df_Answer14.count()"
   ]
  },
  {
   "cell_type": "code",
   "execution_count": 14,
   "id": "45133d64",
   "metadata": {},
   "outputs": [
    {
     "data": {
      "text/html": [
       "<div>\n",
       "<style scoped>\n",
       "    .dataframe tbody tr th:only-of-type {\n",
       "        vertical-align: middle;\n",
       "    }\n",
       "\n",
       "    .dataframe tbody tr th {\n",
       "        vertical-align: top;\n",
       "    }\n",
       "\n",
       "    .dataframe thead th {\n",
       "        text-align: right;\n",
       "    }\n",
       "</style>\n",
       "<table border=\"1\" class=\"dataframe\">\n",
       "  <thead>\n",
       "    <tr style=\"text-align: right;\">\n",
       "      <th></th>\n",
       "      <th>AnswerText</th>\n",
       "    </tr>\n",
       "  </thead>\n",
       "  <tbody>\n",
       "    <tr>\n",
       "      <th>0</th>\n",
       "      <td>-1</td>\n",
       "    </tr>\n",
       "    <tr>\n",
       "      <th>1</th>\n",
       "      <td>Yes</td>\n",
       "    </tr>\n",
       "    <tr>\n",
       "      <th>2</th>\n",
       "      <td>I am not sure</td>\n",
       "    </tr>\n",
       "    <tr>\n",
       "      <th>3</th>\n",
       "      <td>No</td>\n",
       "    </tr>\n",
       "  </tbody>\n",
       "</table>\n",
       "</div>"
      ],
      "text/plain": [
       "      AnswerText\n",
       "0             -1\n",
       "1            Yes\n",
       "2  I am not sure\n",
       "3             No"
      ]
     },
     "execution_count": 14,
     "metadata": {},
     "output_type": "execute_result"
    }
   ],
   "source": [
    "df_Answer14_Distinct = pd.read_sql_query(\n",
    "    \"SELECT DISTINCT AnswerText FROM Answer where QuestionID = 14\",\n",
    "    db_survey\n",
    ")\n",
    "df_Answer14_Distinct"
   ]
  },
  {
   "cell_type": "code",
   "execution_count": 15,
   "id": "971bd1ed",
   "metadata": {},
   "outputs": [
    {
     "data": {
      "text/plain": [
       "UserID    869\n",
       "dtype: int64"
      ]
     },
     "execution_count": 15,
     "metadata": {},
     "output_type": "execute_result"
    }
   ],
   "source": [
    "df_Answer14_Yes = pd.read_sql_query(\n",
    "    \"SELECT UserID FROM Answer where QuestionID = 14 AND AnswerText = 'Yes'\",\n",
    "    db_survey\n",
    ")\n",
    "df_Answer14_Yes.count()"
   ]
  },
  {
   "cell_type": "code",
   "execution_count": 16,
   "id": "799b3005",
   "metadata": {},
   "outputs": [],
   "source": [
    "df_Answer14TechinTech = pd.merge(df_TechinTech, df_Answer14_Yes, on='UserID', how='inner')"
   ]
  },
  {
   "cell_type": "code",
   "execution_count": 18,
   "id": "94c89baa",
   "metadata": {},
   "outputs": [
    {
     "data": {
      "text/plain": [
       "UserID    378\n",
       "dtype: int64"
      ]
     },
     "execution_count": 18,
     "metadata": {},
     "output_type": "execute_result"
    }
   ],
   "source": [
    "df_Answer14TechinTech.count()"
   ]
  },
  {
   "cell_type": "code",
   "execution_count": 19,
   "id": "fb1f7b96",
   "metadata": {},
   "outputs": [
    {
     "data": {
      "text/html": [
       "<div>\n",
       "<style scoped>\n",
       "    .dataframe tbody tr th:only-of-type {\n",
       "        vertical-align: middle;\n",
       "    }\n",
       "\n",
       "    .dataframe tbody tr th {\n",
       "        vertical-align: top;\n",
       "    }\n",
       "\n",
       "    .dataframe thead th {\n",
       "        text-align: right;\n",
       "    }\n",
       "</style>\n",
       "<table border=\"1\" class=\"dataframe\">\n",
       "  <thead>\n",
       "    <tr style=\"text-align: right;\">\n",
       "      <th></th>\n",
       "      <th>UserID</th>\n",
       "    </tr>\n",
       "  </thead>\n",
       "  <tbody>\n",
       "    <tr>\n",
       "      <th>0</th>\n",
       "      <td>2694</td>\n",
       "    </tr>\n",
       "    <tr>\n",
       "      <th>1</th>\n",
       "      <td>2695</td>\n",
       "    </tr>\n",
       "    <tr>\n",
       "      <th>2</th>\n",
       "      <td>2697</td>\n",
       "    </tr>\n",
       "    <tr>\n",
       "      <th>3</th>\n",
       "      <td>2700</td>\n",
       "    </tr>\n",
       "    <tr>\n",
       "      <th>4</th>\n",
       "      <td>2724</td>\n",
       "    </tr>\n",
       "  </tbody>\n",
       "</table>\n",
       "</div>"
      ],
      "text/plain": [
       "   UserID\n",
       "0    2694\n",
       "1    2695\n",
       "2    2697\n",
       "3    2700\n",
       "4    2724"
      ]
     },
     "execution_count": 19,
     "metadata": {},
     "output_type": "execute_result"
    }
   ],
   "source": [
    "df_Answer14TechinTech.head()"
   ]
  },
  {
   "cell_type": "markdown",
   "id": "7b34c4e3",
   "metadata": {},
   "source": [
    "# 94 \n",
    "Do you know options for mental health care your employer provides?"
   ]
  },
  {
   "cell_type": "code",
   "execution_count": 154,
   "id": "18ac4ea0",
   "metadata": {},
   "outputs": [
    {
     "data": {
      "text/html": [
       "<div>\n",
       "<style scoped>\n",
       "    .dataframe tbody tr th:only-of-type {\n",
       "        vertical-align: middle;\n",
       "    }\n",
       "\n",
       "    .dataframe tbody tr th {\n",
       "        vertical-align: top;\n",
       "    }\n",
       "\n",
       "    .dataframe thead th {\n",
       "        text-align: right;\n",
       "    }\n",
       "</style>\n",
       "<table border=\"1\" class=\"dataframe\">\n",
       "  <thead>\n",
       "    <tr style=\"text-align: right;\">\n",
       "      <th></th>\n",
       "      <th>AnswerText</th>\n",
       "      <th>SurveyID</th>\n",
       "      <th>UserID</th>\n",
       "      <th>QuestionID</th>\n",
       "    </tr>\n",
       "  </thead>\n",
       "  <tbody>\n",
       "    <tr>\n",
       "      <th>0</th>\n",
       "      <td>Not sure</td>\n",
       "      <td>2014</td>\n",
       "      <td>1</td>\n",
       "      <td>94</td>\n",
       "    </tr>\n",
       "    <tr>\n",
       "      <th>1</th>\n",
       "      <td>No</td>\n",
       "      <td>2014</td>\n",
       "      <td>2</td>\n",
       "      <td>94</td>\n",
       "    </tr>\n",
       "    <tr>\n",
       "      <th>2</th>\n",
       "      <td>No</td>\n",
       "      <td>2014</td>\n",
       "      <td>3</td>\n",
       "      <td>94</td>\n",
       "    </tr>\n",
       "    <tr>\n",
       "      <th>3</th>\n",
       "      <td>Yes</td>\n",
       "      <td>2014</td>\n",
       "      <td>4</td>\n",
       "      <td>94</td>\n",
       "    </tr>\n",
       "    <tr>\n",
       "      <th>4</th>\n",
       "      <td>No</td>\n",
       "      <td>2014</td>\n",
       "      <td>5</td>\n",
       "      <td>94</td>\n",
       "    </tr>\n",
       "  </tbody>\n",
       "</table>\n",
       "</div>"
      ],
      "text/plain": [
       "  AnswerText  SurveyID  UserID  QuestionID\n",
       "0   Not sure      2014       1          94\n",
       "1         No      2014       2          94\n",
       "2         No      2014       3          94\n",
       "3        Yes      2014       4          94\n",
       "4         No      2014       5          94"
      ]
     },
     "execution_count": 154,
     "metadata": {},
     "output_type": "execute_result"
    }
   ],
   "source": [
    "df_Answer94 = pd.read_sql_query(\n",
    "    \"SELECT * FROM Answer where QuestionID = 94\",\n",
    "    db_survey\n",
    ")\n",
    "df_Answer94.head()"
   ]
  },
  {
   "cell_type": "code",
   "execution_count": 155,
   "id": "0005f795",
   "metadata": {},
   "outputs": [
    {
     "data": {
      "text/plain": [
       "AnswerText    1260\n",
       "SurveyID      1260\n",
       "UserID        1260\n",
       "QuestionID    1260\n",
       "dtype: int64"
      ]
     },
     "execution_count": 155,
     "metadata": {},
     "output_type": "execute_result"
    }
   ],
   "source": [
    "df_Answer94.count()"
   ]
  },
  {
   "cell_type": "code",
   "execution_count": 156,
   "id": "591a3806",
   "metadata": {},
   "outputs": [
    {
     "data": {
      "text/html": [
       "<div>\n",
       "<style scoped>\n",
       "    .dataframe tbody tr th:only-of-type {\n",
       "        vertical-align: middle;\n",
       "    }\n",
       "\n",
       "    .dataframe tbody tr th {\n",
       "        vertical-align: top;\n",
       "    }\n",
       "\n",
       "    .dataframe thead th {\n",
       "        text-align: right;\n",
       "    }\n",
       "</style>\n",
       "<table border=\"1\" class=\"dataframe\">\n",
       "  <thead>\n",
       "    <tr style=\"text-align: right;\">\n",
       "      <th></th>\n",
       "      <th>AnswerText</th>\n",
       "    </tr>\n",
       "  </thead>\n",
       "  <tbody>\n",
       "    <tr>\n",
       "      <th>0</th>\n",
       "      <td>Not sure</td>\n",
       "    </tr>\n",
       "    <tr>\n",
       "      <th>1</th>\n",
       "      <td>No</td>\n",
       "    </tr>\n",
       "    <tr>\n",
       "      <th>2</th>\n",
       "      <td>Yes</td>\n",
       "    </tr>\n",
       "  </tbody>\n",
       "</table>\n",
       "</div>"
      ],
      "text/plain": [
       "  AnswerText\n",
       "0   Not sure\n",
       "1         No\n",
       "2        Yes"
      ]
     },
     "execution_count": 156,
     "metadata": {},
     "output_type": "execute_result"
    }
   ],
   "source": [
    "df_Answer94_Distinct = pd.read_sql_query(\n",
    "    \"SELECT DISTINCT AnswerText FROM Answer where QuestionID = 94\",\n",
    "    db_survey\n",
    ")\n",
    "df_Answer94_Distinct"
   ]
  },
  {
   "cell_type": "code",
   "execution_count": 180,
   "id": "6dcf0eb1",
   "metadata": {},
   "outputs": [
    {
     "data": {
      "text/plain": [
       "UserID    314\n",
       "dtype: int64"
      ]
     },
     "execution_count": 180,
     "metadata": {},
     "output_type": "execute_result"
    }
   ],
   "source": [
    "df_Answer94_Yes = pd.read_sql_query(\n",
    "    \"SELECT UserID FROM Answer where QuestionID = 94 AND AnswerText = 'Not sure'\",\n",
    "    db_survey\n",
    ")\n",
    "df_Answer94_Yes.count()"
   ]
  },
  {
   "cell_type": "code",
   "execution_count": 181,
   "id": "3675cfd4",
   "metadata": {},
   "outputs": [],
   "source": [
    "df_Answer94TechinTech = pd.merge(df_TechinTech, df_Answer94_Yes , on='UserID', how='inner')"
   ]
  },
  {
   "cell_type": "code",
   "execution_count": 182,
   "id": "6b4bc2ad",
   "metadata": {},
   "outputs": [
    {
     "data": {
      "text/plain": [
       "UserID    0\n",
       "dtype: int64"
      ]
     },
     "execution_count": 182,
     "metadata": {},
     "output_type": "execute_result"
    }
   ],
   "source": [
    "df_Answer94TechinTech.count()"
   ]
  },
  {
   "cell_type": "markdown",
   "id": "8e25773f",
   "metadata": {},
   "source": [
    "# 10 \n",
    "Does employer provide mental health benefits as part of healthcare coverage?"
   ]
  },
  {
   "cell_type": "code",
   "execution_count": 138,
   "id": "24796458",
   "metadata": {},
   "outputs": [
    {
     "data": {
      "text/html": [
       "<div>\n",
       "<style scoped>\n",
       "    .dataframe tbody tr th:only-of-type {\n",
       "        vertical-align: middle;\n",
       "    }\n",
       "\n",
       "    .dataframe tbody tr th {\n",
       "        vertical-align: top;\n",
       "    }\n",
       "\n",
       "    .dataframe thead th {\n",
       "        text-align: right;\n",
       "    }\n",
       "</style>\n",
       "<table border=\"1\" class=\"dataframe\">\n",
       "  <thead>\n",
       "    <tr style=\"text-align: right;\">\n",
       "      <th></th>\n",
       "      <th>AnswerText</th>\n",
       "      <th>SurveyID</th>\n",
       "      <th>UserID</th>\n",
       "      <th>QuestionID</th>\n",
       "    </tr>\n",
       "  </thead>\n",
       "  <tbody>\n",
       "    <tr>\n",
       "      <th>0</th>\n",
       "      <td>Yes</td>\n",
       "      <td>2014</td>\n",
       "      <td>1</td>\n",
       "      <td>10</td>\n",
       "    </tr>\n",
       "    <tr>\n",
       "      <th>1</th>\n",
       "      <td>Don't know</td>\n",
       "      <td>2014</td>\n",
       "      <td>2</td>\n",
       "      <td>10</td>\n",
       "    </tr>\n",
       "    <tr>\n",
       "      <th>2</th>\n",
       "      <td>No</td>\n",
       "      <td>2014</td>\n",
       "      <td>3</td>\n",
       "      <td>10</td>\n",
       "    </tr>\n",
       "    <tr>\n",
       "      <th>3</th>\n",
       "      <td>No</td>\n",
       "      <td>2014</td>\n",
       "      <td>4</td>\n",
       "      <td>10</td>\n",
       "    </tr>\n",
       "    <tr>\n",
       "      <th>4</th>\n",
       "      <td>Yes</td>\n",
       "      <td>2014</td>\n",
       "      <td>5</td>\n",
       "      <td>10</td>\n",
       "    </tr>\n",
       "  </tbody>\n",
       "</table>\n",
       "</div>"
      ],
      "text/plain": [
       "   AnswerText  SurveyID  UserID  QuestionID\n",
       "0         Yes      2014       1          10\n",
       "1  Don't know      2014       2          10\n",
       "2          No      2014       3          10\n",
       "3          No      2014       4          10\n",
       "4         Yes      2014       5          10"
      ]
     },
     "execution_count": 138,
     "metadata": {},
     "output_type": "execute_result"
    }
   ],
   "source": [
    "df_Answer10 = pd.read_sql_query(\n",
    "    \"SELECT * FROM Answer where QuestionID = 10\",\n",
    "    db_survey\n",
    ")\n",
    "df_Answer10.head()"
   ]
  },
  {
   "cell_type": "code",
   "execution_count": 139,
   "id": "75d10460",
   "metadata": {},
   "outputs": [
    {
     "data": {
      "text/plain": [
       "AnswerText    4218\n",
       "SurveyID      4218\n",
       "UserID        4218\n",
       "QuestionID    4218\n",
       "dtype: int64"
      ]
     },
     "execution_count": 139,
     "metadata": {},
     "output_type": "execute_result"
    }
   ],
   "source": [
    "df_Answer10.count()"
   ]
  },
  {
   "cell_type": "code",
   "execution_count": 140,
   "id": "8be2aee9",
   "metadata": {},
   "outputs": [
    {
     "data": {
      "text/html": [
       "<div>\n",
       "<style scoped>\n",
       "    .dataframe tbody tr th:only-of-type {\n",
       "        vertical-align: middle;\n",
       "    }\n",
       "\n",
       "    .dataframe tbody tr th {\n",
       "        vertical-align: top;\n",
       "    }\n",
       "\n",
       "    .dataframe thead th {\n",
       "        text-align: right;\n",
       "    }\n",
       "</style>\n",
       "<table border=\"1\" class=\"dataframe\">\n",
       "  <thead>\n",
       "    <tr style=\"text-align: right;\">\n",
       "      <th></th>\n",
       "      <th>AnswerText</th>\n",
       "    </tr>\n",
       "  </thead>\n",
       "  <tbody>\n",
       "    <tr>\n",
       "      <th>0</th>\n",
       "      <td>Yes</td>\n",
       "    </tr>\n",
       "    <tr>\n",
       "      <th>1</th>\n",
       "      <td>Don't know</td>\n",
       "    </tr>\n",
       "    <tr>\n",
       "      <th>2</th>\n",
       "      <td>No</td>\n",
       "    </tr>\n",
       "    <tr>\n",
       "      <th>3</th>\n",
       "      <td>Not eligible for coverage / NA</td>\n",
       "    </tr>\n",
       "    <tr>\n",
       "      <th>4</th>\n",
       "      <td>-1</td>\n",
       "    </tr>\n",
       "    <tr>\n",
       "      <th>5</th>\n",
       "      <td>I don't know</td>\n",
       "    </tr>\n",
       "  </tbody>\n",
       "</table>\n",
       "</div>"
      ],
      "text/plain": [
       "                       AnswerText\n",
       "0                             Yes\n",
       "1                      Don't know\n",
       "2                              No\n",
       "3  Not eligible for coverage / NA\n",
       "4                              -1\n",
       "5                    I don't know"
      ]
     },
     "execution_count": 140,
     "metadata": {},
     "output_type": "execute_result"
    }
   ],
   "source": [
    "df_Answer10_Distinct = pd.read_sql_query(\n",
    "    \"SELECT DISTINCT AnswerText FROM Answer where QuestionID = 10\",\n",
    "    db_survey\n",
    ")\n",
    "df_Answer10_Distinct"
   ]
  },
  {
   "cell_type": "code",
   "execution_count": 141,
   "id": "36bc93c3",
   "metadata": {},
   "outputs": [
    {
     "data": {
      "text/plain": [
       "UserID    1744\n",
       "dtype: int64"
      ]
     },
     "execution_count": 141,
     "metadata": {},
     "output_type": "execute_result"
    }
   ],
   "source": [
    "df_Answer10_Yes = pd.read_sql_query(\n",
    "    \"SELECT UserID FROM Answer where QuestionID = 10 AND AnswerText = 'Yes'\",\n",
    "    db_survey\n",
    ")\n",
    "df_Answer10_Yes.count()"
   ]
  },
  {
   "cell_type": "code",
   "execution_count": 142,
   "id": "c7b8beb2",
   "metadata": {},
   "outputs": [
    {
     "data": {
      "text/html": [
       "<div>\n",
       "<style scoped>\n",
       "    .dataframe tbody tr th:only-of-type {\n",
       "        vertical-align: middle;\n",
       "    }\n",
       "\n",
       "    .dataframe tbody tr th {\n",
       "        vertical-align: top;\n",
       "    }\n",
       "\n",
       "    .dataframe thead th {\n",
       "        text-align: right;\n",
       "    }\n",
       "</style>\n",
       "<table border=\"1\" class=\"dataframe\">\n",
       "  <thead>\n",
       "    <tr style=\"text-align: right;\">\n",
       "      <th></th>\n",
       "      <th>UserID</th>\n",
       "    </tr>\n",
       "  </thead>\n",
       "  <tbody>\n",
       "    <tr>\n",
       "      <th>0</th>\n",
       "      <td>2695</td>\n",
       "    </tr>\n",
       "    <tr>\n",
       "      <th>1</th>\n",
       "      <td>2697</td>\n",
       "    </tr>\n",
       "    <tr>\n",
       "      <th>2</th>\n",
       "      <td>2700</td>\n",
       "    </tr>\n",
       "    <tr>\n",
       "      <th>3</th>\n",
       "      <td>2701</td>\n",
       "    </tr>\n",
       "    <tr>\n",
       "      <th>4</th>\n",
       "      <td>2724</td>\n",
       "    </tr>\n",
       "  </tbody>\n",
       "</table>\n",
       "</div>"
      ],
      "text/plain": [
       "   UserID\n",
       "0    2695\n",
       "1    2697\n",
       "2    2700\n",
       "3    2701\n",
       "4    2724"
      ]
     },
     "execution_count": 142,
     "metadata": {},
     "output_type": "execute_result"
    }
   ],
   "source": [
    "df_Answer10TechinTech = pd.merge(df_TechinTech, df_Answer10_Yes , on='UserID', how='inner')"
   ]
  },
  {
   "cell_type": "code",
   "execution_count": 144,
   "id": "b646cdea",
   "metadata": {},
   "outputs": [
    {
     "data": {
      "text/plain": [
       "UserID    498\n",
       "dtype: int64"
      ]
     },
     "execution_count": 144,
     "metadata": {},
     "output_type": "execute_result"
    }
   ],
   "source": [
    "df_Answer10TechinTech.count()"
   ]
  },
  {
   "cell_type": "code",
   "execution_count": null,
   "id": "ed1a05a7",
   "metadata": {},
   "outputs": [],
   "source": [
    "df_Answer10TechinTech.head()"
   ]
  },
  {
   "cell_type": "markdown",
   "id": "a655cbe7",
   "metadata": {},
   "source": [
    "# 16 \n",
    "Does employer offer resources to learn more about mental health disorders and options for seeking help?"
   ]
  },
  {
   "cell_type": "code",
   "execution_count": 183,
   "id": "d4c29fd2",
   "metadata": {},
   "outputs": [
    {
     "data": {
      "text/html": [
       "<div>\n",
       "<style scoped>\n",
       "    .dataframe tbody tr th:only-of-type {\n",
       "        vertical-align: middle;\n",
       "    }\n",
       "\n",
       "    .dataframe tbody tr th {\n",
       "        vertical-align: top;\n",
       "    }\n",
       "\n",
       "    .dataframe thead th {\n",
       "        text-align: right;\n",
       "    }\n",
       "</style>\n",
       "<table border=\"1\" class=\"dataframe\">\n",
       "  <thead>\n",
       "    <tr style=\"text-align: right;\">\n",
       "      <th></th>\n",
       "      <th>AnswerText</th>\n",
       "      <th>SurveyID</th>\n",
       "      <th>UserID</th>\n",
       "      <th>QuestionID</th>\n",
       "    </tr>\n",
       "  </thead>\n",
       "  <tbody>\n",
       "    <tr>\n",
       "      <th>0</th>\n",
       "      <td>No</td>\n",
       "      <td>2016</td>\n",
       "      <td>1261</td>\n",
       "      <td>16</td>\n",
       "    </tr>\n",
       "    <tr>\n",
       "      <th>1</th>\n",
       "      <td>Yes</td>\n",
       "      <td>2016</td>\n",
       "      <td>1262</td>\n",
       "      <td>16</td>\n",
       "    </tr>\n",
       "    <tr>\n",
       "      <th>2</th>\n",
       "      <td>No</td>\n",
       "      <td>2016</td>\n",
       "      <td>1263</td>\n",
       "      <td>16</td>\n",
       "    </tr>\n",
       "    <tr>\n",
       "      <th>3</th>\n",
       "      <td>-1</td>\n",
       "      <td>2016</td>\n",
       "      <td>1264</td>\n",
       "      <td>16</td>\n",
       "    </tr>\n",
       "    <tr>\n",
       "      <th>4</th>\n",
       "      <td>No</td>\n",
       "      <td>2016</td>\n",
       "      <td>1265</td>\n",
       "      <td>16</td>\n",
       "    </tr>\n",
       "  </tbody>\n",
       "</table>\n",
       "</div>"
      ],
      "text/plain": [
       "  AnswerText  SurveyID  UserID  QuestionID\n",
       "0         No      2016    1261          16\n",
       "1        Yes      2016    1262          16\n",
       "2         No      2016    1263          16\n",
       "3         -1      2016    1264          16\n",
       "4         No      2016    1265          16"
      ]
     },
     "execution_count": 183,
     "metadata": {},
     "output_type": "execute_result"
    }
   ],
   "source": [
    "df_Answer16 = pd.read_sql_query(\n",
    "    \"SELECT * FROM Answer where QuestionID = 16\",\n",
    "    db_survey\n",
    ")\n",
    "df_Answer16.head()"
   ]
  },
  {
   "cell_type": "code",
   "execution_count": 184,
   "id": "8f3bdd99",
   "metadata": {},
   "outputs": [
    {
     "data": {
      "text/plain": [
       "AnswerText    2958\n",
       "SurveyID      2958\n",
       "UserID        2958\n",
       "QuestionID    2958\n",
       "dtype: int64"
      ]
     },
     "execution_count": 184,
     "metadata": {},
     "output_type": "execute_result"
    }
   ],
   "source": [
    "df_Answer16.count()"
   ]
  },
  {
   "cell_type": "code",
   "execution_count": 185,
   "id": "66066066",
   "metadata": {},
   "outputs": [
    {
     "data": {
      "text/html": [
       "<div>\n",
       "<style scoped>\n",
       "    .dataframe tbody tr th:only-of-type {\n",
       "        vertical-align: middle;\n",
       "    }\n",
       "\n",
       "    .dataframe tbody tr th {\n",
       "        vertical-align: top;\n",
       "    }\n",
       "\n",
       "    .dataframe thead th {\n",
       "        text-align: right;\n",
       "    }\n",
       "</style>\n",
       "<table border=\"1\" class=\"dataframe\">\n",
       "  <thead>\n",
       "    <tr style=\"text-align: right;\">\n",
       "      <th></th>\n",
       "      <th>AnswerText</th>\n",
       "    </tr>\n",
       "  </thead>\n",
       "  <tbody>\n",
       "    <tr>\n",
       "      <th>0</th>\n",
       "      <td>No</td>\n",
       "    </tr>\n",
       "    <tr>\n",
       "      <th>1</th>\n",
       "      <td>Yes</td>\n",
       "    </tr>\n",
       "    <tr>\n",
       "      <th>2</th>\n",
       "      <td>-1</td>\n",
       "    </tr>\n",
       "    <tr>\n",
       "      <th>3</th>\n",
       "      <td>I don't know</td>\n",
       "    </tr>\n",
       "  </tbody>\n",
       "</table>\n",
       "</div>"
      ],
      "text/plain": [
       "     AnswerText\n",
       "0            No\n",
       "1           Yes\n",
       "2            -1\n",
       "3  I don't know"
      ]
     },
     "execution_count": 185,
     "metadata": {},
     "output_type": "execute_result"
    }
   ],
   "source": [
    "df_Answer16_Distinct = pd.read_sql_query(\n",
    "    \"SELECT DISTINCT AnswerText FROM Answer where QuestionID = 16\",\n",
    "    db_survey\n",
    ")\n",
    "df_Answer16_Distinct"
   ]
  },
  {
   "cell_type": "code",
   "execution_count": 186,
   "id": "24c77ce5",
   "metadata": {},
   "outputs": [
    {
     "data": {
      "text/plain": [
       "UserID    702\n",
       "dtype: int64"
      ]
     },
     "execution_count": 186,
     "metadata": {},
     "output_type": "execute_result"
    }
   ],
   "source": [
    "df_Answer16_Yes = pd.read_sql_query(\n",
    "    \"SELECT UserID FROM Answer where QuestionID = 16 AND AnswerText = 'Yes'\",\n",
    "    db_survey\n",
    ")\n",
    "df_Answer16_Yes.count()"
   ]
  },
  {
   "cell_type": "code",
   "execution_count": 187,
   "id": "bb21567d",
   "metadata": {},
   "outputs": [
    {
     "data": {
      "text/html": [
       "<div>\n",
       "<style scoped>\n",
       "    .dataframe tbody tr th:only-of-type {\n",
       "        vertical-align: middle;\n",
       "    }\n",
       "\n",
       "    .dataframe tbody tr th {\n",
       "        vertical-align: top;\n",
       "    }\n",
       "\n",
       "    .dataframe thead th {\n",
       "        text-align: right;\n",
       "    }\n",
       "</style>\n",
       "<table border=\"1\" class=\"dataframe\">\n",
       "  <thead>\n",
       "    <tr style=\"text-align: right;\">\n",
       "      <th></th>\n",
       "      <th>UserID</th>\n",
       "    </tr>\n",
       "  </thead>\n",
       "  <tbody>\n",
       "    <tr>\n",
       "      <th>0</th>\n",
       "      <td>2737</td>\n",
       "    </tr>\n",
       "    <tr>\n",
       "      <th>1</th>\n",
       "      <td>2748</td>\n",
       "    </tr>\n",
       "    <tr>\n",
       "      <th>2</th>\n",
       "      <td>2752</td>\n",
       "    </tr>\n",
       "    <tr>\n",
       "      <th>3</th>\n",
       "      <td>2754</td>\n",
       "    </tr>\n",
       "    <tr>\n",
       "      <th>4</th>\n",
       "      <td>2781</td>\n",
       "    </tr>\n",
       "  </tbody>\n",
       "</table>\n",
       "</div>"
      ],
      "text/plain": [
       "   UserID\n",
       "0    2737\n",
       "1    2748\n",
       "2    2752\n",
       "3    2754\n",
       "4    2781"
      ]
     },
     "execution_count": 187,
     "metadata": {},
     "output_type": "execute_result"
    }
   ],
   "source": [
    "df_Answer16TechinTech = pd.merge(df_TechinTech, df_Answer16_Yes , on='UserID', how='inner')"
   ]
  },
  {
   "cell_type": "code",
   "execution_count": 188,
   "id": "e0b1f4b7",
   "metadata": {},
   "outputs": [
    {
     "data": {
      "text/plain": [
       "UserID    255\n",
       "dtype: int64"
      ]
     },
     "execution_count": 188,
     "metadata": {},
     "output_type": "execute_result"
    }
   ],
   "source": [
    "df_Answer16TechinTech.count()"
   ]
  },
  {
   "cell_type": "code",
   "execution_count": null,
   "id": "c7eeae37",
   "metadata": {},
   "outputs": [],
   "source": [
    "df_Answer16TechinTech.head()"
   ]
  },
  {
   "cell_type": "markdown",
   "id": "da678a4e",
   "metadata": {},
   "source": [
    "# 96 \n",
    "Does your employer provide resources to learn more about mental health issues and how to seek help?"
   ]
  },
  {
   "cell_type": "code",
   "execution_count": 189,
   "id": "17459ffa",
   "metadata": {},
   "outputs": [
    {
     "data": {
      "text/html": [
       "<div>\n",
       "<style scoped>\n",
       "    .dataframe tbody tr th:only-of-type {\n",
       "        vertical-align: middle;\n",
       "    }\n",
       "\n",
       "    .dataframe tbody tr th {\n",
       "        vertical-align: top;\n",
       "    }\n",
       "\n",
       "    .dataframe thead th {\n",
       "        text-align: right;\n",
       "    }\n",
       "</style>\n",
       "<table border=\"1\" class=\"dataframe\">\n",
       "  <thead>\n",
       "    <tr style=\"text-align: right;\">\n",
       "      <th></th>\n",
       "      <th>AnswerText</th>\n",
       "      <th>SurveyID</th>\n",
       "      <th>UserID</th>\n",
       "      <th>QuestionID</th>\n",
       "    </tr>\n",
       "  </thead>\n",
       "  <tbody>\n",
       "    <tr>\n",
       "      <th>0</th>\n",
       "      <td>Yes</td>\n",
       "      <td>2014</td>\n",
       "      <td>1</td>\n",
       "      <td>96</td>\n",
       "    </tr>\n",
       "    <tr>\n",
       "      <th>1</th>\n",
       "      <td>Don't know</td>\n",
       "      <td>2014</td>\n",
       "      <td>2</td>\n",
       "      <td>96</td>\n",
       "    </tr>\n",
       "    <tr>\n",
       "      <th>2</th>\n",
       "      <td>No</td>\n",
       "      <td>2014</td>\n",
       "      <td>3</td>\n",
       "      <td>96</td>\n",
       "    </tr>\n",
       "    <tr>\n",
       "      <th>3</th>\n",
       "      <td>No</td>\n",
       "      <td>2014</td>\n",
       "      <td>4</td>\n",
       "      <td>96</td>\n",
       "    </tr>\n",
       "    <tr>\n",
       "      <th>4</th>\n",
       "      <td>Don't know</td>\n",
       "      <td>2014</td>\n",
       "      <td>5</td>\n",
       "      <td>96</td>\n",
       "    </tr>\n",
       "  </tbody>\n",
       "</table>\n",
       "</div>"
      ],
      "text/plain": [
       "   AnswerText  SurveyID  UserID  QuestionID\n",
       "0         Yes      2014       1          96\n",
       "1  Don't know      2014       2          96\n",
       "2          No      2014       3          96\n",
       "3          No      2014       4          96\n",
       "4  Don't know      2014       5          96"
      ]
     },
     "execution_count": 189,
     "metadata": {},
     "output_type": "execute_result"
    }
   ],
   "source": [
    "df_Answer96 = pd.read_sql_query(\n",
    "    \"SELECT * FROM Answer where QuestionID = 96\",\n",
    "    db_survey\n",
    ")\n",
    "df_Answer96.head()"
   ]
  },
  {
   "cell_type": "code",
   "execution_count": 190,
   "id": "211ff732",
   "metadata": {},
   "outputs": [
    {
     "data": {
      "text/plain": [
       "AnswerText    1260\n",
       "SurveyID      1260\n",
       "UserID        1260\n",
       "QuestionID    1260\n",
       "dtype: int64"
      ]
     },
     "execution_count": 190,
     "metadata": {},
     "output_type": "execute_result"
    }
   ],
   "source": [
    "df_Answer96.count()"
   ]
  },
  {
   "cell_type": "code",
   "execution_count": 191,
   "id": "b3d7b993",
   "metadata": {},
   "outputs": [
    {
     "data": {
      "text/html": [
       "<div>\n",
       "<style scoped>\n",
       "    .dataframe tbody tr th:only-of-type {\n",
       "        vertical-align: middle;\n",
       "    }\n",
       "\n",
       "    .dataframe tbody tr th {\n",
       "        vertical-align: top;\n",
       "    }\n",
       "\n",
       "    .dataframe thead th {\n",
       "        text-align: right;\n",
       "    }\n",
       "</style>\n",
       "<table border=\"1\" class=\"dataframe\">\n",
       "  <thead>\n",
       "    <tr style=\"text-align: right;\">\n",
       "      <th></th>\n",
       "      <th>AnswerText</th>\n",
       "    </tr>\n",
       "  </thead>\n",
       "  <tbody>\n",
       "    <tr>\n",
       "      <th>0</th>\n",
       "      <td>Yes</td>\n",
       "    </tr>\n",
       "    <tr>\n",
       "      <th>1</th>\n",
       "      <td>Don't know</td>\n",
       "    </tr>\n",
       "    <tr>\n",
       "      <th>2</th>\n",
       "      <td>No</td>\n",
       "    </tr>\n",
       "  </tbody>\n",
       "</table>\n",
       "</div>"
      ],
      "text/plain": [
       "   AnswerText\n",
       "0         Yes\n",
       "1  Don't know\n",
       "2          No"
      ]
     },
     "execution_count": 191,
     "metadata": {},
     "output_type": "execute_result"
    }
   ],
   "source": [
    "df_Answer96_Distinct = pd.read_sql_query(\n",
    "    \"SELECT DISTINCT AnswerText FROM Answer where QuestionID = 96\",\n",
    "    db_survey\n",
    ")\n",
    "df_Answer96_Distinct"
   ]
  },
  {
   "cell_type": "code",
   "execution_count": 205,
   "id": "43c32a32",
   "metadata": {},
   "outputs": [
    {
     "data": {
      "text/plain": [
       "UserID    363\n",
       "dtype: int64"
      ]
     },
     "execution_count": 205,
     "metadata": {},
     "output_type": "execute_result"
    }
   ],
   "source": [
    "df_Answer96_Yes = pd.read_sql_query(\n",
    "    \"SELECT UserID FROM Answer where QuestionID = 96 AND AnswerText = 'Don''t know'\",\n",
    "    db_survey\n",
    ")\n",
    "df_Answer96_Yes.count()"
   ]
  },
  {
   "cell_type": "code",
   "execution_count": 206,
   "id": "e02ba5dc",
   "metadata": {},
   "outputs": [],
   "source": [
    "df_Answer96TechinTech = pd.merge(df_TechinTech, df_Answer96_Yes , on='UserID', how='inner')"
   ]
  },
  {
   "cell_type": "code",
   "execution_count": 207,
   "id": "89ccd7a0",
   "metadata": {},
   "outputs": [
    {
     "data": {
      "text/plain": [
       "UserID    0\n",
       "dtype: int64"
      ]
     },
     "execution_count": 207,
     "metadata": {},
     "output_type": "execute_result"
    }
   ],
   "source": [
    "df_Answer96TechinTech.count()"
   ]
  }
 ],
 "metadata": {
  "kernelspec": {
   "display_name": "Python 3 (ipykernel)",
   "language": "python",
   "name": "python3"
  },
  "language_info": {
   "codemirror_mode": {
    "name": "ipython",
    "version": 3
   },
   "file_extension": ".py",
   "mimetype": "text/x-python",
   "name": "python",
   "nbconvert_exporter": "python",
   "pygments_lexer": "ipython3",
   "version": "3.10.7"
  }
 },
 "nbformat": 4,
 "nbformat_minor": 5
}
