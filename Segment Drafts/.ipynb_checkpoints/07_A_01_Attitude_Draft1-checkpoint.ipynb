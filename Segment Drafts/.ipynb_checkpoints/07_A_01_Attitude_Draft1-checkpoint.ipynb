{
 "cells": [
  {
   "cell_type": "markdown",
   "id": "a93c7509",
   "metadata": {},
   "source": [
    "# Attitude"
   ]
  },
  {
   "cell_type": "code",
   "execution_count": 48,
   "id": "e1e914e5",
   "metadata": {},
   "outputs": [],
   "source": [
    "import pandas as pd\n",
    "import numpy as np\n",
    "import sqlite3\n",
    "import seaborn as sns\n",
    "import matplotlib as mpl\n",
    "import matplotlib.pyplot as plt\n",
    "import warnings\n",
    "import datetime\n",
    "import matplotlib.dates as mdates\n",
    "\n",
    "from scipy import stats\n",
    "from matplotlib.dates import DateFormatter\n",
    "from IPython.display import display"
   ]
  },
  {
   "cell_type": "markdown",
   "id": "d1b3e303",
   "metadata": {},
   "source": [
    "# Load and Display Raw Data"
   ]
  },
  {
   "cell_type": "code",
   "execution_count": 49,
   "id": "1e7b07c8",
   "metadata": {},
   "outputs": [],
   "source": [
    "db_survey = sqlite3.connect(\n",
    "    \"C:\\\\Users\\\\Space\\\\Documents\\\\py\\\\Projects\\\\TuringCollege\\\\TechMentalHealth\\\\DataSet\\\\mental_health.sqlite\"\n",
    ")"
   ]
  },
  {
   "cell_type": "code",
   "execution_count": 50,
   "id": "ed95df31",
   "metadata": {},
   "outputs": [],
   "source": [
    "%matplotlib inline\n",
    "pd.options.display.max_rows = 300000\n",
    "pd.options.display.max_columns = 999\n",
    "pd.options.display.max_colwidth = 500"
   ]
  },
  {
   "cell_type": "markdown",
   "id": "ee59e7da",
   "metadata": {},
   "source": [
    "# Colors"
   ]
  },
  {
   "cell_type": "code",
   "execution_count": 51,
   "id": "f5875b09",
   "metadata": {},
   "outputs": [],
   "source": [
    "ord_color = \"bisque\"\n",
    "spec_lev1 = \"crimson\"\n",
    "spec_lev2 = \"orangered\"\n",
    "spec_lev3 = \"lightcoral\"\n",
    "male_color = \"royalblue\"\n",
    "female_color = \"pink\"\n",
    "graph_color1 = \"indianred\"\n",
    "graph_color2 = \"slategrey\""
   ]
  },
  {
   "cell_type": "markdown",
   "id": "96a5d0f3",
   "metadata": {},
   "source": [
    "# Tech Workers in Tech Companies"
   ]
  },
  {
   "cell_type": "code",
   "execution_count": 53,
   "id": "56f2966b",
   "metadata": {},
   "outputs": [],
   "source": [
    "df_Answer9 = pd.read_sql_query(\n",
    "    \"SELECT USERID FROM Answer where QuestionID = 9 AND AnswerText = '1'\", db_survey\n",
    ")"
   ]
  },
  {
   "cell_type": "code",
   "execution_count": 54,
   "id": "e1195166",
   "metadata": {},
   "outputs": [
    {
     "data": {
      "text/plain": [
       "UserID    2888\n",
       "dtype: int64"
      ]
     },
     "execution_count": 54,
     "metadata": {},
     "output_type": "execute_result"
    }
   ],
   "source": [
    "df_Answer9.count()"
   ]
  },
  {
   "cell_type": "code",
   "execution_count": 55,
   "id": "ad7ef606",
   "metadata": {},
   "outputs": [],
   "source": [
    "df_Answer13 = pd.read_sql_query(\n",
    "    \"SELECT USERID FROM Answer where QuestionID = 13 AND AnswerText = '1'\", db_survey\n",
    ")"
   ]
  },
  {
   "cell_type": "code",
   "execution_count": 56,
   "id": "0b28c6ae",
   "metadata": {},
   "outputs": [
    {
     "data": {
      "text/plain": [
       "UserID    1471\n",
       "dtype: int64"
      ]
     },
     "execution_count": 56,
     "metadata": {},
     "output_type": "execute_result"
    }
   ],
   "source": [
    "df_Answer13.count()"
   ]
  },
  {
   "cell_type": "code",
   "execution_count": 57,
   "id": "f1dedb9a",
   "metadata": {},
   "outputs": [],
   "source": [
    "df_TechinTech = pd.merge(df_Answer13, df_Answer9, on=\"UserID\", how=\"inner\")"
   ]
  },
  {
   "cell_type": "code",
   "execution_count": 59,
   "id": "5ea0df00",
   "metadata": {},
   "outputs": [
    {
     "data": {
      "text/plain": [
       "UserID    909\n",
       "dtype: int64"
      ]
     },
     "execution_count": 59,
     "metadata": {},
     "output_type": "execute_result"
    }
   ],
   "source": [
    "Total_TechinTech = df_TechinTech.count()\n",
    "Total_TechinTech"
   ]
  },
  {
   "cell_type": "markdown",
   "id": "fb08016c",
   "metadata": {},
   "source": [
    "# Attitde Toward Mental Illness"
   ]
  },
  {
   "cell_type": "markdown",
   "id": "9caa281e",
   "metadata": {},
   "source": [
    "# Question ID: 11 \n",
    "Is your anonimity protected if you choose to take advantage of mental health or substance abuse treatment resources provided by your employer?"
   ]
  },
  {
   "cell_type": "code",
   "execution_count": 60,
   "id": "26e4f4f2",
   "metadata": {},
   "outputs": [],
   "source": [
    "df_Answer11 = pd.read_sql_query(\"SELECT * FROM Answer where QuestionID = 11\", db_survey)\n",
    "Total_Answer11 = df_Answer11.UserID.count()"
   ]
  },
  {
   "cell_type": "code",
   "execution_count": 61,
   "id": "1db5c9ce",
   "metadata": {},
   "outputs": [],
   "source": [
    "df_Answer11_Yes = pd.read_sql_query(\n",
    "    \"SELECT UserID FROM Answer where QuestionID = 11 AND AnswerText = 'Yes'\", db_survey\n",
    ")\n",
    "Yes_Answer11 = df_Answer11_Yes.UserID.count()"
   ]
  },
  {
   "cell_type": "code",
   "execution_count": 62,
   "id": "35b7d9e0",
   "metadata": {},
   "outputs": [],
   "source": [
    "df_Answer11TechinTech = pd.merge(\n",
    "    df_TechinTech, df_Answer11_Yes, on=\"UserID\", how=\"inner\"\n",
    ")"
   ]
  },
  {
   "cell_type": "code",
   "execution_count": 63,
   "id": "d4899b90",
   "metadata": {},
   "outputs": [],
   "source": [
    "TechinTech_Answer11 = df_Answer11TechinTech.UserID.count()"
   ]
  },
  {
   "cell_type": "markdown",
   "id": "2e57cd6b",
   "metadata": {},
   "source": [
    "# Question ID: 17 \n",
    "If a mental health issue prompted you to request a medical leave from work, how easy or difficult would it be to ask for that leave?"
   ]
  },
  {
   "cell_type": "code",
   "execution_count": 64,
   "id": "fc9a9605",
   "metadata": {},
   "outputs": [],
   "source": [
    "df_Answer17 = pd.read_sql_query(\"SELECT * FROM Answer where QuestionID = 17\", db_survey)\n",
    "Total_Answer17 = df_Answer17.UserID.count()"
   ]
  },
  {
   "cell_type": "code",
   "execution_count": 65,
   "id": "70e5ca47",
   "metadata": {},
   "outputs": [],
   "source": [
    "df_Answer17_Yes = pd.read_sql_query(\n",
    "    \"SELECT UserID FROM Answer where QuestionID = 17 AND (AnswerText = 'Very easy' OR AnswerText = 'Somewhat easy')\",\n",
    "    db_survey,\n",
    ")\n",
    "Yes_Answer17 = df_Answer17_Yes.UserID.count()"
   ]
  },
  {
   "cell_type": "code",
   "execution_count": 66,
   "id": "01cfe377",
   "metadata": {},
   "outputs": [],
   "source": [
    "df_Answer17TechinTech = pd.merge(\n",
    "    df_TechinTech, df_Answer17_Yes, on=\"UserID\", how=\"inner\"\n",
    ")"
   ]
  },
  {
   "cell_type": "code",
   "execution_count": 67,
   "id": "ac7796ba",
   "metadata": {},
   "outputs": [],
   "source": [
    "TechinTech_Answer17 = df_Answer17TechinTech.UserID.count()"
   ]
  },
  {
   "cell_type": "markdown",
   "id": "b82008a4",
   "metadata": {},
   "source": [
    "# Question ID: 83 \n",
    "Have you observed or experienced supportive or well handled response to a mental health issue in your current or previous workplace?"
   ]
  },
  {
   "cell_type": "code",
   "execution_count": 68,
   "id": "91b3184b",
   "metadata": {},
   "outputs": [],
   "source": [
    "df_Answer83 = pd.read_sql_query(\"SELECT * FROM Answer where QuestionID = 83\", db_survey)\n",
    "Total_Answer83 = df_Answer83.UserID.count()"
   ]
  },
  {
   "cell_type": "code",
   "execution_count": 69,
   "id": "d58766bc",
   "metadata": {},
   "outputs": [],
   "source": [
    "df_Answer83_Yes = pd.read_sql_query(\n",
    "    \"SELECT UserID FROM Answer where QuestionID = 83 AND (AnswerText = 'Yes, I experienced' OR AnswerText = 'Yes, I observed')\",\n",
    "    db_survey,\n",
    ")\n",
    "Yes_Answer83 = df_Answer83_Yes.UserID.count()"
   ]
  },
  {
   "cell_type": "code",
   "execution_count": 70,
   "id": "f38cea20",
   "metadata": {},
   "outputs": [],
   "source": [
    "df_Answer83TechinTech = pd.merge(df_TechinTech, df_Answer83_Yes, on=\"UserID\", how=\"inner\")"
   ]
  },
  {
   "cell_type": "code",
   "execution_count": 71,
   "id": "b7ebfc32",
   "metadata": {
    "scrolled": true
   },
   "outputs": [],
   "source": [
    "TechinTech_Answer83 = df_Answer83TechinTech.UserID.count()"
   ]
  },
  {
   "cell_type": "markdown",
   "id": "fccaf828",
   "metadata": {},
   "source": [
    "# Tech Workers who Experience Positive Attitudes"
   ]
  },
  {
   "cell_type": "code",
   "execution_count": 72,
   "id": "145523c7",
   "metadata": {},
   "outputs": [],
   "source": [
    "df_attitude = pd.merge(\n",
    "    pd.merge(df_Answer11TechinTech, df_Answer17TechinTech, on=\"UserID\"),\n",
    "    df_Answer83TechinTech,\n",
    "    on=\"UserID\",\n",
    "    how=\"inner\",\n",
    ")"
   ]
  },
  {
   "cell_type": "code",
   "execution_count": 73,
   "id": "9c6a7d1e",
   "metadata": {},
   "outputs": [
    {
     "data": {
      "text/plain": [
       "UserID    117\n",
       "dtype: int64"
      ]
     },
     "execution_count": 73,
     "metadata": {},
     "output_type": "execute_result"
    }
   ],
   "source": [
    "df_attitude.count()"
   ]
  },
  {
   "cell_type": "markdown",
   "id": "5dfd5817",
   "metadata": {},
   "source": [
    "# Attitude Score"
   ]
  },
  {
   "cell_type": "code",
   "execution_count": 74,
   "id": "a8a8f314",
   "metadata": {},
   "outputs": [
    {
     "data": {
      "text/plain": [
       "127.10826341799793"
      ]
     },
     "execution_count": 74,
     "metadata": {},
     "output_type": "execute_result"
    }
   ],
   "source": [
    "Attitude_Score = (\n",
    "    (TechinTech_Answer11 * Yes_Answer11)\n",
    "    + (TechinTech_Answer17 * Yes_Answer17)\n",
    "    + (TechinTech_Answer83 * Yes_Answer83)\n",
    ") / (Total_Answer11 + Total_Answer17 + Total_Answer83)\n",
    "Attitude_Score"
   ]
  },
  {
   "cell_type": "code",
   "execution_count": null,
   "id": "772789ef",
   "metadata": {},
   "outputs": [],
   "source": []
  }
 ],
 "metadata": {
  "kernelspec": {
   "display_name": "Python 3 (ipykernel)",
   "language": "python",
   "name": "python3"
  },
  "language_info": {
   "codemirror_mode": {
    "name": "ipython",
    "version": 3
   },
   "file_extension": ".py",
   "mimetype": "text/x-python",
   "name": "python",
   "nbconvert_exporter": "python",
   "pygments_lexer": "ipython3",
   "version": "3.10.7"
  }
 },
 "nbformat": 4,
 "nbformat_minor": 5
}
