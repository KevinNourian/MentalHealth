{
 "cells": [
  {
   "cell_type": "markdown",
   "id": "62b48181",
   "metadata": {},
   "source": [
    "# Openness"
   ]
  },
  {
   "cell_type": "code",
   "execution_count": 46,
   "id": "e1e914e5",
   "metadata": {},
   "outputs": [],
   "source": [
    "import pandas as pd\n",
    "import numpy as np\n",
    "import sqlite3\n",
    "import seaborn as sns\n",
    "import matplotlib as mpl\n",
    "import matplotlib.pyplot as plt\n",
    "import warnings\n",
    "import datetime\n",
    "import matplotlib.dates as mdates\n",
    "\n",
    "from scipy import stats\n",
    "from matplotlib.dates import DateFormatter\n",
    "from IPython.display import display"
   ]
  },
  {
   "cell_type": "markdown",
   "id": "d1b3e303",
   "metadata": {},
   "source": [
    "# Load and Display Raw Data"
   ]
  },
  {
   "cell_type": "code",
   "execution_count": 47,
   "id": "1e7b07c8",
   "metadata": {},
   "outputs": [],
   "source": [
    "db_survey = sqlite3.connect(\n",
    "    \"C:\\\\Users\\\\Space\\\\Documents\\\\py\\\\Projects\\\\TuringCollege\\\\TechMentalHealth\\\\DataSet\\\\mental_health.sqlite\"\n",
    ")"
   ]
  },
  {
   "cell_type": "code",
   "execution_count": 48,
   "id": "ed95df31",
   "metadata": {},
   "outputs": [],
   "source": [
    "%matplotlib inline\n",
    "pd.options.display.max_rows = 300000\n",
    "pd.options.display.max_columns = 999\n",
    "pd.options.display.max_colwidth = 500"
   ]
  },
  {
   "cell_type": "markdown",
   "id": "ee59e7da",
   "metadata": {},
   "source": [
    "# Colors"
   ]
  },
  {
   "cell_type": "code",
   "execution_count": 49,
   "id": "f5875b09",
   "metadata": {},
   "outputs": [],
   "source": [
    "ord_color = \"bisque\"\n",
    "spec_lev1 = \"crimson\"\n",
    "spec_lev2 = \"orangered\"\n",
    "spec_lev3 = \"lightcoral\"\n",
    "male_color = \"royalblue\"\n",
    "female_color = \"pink\"\n",
    "graph_color1 = \"indianred\"\n",
    "graph_color2 = \"slategrey\""
   ]
  },
  {
   "cell_type": "markdown",
   "id": "96a5d0f3",
   "metadata": {},
   "source": [
    "# Tech Workers in Tech Companies"
   ]
  },
  {
   "cell_type": "code",
   "execution_count": 50,
   "id": "56f2966b",
   "metadata": {},
   "outputs": [],
   "source": [
    "df_Answer9 = pd.read_sql_query(\n",
    "    \"SELECT USERID FROM Answer where QuestionID = 9 AND AnswerText = '1'\",\n",
    "    db_survey\n",
    ")"
   ]
  },
  {
   "cell_type": "code",
   "execution_count": 51,
   "id": "ad7ef606",
   "metadata": {},
   "outputs": [],
   "source": [
    "df_Answer13 = pd.read_sql_query(\n",
    "    \"SELECT USERID FROM Answer where QuestionID = 13 AND AnswerText = '1'\",\n",
    "    db_survey\n",
    ")"
   ]
  },
  {
   "cell_type": "code",
   "execution_count": 52,
   "id": "f1dedb9a",
   "metadata": {},
   "outputs": [],
   "source": [
    "df_TechinTech = pd.merge(df_Answer13, df_Answer9 , on='UserID', how='inner')"
   ]
  },
  {
   "cell_type": "code",
   "execution_count": 53,
   "id": "5ea0df00",
   "metadata": {},
   "outputs": [],
   "source": [
    "Total_TechinTech = df_TechinTech.count()"
   ]
  },
  {
   "cell_type": "markdown",
   "id": "a387c5b0",
   "metadata": {},
   "source": [
    "# Openness"
   ]
  },
  {
   "cell_type": "markdown",
   "id": "9d607708",
   "metadata": {},
   "source": [
    "## QuestionID: 12\n",
    "Would you bring up a mental health issue with a potential employer in an interview?"
   ]
  },
  {
   "cell_type": "code",
   "execution_count": 54,
   "id": "c9d33d3a",
   "metadata": {},
   "outputs": [],
   "source": [
    "df_Answer12 = pd.read_sql_query(\n",
    "    \"SELECT * FROM Answer where QuestionID = 12\",\n",
    "    db_survey\n",
    ")\n",
    "Total_Answer12 = df_Answer12.UserID.count()"
   ]
  },
  {
   "cell_type": "code",
   "execution_count": 55,
   "id": "44d3855f",
   "metadata": {},
   "outputs": [],
   "source": [
    "df_Answer12_Yes = pd.read_sql_query(\n",
    "    \"SELECT UserID FROM Answer where QuestionID = 12 AND AnswerText = 'Yes'\",\n",
    "    db_survey\n",
    ")\n",
    "Yes_Answer12 = df_Answer12_Yes.UserID.count()"
   ]
  },
  {
   "cell_type": "code",
   "execution_count": 56,
   "id": "5f57b770",
   "metadata": {},
   "outputs": [],
   "source": [
    "df_Answer12TechinTech = pd.merge(df_TechinTech, df_Answer12_Yes, on='UserID', how='inner')"
   ]
  },
  {
   "cell_type": "code",
   "execution_count": 57,
   "id": "778905fb",
   "metadata": {},
   "outputs": [],
   "source": [
    "TechinTech_Answer12 = df_Answer12TechinTech.UserID.count()"
   ]
  },
  {
   "cell_type": "markdown",
   "id": "506acf16",
   "metadata": {},
   "source": [
    "## QuestionID:  18\n",
    "Would you feel comfortable discussing a mental health issue with a coworker?  "
   ]
  },
  {
   "cell_type": "code",
   "execution_count": 58,
   "id": "a5758d72",
   "metadata": {},
   "outputs": [],
   "source": [
    "df_Answer18 = pd.read_sql_query(\n",
    "    \"SELECT * FROM Answer where QuestionID = 18\",\n",
    "    db_survey\n",
    ")\n",
    "Total_Answer18 = df_Answer18.UserID.count()"
   ]
  },
  {
   "cell_type": "code",
   "execution_count": 59,
   "id": "3638f8ea",
   "metadata": {},
   "outputs": [],
   "source": [
    "df_Answer18_Yes = pd.read_sql_query(\n",
    "    \"SELECT UserID FROM Answer where QuestionID = 18 AND AnswerText = 'Yes'\",\n",
    "    db_survey\n",
    ")\n",
    "Yes_Answer18 = df_Answer18_Yes.UserID.count()"
   ]
  },
  {
   "cell_type": "code",
   "execution_count": 60,
   "id": "c1dd6b25",
   "metadata": {},
   "outputs": [],
   "source": [
    "df_Answer18TechinTech = pd.merge(df_TechinTech, df_Answer18_Yes, on='UserID', how='inner')"
   ]
  },
  {
   "cell_type": "code",
   "execution_count": 61,
   "id": "2c703fcd",
   "metadata": {},
   "outputs": [],
   "source": [
    "TechinTech_Answer18 = df_Answer18TechinTech.UserID.count()"
   ]
  },
  {
   "cell_type": "markdown",
   "id": "7b804a3f",
   "metadata": {},
   "source": [
    "## QuestionID: 19\n",
    "Would you feel comfortable discussing a mental health issue with a direct supervisor?"
   ]
  },
  {
   "cell_type": "code",
   "execution_count": 62,
   "id": "84b87ac9",
   "metadata": {},
   "outputs": [],
   "source": [
    "df_Answer19 = pd.read_sql_query(\n",
    "    \"SELECT * FROM Answer where QuestionID = 19\",\n",
    "    db_survey\n",
    ")\n",
    "Total_Answer19 = df_Answer19.UserID.count()"
   ]
  },
  {
   "cell_type": "code",
   "execution_count": 63,
   "id": "9b05fbd6",
   "metadata": {},
   "outputs": [],
   "source": [
    "df_Answer19_Yes = pd.read_sql_query(\n",
    "    \"SELECT UserID FROM Answer where QuestionID = 19 AND AnswerText = 'Yes'\",\n",
    "    db_survey\n",
    ")\n",
    "Yes_Answer19 = df_Answer19_Yes.UserID.count()"
   ]
  },
  {
   "cell_type": "code",
   "execution_count": 64,
   "id": "ce881efc",
   "metadata": {},
   "outputs": [],
   "source": [
    "df_Answer19TechinTech = pd.merge(df_TechinTech, df_Answer19_Yes, on='UserID', how='inner')"
   ]
  },
  {
   "cell_type": "code",
   "execution_count": 65,
   "id": "7a573eae",
   "metadata": {},
   "outputs": [],
   "source": [
    "TechinTech_Answer19 = df_Answer19TechinTech.UserID.count()"
   ]
  },
  {
   "cell_type": "markdown",
   "id": "3e07ab52",
   "metadata": {},
   "source": [
    "## Openness Score"
   ]
  },
  {
   "cell_type": "code",
   "execution_count": 66,
   "id": "d4d31079",
   "metadata": {},
   "outputs": [
    {
     "data": {
      "text/plain": [
       "56.371521610420366"
      ]
     },
     "execution_count": 66,
     "metadata": {},
     "output_type": "execute_result"
    }
   ],
   "source": [
    "Openness_Score = (\n",
    "    (TechinTech_Answer12 * Yes_Answer12)\n",
    "    + (TechinTech_Answer18 * Yes_Answer18)\n",
    "    + (TechinTech_Answer19 * Yes_Answer19)\n",
    ") / (Total_Answer12 + Total_Answer18 + Total_Answer19)\n",
    "Openness_Score"
   ]
  },
  {
   "cell_type": "code",
   "execution_count": null,
   "id": "31ede9ea",
   "metadata": {},
   "outputs": [],
   "source": []
  }
 ],
 "metadata": {
  "kernelspec": {
   "display_name": "Python 3 (ipykernel)",
   "language": "python",
   "name": "python3"
  },
  "language_info": {
   "codemirror_mode": {
    "name": "ipython",
    "version": 3
   },
   "file_extension": ".py",
   "mimetype": "text/x-python",
   "name": "python",
   "nbconvert_exporter": "python",
   "pygments_lexer": "ipython3",
   "version": "3.10.7"
  }
 },
 "nbformat": 4,
 "nbformat_minor": 5
}
