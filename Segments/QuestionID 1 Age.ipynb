{
 "cells": [
  {
   "cell_type": "markdown",
   "id": "e6914638",
   "metadata": {},
   "source": [
    "# QuestionID 1 Age"
   ]
  },
  {
   "cell_type": "code",
   "execution_count": 1,
   "id": "b08076a2",
   "metadata": {},
   "outputs": [],
   "source": [
    "import pandas as pd\n",
    "import numpy as np\n",
    "import sqlite3\n",
    "import seaborn as sns\n",
    "import matplotlib as mpl\n",
    "import matplotlib.pyplot as plt\n",
    "import warnings\n",
    "import datetime\n",
    "import matplotlib.dates as mdates\n",
    "\n",
    "from scipy import stats\n",
    "from matplotlib.dates import DateFormatter\n",
    "from IPython.display import display"
   ]
  },
  {
   "cell_type": "code",
   "execution_count": 2,
   "id": "799834b5",
   "metadata": {},
   "outputs": [],
   "source": [
    "db_survey = sqlite3.connect(\n",
    "    \"C:\\\\Users\\\\Space\\\\Documents\\\\py\\\\Projects\\\\TuringCollege\\\\TechMentalHealth\\\\DataSet\\\\mental_health.sqlite\"\n",
    ")"
   ]
  },
  {
   "cell_type": "code",
   "execution_count": 3,
   "id": "03412500",
   "metadata": {},
   "outputs": [],
   "source": [
    "%matplotlib inline\n",
    "pd.options.display.max_rows = 300000\n",
    "pd.options.display.max_columns = 999\n",
    "pd.options.display.max_colwidth = 500"
   ]
  },
  {
   "cell_type": "code",
   "execution_count": 4,
   "id": "1375be55",
   "metadata": {},
   "outputs": [],
   "source": [
    "df_Answer1 = pd.read_sql_query(\"SELECT AnswerText FROM Answer where QuestionID = 1\", db_survey)"
   ]
  },
  {
   "cell_type": "code",
   "execution_count": 5,
   "id": "51ca1301",
   "metadata": {},
   "outputs": [],
   "source": [
    "df_Answer1[\"AnswerText\"] = df_Answer1[\"AnswerText\"].astype(int)"
   ]
  },
  {
   "cell_type": "code",
   "execution_count": 6,
   "id": "9b2def3d",
   "metadata": {},
   "outputs": [],
   "source": [
    "df_Answer1.sort_values(\"AnswerText\", inplace=True)"
   ]
  },
  {
   "cell_type": "code",
   "execution_count": 7,
   "id": "c11cce1f",
   "metadata": {},
   "outputs": [],
   "source": [
    "df_Answer1 = df_Answer1[df_Answer1.AnswerText > 18]\n",
    "df_Answer1 = df_Answer1[df_Answer1.AnswerText < 75]"
   ]
  },
  {
   "cell_type": "code",
   "execution_count": 10,
   "id": "7785bcf6",
   "metadata": {},
   "outputs": [
    {
     "ename": "NameError",
     "evalue": "name 'df_value_counts' is not defined",
     "output_type": "error",
     "traceback": [
      "\u001b[1;31m---------------------------------------------------------------------------\u001b[0m",
      "\u001b[1;31mNameError\u001b[0m                                 Traceback (most recent call last)",
      "Cell \u001b[1;32mIn [10], line 2\u001b[0m\n\u001b[0;32m      1\u001b[0m df_Answer1_counts \u001b[38;5;241m=\u001b[39m df_Answer1\u001b[38;5;241m.\u001b[39mAnswerText\u001b[38;5;241m.\u001b[39mvalue_counts()\n\u001b[1;32m----> 2\u001b[0m df_Answer1_counts \u001b[38;5;241m=\u001b[39m pd\u001b[38;5;241m.\u001b[39mDataFrame(\u001b[43mdf_value_counts\u001b[49m)\n\u001b[0;32m      3\u001b[0m df_Answer1_counts \u001b[38;5;241m=\u001b[39m df_Answer1_counts\u001b[38;5;241m.\u001b[39mreset_index()\n",
      "\u001b[1;31mNameError\u001b[0m: name 'df_value_counts' is not defined"
     ]
    }
   ],
   "source": [
    "df_Answer1_counts = df_Answer1.AnswerText.value_counts()\n",
    "df_Answer1_counts = pd.DataFrame(df_value_counts)\n",
    "df_Answer1_counts = df_Answer1_counts.reset_index()"
   ]
  },
  {
   "cell_type": "code",
   "execution_count": null,
   "id": "46e06d1c",
   "metadata": {},
   "outputs": [],
   "source": [
    "df_Answer1_counts = df_Answer1_counts.rename(\n",
    "    columns={\"index\": \"Age\", \"AnswerText\": \"Count\"}\n",
    ")\n",
    "df_Answer1_counts = df_Answer1_counts.set_index('Age')\n",
    "df_Answer1_counts"
   ]
  },
  {
   "cell_type": "code",
   "execution_count": null,
   "id": "e95dfc59",
   "metadata": {},
   "outputs": [],
   "source": []
  },
  {
   "cell_type": "code",
   "execution_count": null,
   "id": "eb04a7ac",
   "metadata": {},
   "outputs": [],
   "source": []
  }
 ],
 "metadata": {
  "kernelspec": {
   "display_name": "Python 3 (ipykernel)",
   "language": "python",
   "name": "python3"
  },
  "language_info": {
   "codemirror_mode": {
    "name": "ipython",
    "version": 3
   },
   "file_extension": ".py",
   "mimetype": "text/x-python",
   "name": "python",
   "nbconvert_exporter": "python",
   "pygments_lexer": "ipython3",
   "version": "3.10.7"
  }
 },
 "nbformat": 4,
 "nbformat_minor": 5
}
