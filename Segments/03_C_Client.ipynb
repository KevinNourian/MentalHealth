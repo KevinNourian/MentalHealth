{
 "cells": [
  {
   "cell_type": "markdown",
   "id": "156950c1",
   "metadata": {},
   "source": [
    "# Client"
   ]
  },
  {
   "cell_type": "code",
   "execution_count": 15,
   "id": "e1e914e5",
   "metadata": {},
   "outputs": [],
   "source": [
    "import pandas as pd\n",
    "import numpy as np\n",
    "import sqlite3\n",
    "import seaborn as sns\n",
    "import matplotlib as mpl\n",
    "import matplotlib.pyplot as plt\n",
    "import warnings\n",
    "import datetime\n",
    "import matplotlib.dates as mdates\n",
    "\n",
    "from scipy import stats\n",
    "from matplotlib.dates import DateFormatter\n",
    "from IPython.display import display"
   ]
  },
  {
   "cell_type": "markdown",
   "id": "d1b3e303",
   "metadata": {},
   "source": [
    "# Load and Display Raw Data"
   ]
  },
  {
   "cell_type": "code",
   "execution_count": 16,
   "id": "1e7b07c8",
   "metadata": {},
   "outputs": [],
   "source": [
    "db_survey = sqlite3.connect(\n",
    "    \"C:\\\\Users\\\\Space\\\\Documents\\\\py\\\\Projects\\\\TuringCollege\\\\TechMentalHealth\\\\DataSet\\\\mental_health.sqlite\"\n",
    ")"
   ]
  },
  {
   "cell_type": "code",
   "execution_count": 17,
   "id": "ed95df31",
   "metadata": {},
   "outputs": [],
   "source": [
    "%matplotlib inline\n",
    "pd.options.display.max_rows = 300000\n",
    "pd.options.display.max_columns = 999\n",
    "pd.options.display.max_colwidth = 500"
   ]
  },
  {
   "cell_type": "markdown",
   "id": "12ff2318",
   "metadata": {},
   "source": [
    "# Questions"
   ]
  },
  {
   "cell_type": "code",
   "execution_count": 18,
   "id": "2a53bfed",
   "metadata": {},
   "outputs": [],
   "source": [
    "df_questions = pd.read_sql_query(\"SELECT * FROM Question\", db_survey)"
   ]
  },
  {
   "cell_type": "code",
   "execution_count": 19,
   "id": "ca9fa011",
   "metadata": {
    "scrolled": false
   },
   "outputs": [],
   "source": [
    "df_questions.count().to_frame()\n",
    "df_questions = df_questions.rename(\n",
    "    columns={\"questiontext\": \"QuestionText\", \"questionid\": \"QuestionID\"}\n",
    ")"
   ]
  },
  {
   "cell_type": "markdown",
   "id": "39ccf8e0",
   "metadata": {},
   "source": [
    "# Remove Questions"
   ]
  },
  {
   "cell_type": "code",
   "execution_count": 20,
   "id": "f3db975b",
   "metadata": {},
   "outputs": [],
   "source": [
    "df_questions.drop(\n",
    "    df_questions.index[\n",
    "        [\n",
    "            3,\n",
    "            7,\n",
    "            21,\n",
    "            22,\n",
    "            23,\n",
    "            24,\n",
    "            25,\n",
    "            26,\n",
    "            28,\n",
    "            34,\n",
    "            35,\n",
    "            37,\n",
    "            40,\n",
    "            41,\n",
    "            45,\n",
    "            47,\n",
    "            48,\n",
    "            49,\n",
    "            55,\n",
    "            56,\n",
    "            57,\n",
    "            58,\n",
    "            59,\n",
    "            60,\n",
    "            61,\n",
    "            62,\n",
    "            63,\n",
    "            68,\n",
    "            70,\n",
    "            72,\n",
    "            73,\n",
    "            74,\n",
    "            75,\n",
    "            87,\n",
    "            89,\n",
    "            94,\n",
    "            95,\n",
    "            96,\n",
    "            97,\n",
    "            98,\n",
    "            101,\n",
    "            102,\n",
    "            103,\n",
    "        ]\n",
    "    ],\n",
    "    inplace=True,\n",
    ")"
   ]
  },
  {
   "cell_type": "code",
   "execution_count": 21,
   "id": "629adc41",
   "metadata": {
    "scrolled": true
   },
   "outputs": [],
   "source": [
    "df_questions = df_questions.reset_index()\n",
    "df_questions.index.names = ['Index']\n",
    "df_questions = df_questions.drop(['index'], axis = 1)"
   ]
  },
  {
   "cell_type": "markdown",
   "id": "1fb272f3",
   "metadata": {},
   "source": [
    "# Client/Co-Worker Data Frame"
   ]
  },
  {
   "cell_type": "code",
   "execution_count": 22,
   "id": "25d02a20",
   "metadata": {
    "scrolled": true
   },
   "outputs": [
    {
     "data": {
      "text/html": [
       "<style type=\"text/css\">\n",
       "#T_ab70b_row0_col0, #T_ab70b_row0_col1, #T_ab70b_row1_col0, #T_ab70b_row1_col1, #T_ab70b_row2_col0, #T_ab70b_row2_col1, #T_ab70b_row3_col0, #T_ab70b_row3_col1, #T_ab70b_row4_col0, #T_ab70b_row4_col1, #T_ab70b_row5_col0, #T_ab70b_row5_col1 {\n",
       "  text-align: left;\n",
       "}\n",
       "</style>\n",
       "<table id=\"T_ab70b\">\n",
       "  <thead>\n",
       "    <tr>\n",
       "      <th class=\"blank level0\" >&nbsp;</th>\n",
       "      <th id=\"T_ab70b_level0_col0\" class=\"col_heading level0 col0\" >QuestionText</th>\n",
       "      <th id=\"T_ab70b_level0_col1\" class=\"col_heading level0 col1\" >QuestionID</th>\n",
       "    </tr>\n",
       "    <tr>\n",
       "      <th class=\"index_name level0\" >Index</th>\n",
       "      <th class=\"blank col0\" >&nbsp;</th>\n",
       "      <th class=\"blank col1\" >&nbsp;</th>\n",
       "    </tr>\n",
       "  </thead>\n",
       "  <tbody>\n",
       "    <tr>\n",
       "      <th id=\"T_ab70b_level0_row0\" class=\"row_heading level0 row0\" >34</th>\n",
       "      <td id=\"T_ab70b_row0_col0\" class=\"data row0 col0\" >If you have revealed a mental health disorder to a client or business contact, how has this affected you or the relationship?</td>\n",
       "      <td id=\"T_ab70b_row0_col1\" class=\"data row0 col1\" >66</td>\n",
       "    </tr>\n",
       "    <tr>\n",
       "      <th id=\"T_ab70b_level0_row1\" class=\"row_heading level0 row1\" >35</th>\n",
       "      <td id=\"T_ab70b_row1_col0\" class=\"data row1 col0\" >If you have revealed a mental health disorder to a coworker or employee, how has this impacted you or the relationship?</td>\n",
       "      <td id=\"T_ab70b_row1_col1\" class=\"data row1 col1\" >67</td>\n",
       "    </tr>\n",
       "    <tr>\n",
       "      <th id=\"T_ab70b_level0_row2\" class=\"row_heading level0 row2\" >40</th>\n",
       "      <td id=\"T_ab70b_row2_col0\" class=\"data row2 col0\" >If they knew you suffered from a mental health disorder, how do you think that your team members/co-workers would react?</td>\n",
       "      <td id=\"T_ab70b_row2_col1\" class=\"data row2 col1\" >81</td>\n",
       "    </tr>\n",
       "    <tr>\n",
       "      <th id=\"T_ab70b_level0_row3\" class=\"row_heading level0 row3\" >54</th>\n",
       "      <td id=\"T_ab70b_row3_col0\" class=\"data row3 col0\" >Have you heard of or observed negative consequences for coworkers with mental health conditions in your workplace?</td>\n",
       "      <td id=\"T_ab70b_row3_col1\" class=\"data row3 col1\" >102</td>\n",
       "    </tr>\n",
       "    <tr>\n",
       "      <th id=\"T_ab70b_level0_row4\" class=\"row_heading level0 row4\" >56</th>\n",
       "      <td id=\"T_ab70b_row4_col0\" class=\"data row4 col0\" >Have you heard of or observed negative consequences for co-workers who have been open about mental health issues in your workplace?</td>\n",
       "      <td id=\"T_ab70b_row4_col1\" class=\"data row4 col1\" >105</td>\n",
       "    </tr>\n",
       "    <tr>\n",
       "      <th id=\"T_ab70b_level0_row5\" class=\"row_heading level0 row5\" >58</th>\n",
       "      <td id=\"T_ab70b_row5_col0\" class=\"data row5 col0\" >If you have revealed a mental health issue to a coworker or employee, do you believe this has impacted you negatively?</td>\n",
       "      <td id=\"T_ab70b_row5_col1\" class=\"data row5 col1\" >107</td>\n",
       "    </tr>\n",
       "  </tbody>\n",
       "</table>\n"
      ],
      "text/plain": [
       "<pandas.io.formats.style.Styler at 0x21b098fbd90>"
      ]
     },
     "execution_count": 22,
     "metadata": {},
     "output_type": "execute_result"
    }
   ],
   "source": [
    "df_client_questions = df_questions.iloc[[34, 35, 40, 54, 56, 58]] \n",
    "df_client_questions.style.set_properties(**{\"text-align\": \"left\"})"
   ]
  },
  {
   "cell_type": "code",
   "execution_count": 23,
   "id": "020db5c6",
   "metadata": {},
   "outputs": [
    {
     "data": {
      "text/plain": [
       "6"
      ]
     },
     "execution_count": 23,
     "metadata": {},
     "output_type": "execute_result"
    }
   ],
   "source": [
    "df_client_questions.shape[0]"
   ]
  }
 ],
 "metadata": {
  "kernelspec": {
   "display_name": "Python 3 (ipykernel)",
   "language": "python",
   "name": "python3"
  },
  "language_info": {
   "codemirror_mode": {
    "name": "ipython",
    "version": 3
   },
   "file_extension": ".py",
   "mimetype": "text/x-python",
   "name": "python",
   "nbconvert_exporter": "python",
   "pygments_lexer": "ipython3",
   "version": "3.10.7"
  }
 },
 "nbformat": 4,
 "nbformat_minor": 5
}
