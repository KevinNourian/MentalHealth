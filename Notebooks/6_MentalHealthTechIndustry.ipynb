{
 "cells": [
  {
   "cell_type": "markdown",
   "id": "badfc338",
   "metadata": {},
   "source": [
    "# Mental Health in Tech Industry Draft6"
   ]
  },
  {
   "cell_type": "markdown",
   "id": "7cfab38c",
   "metadata": {},
   "source": [
    "# Introduction"
   ]
  },
  {
   "cell_type": "markdown",
   "id": "94caf356",
   "metadata": {},
   "source": [
    "Mental health is an important issue. Mental health affects every area of life and a person who is dealing with mental health issues is less productive in the workplace than one who does not. Dealing with mental health disorders can impact productivity levels. A mentally healthy person is more likely to work more efficiently and provide higher-quality work. This is why mental health is an important issue.\n",
    "\n",
    "There tends to be a stigma attached to issues related to mental health. This stigma surrounding issues of mental health can cause some people to be more careful in how and with whom they speak about their mental health. This is significantly different than how we consider our physical health issues. The stigma surrounding mental health seems to be less when discussing physical health.\n",
    "\n",
    "According to the World Health Organization, Mental health is described as a state of well-being where a person can cope with the normal stresses of life. This state permits productive work output and allows for meaningful contributions to society. In the United States, the Centers for Disease Control and Prevention (CDC) estimates that 1 in 5 adults experience at least one mental health condition every year.\n",
    "\n",
    "In this report, I will analyze the findings of 5 surveys of tech industry workers related to mental health. The surveys were taken in 2014, 2016, 2017, 2018, and 2019. In total, 4218 people from 79 countries participated in the surveys. The surveys have a real bias since the majority of participants were males from the United States. Therefore, we have to make conclusions about mental health issues with tech workers carefully. The findings of this report also include current or past history of mental illness, in addition to family history of mental illness in tech industry workers based on answers to specific questions. \n",
    "\n",
    "I used 3 databases for this analysis:\n",
    "\n",
    "> * Survey: Contains the year each survey was conducted. The year serves as the SurveyID.\n",
    "> * Question: Contains 105 questions. Not all questions were used in all the years. Not all questions were given to every individual surveyed. Each question has a unique QuestionID.\n",
    "> * Answer: Contains 236,898 answers. Participants generally answered more than one question. The answers are in a column called AnswerText.\n",
    "\n",
    "For this report, I concentrated on tech industry workers who work for tech companies. I did not choose participants who answered No to the question that asked if their primary role in the company is a tech/IT related (QuestionID 9). I did not choose participants who answered No to the question that asked if the employer is primarily a tech company/organization (QuestionID 13). The total number of participants in my analysis is 909."
   ]
  },
  {
   "cell_type": "markdown",
   "id": "7cf13b08",
   "metadata": {},
   "source": [
    "# Goal"
   ]
  },
  {
   "cell_type": "markdown",
   "id": "56d430f2",
   "metadata": {},
   "source": [
    "The goal of this analysis is to provide some clarity about mental health issues encountered by tech workers in tech companies."
   ]
  },
  {
   "cell_type": "markdown",
   "id": "18ec9520",
   "metadata": {},
   "source": [
    "# Technical Requirements"
   ]
  },
  {
   "cell_type": "markdown",
   "id": "934a3615",
   "metadata": {},
   "source": [
    "1. Download the data.\n",
    "2. Load data using SQLite and Pandas.\n",
    "3. Perform exploratory data analysis.\n",
    "4. Provide clear explanations. \n",
    "5. Provide suggestions about how the analysis can be improved."
   ]
  },
  {
   "cell_type": "markdown",
   "id": "55b75ab1",
   "metadata": {},
   "source": [
    "# Libraries"
   ]
  },
  {
   "cell_type": "code",
   "execution_count": 1,
   "id": "e1e914e5",
   "metadata": {},
   "outputs": [],
   "source": [
    "import pandas as pd\n",
    "import numpy as np\n",
    "import sqlite3\n",
    "import seaborn as sns\n",
    "import matplotlib as mpl\n",
    "import matplotlib.pyplot as plt\n",
    "import warnings\n",
    "import datetime\n",
    "import matplotlib.dates as mdates\n",
    "\n",
    "from scipy import stats\n",
    "from matplotlib.dates import DateFormatter\n",
    "from IPython.display import display"
   ]
  },
  {
   "cell_type": "markdown",
   "id": "driven-arlington",
   "metadata": {},
   "source": [
    "# Display Parameters"
   ]
  },
  {
   "cell_type": "markdown",
   "id": "double-logging",
   "metadata": {},
   "source": [
    "## Display Features"
   ]
  },
  {
   "cell_type": "code",
   "execution_count": 2,
   "id": "driven-element",
   "metadata": {},
   "outputs": [],
   "source": [
    "%matplotlib inline\n",
    "pd.options.display.max_rows = 300000\n",
    "pd.options.display.max_columns = 999\n",
    "pd.options.display.max_colwidth = 500"
   ]
  },
  {
   "cell_type": "markdown",
   "id": "political-officer",
   "metadata": {},
   "source": [
    "## Colors"
   ]
  },
  {
   "cell_type": "code",
   "execution_count": 3,
   "id": "acquired-union",
   "metadata": {},
   "outputs": [],
   "source": [
    "ord_color = \"bisque\"\n",
    "spec_lev1 = \"crimson\"\n",
    "spec_lev2 = \"orangered\"\n",
    "spec_lev3 = \"lightcoral\"\n",
    "male_color = \"royalblue\"\n",
    "female_color = \"pink\"\n",
    "graph_color1 = \"indianred\"\n",
    "graph_color2 = \"slategrey\""
   ]
  },
  {
   "cell_type": "markdown",
   "id": "incredible-stupid",
   "metadata": {},
   "source": [
    "## Figure Parameters"
   ]
  },
  {
   "cell_type": "code",
   "execution_count": 4,
   "id": "secret-canadian",
   "metadata": {},
   "outputs": [],
   "source": [
    "size = 20\n",
    "\n",
    "params = {\n",
    "    \"font.family\": \"Times New Roman\",\n",
    "    \"font.size\": size,\n",
    "    \"axes.labelsize\": size,\n",
    "    \"xtick.labelsize\": size * 0.75,\n",
    "    \"ytick.labelsize\": size * 0.75,\n",
    "    \"figure.titlesize\": size * 1.5,\n",
    "    \"axes.titlesize\": size * 1.5,\n",
    "    \"axes.titlepad\": size,\n",
    "    \"axes.labelpad\": size - 10,\n",
    "    \"lines.linewidth\": 2,\n",
    "    \"axes.spines.top\": False,\n",
    "    \"axes.spines.right\": False,\n",
    "    \"axes.spines.left\": False,\n",
    "    \"axes.spines.bottom\": False,\n",
    "    \"legend.fontsize\": size,\n",
    "}"
   ]
  },
  {
   "cell_type": "markdown",
   "id": "d1b3e303",
   "metadata": {},
   "source": [
    "# Load and Display Raw Data"
   ]
  },
  {
   "cell_type": "code",
   "execution_count": 5,
   "id": "1e7b07c8",
   "metadata": {},
   "outputs": [],
   "source": [
    "db_survey = sqlite3.connect(\n",
    "    \"C:\\\\Users\\\\Space\\\\Documents\\\\py\\\\Projects\\\\TuringCollege\\\\TechMentalHealth\\\\DataSet\\\\mental_health.sqlite\"\n",
    ")"
   ]
  },
  {
   "cell_type": "markdown",
   "id": "e73026ec",
   "metadata": {},
   "source": [
    "# Datasets"
   ]
  },
  {
   "cell_type": "markdown",
   "id": "6e898851",
   "metadata": {},
   "source": [
    "## Survey Dataset"
   ]
  },
  {
   "cell_type": "code",
   "execution_count": 6,
   "id": "313ef30c",
   "metadata": {},
   "outputs": [],
   "source": [
    "df_surveys = pd.read_sql_query(\"SELECT * FROM Survey\", db_survey)"
   ]
  },
  {
   "cell_type": "code",
   "execution_count": 7,
   "id": "c4a5d7a6",
   "metadata": {},
   "outputs": [
    {
     "data": {
      "text/html": [
       "<div>\n",
       "<style scoped>\n",
       "    .dataframe tbody tr th:only-of-type {\n",
       "        vertical-align: middle;\n",
       "    }\n",
       "\n",
       "    .dataframe tbody tr th {\n",
       "        vertical-align: top;\n",
       "    }\n",
       "\n",
       "    .dataframe thead th {\n",
       "        text-align: right;\n",
       "    }\n",
       "</style>\n",
       "<table border=\"1\" class=\"dataframe\">\n",
       "  <thead>\n",
       "    <tr style=\"text-align: right;\">\n",
       "      <th></th>\n",
       "      <th>SurveyID</th>\n",
       "      <th>Description</th>\n",
       "    </tr>\n",
       "  </thead>\n",
       "  <tbody>\n",
       "    <tr>\n",
       "      <th>0</th>\n",
       "      <td>2014</td>\n",
       "      <td>mental health survey for 2014</td>\n",
       "    </tr>\n",
       "    <tr>\n",
       "      <th>1</th>\n",
       "      <td>2016</td>\n",
       "      <td>mental health survey for 2016</td>\n",
       "    </tr>\n",
       "    <tr>\n",
       "      <th>2</th>\n",
       "      <td>2017</td>\n",
       "      <td>mental health survey for 2017</td>\n",
       "    </tr>\n",
       "    <tr>\n",
       "      <th>3</th>\n",
       "      <td>2018</td>\n",
       "      <td>mental health survey for 2018</td>\n",
       "    </tr>\n",
       "    <tr>\n",
       "      <th>4</th>\n",
       "      <td>2019</td>\n",
       "      <td>mental health survey for 2019</td>\n",
       "    </tr>\n",
       "  </tbody>\n",
       "</table>\n",
       "</div>"
      ],
      "text/plain": [
       "   SurveyID                    Description\n",
       "0      2014  mental health survey for 2014\n",
       "1      2016  mental health survey for 2016\n",
       "2      2017  mental health survey for 2017\n",
       "3      2018  mental health survey for 2018\n",
       "4      2019  mental health survey for 2019"
      ]
     },
     "execution_count": 7,
     "metadata": {},
     "output_type": "execute_result"
    }
   ],
   "source": [
    "df_surveys"
   ]
  },
  {
   "cell_type": "code",
   "execution_count": 8,
   "id": "0d8d5770",
   "metadata": {},
   "outputs": [
    {
     "data": {
      "text/plain": [
       "5"
      ]
     },
     "execution_count": 8,
     "metadata": {},
     "output_type": "execute_result"
    }
   ],
   "source": [
    "df_surveys.SurveyID.count()"
   ]
  },
  {
   "cell_type": "markdown",
   "id": "73ad7bd4",
   "metadata": {},
   "source": [
    "## Question Dataset"
   ]
  },
  {
   "cell_type": "code",
   "execution_count": 9,
   "id": "3656c7a9",
   "metadata": {},
   "outputs": [
    {
     "data": {
      "text/html": [
       "<style type=\"text/css\">\n",
       "#T_a2668_row0_col0, #T_a2668_row0_col1, #T_a2668_row1_col0, #T_a2668_row1_col1, #T_a2668_row2_col0, #T_a2668_row2_col1, #T_a2668_row3_col0, #T_a2668_row3_col1, #T_a2668_row4_col0, #T_a2668_row4_col1, #T_a2668_row5_col0, #T_a2668_row5_col1, #T_a2668_row6_col0, #T_a2668_row6_col1, #T_a2668_row7_col0, #T_a2668_row7_col1, #T_a2668_row8_col0, #T_a2668_row8_col1, #T_a2668_row9_col0, #T_a2668_row9_col1, #T_a2668_row10_col0, #T_a2668_row10_col1, #T_a2668_row11_col0, #T_a2668_row11_col1, #T_a2668_row12_col0, #T_a2668_row12_col1, #T_a2668_row13_col0, #T_a2668_row13_col1, #T_a2668_row14_col0, #T_a2668_row14_col1, #T_a2668_row15_col0, #T_a2668_row15_col1, #T_a2668_row16_col0, #T_a2668_row16_col1, #T_a2668_row17_col0, #T_a2668_row17_col1, #T_a2668_row18_col0, #T_a2668_row18_col1, #T_a2668_row19_col0, #T_a2668_row19_col1, #T_a2668_row20_col0, #T_a2668_row20_col1, #T_a2668_row21_col0, #T_a2668_row21_col1, #T_a2668_row22_col0, #T_a2668_row22_col1, #T_a2668_row23_col0, #T_a2668_row23_col1, #T_a2668_row24_col0, #T_a2668_row24_col1, #T_a2668_row25_col0, #T_a2668_row25_col1, #T_a2668_row26_col0, #T_a2668_row26_col1, #T_a2668_row27_col0, #T_a2668_row27_col1, #T_a2668_row28_col0, #T_a2668_row28_col1, #T_a2668_row29_col0, #T_a2668_row29_col1, #T_a2668_row30_col0, #T_a2668_row30_col1, #T_a2668_row31_col0, #T_a2668_row31_col1, #T_a2668_row32_col0, #T_a2668_row32_col1, #T_a2668_row33_col0, #T_a2668_row33_col1, #T_a2668_row34_col0, #T_a2668_row34_col1, #T_a2668_row35_col0, #T_a2668_row35_col1, #T_a2668_row36_col0, #T_a2668_row36_col1, #T_a2668_row37_col0, #T_a2668_row37_col1, #T_a2668_row38_col0, #T_a2668_row38_col1, #T_a2668_row39_col0, #T_a2668_row39_col1, #T_a2668_row40_col0, #T_a2668_row40_col1, #T_a2668_row41_col0, #T_a2668_row41_col1, #T_a2668_row42_col0, #T_a2668_row42_col1, #T_a2668_row43_col0, #T_a2668_row43_col1, #T_a2668_row44_col0, #T_a2668_row44_col1, #T_a2668_row45_col0, #T_a2668_row45_col1, #T_a2668_row46_col0, #T_a2668_row46_col1, #T_a2668_row47_col0, #T_a2668_row47_col1, #T_a2668_row48_col0, #T_a2668_row48_col1, #T_a2668_row49_col0, #T_a2668_row49_col1, #T_a2668_row50_col0, #T_a2668_row50_col1, #T_a2668_row51_col0, #T_a2668_row51_col1, #T_a2668_row52_col0, #T_a2668_row52_col1, #T_a2668_row53_col0, #T_a2668_row53_col1, #T_a2668_row54_col0, #T_a2668_row54_col1, #T_a2668_row55_col0, #T_a2668_row55_col1, #T_a2668_row56_col0, #T_a2668_row56_col1, #T_a2668_row57_col0, #T_a2668_row57_col1, #T_a2668_row58_col0, #T_a2668_row58_col1, #T_a2668_row59_col0, #T_a2668_row59_col1, #T_a2668_row60_col0, #T_a2668_row60_col1, #T_a2668_row61_col0, #T_a2668_row61_col1, #T_a2668_row62_col0, #T_a2668_row62_col1, #T_a2668_row63_col0, #T_a2668_row63_col1, #T_a2668_row64_col0, #T_a2668_row64_col1, #T_a2668_row65_col0, #T_a2668_row65_col1, #T_a2668_row66_col0, #T_a2668_row66_col1, #T_a2668_row67_col0, #T_a2668_row67_col1, #T_a2668_row68_col0, #T_a2668_row68_col1, #T_a2668_row69_col0, #T_a2668_row69_col1, #T_a2668_row70_col0, #T_a2668_row70_col1, #T_a2668_row71_col0, #T_a2668_row71_col1, #T_a2668_row72_col0, #T_a2668_row72_col1, #T_a2668_row73_col0, #T_a2668_row73_col1, #T_a2668_row74_col0, #T_a2668_row74_col1, #T_a2668_row75_col0, #T_a2668_row75_col1, #T_a2668_row76_col0, #T_a2668_row76_col1, #T_a2668_row77_col0, #T_a2668_row77_col1, #T_a2668_row78_col0, #T_a2668_row78_col1, #T_a2668_row79_col0, #T_a2668_row79_col1, #T_a2668_row80_col0, #T_a2668_row80_col1, #T_a2668_row81_col0, #T_a2668_row81_col1, #T_a2668_row82_col0, #T_a2668_row82_col1, #T_a2668_row83_col0, #T_a2668_row83_col1, #T_a2668_row84_col0, #T_a2668_row84_col1, #T_a2668_row85_col0, #T_a2668_row85_col1, #T_a2668_row86_col0, #T_a2668_row86_col1, #T_a2668_row87_col0, #T_a2668_row87_col1, #T_a2668_row88_col0, #T_a2668_row88_col1, #T_a2668_row89_col0, #T_a2668_row89_col1, #T_a2668_row90_col0, #T_a2668_row90_col1, #T_a2668_row91_col0, #T_a2668_row91_col1, #T_a2668_row92_col0, #T_a2668_row92_col1, #T_a2668_row93_col0, #T_a2668_row93_col1, #T_a2668_row94_col0, #T_a2668_row94_col1, #T_a2668_row95_col0, #T_a2668_row95_col1, #T_a2668_row96_col0, #T_a2668_row96_col1, #T_a2668_row97_col0, #T_a2668_row97_col1, #T_a2668_row98_col0, #T_a2668_row98_col1, #T_a2668_row99_col0, #T_a2668_row99_col1, #T_a2668_row100_col0, #T_a2668_row100_col1, #T_a2668_row101_col0, #T_a2668_row101_col1, #T_a2668_row102_col0, #T_a2668_row102_col1, #T_a2668_row103_col0, #T_a2668_row103_col1, #T_a2668_row104_col0, #T_a2668_row104_col1 {\n",
       "  text-align: left;\n",
       "}\n",
       "</style>\n",
       "<table id=\"T_a2668\">\n",
       "  <thead>\n",
       "    <tr>\n",
       "      <th class=\"blank level0\" >&nbsp;</th>\n",
       "      <th id=\"T_a2668_level0_col0\" class=\"col_heading level0 col0\" >QuestionText</th>\n",
       "      <th id=\"T_a2668_level0_col1\" class=\"col_heading level0 col1\" >QuestionID</th>\n",
       "    </tr>\n",
       "  </thead>\n",
       "  <tbody>\n",
       "    <tr>\n",
       "      <th id=\"T_a2668_level0_row0\" class=\"row_heading level0 row0\" >0</th>\n",
       "      <td id=\"T_a2668_row0_col0\" class=\"data row0 col0\" >What is your age?</td>\n",
       "      <td id=\"T_a2668_row0_col1\" class=\"data row0 col1\" >1</td>\n",
       "    </tr>\n",
       "    <tr>\n",
       "      <th id=\"T_a2668_level0_row1\" class=\"row_heading level0 row1\" >1</th>\n",
       "      <td id=\"T_a2668_row1_col0\" class=\"data row1 col0\" >What is your gender?</td>\n",
       "      <td id=\"T_a2668_row1_col1\" class=\"data row1 col1\" >2</td>\n",
       "    </tr>\n",
       "    <tr>\n",
       "      <th id=\"T_a2668_level0_row2\" class=\"row_heading level0 row2\" >2</th>\n",
       "      <td id=\"T_a2668_row2_col0\" class=\"data row2 col0\" >What country do you live in?</td>\n",
       "      <td id=\"T_a2668_row2_col1\" class=\"data row2 col1\" >3</td>\n",
       "    </tr>\n",
       "    <tr>\n",
       "      <th id=\"T_a2668_level0_row3\" class=\"row_heading level0 row3\" >3</th>\n",
       "      <td id=\"T_a2668_row3_col0\" class=\"data row3 col0\" >If you live in the United States, which state or territory do you live in?</td>\n",
       "      <td id=\"T_a2668_row3_col1\" class=\"data row3 col1\" >4</td>\n",
       "    </tr>\n",
       "    <tr>\n",
       "      <th id=\"T_a2668_level0_row4\" class=\"row_heading level0 row4\" >4</th>\n",
       "      <td id=\"T_a2668_row4_col0\" class=\"data row4 col0\" >Are you self-employed?</td>\n",
       "      <td id=\"T_a2668_row4_col1\" class=\"data row4 col1\" >5</td>\n",
       "    </tr>\n",
       "    <tr>\n",
       "      <th id=\"T_a2668_level0_row5\" class=\"row_heading level0 row5\" >5</th>\n",
       "      <td id=\"T_a2668_row5_col0\" class=\"data row5 col0\" >Do you have a family history of mental illness?</td>\n",
       "      <td id=\"T_a2668_row5_col1\" class=\"data row5 col1\" >6</td>\n",
       "    </tr>\n",
       "    <tr>\n",
       "      <th id=\"T_a2668_level0_row6\" class=\"row_heading level0 row6\" >6</th>\n",
       "      <td id=\"T_a2668_row6_col0\" class=\"data row6 col0\" >Have you ever sought treatment for a mental health disorder from a mental health professional?</td>\n",
       "      <td id=\"T_a2668_row6_col1\" class=\"data row6 col1\" >7</td>\n",
       "    </tr>\n",
       "    <tr>\n",
       "      <th id=\"T_a2668_level0_row7\" class=\"row_heading level0 row7\" >7</th>\n",
       "      <td id=\"T_a2668_row7_col0\" class=\"data row7 col0\" >How many employees does your company or organization have?</td>\n",
       "      <td id=\"T_a2668_row7_col1\" class=\"data row7 col1\" >8</td>\n",
       "    </tr>\n",
       "    <tr>\n",
       "      <th id=\"T_a2668_level0_row8\" class=\"row_heading level0 row8\" >8</th>\n",
       "      <td id=\"T_a2668_row8_col0\" class=\"data row8 col0\" >Is your employer primarily a tech company/organization?</td>\n",
       "      <td id=\"T_a2668_row8_col1\" class=\"data row8 col1\" >9</td>\n",
       "    </tr>\n",
       "    <tr>\n",
       "      <th id=\"T_a2668_level0_row9\" class=\"row_heading level0 row9\" >9</th>\n",
       "      <td id=\"T_a2668_row9_col0\" class=\"data row9 col0\" >Does your employer provide mental health benefits as part of healthcare coverage?</td>\n",
       "      <td id=\"T_a2668_row9_col1\" class=\"data row9 col1\" >10</td>\n",
       "    </tr>\n",
       "    <tr>\n",
       "      <th id=\"T_a2668_level0_row10\" class=\"row_heading level0 row10\" >10</th>\n",
       "      <td id=\"T_a2668_row10_col0\" class=\"data row10 col0\" >Is your anonymity protected if you choose to take advantage of mental health or substance abuse treatment resources provided by your employer?</td>\n",
       "      <td id=\"T_a2668_row10_col1\" class=\"data row10 col1\" >11</td>\n",
       "    </tr>\n",
       "    <tr>\n",
       "      <th id=\"T_a2668_level0_row11\" class=\"row_heading level0 row11\" >11</th>\n",
       "      <td id=\"T_a2668_row11_col0\" class=\"data row11 col0\" >Would you bring up a mental health issue with a potential employer in an interview?</td>\n",
       "      <td id=\"T_a2668_row11_col1\" class=\"data row11 col1\" >12</td>\n",
       "    </tr>\n",
       "    <tr>\n",
       "      <th id=\"T_a2668_level0_row12\" class=\"row_heading level0 row12\" >12</th>\n",
       "      <td id=\"T_a2668_row12_col0\" class=\"data row12 col0\" >Is your primary role within your company related to tech/IT?</td>\n",
       "      <td id=\"T_a2668_row12_col1\" class=\"data row12 col1\" >13</td>\n",
       "    </tr>\n",
       "    <tr>\n",
       "      <th id=\"T_a2668_level0_row13\" class=\"row_heading level0 row13\" >13</th>\n",
       "      <td id=\"T_a2668_row13_col0\" class=\"data row13 col0\" >Do you know the options for mental health care available under your employer-provided health coverage?</td>\n",
       "      <td id=\"T_a2668_row13_col1\" class=\"data row13 col1\" >14</td>\n",
       "    </tr>\n",
       "    <tr>\n",
       "      <th id=\"T_a2668_level0_row14\" class=\"row_heading level0 row14\" >14</th>\n",
       "      <td id=\"T_a2668_row14_col0\" class=\"data row14 col0\" >Has your employer ever formally discussed mental health (for example, as part of a wellness campaign or other official communication)?</td>\n",
       "      <td id=\"T_a2668_row14_col1\" class=\"data row14 col1\" >15</td>\n",
       "    </tr>\n",
       "    <tr>\n",
       "      <th id=\"T_a2668_level0_row15\" class=\"row_heading level0 row15\" >15</th>\n",
       "      <td id=\"T_a2668_row15_col0\" class=\"data row15 col0\" >Does your employer offer resources to learn more about mental health disorders and options for seeking help?</td>\n",
       "      <td id=\"T_a2668_row15_col1\" class=\"data row15 col1\" >16</td>\n",
       "    </tr>\n",
       "    <tr>\n",
       "      <th id=\"T_a2668_level0_row16\" class=\"row_heading level0 row16\" >16</th>\n",
       "      <td id=\"T_a2668_row16_col0\" class=\"data row16 col0\" >If a mental health issue prompted you to request a medical leave from work, how easy or difficult would it be to ask for that leave?</td>\n",
       "      <td id=\"T_a2668_row16_col1\" class=\"data row16 col1\" >17</td>\n",
       "    </tr>\n",
       "    <tr>\n",
       "      <th id=\"T_a2668_level0_row17\" class=\"row_heading level0 row17\" >17</th>\n",
       "      <td id=\"T_a2668_row17_col0\" class=\"data row17 col0\" >Would you feel comfortable discussing a mental health issue with your coworkers?</td>\n",
       "      <td id=\"T_a2668_row17_col1\" class=\"data row17 col1\" >18</td>\n",
       "    </tr>\n",
       "    <tr>\n",
       "      <th id=\"T_a2668_level0_row18\" class=\"row_heading level0 row18\" >18</th>\n",
       "      <td id=\"T_a2668_row18_col0\" class=\"data row18 col0\" >Would you feel comfortable discussing a mental health issue with your direct supervisor(s)?</td>\n",
       "      <td id=\"T_a2668_row18_col1\" class=\"data row18 col1\" >19</td>\n",
       "    </tr>\n",
       "    <tr>\n",
       "      <th id=\"T_a2668_level0_row19\" class=\"row_heading level0 row19\" >19</th>\n",
       "      <td id=\"T_a2668_row19_col0\" class=\"data row19 col0\" >Do you have medical coverage (private insurance or state-provided) that includes treatment of mental health disorders?</td>\n",
       "      <td id=\"T_a2668_row19_col1\" class=\"data row19 col1\" >20</td>\n",
       "    </tr>\n",
       "    <tr>\n",
       "      <th id=\"T_a2668_level0_row20\" class=\"row_heading level0 row20\" >20</th>\n",
       "      <td id=\"T_a2668_row20_col0\" class=\"data row20 col0\" >Do you know local or online resources to seek help for a mental health issue?</td>\n",
       "      <td id=\"T_a2668_row20_col1\" class=\"data row20 col1\" >21</td>\n",
       "    </tr>\n",
       "    <tr>\n",
       "      <th id=\"T_a2668_level0_row21\" class=\"row_heading level0 row21\" >21</th>\n",
       "      <td id=\"T_a2668_row21_col0\" class=\"data row21 col0\" >Do you have previous employers?</td>\n",
       "      <td id=\"T_a2668_row21_col1\" class=\"data row21 col1\" >22</td>\n",
       "    </tr>\n",
       "    <tr>\n",
       "      <th id=\"T_a2668_level0_row22\" class=\"row_heading level0 row22\" >22</th>\n",
       "      <td id=\"T_a2668_row22_col0\" class=\"data row22 col0\" >Have your previous employers provided mental health benefits?</td>\n",
       "      <td id=\"T_a2668_row22_col1\" class=\"data row22 col1\" >23</td>\n",
       "    </tr>\n",
       "    <tr>\n",
       "      <th id=\"T_a2668_level0_row23\" class=\"row_heading level0 row23\" >23</th>\n",
       "      <td id=\"T_a2668_row23_col0\" class=\"data row23 col0\" >Were you aware of the options for mental health care provided by your previous employers?</td>\n",
       "      <td id=\"T_a2668_row23_col1\" class=\"data row23 col1\" >24</td>\n",
       "    </tr>\n",
       "    <tr>\n",
       "      <th id=\"T_a2668_level0_row24\" class=\"row_heading level0 row24\" >24</th>\n",
       "      <td id=\"T_a2668_row24_col0\" class=\"data row24 col0\" >Did your previous employers ever formally discuss mental health (as part of a wellness campaign or other official communication)?</td>\n",
       "      <td id=\"T_a2668_row24_col1\" class=\"data row24 col1\" >25</td>\n",
       "    </tr>\n",
       "    <tr>\n",
       "      <th id=\"T_a2668_level0_row25\" class=\"row_heading level0 row25\" >25</th>\n",
       "      <td id=\"T_a2668_row25_col0\" class=\"data row25 col0\" >Did your previous employers provide resources to learn more about mental health disorders and how to seek help?</td>\n",
       "      <td id=\"T_a2668_row25_col1\" class=\"data row25 col1\" >26</td>\n",
       "    </tr>\n",
       "    <tr>\n",
       "      <th id=\"T_a2668_level0_row26\" class=\"row_heading level0 row26\" >26</th>\n",
       "      <td id=\"T_a2668_row26_col0\" class=\"data row26 col0\" >Was your anonymity protected if you chose to take advantage of mental health or substance abuse treatment resources with previous employers?</td>\n",
       "      <td id=\"T_a2668_row26_col1\" class=\"data row26 col1\" >27</td>\n",
       "    </tr>\n",
       "    <tr>\n",
       "      <th id=\"T_a2668_level0_row27\" class=\"row_heading level0 row27\" >27</th>\n",
       "      <td id=\"T_a2668_row27_col0\" class=\"data row27 col0\" >Would you have been willing to discuss your mental health with your direct supervisor(s)?</td>\n",
       "      <td id=\"T_a2668_row27_col1\" class=\"data row27 col1\" >28</td>\n",
       "    </tr>\n",
       "    <tr>\n",
       "      <th id=\"T_a2668_level0_row28\" class=\"row_heading level0 row28\" >28</th>\n",
       "      <td id=\"T_a2668_row28_col0\" class=\"data row28 col0\" >Would you be willing to bring up a physical health issue with a potential employer in an interview?</td>\n",
       "      <td id=\"T_a2668_row28_col1\" class=\"data row28 col1\" >29</td>\n",
       "    </tr>\n",
       "    <tr>\n",
       "      <th id=\"T_a2668_level0_row29\" class=\"row_heading level0 row29\" >29</th>\n",
       "      <td id=\"T_a2668_row29_col0\" class=\"data row29 col0\" >How willing would you be to share with friends and family that you have a mental illness?</td>\n",
       "      <td id=\"T_a2668_row29_col1\" class=\"data row29 col1\" >30</td>\n",
       "    </tr>\n",
       "    <tr>\n",
       "      <th id=\"T_a2668_level0_row30\" class=\"row_heading level0 row30\" >30</th>\n",
       "      <td id=\"T_a2668_row30_col0\" class=\"data row30 col0\" >Have your observations of how another individual who discussed a mental health disorder made you less likely to reveal a mental health issue yourself in your current workplace?</td>\n",
       "      <td id=\"T_a2668_row30_col1\" class=\"data row30 col1\" >31</td>\n",
       "    </tr>\n",
       "    <tr>\n",
       "      <th id=\"T_a2668_level0_row31\" class=\"row_heading level0 row31\" >31</th>\n",
       "      <td id=\"T_a2668_row31_col0\" class=\"data row31 col0\" >Have you had a mental health disorder in the past?</td>\n",
       "      <td id=\"T_a2668_row31_col1\" class=\"data row31 col1\" >32</td>\n",
       "    </tr>\n",
       "    <tr>\n",
       "      <th id=\"T_a2668_level0_row32\" class=\"row_heading level0 row32\" >32</th>\n",
       "      <td id=\"T_a2668_row32_col0\" class=\"data row32 col0\" >Do you currently have a mental health disorder?</td>\n",
       "      <td id=\"T_a2668_row32_col1\" class=\"data row32 col1\" >33</td>\n",
       "    </tr>\n",
       "    <tr>\n",
       "      <th id=\"T_a2668_level0_row33\" class=\"row_heading level0 row33\" >33</th>\n",
       "      <td id=\"T_a2668_row33_col0\" class=\"data row33 col0\" >Have you ever been diagnosed with a mental health disorder?</td>\n",
       "      <td id=\"T_a2668_row33_col1\" class=\"data row33 col1\" >34</td>\n",
       "    </tr>\n",
       "    <tr>\n",
       "      <th id=\"T_a2668_level0_row34\" class=\"row_heading level0 row34\" >34</th>\n",
       "      <td id=\"T_a2668_row34_col0\" class=\"data row34 col0\" >If you have a mental health disorder, how often do you feel that it interferes with your work when being treated effectively?</td>\n",
       "      <td id=\"T_a2668_row34_col1\" class=\"data row34 col1\" >48</td>\n",
       "    </tr>\n",
       "    <tr>\n",
       "      <th id=\"T_a2668_level0_row35\" class=\"row_heading level0 row35\" >35</th>\n",
       "      <td id=\"T_a2668_row35_col0\" class=\"data row35 col0\" >If you have a mental health disorder, how often do you feel that it interferes with your work when not being treated effectively (i.e., when you are experiencing symptoms)?</td>\n",
       "      <td id=\"T_a2668_row35_col1\" class=\"data row35 col1\" >49</td>\n",
       "    </tr>\n",
       "    <tr>\n",
       "      <th id=\"T_a2668_level0_row36\" class=\"row_heading level0 row36\" >36</th>\n",
       "      <td id=\"T_a2668_row36_col0\" class=\"data row36 col0\" >What country do you work in?</td>\n",
       "      <td id=\"T_a2668_row36_col1\" class=\"data row36 col1\" >50</td>\n",
       "    </tr>\n",
       "    <tr>\n",
       "      <th id=\"T_a2668_level0_row37\" class=\"row_heading level0 row37\" >37</th>\n",
       "      <td id=\"T_a2668_row37_col0\" class=\"data row37 col0\" >What US state or territory do you work in?</td>\n",
       "      <td id=\"T_a2668_row37_col1\" class=\"data row37 col1\" >51</td>\n",
       "    </tr>\n",
       "    <tr>\n",
       "      <th id=\"T_a2668_level0_row38\" class=\"row_heading level0 row38\" >38</th>\n",
       "      <td id=\"T_a2668_row38_col0\" class=\"data row38 col0\" >If you have been diagnosed or treated for a mental health disorder, do you ever reveal this to clients or business contacts?</td>\n",
       "      <td id=\"T_a2668_row38_col1\" class=\"data row38 col1\" >52</td>\n",
       "    </tr>\n",
       "    <tr>\n",
       "      <th id=\"T_a2668_level0_row39\" class=\"row_heading level0 row39\" >39</th>\n",
       "      <td id=\"T_a2668_row39_col0\" class=\"data row39 col0\" >If you have been diagnosed or treated for a mental health disorder, do you ever reveal this to coworkers or employees?</td>\n",
       "      <td id=\"T_a2668_row39_col1\" class=\"data row39 col1\" >53</td>\n",
       "    </tr>\n",
       "    <tr>\n",
       "      <th id=\"T_a2668_level0_row40\" class=\"row_heading level0 row40\" >40</th>\n",
       "      <td id=\"T_a2668_row40_col0\" class=\"data row40 col0\" >Do you believe your productivity is ever affected by a mental health issue?</td>\n",
       "      <td id=\"T_a2668_row40_col1\" class=\"data row40 col1\" >54</td>\n",
       "    </tr>\n",
       "    <tr>\n",
       "      <th id=\"T_a2668_level0_row41\" class=\"row_heading level0 row41\" >41</th>\n",
       "      <td id=\"T_a2668_row41_col0\" class=\"data row41 col0\" >If yes, what percentage of your work time (time performing primary or secondary job functions) is affected by a mental health issue?</td>\n",
       "      <td id=\"T_a2668_row41_col1\" class=\"data row41 col1\" >55</td>\n",
       "    </tr>\n",
       "    <tr>\n",
       "      <th id=\"T_a2668_level0_row42\" class=\"row_heading level0 row42\" >42</th>\n",
       "      <td id=\"T_a2668_row42_col0\" class=\"data row42 col0\" >Have you observed or experienced an unsupportive or badly handled response to a mental health issue in your current or previous workplace?</td>\n",
       "      <td id=\"T_a2668_row42_col1\" class=\"data row42 col1\" >56</td>\n",
       "    </tr>\n",
       "    <tr>\n",
       "      <th id=\"T_a2668_level0_row43\" class=\"row_heading level0 row43\" >43</th>\n",
       "      <td id=\"T_a2668_row43_col0\" class=\"data row43 col0\" >Would you feel more comfortable talking to your coworkers about your physical health or your mental health?</td>\n",
       "      <td id=\"T_a2668_row43_col1\" class=\"data row43 col1\" >57</td>\n",
       "    </tr>\n",
       "    <tr>\n",
       "      <th id=\"T_a2668_level0_row44\" class=\"row_heading level0 row44\" >44</th>\n",
       "      <td id=\"T_a2668_row44_col0\" class=\"data row44 col0\" >Have you ever discussed your mental health with your employer?</td>\n",
       "      <td id=\"T_a2668_row44_col1\" class=\"data row44 col1\" >58</td>\n",
       "    </tr>\n",
       "    <tr>\n",
       "      <th id=\"T_a2668_level0_row45\" class=\"row_heading level0 row45\" >45</th>\n",
       "      <td id=\"T_a2668_row45_col0\" class=\"data row45 col0\" >Describe the conversation you had with your employer about your mental health, including their reactions and what actions were taken to address your mental health issue/questions.</td>\n",
       "      <td id=\"T_a2668_row45_col1\" class=\"data row45 col1\" >59</td>\n",
       "    </tr>\n",
       "    <tr>\n",
       "      <th id=\"T_a2668_level0_row46\" class=\"row_heading level0 row46\" >46</th>\n",
       "      <td id=\"T_a2668_row46_col0\" class=\"data row46 col0\" >Have you ever discussed your mental health with coworkers?</td>\n",
       "      <td id=\"T_a2668_row46_col1\" class=\"data row46 col1\" >60</td>\n",
       "    </tr>\n",
       "    <tr>\n",
       "      <th id=\"T_a2668_level0_row47\" class=\"row_heading level0 row47\" >47</th>\n",
       "      <td id=\"T_a2668_row47_col0\" class=\"data row47 col0\" >Describe the conversation with coworkers you had about your mental health including their reactions.</td>\n",
       "      <td id=\"T_a2668_row47_col1\" class=\"data row47 col1\" >61</td>\n",
       "    </tr>\n",
       "    <tr>\n",
       "      <th id=\"T_a2668_level0_row48\" class=\"row_heading level0 row48\" >48</th>\n",
       "      <td id=\"T_a2668_row48_col0\" class=\"data row48 col0\" >Have you ever had a coworker discuss their or another coworker's mental health with you?</td>\n",
       "      <td id=\"T_a2668_row48_col1\" class=\"data row48 col1\" >62</td>\n",
       "    </tr>\n",
       "    <tr>\n",
       "      <th id=\"T_a2668_level0_row49\" class=\"row_heading level0 row49\" >49</th>\n",
       "      <td id=\"T_a2668_row49_col0\" class=\"data row49 col0\" >Describe the conversation your coworker had with you about their mental health (please do not use names).</td>\n",
       "      <td id=\"T_a2668_row49_col1\" class=\"data row49 col1\" >63</td>\n",
       "    </tr>\n",
       "    <tr>\n",
       "      <th id=\"T_a2668_level0_row50\" class=\"row_heading level0 row50\" >50</th>\n",
       "      <td id=\"T_a2668_row50_col0\" class=\"data row50 col0\" >Overall, how much importance does your employer place on physical health?</td>\n",
       "      <td id=\"T_a2668_row50_col1\" class=\"data row50 col1\" >64</td>\n",
       "    </tr>\n",
       "    <tr>\n",
       "      <th id=\"T_a2668_level0_row51\" class=\"row_heading level0 row51\" >51</th>\n",
       "      <td id=\"T_a2668_row51_col0\" class=\"data row51 col0\" >Overall, how much importance does your employer place on mental health?</td>\n",
       "      <td id=\"T_a2668_row51_col1\" class=\"data row51 col1\" >65</td>\n",
       "    </tr>\n",
       "    <tr>\n",
       "      <th id=\"T_a2668_level0_row52\" class=\"row_heading level0 row52\" >52</th>\n",
       "      <td id=\"T_a2668_row52_col0\" class=\"data row52 col0\" >If you have revealed a mental health disorder to a client or business contact, how has this affected you or the relationship?</td>\n",
       "      <td id=\"T_a2668_row52_col1\" class=\"data row52 col1\" >66</td>\n",
       "    </tr>\n",
       "    <tr>\n",
       "      <th id=\"T_a2668_level0_row53\" class=\"row_heading level0 row53\" >53</th>\n",
       "      <td id=\"T_a2668_row53_col0\" class=\"data row53 col0\" >If you have revealed a mental health disorder to a coworker or employee, how has this impacted you or the relationship?</td>\n",
       "      <td id=\"T_a2668_row53_col1\" class=\"data row53 col1\" >67</td>\n",
       "    </tr>\n",
       "    <tr>\n",
       "      <th id=\"T_a2668_level0_row54\" class=\"row_heading level0 row54\" >54</th>\n",
       "      <td id=\"T_a2668_row54_col0\" class=\"data row54 col0\" >Was your employer primarily a tech company/organization?</td>\n",
       "      <td id=\"T_a2668_row54_col1\" class=\"data row54 col1\" >68</td>\n",
       "    </tr>\n",
       "    <tr>\n",
       "      <th id=\"T_a2668_level0_row55\" class=\"row_heading level0 row55\" >55</th>\n",
       "      <td id=\"T_a2668_row55_col0\" class=\"data row55 col0\" >Would you have felt more comfortable talking to your previous employer about your physical health or your mental health?</td>\n",
       "      <td id=\"T_a2668_row55_col1\" class=\"data row55 col1\" >69</td>\n",
       "    </tr>\n",
       "    <tr>\n",
       "      <th id=\"T_a2668_level0_row56\" class=\"row_heading level0 row56\" >56</th>\n",
       "      <td id=\"T_a2668_row56_col0\" class=\"data row56 col0\" >Did you ever discuss your mental health with your previous employer?</td>\n",
       "      <td id=\"T_a2668_row56_col1\" class=\"data row56 col1\" >70</td>\n",
       "    </tr>\n",
       "    <tr>\n",
       "      <th id=\"T_a2668_level0_row57\" class=\"row_heading level0 row57\" >57</th>\n",
       "      <td id=\"T_a2668_row57_col0\" class=\"data row57 col0\" >Describe the conversation you had with your previous employer about your mental health, including their reactions and actions taken to address your mental health issue/questions.</td>\n",
       "      <td id=\"T_a2668_row57_col1\" class=\"data row57 col1\" >71</td>\n",
       "    </tr>\n",
       "    <tr>\n",
       "      <th id=\"T_a2668_level0_row58\" class=\"row_heading level0 row58\" >58</th>\n",
       "      <td id=\"T_a2668_row58_col0\" class=\"data row58 col0\" >Did you ever discuss your mental health with a previous coworker(s)?</td>\n",
       "      <td id=\"T_a2668_row58_col1\" class=\"data row58 col1\" >72</td>\n",
       "    </tr>\n",
       "    <tr>\n",
       "      <th id=\"T_a2668_level0_row59\" class=\"row_heading level0 row59\" >59</th>\n",
       "      <td id=\"T_a2668_row59_col0\" class=\"data row59 col0\" >Describe the conversation you had with your previous coworkers about your mental health including their reactions.</td>\n",
       "      <td id=\"T_a2668_row59_col1\" class=\"data row59 col1\" >73</td>\n",
       "    </tr>\n",
       "    <tr>\n",
       "      <th id=\"T_a2668_level0_row60\" class=\"row_heading level0 row60\" >60</th>\n",
       "      <td id=\"T_a2668_row60_col0\" class=\"data row60 col0\" >Did you ever have a previous coworker discuss their or another coworker's mental health with you?</td>\n",
       "      <td id=\"T_a2668_row60_col1\" class=\"data row60 col1\" >74</td>\n",
       "    </tr>\n",
       "    <tr>\n",
       "      <th id=\"T_a2668_level0_row61\" class=\"row_heading level0 row61\" >61</th>\n",
       "      <td id=\"T_a2668_row61_col0\" class=\"data row61 col0\" >Describe the conversation your coworker had with you about their mental health (please do not use names)..1</td>\n",
       "      <td id=\"T_a2668_row61_col1\" class=\"data row61 col1\" >75</td>\n",
       "    </tr>\n",
       "    <tr>\n",
       "      <th id=\"T_a2668_level0_row62\" class=\"row_heading level0 row62\" >62</th>\n",
       "      <td id=\"T_a2668_row62_col0\" class=\"data row62 col0\" >Overall, how much importance did your previous employer place on physical health?</td>\n",
       "      <td id=\"T_a2668_row62_col1\" class=\"data row62 col1\" >76</td>\n",
       "    </tr>\n",
       "    <tr>\n",
       "      <th id=\"T_a2668_level0_row63\" class=\"row_heading level0 row63\" >63</th>\n",
       "      <td id=\"T_a2668_row63_col0\" class=\"data row63 col0\" >Overall, how much importance did your previous employer place on mental health?</td>\n",
       "      <td id=\"T_a2668_row63_col1\" class=\"data row63 col1\" >77</td>\n",
       "    </tr>\n",
       "    <tr>\n",
       "      <th id=\"T_a2668_level0_row64\" class=\"row_heading level0 row64\" >64</th>\n",
       "      <td id=\"T_a2668_row64_col0\" class=\"data row64 col0\" >Are you openly identified at work as a person with a mental health issue?</td>\n",
       "      <td id=\"T_a2668_row64_col1\" class=\"data row64 col1\" >78</td>\n",
       "    </tr>\n",
       "    <tr>\n",
       "      <th id=\"T_a2668_level0_row65\" class=\"row_heading level0 row65\" >65</th>\n",
       "      <td id=\"T_a2668_row65_col0\" class=\"data row65 col0\" >Has being identified as a person with a mental health issue affected your career?</td>\n",
       "      <td id=\"T_a2668_row65_col1\" class=\"data row65 col1\" >79</td>\n",
       "    </tr>\n",
       "    <tr>\n",
       "      <th id=\"T_a2668_level0_row66\" class=\"row_heading level0 row66\" >66</th>\n",
       "      <td id=\"T_a2668_row66_col0\" class=\"data row66 col0\" >How has it affected your career?</td>\n",
       "      <td id=\"T_a2668_row66_col1\" class=\"data row66 col1\" >80</td>\n",
       "    </tr>\n",
       "    <tr>\n",
       "      <th id=\"T_a2668_level0_row67\" class=\"row_heading level0 row67\" >67</th>\n",
       "      <td id=\"T_a2668_row67_col0\" class=\"data row67 col0\" >If they knew you suffered from a mental health disorder, how do you think that your team members/co-workers would react?</td>\n",
       "      <td id=\"T_a2668_row67_col1\" class=\"data row67 col1\" >81</td>\n",
       "    </tr>\n",
       "    <tr>\n",
       "      <th id=\"T_a2668_level0_row68\" class=\"row_heading level0 row68\" >68</th>\n",
       "      <td id=\"T_a2668_row68_col0\" class=\"data row68 col0\" >Describe the circumstances of the badly handled or unsupportive response.</td>\n",
       "      <td id=\"T_a2668_row68_col1\" class=\"data row68 col1\" >82</td>\n",
       "    </tr>\n",
       "    <tr>\n",
       "      <th id=\"T_a2668_level0_row69\" class=\"row_heading level0 row69\" >69</th>\n",
       "      <td id=\"T_a2668_row69_col0\" class=\"data row69 col0\" >Have you observed or experienced supportive or well handled response to a mental health issue in your current or previous workplace?</td>\n",
       "      <td id=\"T_a2668_row69_col1\" class=\"data row69 col1\" >83</td>\n",
       "    </tr>\n",
       "    <tr>\n",
       "      <th id=\"T_a2668_level0_row70\" class=\"row_heading level0 row70\" >70</th>\n",
       "      <td id=\"T_a2668_row70_col0\" class=\"data row70 col0\" >Describe the circumstances of the supportive or well handled response.</td>\n",
       "      <td id=\"T_a2668_row70_col1\" class=\"data row70 col1\" >84</td>\n",
       "    </tr>\n",
       "    <tr>\n",
       "      <th id=\"T_a2668_level0_row71\" class=\"row_heading level0 row71\" >71</th>\n",
       "      <td id=\"T_a2668_row71_col0\" class=\"data row71 col0\" >Overall, how well do you think the tech industry supports employees with mental health issues?</td>\n",
       "      <td id=\"T_a2668_row71_col1\" class=\"data row71 col1\" >85</td>\n",
       "    </tr>\n",
       "    <tr>\n",
       "      <th id=\"T_a2668_level0_row72\" class=\"row_heading level0 row72\" >72</th>\n",
       "      <td id=\"T_a2668_row72_col0\" class=\"data row72 col0\" >Briefly describe what you think the industry as a whole and/or employers could do to improve mental health support for employees.</td>\n",
       "      <td id=\"T_a2668_row72_col1\" class=\"data row72 col1\" >86</td>\n",
       "    </tr>\n",
       "    <tr>\n",
       "      <th id=\"T_a2668_level0_row73\" class=\"row_heading level0 row73\" >73</th>\n",
       "      <td id=\"T_a2668_row73_col0\" class=\"data row73 col0\" >If there is anything else you would like to tell us that has not been covered by the survey questions, please use this space to do so.</td>\n",
       "      <td id=\"T_a2668_row73_col1\" class=\"data row73 col1\" >87</td>\n",
       "    </tr>\n",
       "    <tr>\n",
       "      <th id=\"T_a2668_level0_row74\" class=\"row_heading level0 row74\" >74</th>\n",
       "      <td id=\"T_a2668_row74_col0\" class=\"data row74 col0\" >Would you be willing to talk to one of us more extensively about your experiences with mental health issues in the tech industry? (Note that all interview responses would be used _anonymously_ and only with your permission.)</td>\n",
       "      <td id=\"T_a2668_row74_col1\" class=\"data row74 col1\" >88</td>\n",
       "    </tr>\n",
       "    <tr>\n",
       "      <th id=\"T_a2668_level0_row75\" class=\"row_heading level0 row75\" >75</th>\n",
       "      <td id=\"T_a2668_row75_col0\" class=\"data row75 col0\" >What is your race?</td>\n",
       "      <td id=\"T_a2668_row75_col1\" class=\"data row75 col1\" >89</td>\n",
       "    </tr>\n",
       "    <tr>\n",
       "      <th id=\"T_a2668_level0_row76\" class=\"row_heading level0 row76\" >76</th>\n",
       "      <td id=\"T_a2668_row76_col0\" class=\"data row76 col0\" >Do you think that discussing a physical health issue with your employer would have negative consequences?</td>\n",
       "      <td id=\"T_a2668_row76_col1\" class=\"data row76 col1\" >90</td>\n",
       "    </tr>\n",
       "    <tr>\n",
       "      <th id=\"T_a2668_level0_row77\" class=\"row_heading level0 row77\" >77</th>\n",
       "      <td id=\"T_a2668_row77_col0\" class=\"data row77 col0\" >Do you feel that your employer takes mental health as seriously as physical health?</td>\n",
       "      <td id=\"T_a2668_row77_col1\" class=\"data row77 col1\" >91</td>\n",
       "    </tr>\n",
       "    <tr>\n",
       "      <th id=\"T_a2668_level0_row78\" class=\"row_heading level0 row78\" >78</th>\n",
       "      <td id=\"T_a2668_row78_col0\" class=\"data row78 col0\" >If you have a mental health condition, do you feel that it interferes with your work?</td>\n",
       "      <td id=\"T_a2668_row78_col1\" class=\"data row78 col1\" >92</td>\n",
       "    </tr>\n",
       "    <tr>\n",
       "      <th id=\"T_a2668_level0_row79\" class=\"row_heading level0 row79\" >79</th>\n",
       "      <td id=\"T_a2668_row79_col0\" class=\"data row79 col0\" >Do you work remotely (outside of an office) at least 50% of the time?</td>\n",
       "      <td id=\"T_a2668_row79_col1\" class=\"data row79 col1\" >93</td>\n",
       "    </tr>\n",
       "    <tr>\n",
       "      <th id=\"T_a2668_level0_row80\" class=\"row_heading level0 row80\" >80</th>\n",
       "      <td id=\"T_a2668_row80_col0\" class=\"data row80 col0\" >Do you know the options for mental health care your employer provides?</td>\n",
       "      <td id=\"T_a2668_row80_col1\" class=\"data row80 col1\" >94</td>\n",
       "    </tr>\n",
       "    <tr>\n",
       "      <th id=\"T_a2668_level0_row81\" class=\"row_heading level0 row81\" >81</th>\n",
       "      <td id=\"T_a2668_row81_col0\" class=\"data row81 col0\" >Has your employer ever discussed mental health as part of an employee wellness program?</td>\n",
       "      <td id=\"T_a2668_row81_col1\" class=\"data row81 col1\" >95</td>\n",
       "    </tr>\n",
       "    <tr>\n",
       "      <th id=\"T_a2668_level0_row82\" class=\"row_heading level0 row82\" >82</th>\n",
       "      <td id=\"T_a2668_row82_col0\" class=\"data row82 col0\" >Does your employer provide resources to learn more about mental health issues and how to seek help?</td>\n",
       "      <td id=\"T_a2668_row82_col1\" class=\"data row82 col1\" >96</td>\n",
       "    </tr>\n",
       "    <tr>\n",
       "      <th id=\"T_a2668_level0_row83\" class=\"row_heading level0 row83\" >83</th>\n",
       "      <td id=\"T_a2668_row83_col0\" class=\"data row83 col0\" >How easy is it for you to take medical leave for a mental health condition?</td>\n",
       "      <td id=\"T_a2668_row83_col1\" class=\"data row83 col1\" >97</td>\n",
       "    </tr>\n",
       "    <tr>\n",
       "      <th id=\"T_a2668_level0_row84\" class=\"row_heading level0 row84\" >84</th>\n",
       "      <td id=\"T_a2668_row84_col0\" class=\"data row84 col0\" >Do you think that discussing a mental health issue with your employer would have negative consequences?</td>\n",
       "      <td id=\"T_a2668_row84_col1\" class=\"data row84 col1\" >98</td>\n",
       "    </tr>\n",
       "    <tr>\n",
       "      <th id=\"T_a2668_level0_row85\" class=\"row_heading level0 row85\" >85</th>\n",
       "      <td id=\"T_a2668_row85_col0\" class=\"data row85 col0\" >Would you be willing to discuss a mental health issue with your coworkers?</td>\n",
       "      <td id=\"T_a2668_row85_col1\" class=\"data row85 col1\" >99</td>\n",
       "    </tr>\n",
       "    <tr>\n",
       "      <th id=\"T_a2668_level0_row86\" class=\"row_heading level0 row86\" >86</th>\n",
       "      <td id=\"T_a2668_row86_col0\" class=\"data row86 col0\" >Would you be willing to discuss a mental health issue with your direct supervisor(s)?</td>\n",
       "      <td id=\"T_a2668_row86_col1\" class=\"data row86 col1\" >100</td>\n",
       "    </tr>\n",
       "    <tr>\n",
       "      <th id=\"T_a2668_level0_row87\" class=\"row_heading level0 row87\" >87</th>\n",
       "      <td id=\"T_a2668_row87_col0\" class=\"data row87 col0\" >Would you bring up a physical health issue with a potential employer in an interview?</td>\n",
       "      <td id=\"T_a2668_row87_col1\" class=\"data row87 col1\" >101</td>\n",
       "    </tr>\n",
       "    <tr>\n",
       "      <th id=\"T_a2668_level0_row88\" class=\"row_heading level0 row88\" >88</th>\n",
       "      <td id=\"T_a2668_row88_col0\" class=\"data row88 col0\" >Have you heard of or observed negative consequences for coworkers with mental health conditions in your workplace?</td>\n",
       "      <td id=\"T_a2668_row88_col1\" class=\"data row88 col1\" >102</td>\n",
       "    </tr>\n",
       "    <tr>\n",
       "      <th id=\"T_a2668_level0_row89\" class=\"row_heading level0 row89\" >89</th>\n",
       "      <td id=\"T_a2668_row89_col0\" class=\"data row89 col0\" >Any additional notes or comments</td>\n",
       "      <td id=\"T_a2668_row89_col1\" class=\"data row89 col1\" >103</td>\n",
       "    </tr>\n",
       "    <tr>\n",
       "      <th id=\"T_a2668_level0_row90\" class=\"row_heading level0 row90\" >90</th>\n",
       "      <td id=\"T_a2668_row90_col0\" class=\"data row90 col0\" >Do you think that discussing a mental health disorder with your employer would have negative consequences?</td>\n",
       "      <td id=\"T_a2668_row90_col1\" class=\"data row90 col1\" >104</td>\n",
       "    </tr>\n",
       "    <tr>\n",
       "      <th id=\"T_a2668_level0_row91\" class=\"row_heading level0 row91\" >91</th>\n",
       "      <td id=\"T_a2668_row91_col0\" class=\"data row91 col0\" >Have you heard of or observed negative consequences for co-workers who have been open about mental health issues in your workplace?</td>\n",
       "      <td id=\"T_a2668_row91_col1\" class=\"data row91 col1\" >105</td>\n",
       "    </tr>\n",
       "    <tr>\n",
       "      <th id=\"T_a2668_level0_row92\" class=\"row_heading level0 row92\" >92</th>\n",
       "      <td id=\"T_a2668_row92_col0\" class=\"data row92 col0\" >If you have revealed a mental health issue to a client or business contact, do you believe this has impacted you negatively?</td>\n",
       "      <td id=\"T_a2668_row92_col1\" class=\"data row92 col1\" >106</td>\n",
       "    </tr>\n",
       "    <tr>\n",
       "      <th id=\"T_a2668_level0_row93\" class=\"row_heading level0 row93\" >93</th>\n",
       "      <td id=\"T_a2668_row93_col0\" class=\"data row93 col0\" >If you have revealed a mental health issue to a coworker or employee, do you believe this has impacted you negatively?</td>\n",
       "      <td id=\"T_a2668_row93_col1\" class=\"data row93 col1\" >107</td>\n",
       "    </tr>\n",
       "    <tr>\n",
       "      <th id=\"T_a2668_level0_row94\" class=\"row_heading level0 row94\" >94</th>\n",
       "      <td id=\"T_a2668_row94_col0\" class=\"data row94 col0\" >Do you think that discussing a mental health disorder with previous employers would have negative consequences?</td>\n",
       "      <td id=\"T_a2668_row94_col1\" class=\"data row94 col1\" >108</td>\n",
       "    </tr>\n",
       "    <tr>\n",
       "      <th id=\"T_a2668_level0_row95\" class=\"row_heading level0 row95\" >95</th>\n",
       "      <td id=\"T_a2668_row95_col0\" class=\"data row95 col0\" >Do you think that discussing a physical health issue with previous employers would have negative consequences?</td>\n",
       "      <td id=\"T_a2668_row95_col1\" class=\"data row95 col1\" >109</td>\n",
       "    </tr>\n",
       "    <tr>\n",
       "      <th id=\"T_a2668_level0_row96\" class=\"row_heading level0 row96\" >96</th>\n",
       "      <td id=\"T_a2668_row96_col0\" class=\"data row96 col0\" >Would you have been willing to discuss a mental health issue with your previous co-workers?</td>\n",
       "      <td id=\"T_a2668_row96_col1\" class=\"data row96 col1\" >110</td>\n",
       "    </tr>\n",
       "    <tr>\n",
       "      <th id=\"T_a2668_level0_row97\" class=\"row_heading level0 row97\" >97</th>\n",
       "      <td id=\"T_a2668_row97_col0\" class=\"data row97 col0\" >Did you feel that your previous employers took mental health as seriously as physical health?</td>\n",
       "      <td id=\"T_a2668_row97_col1\" class=\"data row97 col1\" >111</td>\n",
       "    </tr>\n",
       "    <tr>\n",
       "      <th id=\"T_a2668_level0_row98\" class=\"row_heading level0 row98\" >98</th>\n",
       "      <td id=\"T_a2668_row98_col0\" class=\"data row98 col0\" >Did you hear of or observe negative consequences for co-workers with mental health issues in your previous workplaces?</td>\n",
       "      <td id=\"T_a2668_row98_col1\" class=\"data row98 col1\" >112</td>\n",
       "    </tr>\n",
       "    <tr>\n",
       "      <th id=\"T_a2668_level0_row99\" class=\"row_heading level0 row99\" >99</th>\n",
       "      <td id=\"T_a2668_row99_col0\" class=\"data row99 col0\" >Do you feel that being identified as a person with a mental health issue would hurt your career?</td>\n",
       "      <td id=\"T_a2668_row99_col1\" class=\"data row99 col1\" >113</td>\n",
       "    </tr>\n",
       "    <tr>\n",
       "      <th id=\"T_a2668_level0_row100\" class=\"row_heading level0 row100\" >100</th>\n",
       "      <td id=\"T_a2668_row100_col0\" class=\"data row100 col0\" >Do you think that team members/co-workers would view you more negatively if they knew you suffered from a mental health issue?</td>\n",
       "      <td id=\"T_a2668_row100_col1\" class=\"data row100 col1\" >114</td>\n",
       "    </tr>\n",
       "    <tr>\n",
       "      <th id=\"T_a2668_level0_row101\" class=\"row_heading level0 row101\" >101</th>\n",
       "      <td id=\"T_a2668_row101_col0\" class=\"data row101 col0\" >If yes, what condition(s) have you been diagnosed with?</td>\n",
       "      <td id=\"T_a2668_row101_col1\" class=\"data row101 col1\" >115</td>\n",
       "    </tr>\n",
       "    <tr>\n",
       "      <th id=\"T_a2668_level0_row102\" class=\"row_heading level0 row102\" >102</th>\n",
       "      <td id=\"T_a2668_row102_col0\" class=\"data row102 col0\" >If maybe, what condition(s) do you believe you have?</td>\n",
       "      <td id=\"T_a2668_row102_col1\" class=\"data row102 col1\" >116</td>\n",
       "    </tr>\n",
       "    <tr>\n",
       "      <th id=\"T_a2668_level0_row103\" class=\"row_heading level0 row103\" >103</th>\n",
       "      <td id=\"T_a2668_row103_col0\" class=\"data row103 col0\" >Which of the following best describes your work position?</td>\n",
       "      <td id=\"T_a2668_row103_col1\" class=\"data row103 col1\" >117</td>\n",
       "    </tr>\n",
       "    <tr>\n",
       "      <th id=\"T_a2668_level0_row104\" class=\"row_heading level0 row104\" >104</th>\n",
       "      <td id=\"T_a2668_row104_col0\" class=\"data row104 col0\" >Do you work remotely?</td>\n",
       "      <td id=\"T_a2668_row104_col1\" class=\"data row104 col1\" >118</td>\n",
       "    </tr>\n",
       "  </tbody>\n",
       "</table>\n"
      ],
      "text/plain": [
       "<pandas.io.formats.style.Styler at 0x169410a63e0>"
      ]
     },
     "execution_count": 9,
     "metadata": {},
     "output_type": "execute_result"
    }
   ],
   "source": [
    "df_questions = pd.read_sql_query(\"SELECT * FROM Question\", db_survey)\n",
    "df_questions.count().to_frame()\n",
    "df_questions = df_questions.rename(\n",
    "    columns={\"questiontext\": \"QuestionText\", \"questionid\": \"QuestionID\"}\n",
    ")\n",
    "df_questions.style.set_properties(**{'text-align': 'left'})"
   ]
  },
  {
   "cell_type": "code",
   "execution_count": 10,
   "id": "8a4f84df",
   "metadata": {},
   "outputs": [
    {
     "data": {
      "text/plain": [
       "105"
      ]
     },
     "execution_count": 10,
     "metadata": {},
     "output_type": "execute_result"
    }
   ],
   "source": [
    "df_questions.QuestionID.count()"
   ]
  },
  {
   "cell_type": "markdown",
   "id": "a7ce2fb8",
   "metadata": {},
   "source": [
    "## Answer Dataset"
   ]
  },
  {
   "cell_type": "code",
   "execution_count": 11,
   "id": "b8bb96d5",
   "metadata": {},
   "outputs": [],
   "source": [
    "df_answers = pd.read_sql_query(\"SELECT * FROM Answer\", db_survey)"
   ]
  },
  {
   "cell_type": "code",
   "execution_count": 12,
   "id": "731f981d",
   "metadata": {
    "scrolled": true
   },
   "outputs": [
    {
     "data": {
      "text/html": [
       "<div>\n",
       "<style scoped>\n",
       "    .dataframe tbody tr th:only-of-type {\n",
       "        vertical-align: middle;\n",
       "    }\n",
       "\n",
       "    .dataframe tbody tr th {\n",
       "        vertical-align: top;\n",
       "    }\n",
       "\n",
       "    .dataframe thead th {\n",
       "        text-align: right;\n",
       "    }\n",
       "</style>\n",
       "<table border=\"1\" class=\"dataframe\">\n",
       "  <thead>\n",
       "    <tr style=\"text-align: right;\">\n",
       "      <th></th>\n",
       "      <th>AnswerText</th>\n",
       "      <th>SurveyID</th>\n",
       "      <th>UserID</th>\n",
       "      <th>QuestionID</th>\n",
       "    </tr>\n",
       "  </thead>\n",
       "  <tbody>\n",
       "    <tr>\n",
       "      <th>0</th>\n",
       "      <td>37</td>\n",
       "      <td>2014</td>\n",
       "      <td>1</td>\n",
       "      <td>1</td>\n",
       "    </tr>\n",
       "    <tr>\n",
       "      <th>1</th>\n",
       "      <td>44</td>\n",
       "      <td>2014</td>\n",
       "      <td>2</td>\n",
       "      <td>1</td>\n",
       "    </tr>\n",
       "    <tr>\n",
       "      <th>2</th>\n",
       "      <td>32</td>\n",
       "      <td>2014</td>\n",
       "      <td>3</td>\n",
       "      <td>1</td>\n",
       "    </tr>\n",
       "    <tr>\n",
       "      <th>3</th>\n",
       "      <td>31</td>\n",
       "      <td>2014</td>\n",
       "      <td>4</td>\n",
       "      <td>1</td>\n",
       "    </tr>\n",
       "    <tr>\n",
       "      <th>4</th>\n",
       "      <td>31</td>\n",
       "      <td>2014</td>\n",
       "      <td>5</td>\n",
       "      <td>1</td>\n",
       "    </tr>\n",
       "  </tbody>\n",
       "</table>\n",
       "</div>"
      ],
      "text/plain": [
       "  AnswerText  SurveyID  UserID  QuestionID\n",
       "0         37      2014       1           1\n",
       "1         44      2014       2           1\n",
       "2         32      2014       3           1\n",
       "3         31      2014       4           1\n",
       "4         31      2014       5           1"
      ]
     },
     "execution_count": 12,
     "metadata": {},
     "output_type": "execute_result"
    }
   ],
   "source": [
    "df_answers.head()"
   ]
  },
  {
   "cell_type": "markdown",
   "id": "b34a3f0e",
   "metadata": {},
   "source": [
    "df_answers.QuestionID.count()"
   ]
  },
  {
   "cell_type": "markdown",
   "id": "ae0bfc3c",
   "metadata": {},
   "source": [
    "### Section Summary\n",
    "> * The Survey dataset contains the year of each survey identified by SurveyID. \n",
    "> * The question dataset contains 105 questions. Each question is identified by a unique QuestionID. The first question is QuestionID 1. The last question is QuestionID 118. \n",
    "> * The following QuestionIDs are missing: 35, 36, 37, 38, 39, 40, 41, 42, 43, 44, 45, 46, 47.\n",
    "> * The same set of questions was not given to all participants.\n",
    "> * The answers dataset contains 236,898 answers. Each participant answered multiple questions.  \n",
    "> * In the answers dataset, 1 means YES. 0 means NO and -1 indicates the participant did not provide an answer.\n",
    "> * Some of the answers were given as a scale. Participants answered by providing a number from 1 - 10. 10 being the highest or strongest response. \n",
    "> * Some of the answers were a narrative describing an issue or situation."
   ]
  },
  {
   "cell_type": "markdown",
   "id": "be7956a1",
   "metadata": {},
   "source": [
    "# Tech Workers in Tech Companies"
   ]
  },
  {
   "cell_type": "code",
   "execution_count": 13,
   "id": "8aa6b179",
   "metadata": {},
   "outputs": [
    {
     "data": {
      "text/plain": [
       "4218"
      ]
     },
     "execution_count": 13,
     "metadata": {},
     "output_type": "execute_result"
    }
   ],
   "source": [
    "df_totals = pd.read_sql_query(\n",
    "    \"SELECT DISTINCT UserID FROM Answer\",\n",
    "    db_survey\n",
    ")\n",
    "\n",
    "df_totals.UserID.count()"
   ]
  },
  {
   "cell_type": "markdown",
   "id": "f995bc8e",
   "metadata": {},
   "source": [
    "## QuestionID: 9\n",
    "Is your employer primarily a tech company/organization?"
   ]
  },
  {
   "cell_type": "code",
   "execution_count": 14,
   "id": "56f2966b",
   "metadata": {},
   "outputs": [],
   "source": [
    "df_Answer9 = pd.read_sql_query(\n",
    "    \"SELECT USERID FROM Answer where QuestionID = 9 AND AnswerText = '1'\",\n",
    "    db_survey\n",
    ")"
   ]
  },
  {
   "cell_type": "markdown",
   "id": "32374082",
   "metadata": {},
   "source": [
    "## QuestionID: 31\n",
    "Is your primary role within your company related to tech/IT?"
   ]
  },
  {
   "cell_type": "code",
   "execution_count": 15,
   "id": "ad7ef606",
   "metadata": {},
   "outputs": [],
   "source": [
    "df_Answer13 = pd.read_sql_query(\n",
    "    \"SELECT USERID FROM Answer where QuestionID = 13 AND AnswerText = '1'\",\n",
    "    db_survey\n",
    ")"
   ]
  },
  {
   "cell_type": "code",
   "execution_count": 16,
   "id": "f1dedb9a",
   "metadata": {},
   "outputs": [],
   "source": [
    "df_TechinTech = pd.merge(df_Answer13, df_Answer9 , on='UserID', how='inner')"
   ]
  },
  {
   "cell_type": "code",
   "execution_count": 17,
   "id": "1d591b53",
   "metadata": {},
   "outputs": [
    {
     "data": {
      "text/plain": [
       "909"
      ]
     },
     "execution_count": 17,
     "metadata": {},
     "output_type": "execute_result"
    }
   ],
   "source": [
    "Total_TechinTech = df_TechinTech.UserID.count()\n",
    "Total_TechinTech"
   ]
  },
  {
   "cell_type": "markdown",
   "id": "69e62ef1",
   "metadata": {},
   "source": [
    "### Section Summary\n",
    "> * In total, 4218 people participated in the surveys. \n",
    "> * I wanted this report to be specifically about tech workers in the tech industry. Therefore, I eliminated certain participants.\n",
    "> * I eliminated participants who answered No to QuestionID 9: \"Is your employer primarily a tech company/organization?\" \n",
    "> * I eliminated participants who answered No to QuestionID 13: \"Is your primary role within your company related to tech/IT?\" \n",
    "> * I analyzed the responses of the remaining 909 participants. These are workers whose jobs are tech/IT related and who worked primarily for a tech company or organization."
   ]
  },
  {
   "cell_type": "markdown",
   "id": "9d607708",
   "metadata": {},
   "source": [
    "# Countries of Residence"
   ]
  },
  {
   "cell_type": "code",
   "execution_count": 18,
   "id": "53391b11",
   "metadata": {},
   "outputs": [],
   "source": [
    "df_Answer3 = pd.read_sql_query(\n",
    "    \"SELECT * FROM Answer where QuestionID = 3\",\n",
    "    db_survey\n",
    ")"
   ]
  },
  {
   "cell_type": "code",
   "execution_count": 19,
   "id": "481d0c46",
   "metadata": {},
   "outputs": [],
   "source": [
    "df_Country = pd.merge(df_TechinTech, df_Answer3 , on='UserID', how='inner')"
   ]
  },
  {
   "cell_type": "code",
   "execution_count": 20,
   "id": "5fbdd04e",
   "metadata": {},
   "outputs": [],
   "source": [
    "df_Country = df_Country.drop(['UserID', 'SurveyID', 'QuestionID'], axis = 1)"
   ]
  },
  {
   "cell_type": "code",
   "execution_count": 21,
   "id": "12ad93fc",
   "metadata": {},
   "outputs": [],
   "source": [
    "df_Country_count = df_Country.AnswerText.value_counts()"
   ]
  },
  {
   "cell_type": "code",
   "execution_count": 22,
   "id": "860ccab8",
   "metadata": {},
   "outputs": [],
   "source": [
    "df_Country_count = pd.DataFrame(df_Country_count)"
   ]
  },
  {
   "cell_type": "code",
   "execution_count": 23,
   "id": "bd531413",
   "metadata": {},
   "outputs": [],
   "source": [
    "df_Country_count = df_Country_count.reset_index()"
   ]
  },
  {
   "cell_type": "code",
   "execution_count": 24,
   "id": "0d9822ef",
   "metadata": {},
   "outputs": [],
   "source": [
    "df_Country_count = df_Country_count.rename(\n",
    "    columns={\"index\": \"Country\", \"AnswerText\": \"Count\"}\n",
    ")"
   ]
  },
  {
   "cell_type": "code",
   "execution_count": 25,
   "id": "2109cb46",
   "metadata": {},
   "outputs": [],
   "source": [
    "df_Country_count[\"Country\"] = df_Country_count[\"Country\"].replace(\n",
    "    {\n",
    "        \"-1\": \"Other\",\n",
    "        \"Bahamas, The\": \"Bahamas\",\n",
    "        \"United States of America\": 'United States'\n",
    "    }\n",
    ")"
   ]
  },
  {
   "cell_type": "code",
   "execution_count": 26,
   "id": "f6740c71",
   "metadata": {},
   "outputs": [],
   "source": [
    "Total_OtherCountries = df_Country_count[8:][['Count']].sum()\n",
    "Total_OtherCountries = Total_OtherCountries.Count"
   ]
  },
  {
   "cell_type": "code",
   "execution_count": 27,
   "id": "e985264d",
   "metadata": {},
   "outputs": [
    {
     "data": {
      "text/html": [
       "<div>\n",
       "<style scoped>\n",
       "    .dataframe tbody tr th:only-of-type {\n",
       "        vertical-align: middle;\n",
       "    }\n",
       "\n",
       "    .dataframe tbody tr th {\n",
       "        vertical-align: top;\n",
       "    }\n",
       "\n",
       "    .dataframe thead th {\n",
       "        text-align: right;\n",
       "    }\n",
       "</style>\n",
       "<table border=\"1\" class=\"dataframe\">\n",
       "  <thead>\n",
       "    <tr style=\"text-align: right;\">\n",
       "      <th></th>\n",
       "      <th>Country</th>\n",
       "      <th>Count</th>\n",
       "    </tr>\n",
       "  </thead>\n",
       "  <tbody>\n",
       "    <tr>\n",
       "      <th>0</th>\n",
       "      <td>United States</td>\n",
       "      <td>624</td>\n",
       "    </tr>\n",
       "    <tr>\n",
       "      <th>1</th>\n",
       "      <td>United Kingdom</td>\n",
       "      <td>61</td>\n",
       "    </tr>\n",
       "    <tr>\n",
       "      <th>2</th>\n",
       "      <td>Canada</td>\n",
       "      <td>21</td>\n",
       "    </tr>\n",
       "    <tr>\n",
       "      <th>3</th>\n",
       "      <td>India</td>\n",
       "      <td>21</td>\n",
       "    </tr>\n",
       "    <tr>\n",
       "      <th>4</th>\n",
       "      <td>Portugal</td>\n",
       "      <td>18</td>\n",
       "    </tr>\n",
       "    <tr>\n",
       "      <th>5</th>\n",
       "      <td>Germany</td>\n",
       "      <td>18</td>\n",
       "    </tr>\n",
       "    <tr>\n",
       "      <th>6</th>\n",
       "      <td>France</td>\n",
       "      <td>16</td>\n",
       "    </tr>\n",
       "    <tr>\n",
       "      <th>7</th>\n",
       "      <td>Spain</td>\n",
       "      <td>15</td>\n",
       "    </tr>\n",
       "    <tr>\n",
       "      <th>8</th>\n",
       "      <td>Netherlands</td>\n",
       "      <td>14</td>\n",
       "    </tr>\n",
       "  </tbody>\n",
       "</table>\n",
       "</div>"
      ],
      "text/plain": [
       "          Country  Count\n",
       "0   United States    624\n",
       "1  United Kingdom     61\n",
       "2          Canada     21\n",
       "3           India     21\n",
       "4        Portugal     18\n",
       "5         Germany     18\n",
       "6          France     16\n",
       "7           Spain     15\n",
       "8     Netherlands     14"
      ]
     },
     "execution_count": 27,
     "metadata": {},
     "output_type": "execute_result"
    }
   ],
   "source": [
    "df_Country_count = df_Country_count[df_Country_count.Count >= 14]\n",
    "df_Country_count"
   ]
  },
  {
   "cell_type": "code",
   "execution_count": 28,
   "id": "4f8c88c2",
   "metadata": {},
   "outputs": [],
   "source": [
    "df_Country_count.loc[13] = ['Other', Total_OtherCountries] "
   ]
  },
  {
   "cell_type": "code",
   "execution_count": 29,
   "id": "e159b640",
   "metadata": {
    "scrolled": false
   },
   "outputs": [
    {
     "data": {
      "image/png": "[encoded data removed]",
      "text/plain": [
       "<Figure size 1500x700 with 1 Axes>"
      ]
     },
     "metadata": {},
     "output_type": "display_data"
    }
   ],
   "source": [
    "plt.rcParams.update(params)\n",
    "\n",
    "fig, axes = plt.subplots(1, 1, figsize=(15, 7))\n",
    "sns.set(style=\"white\")\n",
    "\n",
    "chart = sns.barplot(\n",
    "    ax=axes,\n",
    "    x=\"Country\",\n",
    "    y=\"Count\",\n",
    "    data=df_Country_count,\n",
    "    errorbar=None,\n",
    "    palette=[ord_color if x != \"United States\" else spec_lev1\n",
    "        for x in df_Country_count[\"Country\"]],\n",
    ")\n",
    "\n",
    "\n",
    "plt.xlabel(\"Country\")\n",
    "plt.ylabel(\"Number of Tech Workers\")\n",
    "plt.xticks()\n",
    "plt.yticks()\n",
    "\n",
    "chart.set_xticklabels(chart.get_xticklabels(), rotation=45, horizontalalignment=\"right\")\n",
    "plt.suptitle(\"Tech Workers Countries of Residence\")\n",
    "\n",
    "plt.show()"
   ]
  },
  {
   "cell_type": "markdown",
   "id": "e87229b4",
   "metadata": {},
   "source": [
    "### Section Summary\n",
    "> * The majority (624 of 909) of participants for this analysis lived in the United States. I consider this as one of the flaws of these surveys. We have to keep this fact in mind when forming conclusions based on the results of this analysis."
   ]
  },
  {
   "cell_type": "markdown",
   "id": "8edc24ba",
   "metadata": {},
   "source": [
    "# Gender"
   ]
  },
  {
   "cell_type": "code",
   "execution_count": 30,
   "id": "45ebdcaf",
   "metadata": {
    "scrolled": false
   },
   "outputs": [],
   "source": [
    "df_Answer2 = pd.read_sql_query(\"SELECT * FROM Answer where QuestionID = 2\", db_survey)"
   ]
  },
  {
   "cell_type": "code",
   "execution_count": 31,
   "id": "7928c3ab",
   "metadata": {},
   "outputs": [],
   "source": [
    "df_Gender = pd.merge(df_TechinTech, df_Answer2 , on='UserID', how='inner')"
   ]
  },
  {
   "cell_type": "code",
   "execution_count": 32,
   "id": "b1a9d2d3",
   "metadata": {},
   "outputs": [],
   "source": [
    "df_Gender_count = df_Gender.AnswerText.value_counts()\n",
    "df_Gender_count = pd.DataFrame(df_Gender_count)\n",
    "df_Gender_count = df_Gender_count.reset_index()"
   ]
  },
  {
   "cell_type": "code",
   "execution_count": 33,
   "id": "52feb10e",
   "metadata": {},
   "outputs": [],
   "source": [
    "df_Gender_count = df_Gender_count.rename(\n",
    "    columns={\"index\": \"Gender\", \"AnswerText\": \"Count\"}\n",
    ")"
   ]
  },
  {
   "cell_type": "code",
   "execution_count": 34,
   "id": "9e63cbe5",
   "metadata": {},
   "outputs": [],
   "source": [
    "df_Gender_count[\"Gender\"] = df_Gender_count[\"Gender\"].replace(\n",
    "    {\"female\": \"Female\", \"male\": \"Male\", \"MALE\": \"Male\"}\n",
    ")"
   ]
  },
  {
   "cell_type": "code",
   "execution_count": 35,
   "id": "7a3bd7c1",
   "metadata": {},
   "outputs": [],
   "source": [
    "df_Gender_count[\"Gender\"] = np.where(\n",
    "    (df_Gender_count[\"Gender\"] == \"Male\") | (df_Gender_count[\"Gender\"] == \"Female\"),\n",
    "    df_Gender_count[\"Gender\"],\n",
    "    \"Other\",\n",
    ")"
   ]
  },
  {
   "cell_type": "code",
   "execution_count": 36,
   "id": "79431157",
   "metadata": {},
   "outputs": [
    {
     "data": {
      "text/html": [
       "<div>\n",
       "<style scoped>\n",
       "    .dataframe tbody tr th:only-of-type {\n",
       "        vertical-align: middle;\n",
       "    }\n",
       "\n",
       "    .dataframe tbody tr th {\n",
       "        vertical-align: top;\n",
       "    }\n",
       "\n",
       "    .dataframe thead th {\n",
       "        text-align: right;\n",
       "    }\n",
       "</style>\n",
       "<table border=\"1\" class=\"dataframe\">\n",
       "  <thead>\n",
       "    <tr style=\"text-align: right;\">\n",
       "      <th></th>\n",
       "      <th>Gender</th>\n",
       "      <th>Count</th>\n",
       "    </tr>\n",
       "  </thead>\n",
       "  <tbody>\n",
       "    <tr>\n",
       "      <th>1</th>\n",
       "      <td>Male</td>\n",
       "      <td>605</td>\n",
       "    </tr>\n",
       "    <tr>\n",
       "      <th>0</th>\n",
       "      <td>Female</td>\n",
       "      <td>255</td>\n",
       "    </tr>\n",
       "    <tr>\n",
       "      <th>2</th>\n",
       "      <td>Other</td>\n",
       "      <td>49</td>\n",
       "    </tr>\n",
       "  </tbody>\n",
       "</table>\n",
       "</div>"
      ],
      "text/plain": [
       "   Gender  Count\n",
       "1    Male    605\n",
       "0  Female    255\n",
       "2   Other     49"
      ]
     },
     "execution_count": 36,
     "metadata": {},
     "output_type": "execute_result"
    }
   ],
   "source": [
    "df_Gender_count = df_Gender_count.groupby(\"Gender\").sum()\n",
    "df_Gender_count = df_Gender_count.reset_index()\n",
    "df_Gender_count = df_Gender_count.sort_values('Count', ascending = False)\n",
    "df_Gender_count"
   ]
  },
  {
   "cell_type": "code",
   "execution_count": 37,
   "id": "f5fcf901",
   "metadata": {
    "scrolled": false
   },
   "outputs": [
    {
     "data": {
      "image/png": "[encoded data removed]",
      "text/plain": [
       "<Figure size 1500x700 with 1 Axes>"
      ]
     },
     "metadata": {},
     "output_type": "display_data"
    }
   ],
   "source": [
    "plt.rcParams.update(params)\n",
    "\n",
    "fig, axes = plt.subplots(1, 1, figsize=(15, 7))\n",
    "sns.set(style=\"white\")\n",
    "\n",
    "chart = sns.barplot(\n",
    "    ax=axes,\n",
    "    x=\"Gender\",\n",
    "    y=\"Count\",\n",
    "    data=df_Gender_count,\n",
    "    order=(df_Gender_count.sort_values('Count', ascending = False).Gender),\n",
    "    errorbar=None,\n",
    "    palette=[ord_color if x != \"Male\" else spec_lev1\n",
    "        for x in df_Gender_count[\"Gender\"]],\n",
    ")\n",
    "\n",
    "\n",
    "plt.xlabel(\"Gender\")\n",
    "plt.ylabel(\"Number of Tech Workers\")\n",
    "plt.xticks()\n",
    "plt.yticks()\n",
    "\n",
    "chart.set_xticklabels(chart.get_xticklabels(), rotation=45, horizontalalignment=\"right\")\n",
    "plt.suptitle(\"Tech Workers Gender Breakdown\")\n",
    "\n",
    "plt.show()"
   ]
  },
  {
   "cell_type": "markdown",
   "id": "f64fa1f1",
   "metadata": {},
   "source": [
    "### Section Summary\n",
    "> * 605 of the 909 participants in this analysis identified themselves as male. I consider this as one of the flaws in the surveys. We have to keep this fact in mind when forming conclusions based on the results of this analysis.\n",
    "> * 255 participants identified themselves as female\n",
    "> * 49 identified themselves in many other ways, such as \"I have a penis,\" or \"male 9:1 female, roughly.\" I saw no good way to deal with such answers, so I placed those participants in one group that I called \"Other.\" "
   ]
  },
  {
   "cell_type": "markdown",
   "id": "9680e9fa",
   "metadata": {},
   "source": [
    "# Age"
   ]
  },
  {
   "cell_type": "code",
   "execution_count": 107,
   "id": "1375be55",
   "metadata": {},
   "outputs": [],
   "source": [
    "df_Answer1 = pd.read_sql_query(\n",
    "    \"SELECT * FROM Answer where QuestionID = 1\", db_survey\n",
    ")"
   ]
  },
  {
   "cell_type": "code",
   "execution_count": 39,
   "id": "4d6cca26",
   "metadata": {},
   "outputs": [],
   "source": [
    "df_Answer1 = pd.merge(df_TechinTech, df_Answer1 , on='UserID', how='inner')"
   ]
  },
  {
   "cell_type": "code",
   "execution_count": 40,
   "id": "51ca1301",
   "metadata": {},
   "outputs": [],
   "source": [
    "df_Answer1[\"AnswerText\"] = df_Answer1[\"AnswerText\"].astype(int)"
   ]
  },
  {
   "cell_type": "code",
   "execution_count": 41,
   "id": "9b2def3d",
   "metadata": {},
   "outputs": [],
   "source": [
    "df_Answer1.sort_values(\"AnswerText\", inplace=True)"
   ]
  },
  {
   "cell_type": "code",
   "execution_count": 42,
   "id": "c11cce1f",
   "metadata": {},
   "outputs": [],
   "source": [
    "df_Answer1 = df_Answer1[df_Answer1.AnswerText >= 20]"
   ]
  },
  {
   "cell_type": "code",
   "execution_count": 43,
   "id": "7744ea61",
   "metadata": {},
   "outputs": [],
   "source": [
    "df_Age_count = df_Answer1.AnswerText.value_counts()\n",
    "df_Age_count = pd.DataFrame(df_Age_count)\n",
    "df_Age_count = df_Age_count.reset_index()"
   ]
  },
  {
   "cell_type": "code",
   "execution_count": 44,
   "id": "1232d416",
   "metadata": {},
   "outputs": [],
   "source": [
    "df_Age_count = df_Age_count.rename(columns={\"index\": \"Age\", \"AnswerText\": \"Count\"})"
   ]
  },
  {
   "cell_type": "code",
   "execution_count": 45,
   "id": "5c1f37db",
   "metadata": {
    "scrolled": true
   },
   "outputs": [],
   "source": [
    "df_Age_count.loc[df_Age_count['Age'].between(20, 29, 'both'), 'Range'] = '20s'\n",
    "df_Age_count.loc[df_Age_count['Age'].between(30, 39, 'both'), 'Range'] = '30s'\n",
    "df_Age_count.loc[df_Age_count['Age'].between(40, 49, 'both'), 'Range'] = '40s'\n",
    "df_Age_count.loc[df_Age_count['Age'].between(50, 59, 'both'), 'Range'] = '50s'\n",
    "df_Age_count.loc[df_Age_count['Age'].between(60, 69, 'both'), 'Range'] = '60s'\n",
    "df_Age_count.loc[df_Age_count['Age'].between(70, 79, 'both'), 'Range'] = '70s'"
   ]
  },
  {
   "cell_type": "code",
   "execution_count": 46,
   "id": "56c583ef",
   "metadata": {},
   "outputs": [
    {
     "data": {
      "text/html": [
       "<div>\n",
       "<style scoped>\n",
       "    .dataframe tbody tr th:only-of-type {\n",
       "        vertical-align: middle;\n",
       "    }\n",
       "\n",
       "    .dataframe tbody tr th {\n",
       "        vertical-align: top;\n",
       "    }\n",
       "\n",
       "    .dataframe thead th {\n",
       "        text-align: right;\n",
       "    }\n",
       "</style>\n",
       "<table border=\"1\" class=\"dataframe\">\n",
       "  <thead>\n",
       "    <tr style=\"text-align: right;\">\n",
       "      <th></th>\n",
       "      <th>Range</th>\n",
       "      <th>Count</th>\n",
       "    </tr>\n",
       "  </thead>\n",
       "  <tbody>\n",
       "    <tr>\n",
       "      <th>0</th>\n",
       "      <td>20s</td>\n",
       "      <td>262</td>\n",
       "    </tr>\n",
       "    <tr>\n",
       "      <th>1</th>\n",
       "      <td>30s</td>\n",
       "      <td>418</td>\n",
       "    </tr>\n",
       "    <tr>\n",
       "      <th>2</th>\n",
       "      <td>40s</td>\n",
       "      <td>192</td>\n",
       "    </tr>\n",
       "    <tr>\n",
       "      <th>3</th>\n",
       "      <td>50s</td>\n",
       "      <td>28</td>\n",
       "    </tr>\n",
       "    <tr>\n",
       "      <th>4</th>\n",
       "      <td>60s</td>\n",
       "      <td>5</td>\n",
       "    </tr>\n",
       "  </tbody>\n",
       "</table>\n",
       "</div>"
      ],
      "text/plain": [
       "  Range  Count\n",
       "0   20s    262\n",
       "1   30s    418\n",
       "2   40s    192\n",
       "3   50s     28\n",
       "4   60s      5"
      ]
     },
     "execution_count": 46,
     "metadata": {},
     "output_type": "execute_result"
    }
   ],
   "source": [
    "df_Age_count_grouped = df_Age_count.groupby('Range')['Count'].sum()\n",
    "df_Age_count_grouped = df_Age_count_grouped.to_frame()\n",
    "df_Age_count_grouped = df_Age_count_grouped.reset_index()\n",
    "df_Age_count_grouped "
   ]
  },
  {
   "cell_type": "code",
   "execution_count": 47,
   "id": "30d70bc0",
   "metadata": {
    "scrolled": false
   },
   "outputs": [
    {
     "data": {
      "image/png": "[encoded data removed]",
      "text/plain": [
       "<Figure size 1500x700 with 1 Axes>"
      ]
     },
     "metadata": {},
     "output_type": "display_data"
    }
   ],
   "source": [
    "plt.rcParams.update(params)\n",
    "\n",
    "fig, axes = plt.subplots(1, 1, figsize=(15, 7))\n",
    "sns.set(style=\"white\")\n",
    "\n",
    "chart = sns.barplot(\n",
    "    ax=axes,\n",
    "    x=\"Range\",\n",
    "    y=\"Count\",\n",
    "    data=df_Age_count_grouped,\n",
    "    errorbar=None,\n",
    "    palette=[ord_color if x != \"30s\" else spec_lev1\n",
    "        for x in df_Age_count_grouped[\"Range\"]],\n",
    ")\n",
    "\n",
    "\n",
    "plt.xlabel(\"Age Range\")\n",
    "plt.ylabel(\"Number of Tech Workers\")\n",
    "plt.xticks()\n",
    "plt.yticks()\n",
    "\n",
    "chart.set_xticklabels(chart.get_xticklabels(), rotation=45, horizontalalignment=\"right\")\n",
    "plt.suptitle(\"Tech Workers Range in Age\")\n",
    "\n",
    "plt.show()"
   ]
  },
  {
   "cell_type": "markdown",
   "id": "fa0e1b9f",
   "metadata": {},
   "source": [
    "### Section Summary\n",
    "> * I divided the participants into 6 groups: 20s, 30s, 40s, 50s, 60s, and 70s. \n",
    "> * For this question, there were unbelievable answers such as, \"-29,\" and \"329.\" I eliminated the participants who gave such answers for this part of the report. \n",
    "> * Few of the participants reported their age below 20. I eliminated participants with those answers for this part of the report to keep the 6 groups with the most number of participants. \n",
    "> * The largest group was in their 30s, followed by those in their 20s and those in their 40s."
   ]
  },
  {
   "cell_type": "markdown",
   "id": "5f896303",
   "metadata": {},
   "source": [
    "# Mental Disorders in Tech Industry Workers"
   ]
  },
  {
   "cell_type": "markdown",
   "id": "30fb8056",
   "metadata": {},
   "source": [
    "## Family History of Mental Illness"
   ]
  },
  {
   "cell_type": "code",
   "execution_count": 48,
   "id": "971bd1ed",
   "metadata": {},
   "outputs": [],
   "source": [
    "df_Answer6 = pd.read_sql_query(\n",
    "    \"SELECT USERID FROM Answer where QuestionID = 6 AND AnswerText = 'Yes'\",\n",
    "    db_survey\n",
    ")"
   ]
  },
  {
   "cell_type": "code",
   "execution_count": 49,
   "id": "799b3005",
   "metadata": {},
   "outputs": [],
   "source": [
    "df_FamilyDisorder = pd.merge(df_TechinTech, df_Answer6 , on='UserID', how='inner')"
   ]
  },
  {
   "cell_type": "code",
   "execution_count": 50,
   "id": "a0ec750e",
   "metadata": {},
   "outputs": [],
   "source": [
    "Total_FamilyDisorder = df_FamilyDisorder.count()"
   ]
  },
  {
   "cell_type": "code",
   "execution_count": 51,
   "id": "1db2d06a",
   "metadata": {},
   "outputs": [],
   "source": [
    "Total_NoFamilyDisorder = Total_TechinTech - Total_FamilyDisorder "
   ]
  },
  {
   "cell_type": "markdown",
   "id": "4cbb88b5",
   "metadata": {},
   "source": [
    "## Past Diagnosis of Mental Health Disorder"
   ]
  },
  {
   "cell_type": "code",
   "execution_count": 52,
   "id": "f250cc00",
   "metadata": {},
   "outputs": [],
   "source": [
    "df_Answer34 = pd.read_sql_query(\n",
    "    \"SELECT USERID FROM Answer where QuestionID = 34 AND AnswerText = 'Yes'\",\n",
    "    db_survey\n",
    ")"
   ]
  },
  {
   "cell_type": "code",
   "execution_count": 53,
   "id": "67879f7c",
   "metadata": {},
   "outputs": [],
   "source": [
    "df_PastDisorder = pd.merge(df_TechinTech, df_Answer34 , on='UserID', how='inner')"
   ]
  },
  {
   "cell_type": "code",
   "execution_count": 54,
   "id": "d47cddb3",
   "metadata": {},
   "outputs": [
    {
     "data": {
      "text/plain": [
       "371"
      ]
     },
     "execution_count": 54,
     "metadata": {},
     "output_type": "execute_result"
    }
   ],
   "source": [
    "Total_PastDisorder = df_PastDisorder.count()\n",
    "Total_PastDisorder.UserID"
   ]
  },
  {
   "cell_type": "code",
   "execution_count": 55,
   "id": "f5b05ebd",
   "metadata": {},
   "outputs": [],
   "source": [
    "Total_NoPastDisorder = Total_TechinTech - Total_PastDisorder "
   ]
  },
  {
   "cell_type": "markdown",
   "id": "62a652ad",
   "metadata": {},
   "source": [
    "## Current Mental Health Disorder"
   ]
  },
  {
   "cell_type": "code",
   "execution_count": 56,
   "id": "ff665af3",
   "metadata": {},
   "outputs": [],
   "source": [
    "df_Answer33 = pd.read_sql_query(\n",
    "    \"SELECT UserID FROM Answer where QuestionID = 33 AND AnswerText = 'Yes'\",\n",
    "    db_survey\n",
    ")"
   ]
  },
  {
   "cell_type": "code",
   "execution_count": 57,
   "id": "67635e02",
   "metadata": {},
   "outputs": [],
   "source": [
    "df_CurrentDisorder = pd.merge(df_TechinTech, df_Answer33 , on='UserID', how='inner')"
   ]
  },
  {
   "cell_type": "code",
   "execution_count": 58,
   "id": "6ce9fb79",
   "metadata": {},
   "outputs": [],
   "source": [
    "Total_CurrentDisorder = df_CurrentDisorder.count()"
   ]
  },
  {
   "cell_type": "code",
   "execution_count": 59,
   "id": "1349f6cf",
   "metadata": {},
   "outputs": [],
   "source": [
    "Total_NoCurrentDisorder = Total_TechinTech - Total_CurrentDisorder "
   ]
  },
  {
   "cell_type": "markdown",
   "id": "ff608af0",
   "metadata": {},
   "source": [
    "# Current, Past or Family History of Mental Disorder"
   ]
  },
  {
   "cell_type": "code",
   "execution_count": 60,
   "id": "e605ca2e",
   "metadata": {},
   "outputs": [],
   "source": [
    "df_AllThree = pd.merge(pd.merge(df_FamilyDisorder,df_PastDisorder,on='UserID'),df_CurrentDisorder,on='UserID')"
   ]
  },
  {
   "cell_type": "code",
   "execution_count": 61,
   "id": "cad517a2",
   "metadata": {},
   "outputs": [],
   "source": [
    "Total_AllThree = df_AllThree.count()"
   ]
  },
  {
   "cell_type": "code",
   "execution_count": 62,
   "id": "a2223fe8",
   "metadata": {},
   "outputs": [],
   "source": [
    "Total_NotAllThree = Total_TechinTech - Total_AllThree"
   ]
  },
  {
   "cell_type": "code",
   "execution_count": 63,
   "id": "ce2b15b5",
   "metadata": {},
   "outputs": [
    {
     "data": {
      "image/png": "[encoded data removed]",
      "text/plain": [
       "<Figure size 2000x700 with 4 Axes>"
      ]
     },
     "metadata": {},
     "output_type": "display_data"
    }
   ],
   "source": [
    "fig, (ax1, ax2, ax3, ax4) = plt.subplots(1, 4, figsize=(20, 7))\n",
    "\n",
    "data_FamilyDisorder = [Total_FamilyDisorder.UserID, Total_NoFamilyDisorder.UserID]\n",
    "data_PastDisorder = [Total_PastDisorder.UserID, Total_NoPastDisorder.UserID]\n",
    "data_CurrentDisorder = [Total_CurrentDisorder.UserID, Total_NoCurrentDisorder.UserID]\n",
    "data_AllThree = [Total_AllThree.UserID, Total_NotAllThree.UserID]\n",
    "\n",
    "ax1.pie(\n",
    "    data_FamilyDisorder,\n",
    "    startangle=90,\n",
    "    colors = [spec_lev1, ord_color],\n",
    "    autopct=\"%0.0f%%\",\n",
    "    wedgeprops={\"edgecolor\": \"black\"},\n",
    "    textprops={\"fontsize\": 20},\n",
    "    \n",
    ")\n",
    "\n",
    "ax2.pie(\n",
    "    data_PastDisorder,\n",
    "    startangle=90,\n",
    "    colors = [spec_lev1, ord_color],\n",
    "    autopct=\"%0.0f%%\",\n",
    "    wedgeprops={\"edgecolor\": \"black\"},\n",
    "    textprops={\"fontsize\": 20},\n",
    "   \n",
    ")\n",
    "\n",
    "ax3.pie(\n",
    "    data_CurrentDisorder,\n",
    "    startangle=90,\n",
    "    colors = [spec_lev1, ord_color],\n",
    "    autopct=\"%0.0f%%\",\n",
    "    wedgeprops={\"edgecolor\": \"black\"},\n",
    "    textprops={\"fontsize\": 20},\n",
    "\n",
    ")\n",
    "\n",
    "ax4.pie(\n",
    "    data_AllThree,\n",
    "    startangle=90,\n",
    "    colors = [spec_lev1, ord_color],\n",
    "    autopct=\"%0.0f%%\",\n",
    "    wedgeprops={\"edgecolor\": \"black\"},\n",
    "    textprops={\"fontsize\": 20},\n",
    "    \n",
    ")\n",
    "\n",
    "ax1.set_title('Family History', fontsize=20)\n",
    "ax2.set_title('Past Diagnosis', fontsize=20)\n",
    "ax3.set_title('Current Disorder', fontsize=20)\n",
    "ax4.set_title('Current, Past, Family History', fontsize=20)\n",
    "\n",
    "plt.tight_layout()\n",
    "\n",
    "plt.show()"
   ]
  },
  {
   "cell_type": "markdown",
   "id": "48733aec",
   "metadata": {},
   "source": [
    "### Section Summary\n",
    "> * Between 46% of participants reported past of a family history of mental illness. \n",
    "> * Between 41% reported a past diagnosis of mental illness. \n",
    "> * Between 42% reported having a current mental health disorder.\n",
    "> * 26% of participants reported having a current mental disorder, a past diagnosis and a family history of mental illness. "
   ]
  },
  {
   "cell_type": "markdown",
   "id": "0134de71",
   "metadata": {},
   "source": [
    "# Attitude Toward Mental Health in the Tech Industry"
   ]
  },
  {
   "cell_type": "markdown",
   "id": "9caa281e",
   "metadata": {},
   "source": [
    "## Question ID: 11 \n",
    "Is your anonimity protected if you choose to take advantage of mental health or substance abuse treatment resources provided by your employer?"
   ]
  },
  {
   "cell_type": "code",
   "execution_count": 64,
   "id": "26e4f4f2",
   "metadata": {},
   "outputs": [],
   "source": [
    "df_Answer11 = pd.read_sql_query(\"SELECT * FROM Answer where QuestionID = 11\", db_survey)\n",
    "Total_Answer11 = df_Answer11.UserID.count()"
   ]
  },
  {
   "cell_type": "code",
   "execution_count": 65,
   "id": "1db5c9ce",
   "metadata": {},
   "outputs": [],
   "source": [
    "df_Answer11_Yes = pd.read_sql_query(\n",
    "    \"SELECT UserID FROM Answer where QuestionID = 11 AND AnswerText = 'Yes'\", db_survey\n",
    ")\n",
    "Yes_Answer11 = df_Answer11_Yes.UserID.count()"
   ]
  },
  {
   "cell_type": "code",
   "execution_count": 66,
   "id": "35b7d9e0",
   "metadata": {},
   "outputs": [],
   "source": [
    "df_Answer11TechinTech = pd.merge(\n",
    "    df_TechinTech, df_Answer11_Yes, on=\"UserID\", how=\"inner\"\n",
    ")"
   ]
  },
  {
   "cell_type": "code",
   "execution_count": 67,
   "id": "d4899b90",
   "metadata": {},
   "outputs": [],
   "source": [
    "TechinTech_Answer11 = df_Answer11TechinTech.UserID.count()"
   ]
  },
  {
   "cell_type": "markdown",
   "id": "2e57cd6b",
   "metadata": {},
   "source": [
    "## Question ID: 17 \n",
    "If a mental health issue prompted you to request a medical leave from work, how easy or difficult would it be to ask for that leave?"
   ]
  },
  {
   "cell_type": "code",
   "execution_count": 68,
   "id": "fc9a9605",
   "metadata": {},
   "outputs": [],
   "source": [
    "df_Answer17 = pd.read_sql_query(\"SELECT * FROM Answer where QuestionID = 17\", db_survey)\n",
    "Total_Answer17 = df_Answer17.UserID.count()"
   ]
  },
  {
   "cell_type": "code",
   "execution_count": 69,
   "id": "70e5ca47",
   "metadata": {},
   "outputs": [],
   "source": [
    "df_Answer17_Yes = pd.read_sql_query(\n",
    "    \"SELECT UserID FROM Answer where QuestionID = 17 AND (AnswerText = 'Very easy' OR AnswerText = 'Somewhat easy')\",\n",
    "    db_survey,\n",
    ")\n",
    "Yes_Answer17 = df_Answer17_Yes.UserID.count()"
   ]
  },
  {
   "cell_type": "code",
   "execution_count": 70,
   "id": "01cfe377",
   "metadata": {},
   "outputs": [],
   "source": [
    "df_Answer17TechinTech = pd.merge(\n",
    "    df_TechinTech, df_Answer17_Yes, on=\"UserID\", how=\"inner\"\n",
    ")"
   ]
  },
  {
   "cell_type": "code",
   "execution_count": 71,
   "id": "ac7796ba",
   "metadata": {},
   "outputs": [],
   "source": [
    "TechinTech_Answer17 = df_Answer17TechinTech.UserID.count()"
   ]
  },
  {
   "cell_type": "markdown",
   "id": "b82008a4",
   "metadata": {},
   "source": [
    "## Question ID: 83 \n",
    "Have you observed or experienced supportive or well handled response to a mental health issue in your current or previous workplace?"
   ]
  },
  {
   "cell_type": "code",
   "execution_count": 72,
   "id": "91b3184b",
   "metadata": {},
   "outputs": [],
   "source": [
    "df_Answer83 = pd.read_sql_query(\"SELECT * FROM Answer where QuestionID = 83\", db_survey)\n",
    "Total_Answer83 = df_Answer83.UserID.count()"
   ]
  },
  {
   "cell_type": "code",
   "execution_count": 73,
   "id": "d58766bc",
   "metadata": {},
   "outputs": [],
   "source": [
    "df_Answer83_Yes = pd.read_sql_query(\n",
    "    \"SELECT UserID FROM Answer where QuestionID = 83 AND (AnswerText = 'Yes, I experienced' OR AnswerText = 'Yes, I observed')\",\n",
    "    db_survey,\n",
    ")\n",
    "Yes_Answer83 = df_Answer83_Yes.UserID.count()"
   ]
  },
  {
   "cell_type": "code",
   "execution_count": 74,
   "id": "f38cea20",
   "metadata": {},
   "outputs": [],
   "source": [
    "df_Answer83TechinTech = pd.merge(df_TechinTech, df_Answer83_Yes, on=\"UserID\", how=\"inner\")"
   ]
  },
  {
   "cell_type": "code",
   "execution_count": 75,
   "id": "b7ebfc32",
   "metadata": {
    "scrolled": true
   },
   "outputs": [],
   "source": [
    "TechinTech_Answer83 = df_Answer83TechinTech.UserID.count()"
   ]
  },
  {
   "cell_type": "markdown",
   "id": "62d4bfd4",
   "metadata": {},
   "source": [
    "##  Score: Positive Attitude Toward Mental Illness"
   ]
  },
  {
   "cell_type": "code",
   "execution_count": 76,
   "id": "5fb14a00",
   "metadata": {},
   "outputs": [
    {
     "data": {
      "text/plain": [
       "117"
      ]
     },
     "execution_count": 76,
     "metadata": {},
     "output_type": "execute_result"
    }
   ],
   "source": [
    "df_attitude = pd.merge(\n",
    "    pd.merge(df_Answer11TechinTech, df_Answer17TechinTech, on=\"UserID\"),\n",
    "    df_Answer83TechinTech,\n",
    "    on=\"UserID\",\n",
    "    how=\"inner\",\n",
    ")\n",
    "df_attitude.UserID.count()"
   ]
  },
  {
   "cell_type": "code",
   "execution_count": 77,
   "id": "4da46f80",
   "metadata": {},
   "outputs": [
    {
     "data": {
      "text/plain": [
       "127"
      ]
     },
     "execution_count": 77,
     "metadata": {},
     "output_type": "execute_result"
    }
   ],
   "source": [
    "Attitude_Score = (\n",
    "    (TechinTech_Answer11 * Yes_Answer11)\n",
    "    + (TechinTech_Answer17 * Yes_Answer17)\n",
    "    + (TechinTech_Answer83 * Yes_Answer83)\n",
    ") / (Total_Answer11 + Total_Answer17 + Total_Answer83)\n",
    "Attitude_Score = int(Attitude_Score)\n",
    "Attitude_Score"
   ]
  },
  {
   "cell_type": "markdown",
   "id": "7c9d6103",
   "metadata": {},
   "source": [
    "### Section Summary\n",
    "> * 117 of 909 participants reported a positive attitude toward mental health in their workplace. \n",
    "> * I calculated a weighted average of YES answers to three questions dealing with this issue. With this calculation, I created what I call an \"Attitude Score.\" I compared this score with 2 other scores that I also calculated in the same way, on access to mental health resources and openness to discuss mental health in the workplace. A summary graph is below.\n",
    "> * The Attitude Score although not exact, can give a rough idea on this subject for comparison purposes.\n",
    "> * The Attitude Score was the in between the other two scores, indicating that tech workers' experience of attitude toward mental illness is worse than access to resources but better than their openness to discuss mental health issues. "
   ]
  },
  {
   "cell_type": "markdown",
   "id": "aedee5ae",
   "metadata": {},
   "source": [
    "# Access to Mental Health Resources in the Tech Industry"
   ]
  },
  {
   "cell_type": "markdown",
   "id": "8e25773f",
   "metadata": {},
   "source": [
    "## QuestionID: 10 \n",
    "Does employer provide mental health benefits as part of healthcare coverage?"
   ]
  },
  {
   "cell_type": "code",
   "execution_count": 78,
   "id": "24796458",
   "metadata": {},
   "outputs": [
    {
     "data": {
      "text/plain": [
       "4218"
      ]
     },
     "execution_count": 78,
     "metadata": {},
     "output_type": "execute_result"
    }
   ],
   "source": [
    "df_Answer10 = pd.read_sql_query(\"SELECT * FROM Answer where QuestionID = 10\", db_survey)\n",
    "Total_Answer10 = df_Answer10.UserID.count()\n",
    "Total_Answer10"
   ]
  },
  {
   "cell_type": "code",
   "execution_count": 79,
   "id": "36bc93c3",
   "metadata": {},
   "outputs": [
    {
     "data": {
      "text/plain": [
       "1744"
      ]
     },
     "execution_count": 79,
     "metadata": {},
     "output_type": "execute_result"
    }
   ],
   "source": [
    "df_Answer10_Yes = pd.read_sql_query(\n",
    "    \"SELECT UserID FROM Answer where QuestionID = 10 AND AnswerText = 'Yes'\", db_survey\n",
    ")\n",
    "Yes_Answer10 = df_Answer10_Yes.UserID.count()\n",
    "Yes_Answer10"
   ]
  },
  {
   "cell_type": "code",
   "execution_count": 80,
   "id": "c7b8beb2",
   "metadata": {},
   "outputs": [],
   "source": [
    "df_Answer10TechinTech = pd.merge(\n",
    "    df_TechinTech, df_Answer10_Yes, on=\"UserID\", how=\"inner\"\n",
    ")"
   ]
  },
  {
   "cell_type": "code",
   "execution_count": 81,
   "id": "b646cdea",
   "metadata": {},
   "outputs": [
    {
     "data": {
      "text/plain": [
       "498"
      ]
     },
     "execution_count": 81,
     "metadata": {},
     "output_type": "execute_result"
    }
   ],
   "source": [
    "TechinTech_Answer10 = df_Answer10TechinTech.UserID.count()\n",
    "TechinTech_Answer10"
   ]
  },
  {
   "cell_type": "markdown",
   "id": "d8973094",
   "metadata": {},
   "source": [
    "## QuestionID: 14 \n",
    "Do you know options for mental health care available under your employer provided health coverage?"
   ]
  },
  {
   "cell_type": "code",
   "execution_count": 82,
   "id": "10b06e19",
   "metadata": {},
   "outputs": [
    {
     "data": {
      "text/plain": [
       "2958"
      ]
     },
     "execution_count": 82,
     "metadata": {},
     "output_type": "execute_result"
    }
   ],
   "source": [
    "df_Answer14 = pd.read_sql_query(\"SELECT * FROM Answer where QuestionID = 14\", db_survey)\n",
    "Total_Answer14 = df_Answer14.UserID.count()\n",
    "Total_Answer14"
   ]
  },
  {
   "cell_type": "code",
   "execution_count": 83,
   "id": "d68a3da7",
   "metadata": {},
   "outputs": [
    {
     "data": {
      "text/plain": [
       "869"
      ]
     },
     "execution_count": 83,
     "metadata": {},
     "output_type": "execute_result"
    }
   ],
   "source": [
    "df_Answer14_Yes = pd.read_sql_query(\n",
    "    \"SELECT UserID FROM Answer where QuestionID = 14 AND AnswerText = 'Yes'\", db_survey\n",
    ")\n",
    "Yes_Answer14 = df_Answer14_Yes.UserID.count()\n",
    "Yes_Answer14"
   ]
  },
  {
   "cell_type": "code",
   "execution_count": 84,
   "id": "621ec690",
   "metadata": {},
   "outputs": [],
   "source": [
    "df_Answer14TechinTech = pd.merge(\n",
    "    df_TechinTech, df_Answer14_Yes, on=\"UserID\", how=\"inner\"\n",
    ")"
   ]
  },
  {
   "cell_type": "code",
   "execution_count": 85,
   "id": "94c89baa",
   "metadata": {},
   "outputs": [
    {
     "data": {
      "text/plain": [
       "378"
      ]
     },
     "execution_count": 85,
     "metadata": {},
     "output_type": "execute_result"
    }
   ],
   "source": [
    "TechinTech_Answer14 = df_Answer14TechinTech.UserID.count()\n",
    "TechinTech_Answer14"
   ]
  },
  {
   "cell_type": "markdown",
   "id": "a655cbe7",
   "metadata": {},
   "source": [
    "## QuestionID: 16 \n",
    "Does employer offer resources to learn more about mental health disorders and options for seeking help?"
   ]
  },
  {
   "cell_type": "code",
   "execution_count": 86,
   "id": "d4c29fd2",
   "metadata": {},
   "outputs": [
    {
     "data": {
      "text/plain": [
       "2958"
      ]
     },
     "execution_count": 86,
     "metadata": {},
     "output_type": "execute_result"
    }
   ],
   "source": [
    "df_Answer16 = pd.read_sql_query(\"SELECT * FROM Answer where QuestionID = 16\", db_survey)\n",
    "Total_Answer16 = df_Answer16.UserID.count()\n",
    "Total_Answer16"
   ]
  },
  {
   "cell_type": "code",
   "execution_count": 87,
   "id": "24c77ce5",
   "metadata": {},
   "outputs": [
    {
     "data": {
      "text/plain": [
       "702"
      ]
     },
     "execution_count": 87,
     "metadata": {},
     "output_type": "execute_result"
    }
   ],
   "source": [
    "df_Answer16_Yes = pd.read_sql_query(\n",
    "    \"SELECT UserID FROM Answer where QuestionID = 16 AND AnswerText = 'Yes'\", db_survey\n",
    ")\n",
    "Yes_Answer16 = df_Answer16_Yes.UserID.count()\n",
    "Yes_Answer16"
   ]
  },
  {
   "cell_type": "code",
   "execution_count": 88,
   "id": "bb21567d",
   "metadata": {},
   "outputs": [],
   "source": [
    "df_Answer16TechinTech = pd.merge(\n",
    "    df_TechinTech, df_Answer16_Yes, on=\"UserID\", how=\"inner\"\n",
    ")"
   ]
  },
  {
   "cell_type": "code",
   "execution_count": 89,
   "id": "e0b1f4b7",
   "metadata": {},
   "outputs": [
    {
     "data": {
      "text/plain": [
       "255"
      ]
     },
     "execution_count": 89,
     "metadata": {},
     "output_type": "execute_result"
    }
   ],
   "source": [
    "TechinTech_Answer16 = df_Answer16TechinTech.UserID.count()\n",
    "TechinTech_Answer16"
   ]
  },
  {
   "cell_type": "markdown",
   "id": "273b872a",
   "metadata": {},
   "source": [
    "##  Score: Access to Mental Health Resources"
   ]
  },
  {
   "cell_type": "code",
   "execution_count": 90,
   "id": "45fb3c3c",
   "metadata": {},
   "outputs": [
    {
     "data": {
      "text/plain": [
       "176"
      ]
     },
     "execution_count": 90,
     "metadata": {},
     "output_type": "execute_result"
    }
   ],
   "source": [
    "df_access = pd.merge(\n",
    "    pd.merge(df_Answer10TechinTech, df_Answer14TechinTech, on=\"UserID\"),\n",
    "    df_Answer16TechinTech,\n",
    "    on=\"UserID\",\n",
    "    how=\"inner\",\n",
    ")\n",
    "df_access.UserID.count()"
   ]
  },
  {
   "cell_type": "code",
   "execution_count": 91,
   "id": "81c697c5",
   "metadata": {},
   "outputs": [
    {
     "data": {
      "text/plain": [
       "135"
      ]
     },
     "execution_count": 91,
     "metadata": {},
     "output_type": "execute_result"
    }
   ],
   "source": [
    "Access_Score = (\n",
    "    (TechinTech_Answer10 * Yes_Answer10)\n",
    "    + (TechinTech_Answer14 * Yes_Answer14)\n",
    "    + (TechinTech_Answer16 * Yes_Answer16)\n",
    ") / (Total_Answer10 + Total_Answer14 + Total_Answer16)\n",
    "Access_Score = int(Access_Score)\n",
    "Access_Score"
   ]
  },
  {
   "cell_type": "markdown",
   "id": "9d7031a7",
   "metadata": {},
   "source": [
    "### Section Summary\n",
    "> * 176 of 909 participants reported access to mental health resources in the workplace. \n",
    "> * I calculated a weighted average of YES answers to three questions dealing with this issue. With this calculation, I created what I call an \"Access Score.\" I compared this score with 2 other scores that I also calculated in the same way, on attitude toward mental health and openness to discuss mental health in the workplace. A summary graph is below.\n",
    "> * The Access Score although not exact, can give a rough idea on this subject for comparison purposes.\n",
    "> * The Access Score was the highest of the three, indicating that tech workers had relatively good access to mental health resources in the workplace. "
   ]
  },
  {
   "cell_type": "markdown",
   "id": "213bd72a",
   "metadata": {},
   "source": [
    "# Openness to Discuss Mental Health in the Tech Industry"
   ]
  },
  {
   "cell_type": "markdown",
   "id": "e89a8f19",
   "metadata": {},
   "source": [
    "## QuestionID: 12\n",
    "Would you bring up a mental health issue with a potential employer in an interview?"
   ]
  },
  {
   "cell_type": "code",
   "execution_count": 92,
   "id": "c9d33d3a",
   "metadata": {},
   "outputs": [],
   "source": [
    "df_Answer12 = pd.read_sql_query(\n",
    "    \"SELECT * FROM Answer where QuestionID = 12\",\n",
    "    db_survey\n",
    ")\n",
    "Total_Answer12 = df_Answer12.UserID.count()"
   ]
  },
  {
   "cell_type": "code",
   "execution_count": 93,
   "id": "44d3855f",
   "metadata": {},
   "outputs": [],
   "source": [
    "df_Answer12_Yes = pd.read_sql_query(\n",
    "    \"SELECT UserID FROM Answer where QuestionID = 12 AND AnswerText = 'Yes'\",\n",
    "    db_survey\n",
    ")\n",
    "Yes_Answer12 = df_Answer12_Yes.UserID.count()"
   ]
  },
  {
   "cell_type": "code",
   "execution_count": 94,
   "id": "5f57b770",
   "metadata": {},
   "outputs": [],
   "source": [
    "df_Answer12TechinTech = pd.merge(df_TechinTech, df_Answer12_Yes, on='UserID', how='inner')"
   ]
  },
  {
   "cell_type": "code",
   "execution_count": 95,
   "id": "778905fb",
   "metadata": {},
   "outputs": [],
   "source": [
    "TechinTech_Answer12 = df_Answer12TechinTech.UserID.count()"
   ]
  },
  {
   "cell_type": "markdown",
   "id": "506acf16",
   "metadata": {},
   "source": [
    "## QuestionID:  18\n",
    "Would you feel comfortable discussing a mental health issue with a coworker?  "
   ]
  },
  {
   "cell_type": "code",
   "execution_count": 96,
   "id": "a5758d72",
   "metadata": {},
   "outputs": [],
   "source": [
    "df_Answer18 = pd.read_sql_query(\n",
    "    \"SELECT * FROM Answer where QuestionID = 18\",\n",
    "    db_survey\n",
    ")\n",
    "Total_Answer18 = df_Answer18.UserID.count()"
   ]
  },
  {
   "cell_type": "code",
   "execution_count": 97,
   "id": "3638f8ea",
   "metadata": {},
   "outputs": [],
   "source": [
    "df_Answer18_Yes = pd.read_sql_query(\n",
    "    \"SELECT UserID FROM Answer where QuestionID = 18 AND AnswerText = 'Yes'\",\n",
    "    db_survey\n",
    ")\n",
    "Yes_Answer18 = df_Answer18_Yes.UserID.count()"
   ]
  },
  {
   "cell_type": "code",
   "execution_count": 98,
   "id": "c1dd6b25",
   "metadata": {},
   "outputs": [],
   "source": [
    "df_Answer18TechinTech = pd.merge(df_TechinTech, df_Answer18_Yes, on='UserID', how='inner')"
   ]
  },
  {
   "cell_type": "code",
   "execution_count": 99,
   "id": "2c703fcd",
   "metadata": {},
   "outputs": [],
   "source": [
    "TechinTech_Answer18 = df_Answer18TechinTech.UserID.count()"
   ]
  },
  {
   "cell_type": "markdown",
   "id": "7b804a3f",
   "metadata": {},
   "source": [
    "## QuestionID: 19\n",
    "Would you feel comfortable discussing a mental health issue with a direct supervisor?"
   ]
  },
  {
   "cell_type": "code",
   "execution_count": 100,
   "id": "84b87ac9",
   "metadata": {},
   "outputs": [],
   "source": [
    "df_Answer19 = pd.read_sql_query(\n",
    "    \"SELECT * FROM Answer where QuestionID = 19\",\n",
    "    db_survey\n",
    ")\n",
    "Total_Answer19 = df_Answer19.UserID.count()"
   ]
  },
  {
   "cell_type": "code",
   "execution_count": 101,
   "id": "9b05fbd6",
   "metadata": {},
   "outputs": [],
   "source": [
    "df_Answer19_Yes = pd.read_sql_query(\n",
    "    \"SELECT UserID FROM Answer where QuestionID = 19 AND AnswerText = 'Yes'\",\n",
    "    db_survey\n",
    ")\n",
    "Yes_Answer19 = df_Answer19_Yes.UserID.count()"
   ]
  },
  {
   "cell_type": "code",
   "execution_count": 102,
   "id": "ce881efc",
   "metadata": {},
   "outputs": [],
   "source": [
    "df_Answer19TechinTech = pd.merge(df_TechinTech, df_Answer19_Yes, on='UserID', how='inner')"
   ]
  },
  {
   "cell_type": "code",
   "execution_count": 103,
   "id": "7a573eae",
   "metadata": {},
   "outputs": [],
   "source": [
    "TechinTech_Answer19 = df_Answer19TechinTech.UserID.count()"
   ]
  },
  {
   "cell_type": "markdown",
   "id": "10c57b3c",
   "metadata": {},
   "source": [
    "## Score: Openness to Discuss Mental Health Issues"
   ]
  },
  {
   "cell_type": "code",
   "execution_count": 104,
   "id": "b9f23c91",
   "metadata": {},
   "outputs": [
    {
     "data": {
      "text/plain": [
       "28"
      ]
     },
     "execution_count": 104,
     "metadata": {},
     "output_type": "execute_result"
    }
   ],
   "source": [
    "df_openness = pd.merge(\n",
    "    pd.merge(df_Answer12TechinTech, df_Answer18TechinTech, on=\"UserID\"),\n",
    "    df_Answer19TechinTech,\n",
    "    on=\"UserID\",\n",
    "    how=\"inner\",\n",
    ")\n",
    "df_openness.UserID.count()"
   ]
  },
  {
   "cell_type": "code",
   "execution_count": 105,
   "id": "3525cf6a",
   "metadata": {},
   "outputs": [
    {
     "data": {
      "text/plain": [
       "56"
      ]
     },
     "execution_count": 105,
     "metadata": {},
     "output_type": "execute_result"
    }
   ],
   "source": [
    "Openness_Score = (\n",
    "    (TechinTech_Answer12 * Yes_Answer12)\n",
    "    + (TechinTech_Answer18 * Yes_Answer18)\n",
    "    + (TechinTech_Answer19 * Yes_Answer19)\n",
    ") / (Total_Answer12 + Total_Answer18 + Total_Answer19)\n",
    "Openness_Score = int(Openness_Score)\n",
    "Openness_Score"
   ]
  },
  {
   "cell_type": "markdown",
   "id": "94f6311d",
   "metadata": {},
   "source": [
    "### Section Summary\n",
    "> * Only 28 of 909 participants reported that they are comfortable discussing mental health issues in the workplace. \n",
    "> * I calculated a weighted average of YES answers to three questions dealing with this issue. With this calculation, I created what I call an \"Openness Score.\" I compared this score with 2 other scores that I also calculated in the same way, on attitude toward mental health and attitude toward mental health in the workplace. A summary graph is below.\n",
    "> * The Openness Score although not exact, can give a rough idea on this subject for comparison purposes.\n",
    "> * The Openness Score was the lowest of the three, indicating that tech workers may not be very open to discussing mental health issues in the workplace."
   ]
  },
  {
   "cell_type": "markdown",
   "id": "f121ff8c",
   "metadata": {},
   "source": [
    "## Comparison between Attitude, Access and Openness Scores"
   ]
  },
  {
   "cell_type": "code",
   "execution_count": 106,
   "id": "4dc5d2cd",
   "metadata": {
    "scrolled": false
   },
   "outputs": [
    {
     "data": {
      "image/png": "[encoded data removed]",
      "text/plain": [
       "<Figure size 1500x700 with 1 Axes>"
      ]
     },
     "metadata": {},
     "output_type": "display_data"
    }
   ],
   "source": [
    "plt.rcParams.update(params)\n",
    "\n",
    "fig, axes = plt.subplots(1, 1, figsize=(15, 7))\n",
    "sns.set(style=\"white\")\n",
    "\n",
    "scores = pd.DataFrame({'Area':['Access', 'Attitude', 'Openness'], 'Value':[Access_Score, Attitude_Score, Openness_Score]})\n",
    "\n",
    "chart = sns.barplot(\n",
    "    ax=axes,\n",
    "    x=\"Area\",\n",
    "    y=\"Value\",\n",
    "    data=scores,\n",
    "    errorbar=None,\n",
    "    palette=[ord_color if x != \"Access\" else spec_lev1\n",
    "        for x in scores[\"Area\"]],\n",
    ")\n",
    "\n",
    "\n",
    "plt.xlabel(\"Area of Concern\")\n",
    "plt.ylabel(\"Score\")\n",
    "plt.xticks()\n",
    "plt.yticks()\n",
    "\n",
    "chart.set_xticklabels(chart.get_xticklabels(), rotation=45, horizontalalignment=\"right\")\n",
    "plt.suptitle(\"Scores of Areas of Concern\")\n",
    "\n",
    "plt.show()"
   ]
  },
  {
   "cell_type": "markdown",
   "id": "0ff57f97",
   "metadata": {},
   "source": [
    "### Section Summary\n",
    "> * By far, the majority of participants reported that they are not comfortable discussing mental health issues in the workplace, even though many more reported that there is a positive attitude toward discussing mental health issues and good access to resources on mental health in the workplace."
   ]
  },
  {
   "cell_type": "markdown",
   "id": "f1925dff",
   "metadata": {},
   "source": [
    "# Conclusions\n",
    "> * I analyzed the responses of the remaining 909 participants. These are workers whose jobs are tech/IT related and who worked primarily for a tech company or organization.\n",
    "> * The majority (624 of 909) of participants for this analysis lived in the United States. For this reason, this analysis is naturally biased as a large majority of participants lived in the United States. We have to keep this fact in mind when forming conclusions based on the results of this analysis.\n",
    "> * As I may have expected, the majority of participants in this analysis identified themselves as male. This fact should also be kept in mind when forming conclusions from this analysis. Males may view and handle situations differently than females. Furthermore, males and females may be treated differently in the workplace.\n",
    "> * I was not surprised to find that the largest groups were those in their 30s. In my experience, people at different stages of their lives handle situations differently. The fact that most respondents were in their 30s should be kept in mind when forming conclusions from this analysis.\n",
    "> * Between 41 and 46 percent of participants in this analysis reported either a current, past or family history of mental illness. 240 of the 909 participants reported current, past and family history of mental illness. It would be interesting to know how close this is to statistics of the general population.\n",
    "> * This analysis showed that in general, there is adequate access to mental health resources and generally good attitudes toward mental health. What was surprising was how the workers were still hesitant to discuss mental health issues. Could this be a result of age, gender or both?"
   ]
  },
  {
   "cell_type": "markdown",
   "id": "f4c7f3d5",
   "metadata": {},
   "source": [
    "# Suggestions for Improvement"
   ]
  },
  {
   "cell_type": "markdown",
   "id": "612c766e",
   "metadata": {},
   "source": [
    "> **Countries of Residence:** A large majority of participants lived in the United States. A better sampling could give a better assessment of the situation in a more global sense.<br>\n",
    "> **Gender:** This fact should also be kept in mind when forming conclusions from this analysis. Males may view and handle situations differently than females. Furthermore, males and females may be treated differently in the workplace. Sample participants so more females are included.<br>\n",
    "> **Age:** Sample participants to better represent age groups other than people in their 30s.<br>\n",
    "> **Mental Illness:**  It would be interesting to know how close the prevalence of mental illness in tech workers is to the general population.<br>\n",
    "> **Openness:** What was surprising was how the workers were still hesitant to discuss mental health issues. Could this be a result of age, gender or both?<br>\n",
    "> **Pandas:** Continue to learn to utilize more optimized Pandas techniques and algorithms.<br>\n",
    "> **Seaborn and Matplotlib:** Similar to Pandas, continue to improve on my knowledge of Seaborn and Matplotlib for creating visualizations. <br>\n",
    "> **Python Code:** Continue to write better and more efficient Python code. <br>\n",
    "> **Clean Code:** Continue to adhere to the principles of writing clean code. <br>\n",
    "> **Readability and Efficiency:** Improve on finding this delicate balance between readability and efficiency in coding.<br>"
   ]
  },
  {
   "cell_type": "markdown",
   "id": "4db3c01b",
   "metadata": {},
   "source": [
    "# Appendix"
   ]
  },
  {
   "cell_type": "markdown",
   "id": "f63c8a85",
   "metadata": {},
   "source": [
    "## Responses to Three Narrative Questions"
   ]
  },
  {
   "cell_type": "markdown",
   "id": "64d9bc6a",
   "metadata": {},
   "source": [
    "### QuestionID 59: \n",
    "Describe the conversation you had with your employer about your mental health, including their reactions and what actions were taken to address your mental health issue/questions."
   ]
  },
  {
   "cell_type": "markdown",
   "id": "9244661a",
   "metadata": {},
   "source": [
    "\"I needed to discuss accommodations due to Autism and ADHD. The conversation was with my boss and the inclusion officer. Conversation went well. Agreed accommodations where never actually implemented.\""
   ]
  },
  {
   "cell_type": "markdown",
   "id": "e89210de",
   "metadata": {},
   "source": [
    "\"On my second day of work, I had a breakdown and was unable to enter the building. My employer met me outside and listened to my problems. Following our conversation he offered to let me work from home, which I did until a few weeks later when I was comfortable to come into the office\""
   ]
  },
  {
   "cell_type": "markdown",
   "id": "f7232d45",
   "metadata": {},
   "source": [
    "\"I was blocking out some periods of time during work days as \"busy\" on my calendar. Sometimes, I would disappear for an hour and a half and show back up later. I always worked nights and weekends to make up for the missed time but the time in office was important to my manager.\\n\\nHe asked me what was going on and I told him I am in outpatient rehab. He was very accepting of it. He let me know he had gone through rehab himself and that I could trust him to make things comfortable.\""
   ]
  },
  {
   "cell_type": "markdown",
   "id": "e670b835",
   "metadata": {},
   "source": [
    "### QuestionID 61\n",
    "Describe the conversation with coworkers you had about your mental health including their reactions."
   ]
  },
  {
   "cell_type": "markdown",
   "id": "c261f633",
   "metadata": {},
   "source": [
    "\"I've talked about my depression with coworkers in the past. They were good listeners and very supportive.\""
   ]
  },
  {
   "cell_type": "markdown",
   "id": "fa2aa2c0",
   "metadata": {},
   "source": [
    "\"To a select few co-workers I did talk about mental health diagnosis. Basically there reaction was I don't care.\""
   ]
  },
  {
   "cell_type": "markdown",
   "id": "c1066be5",
   "metadata": {},
   "source": [
    "\"I've had multiple conversations with groups of coworkers that include people dealing with anxiety and depression themselves. Anyone I worked with directly and talked about this has been very supportive and empathetic\""
   ]
  },
  {
   "cell_type": "markdown",
   "id": "0132bda2",
   "metadata": {},
   "source": [
    "### QuestionID 82\n",
    "Describe the circumstances of the badly handled or unsupportive response."
   ]
  },
  {
   "cell_type": "markdown",
   "id": "d4455cd0",
   "metadata": {},
   "source": [
    "\"After disclosing my mental illness to an employer, the immediate response was for them to yell \"I don't want to hear any excuses!\" and dismiss the idea of any accommodations outright. They let me go shortly thereafter.\""
   ]
  },
  {
   "cell_type": "markdown",
   "id": "cfe6a55c",
   "metadata": {},
   "source": [
    "\"New employee with mental health issues that needed a support animal was let go because he no longer had the 14-year old note from his doctor for his service dog (dog was 14 years old) and his doctor was three states away.\""
   ]
  },
  {
   "cell_type": "markdown",
   "id": "3c33ad78",
   "metadata": {},
   "source": [
    "\"I watched someone with a panic attack become ostracized by co-workers until they quit.\t\""
   ]
  }
 ],
 "metadata": {
  "kernelspec": {
   "display_name": "Python 3 (ipykernel)",
   "language": "python",
   "name": "python3"
  },
  "language_info": {
   "codemirror_mode": {
    "name": "ipython",
    "version": 3
   },
   "file_extension": ".py",
   "mimetype": "text/x-python",
   "name": "python",
   "nbconvert_exporter": "python",
   "pygments_lexer": "ipython3",
   "version": "3.10.7"
  }
 },
 "nbformat": 4,
 "nbformat_minor": 5
}
