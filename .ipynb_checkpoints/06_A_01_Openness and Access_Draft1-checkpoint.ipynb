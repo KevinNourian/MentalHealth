{
 "cells": [
  {
   "cell_type": "markdown",
   "id": "67245561",
   "metadata": {},
   "source": [
    "# Openness and Access"
   ]
  },
  {
   "cell_type": "code",
   "execution_count": 18,
   "id": "e1e914e5",
   "metadata": {},
   "outputs": [],
   "source": [
    "import pandas as pd\n",
    "import numpy as np\n",
    "import sqlite3\n",
    "import seaborn as sns\n",
    "import matplotlib as mpl\n",
    "import matplotlib.pyplot as plt\n",
    "import warnings\n",
    "import datetime\n",
    "import matplotlib.dates as mdates\n",
    "\n",
    "from scipy import stats\n",
    "from matplotlib.dates import DateFormatter\n",
    "from IPython.display import display"
   ]
  },
  {
   "cell_type": "markdown",
   "id": "d1b3e303",
   "metadata": {},
   "source": [
    "# Load and Display Raw Data"
   ]
  },
  {
   "cell_type": "code",
   "execution_count": 19,
   "id": "1e7b07c8",
   "metadata": {},
   "outputs": [],
   "source": [
    "db_survey = sqlite3.connect(\n",
    "    \"C:\\\\Users\\\\Space\\\\Documents\\\\py\\\\Projects\\\\TuringCollege\\\\TechMentalHealth\\\\DataSet\\\\mental_health.sqlite\"\n",
    ")"
   ]
  },
  {
   "cell_type": "code",
   "execution_count": 20,
   "id": "ed95df31",
   "metadata": {},
   "outputs": [],
   "source": [
    "%matplotlib inline\n",
    "pd.options.display.max_rows = 300000\n",
    "pd.options.display.max_columns = 999\n",
    "pd.options.display.max_colwidth = 500"
   ]
  },
  {
   "cell_type": "markdown",
   "id": "ee59e7da",
   "metadata": {},
   "source": [
    "# Colors"
   ]
  },
  {
   "cell_type": "code",
   "execution_count": 21,
   "id": "f5875b09",
   "metadata": {},
   "outputs": [],
   "source": [
    "ord_color = \"bisque\"\n",
    "spec_lev1 = \"crimson\"\n",
    "spec_lev2 = \"orangered\"\n",
    "spec_lev3 = \"lightcoral\"\n",
    "male_color = \"royalblue\"\n",
    "female_color = \"pink\"\n",
    "graph_color1 = \"indianred\"\n",
    "graph_color2 = \"slategrey\""
   ]
  },
  {
   "cell_type": "markdown",
   "id": "d67adfa2",
   "metadata": {},
   "source": [
    "# Answers"
   ]
  },
  {
   "cell_type": "code",
   "execution_count": 22,
   "id": "2a53bfed",
   "metadata": {
    "scrolled": true
   },
   "outputs": [
    {
     "data": {
      "text/html": [
       "<div>\n",
       "<style scoped>\n",
       "    .dataframe tbody tr th:only-of-type {\n",
       "        vertical-align: middle;\n",
       "    }\n",
       "\n",
       "    .dataframe tbody tr th {\n",
       "        vertical-align: top;\n",
       "    }\n",
       "\n",
       "    .dataframe thead th {\n",
       "        text-align: right;\n",
       "    }\n",
       "</style>\n",
       "<table border=\"1\" class=\"dataframe\">\n",
       "  <thead>\n",
       "    <tr style=\"text-align: right;\">\n",
       "      <th></th>\n",
       "      <th>AnswerText</th>\n",
       "      <th>SurveyID</th>\n",
       "      <th>UserID</th>\n",
       "      <th>QuestionID</th>\n",
       "    </tr>\n",
       "  </thead>\n",
       "  <tbody>\n",
       "    <tr>\n",
       "      <th>0</th>\n",
       "      <td>37</td>\n",
       "      <td>2014</td>\n",
       "      <td>1</td>\n",
       "      <td>1</td>\n",
       "    </tr>\n",
       "    <tr>\n",
       "      <th>1</th>\n",
       "      <td>44</td>\n",
       "      <td>2014</td>\n",
       "      <td>2</td>\n",
       "      <td>1</td>\n",
       "    </tr>\n",
       "    <tr>\n",
       "      <th>2</th>\n",
       "      <td>32</td>\n",
       "      <td>2014</td>\n",
       "      <td>3</td>\n",
       "      <td>1</td>\n",
       "    </tr>\n",
       "    <tr>\n",
       "      <th>3</th>\n",
       "      <td>31</td>\n",
       "      <td>2014</td>\n",
       "      <td>4</td>\n",
       "      <td>1</td>\n",
       "    </tr>\n",
       "    <tr>\n",
       "      <th>4</th>\n",
       "      <td>31</td>\n",
       "      <td>2014</td>\n",
       "      <td>5</td>\n",
       "      <td>1</td>\n",
       "    </tr>\n",
       "  </tbody>\n",
       "</table>\n",
       "</div>"
      ],
      "text/plain": [
       "  AnswerText  SurveyID  UserID  QuestionID\n",
       "0         37      2014       1           1\n",
       "1         44      2014       2           1\n",
       "2         32      2014       3           1\n",
       "3         31      2014       4           1\n",
       "4         31      2014       5           1"
      ]
     },
     "execution_count": 22,
     "metadata": {},
     "output_type": "execute_result"
    }
   ],
   "source": [
    "df_answers = pd.read_sql_query(\"SELECT * FROM Answer\", db_survey)\n",
    "df_answers.head()"
   ]
  },
  {
   "cell_type": "markdown",
   "id": "96a5d0f3",
   "metadata": {},
   "source": [
    "# Tech Workers in Tech Companies"
   ]
  },
  {
   "cell_type": "code",
   "execution_count": 23,
   "id": "56f2966b",
   "metadata": {},
   "outputs": [],
   "source": [
    "df_Answer9 = pd.read_sql_query(\n",
    "    \"SELECT USERID FROM Answer where QuestionID = 9 AND AnswerText = '1'\",\n",
    "    db_survey\n",
    ")"
   ]
  },
  {
   "cell_type": "code",
   "execution_count": 24,
   "id": "e1195166",
   "metadata": {},
   "outputs": [
    {
     "data": {
      "text/plain": [
       "UserID    2888\n",
       "dtype: int64"
      ]
     },
     "execution_count": 24,
     "metadata": {},
     "output_type": "execute_result"
    }
   ],
   "source": [
    "df_Answer9.count()"
   ]
  },
  {
   "cell_type": "code",
   "execution_count": 25,
   "id": "ad7ef606",
   "metadata": {},
   "outputs": [],
   "source": [
    "df_Answer13 = pd.read_sql_query(\n",
    "    \"SELECT USERID FROM Answer where QuestionID = 13 AND AnswerText = '1'\",\n",
    "    db_survey\n",
    ")"
   ]
  },
  {
   "cell_type": "code",
   "execution_count": 26,
   "id": "0b28c6ae",
   "metadata": {},
   "outputs": [
    {
     "data": {
      "text/plain": [
       "UserID    1471\n",
       "dtype: int64"
      ]
     },
     "execution_count": 26,
     "metadata": {},
     "output_type": "execute_result"
    }
   ],
   "source": [
    "df_Answer13.count()"
   ]
  },
  {
   "cell_type": "code",
   "execution_count": 27,
   "id": "f1dedb9a",
   "metadata": {},
   "outputs": [],
   "source": [
    "df_TechinTech = pd.merge(df_Answer13, df_Answer9 , on='UserID', how='inner')"
   ]
  },
  {
   "cell_type": "code",
   "execution_count": 28,
   "id": "b87fb593",
   "metadata": {},
   "outputs": [
    {
     "data": {
      "text/html": [
       "<div>\n",
       "<style scoped>\n",
       "    .dataframe tbody tr th:only-of-type {\n",
       "        vertical-align: middle;\n",
       "    }\n",
       "\n",
       "    .dataframe tbody tr th {\n",
       "        vertical-align: top;\n",
       "    }\n",
       "\n",
       "    .dataframe thead th {\n",
       "        text-align: right;\n",
       "    }\n",
       "</style>\n",
       "<table border=\"1\" class=\"dataframe\">\n",
       "  <thead>\n",
       "    <tr style=\"text-align: right;\">\n",
       "      <th></th>\n",
       "      <th>UserID</th>\n",
       "    </tr>\n",
       "  </thead>\n",
       "  <tbody>\n",
       "    <tr>\n",
       "      <th>0</th>\n",
       "      <td>2694</td>\n",
       "    </tr>\n",
       "    <tr>\n",
       "      <th>1</th>\n",
       "      <td>2695</td>\n",
       "    </tr>\n",
       "    <tr>\n",
       "      <th>2</th>\n",
       "      <td>2696</td>\n",
       "    </tr>\n",
       "    <tr>\n",
       "      <th>3</th>\n",
       "      <td>2697</td>\n",
       "    </tr>\n",
       "    <tr>\n",
       "      <th>4</th>\n",
       "      <td>2700</td>\n",
       "    </tr>\n",
       "  </tbody>\n",
       "</table>\n",
       "</div>"
      ],
      "text/plain": [
       "   UserID\n",
       "0    2694\n",
       "1    2695\n",
       "2    2696\n",
       "3    2697\n",
       "4    2700"
      ]
     },
     "execution_count": 28,
     "metadata": {},
     "output_type": "execute_result"
    }
   ],
   "source": [
    "df_TechinTech.head()"
   ]
  },
  {
   "cell_type": "code",
   "execution_count": 29,
   "id": "5ea0df00",
   "metadata": {},
   "outputs": [
    {
     "data": {
      "text/plain": [
       "UserID    909\n",
       "dtype: int64"
      ]
     },
     "execution_count": 29,
     "metadata": {},
     "output_type": "execute_result"
    }
   ],
   "source": [
    "Total_TechinTech = df_TechinTech.count()\n",
    "Total_TechinTech"
   ]
  },
  {
   "cell_type": "markdown",
   "id": "b80d0251",
   "metadata": {},
   "source": [
    "# Open Tech Workers"
   ]
  },
  {
   "cell_type": "markdown",
   "id": "9d607708",
   "metadata": {},
   "source": [
    "# 12\n",
    "Would you bring up a mental health issue with a potential employer in an interview?"
   ]
  },
  {
   "cell_type": "code",
   "execution_count": 52,
   "id": "c9d33d3a",
   "metadata": {},
   "outputs": [],
   "source": [
    "df_Answer12 = pd.read_sql_query(\n",
    "    \"SELECT * FROM Answer where QuestionID = 12\",\n",
    "    db_survey\n",
    ")"
   ]
  },
  {
   "cell_type": "code",
   "execution_count": 53,
   "id": "44d3855f",
   "metadata": {},
   "outputs": [],
   "source": [
    "df_Answer12_Yes = pd.read_sql_query(\n",
    "    \"SELECT UserID FROM Answer where QuestionID = 12 AND AnswerText = 'Yes'\",\n",
    "    db_survey\n",
    ")"
   ]
  },
  {
   "cell_type": "code",
   "execution_count": 54,
   "id": "5f57b770",
   "metadata": {},
   "outputs": [],
   "source": [
    "df_Answer12TechinTech = pd.merge(df_TechinTech, df_Answer12_Yes, on='UserID', how='inner')"
   ]
  },
  {
   "cell_type": "code",
   "execution_count": 51,
   "id": "778905fb",
   "metadata": {},
   "outputs": [
    {
     "data": {
      "text/plain": [
       "UserID    51\n",
       "dtype: int64"
      ]
     },
     "execution_count": 51,
     "metadata": {},
     "output_type": "execute_result"
    }
   ],
   "source": [
    "df_Answer12TechinTech.count()"
   ]
  },
  {
   "cell_type": "markdown",
   "id": "506acf16",
   "metadata": {},
   "source": [
    "# 18\n",
    "Would you feel comfortable discussing a mental health issue with a coworker?  "
   ]
  },
  {
   "cell_type": "code",
   "execution_count": 45,
   "id": "a5758d72",
   "metadata": {},
   "outputs": [],
   "source": [
    "df_Answer18 = pd.read_sql_query(\n",
    "    \"SELECT * FROM Answer where QuestionID = 18\",\n",
    "    db_survey\n",
    ")"
   ]
  },
  {
   "cell_type": "code",
   "execution_count": 46,
   "id": "3638f8ea",
   "metadata": {},
   "outputs": [],
   "source": [
    "df_Answer18_Yes = pd.read_sql_query(\n",
    "    \"SELECT UserID FROM Answer where QuestionID = 18 AND AnswerText = 'Yes'\",\n",
    "    db_survey\n",
    ")"
   ]
  },
  {
   "cell_type": "code",
   "execution_count": 47,
   "id": "c1dd6b25",
   "metadata": {},
   "outputs": [],
   "source": [
    "df_Answer18TechinTech = pd.merge(df_TechinTech, df_Answer18_Yes, on='UserID', how='inner')"
   ]
  },
  {
   "cell_type": "code",
   "execution_count": 48,
   "id": "2c703fcd",
   "metadata": {},
   "outputs": [
    {
     "data": {
      "text/plain": [
       "UserID    312\n",
       "dtype: int64"
      ]
     },
     "execution_count": 48,
     "metadata": {},
     "output_type": "execute_result"
    }
   ],
   "source": [
    "df_Answer18TechinTech.count()"
   ]
  },
  {
   "cell_type": "markdown",
   "id": "7b804a3f",
   "metadata": {},
   "source": [
    "# 19\n",
    "Would you feel comfortable discussing a mental health issue with a direct supervisor?"
   ]
  },
  {
   "cell_type": "code",
   "execution_count": 59,
   "id": "84b87ac9",
   "metadata": {},
   "outputs": [],
   "source": [
    "df_Answer19 = pd.read_sql_query(\n",
    "    \"SELECT * FROM Answer where QuestionID = 19\",\n",
    "    db_survey\n",
    ")"
   ]
  },
  {
   "cell_type": "code",
   "execution_count": 60,
   "id": "9b05fbd6",
   "metadata": {},
   "outputs": [],
   "source": [
    "df_Answer19_Yes = pd.read_sql_query(\n",
    "    \"SELECT UserID FROM Answer where QuestionID = 19 AND AnswerText = 'Yes'\",\n",
    "    db_survey\n",
    ")"
   ]
  },
  {
   "cell_type": "code",
   "execution_count": 61,
   "id": "ce881efc",
   "metadata": {},
   "outputs": [],
   "source": [
    "df_Answer19TechinTech = pd.merge(df_TechinTech, df_Answer19_Yes, on='UserID', how='inner')"
   ]
  },
  {
   "cell_type": "code",
   "execution_count": 62,
   "id": "7a573eae",
   "metadata": {},
   "outputs": [
    {
     "data": {
      "text/plain": [
       "UserID    372\n",
       "dtype: int64"
      ]
     },
     "execution_count": 62,
     "metadata": {},
     "output_type": "execute_result"
    }
   ],
   "source": [
    "df_Answer19TechinTech.count()"
   ]
  },
  {
   "cell_type": "markdown",
   "id": "49f9417c",
   "metadata": {},
   "source": [
    "# Tech Workers who are Open"
   ]
  },
  {
   "cell_type": "code",
   "execution_count": 108,
   "id": "d2900f43",
   "metadata": {},
   "outputs": [],
   "source": [
    "df_open = pd.merge(\n",
    "    pd.merge(df_Answer12TechinTech, df_Answer18TechinTech, on=\"UserID\"),\n",
    "    df_Answer19TechinTech,\n",
    "    on=\"UserID\",\n",
    "    how=\"inner\",\n",
    ")"
   ]
  },
  {
   "cell_type": "code",
   "execution_count": 109,
   "id": "251e043c",
   "metadata": {},
   "outputs": [
    {
     "data": {
      "text/plain": [
       "UserID    28\n",
       "dtype: int64"
      ]
     },
     "execution_count": 109,
     "metadata": {},
     "output_type": "execute_result"
    }
   ],
   "source": [
    "df_open.count()"
   ]
  },
  {
   "cell_type": "markdown",
   "id": "fb08016c",
   "metadata": {},
   "source": [
    "# Access to Resources"
   ]
  },
  {
   "cell_type": "markdown",
   "id": "8e25773f",
   "metadata": {},
   "source": [
    "# 10 \n",
    "Does employer provide mental health benefits as part of healthcare coverage?"
   ]
  },
  {
   "cell_type": "code",
   "execution_count": 94,
   "id": "24796458",
   "metadata": {},
   "outputs": [],
   "source": [
    "df_Answer10 = pd.read_sql_query(\n",
    "    \"SELECT * FROM Answer where QuestionID = 10\",\n",
    "    db_survey\n",
    ")"
   ]
  },
  {
   "cell_type": "code",
   "execution_count": 95,
   "id": "36bc93c3",
   "metadata": {},
   "outputs": [],
   "source": [
    "df_Answer10_Yes = pd.read_sql_query(\n",
    "    \"SELECT UserID FROM Answer where QuestionID = 10 AND AnswerText = 'Yes'\",\n",
    "    db_survey\n",
    ")"
   ]
  },
  {
   "cell_type": "code",
   "execution_count": 96,
   "id": "c7b8beb2",
   "metadata": {},
   "outputs": [],
   "source": [
    "df_Answer10TechinTech = pd.merge(df_TechinTech, df_Answer10_Yes , on='UserID', how='inner')"
   ]
  },
  {
   "cell_type": "code",
   "execution_count": 97,
   "id": "b646cdea",
   "metadata": {},
   "outputs": [
    {
     "data": {
      "text/plain": [
       "UserID    498\n",
       "dtype: int64"
      ]
     },
     "execution_count": 97,
     "metadata": {},
     "output_type": "execute_result"
    }
   ],
   "source": [
    "df_Answer10TechinTech.count()"
   ]
  },
  {
   "cell_type": "markdown",
   "id": "d8973094",
   "metadata": {},
   "source": [
    "# 14 \n",
    "Do you know options for mental health care available under your employer provided health coverage?"
   ]
  },
  {
   "cell_type": "code",
   "execution_count": 90,
   "id": "10b06e19",
   "metadata": {},
   "outputs": [],
   "source": [
    "df_Answer14 = pd.read_sql_query(\n",
    "    \"SELECT * FROM Answer where QuestionID = 14\",\n",
    "    db_survey\n",
    ")"
   ]
  },
  {
   "cell_type": "code",
   "execution_count": 91,
   "id": "971bd1ed",
   "metadata": {},
   "outputs": [],
   "source": [
    "df_Answer14_Yes = pd.read_sql_query(\n",
    "    \"SELECT UserID FROM Answer where QuestionID = 14 AND AnswerText = 'Yes'\",\n",
    "    db_survey\n",
    ")"
   ]
  },
  {
   "cell_type": "code",
   "execution_count": 92,
   "id": "799b3005",
   "metadata": {},
   "outputs": [],
   "source": [
    "df_Answer14TechinTech = pd.merge(df_TechinTech, df_Answer14_Yes, on='UserID', how='inner')"
   ]
  },
  {
   "cell_type": "code",
   "execution_count": 93,
   "id": "94c89baa",
   "metadata": {},
   "outputs": [
    {
     "data": {
      "text/plain": [
       "UserID    378\n",
       "dtype: int64"
      ]
     },
     "execution_count": 93,
     "metadata": {},
     "output_type": "execute_result"
    }
   ],
   "source": [
    "df_Answer14TechinTech.count()"
   ]
  },
  {
   "cell_type": "markdown",
   "id": "a655cbe7",
   "metadata": {},
   "source": [
    "# 16 \n",
    "Does employer offer resources to learn more about mental health disorders and options for seeking help?"
   ]
  },
  {
   "cell_type": "code",
   "execution_count": 98,
   "id": "d4c29fd2",
   "metadata": {},
   "outputs": [],
   "source": [
    "df_Answer16 = pd.read_sql_query(\n",
    "    \"SELECT * FROM Answer where QuestionID = 16\",\n",
    "    db_survey\n",
    ")"
   ]
  },
  {
   "cell_type": "code",
   "execution_count": 99,
   "id": "24c77ce5",
   "metadata": {},
   "outputs": [],
   "source": [
    "df_Answer16_Yes = pd.read_sql_query(\n",
    "    \"SELECT UserID FROM Answer where QuestionID = 16 AND AnswerText = 'Yes'\",\n",
    "    db_survey\n",
    ")"
   ]
  },
  {
   "cell_type": "code",
   "execution_count": 100,
   "id": "bb21567d",
   "metadata": {},
   "outputs": [],
   "source": [
    "df_Answer16TechinTech = pd.merge(df_TechinTech, df_Answer16_Yes , on='UserID', how='inner')"
   ]
  },
  {
   "cell_type": "code",
   "execution_count": 101,
   "id": "e0b1f4b7",
   "metadata": {},
   "outputs": [
    {
     "data": {
      "text/plain": [
       "UserID    255\n",
       "dtype: int64"
      ]
     },
     "execution_count": 101,
     "metadata": {},
     "output_type": "execute_result"
    }
   ],
   "source": [
    "df_Answer16TechinTech.count()"
   ]
  },
  {
   "cell_type": "markdown",
   "id": "3b6f8cda",
   "metadata": {},
   "source": [
    "# Tech Workers with Access"
   ]
  },
  {
   "cell_type": "code",
   "execution_count": 102,
   "id": "a75e1692",
   "metadata": {},
   "outputs": [],
   "source": [
    "df_access = pd.merge(\n",
    "    pd.merge(df_Answer10TechinTech, df_Answer14TechinTech, on=\"UserID\"),\n",
    "    df_Answer16TechinTech,\n",
    "    on=\"UserID\",\n",
    "    how=\"inner\",\n",
    ")"
   ]
  },
  {
   "cell_type": "code",
   "execution_count": 104,
   "id": "0073c629",
   "metadata": {},
   "outputs": [
    {
     "data": {
      "text/plain": [
       "UserID    176\n",
       "dtype: int64"
      ]
     },
     "execution_count": 104,
     "metadata": {},
     "output_type": "execute_result"
    }
   ],
   "source": [
    "df_access.count()"
   ]
  },
  {
   "cell_type": "markdown",
   "id": "29af3e2a",
   "metadata": {},
   "source": [
    "# Open Tech Workers who Experience Good Access to Resources"
   ]
  },
  {
   "cell_type": "code",
   "execution_count": 110,
   "id": "ca86fda1",
   "metadata": {},
   "outputs": [],
   "source": [
    "df_openandaccess = pd.merge(df_open, df_access, on='UserID', how='inner')"
   ]
  },
  {
   "cell_type": "code",
   "execution_count": 111,
   "id": "09d6de1f",
   "metadata": {},
   "outputs": [
    {
     "data": {
      "text/plain": [
       "UserID    9\n",
       "dtype: int64"
      ]
     },
     "execution_count": 111,
     "metadata": {},
     "output_type": "execute_result"
    }
   ],
   "source": [
    "df_openandaccess.count()"
   ]
  }
 ],
 "metadata": {
  "kernelspec": {
   "display_name": "Python 3 (ipykernel)",
   "language": "python",
   "name": "python3"
  },
  "language_info": {
   "codemirror_mode": {
    "name": "ipython",
    "version": 3
   },
   "file_extension": ".py",
   "mimetype": "text/x-python",
   "name": "python",
   "nbconvert_exporter": "python",
   "pygments_lexer": "ipython3",
   "version": "3.10.7"
  }
 },
 "nbformat": 4,
 "nbformat_minor": 5
}
