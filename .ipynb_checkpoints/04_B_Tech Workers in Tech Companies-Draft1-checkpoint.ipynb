{
 "cells": [
  {
   "cell_type": "markdown",
   "id": "67245561",
   "metadata": {},
   "source": [
    "# Tech Workers in Tech Companies"
   ]
  },
  {
   "cell_type": "code",
   "execution_count": 1,
   "id": "e1e914e5",
   "metadata": {},
   "outputs": [],
   "source": [
    "import pandas as pd\n",
    "import numpy as np\n",
    "import sqlite3\n",
    "import seaborn as sns\n",
    "import matplotlib as mpl\n",
    "import matplotlib.pyplot as plt\n",
    "import warnings\n",
    "import datetime\n",
    "import matplotlib.dates as mdates\n",
    "\n",
    "from scipy import stats\n",
    "from matplotlib.dates import DateFormatter\n",
    "from IPython.display import display"
   ]
  },
  {
   "cell_type": "markdown",
   "id": "d1b3e303",
   "metadata": {},
   "source": [
    "# Load and Display Raw Data"
   ]
  },
  {
   "cell_type": "code",
   "execution_count": 2,
   "id": "1e7b07c8",
   "metadata": {},
   "outputs": [],
   "source": [
    "db_survey = sqlite3.connect(\n",
    "    \"C:\\\\Users\\\\Space\\\\Documents\\\\py\\\\Projects\\\\TuringCollege\\\\TechMentalHealth\\\\DataSet\\\\mental_health.sqlite\"\n",
    ")"
   ]
  },
  {
   "cell_type": "code",
   "execution_count": 3,
   "id": "ed95df31",
   "metadata": {},
   "outputs": [],
   "source": [
    "%matplotlib inline\n",
    "pd.options.display.max_rows = 300000\n",
    "pd.options.display.max_columns = 999\n",
    "pd.options.display.max_colwidth = 500"
   ]
  },
  {
   "cell_type": "markdown",
   "id": "d67adfa2",
   "metadata": {},
   "source": [
    "# Answers"
   ]
  },
  {
   "cell_type": "code",
   "execution_count": 4,
   "id": "2a53bfed",
   "metadata": {
    "scrolled": true
   },
   "outputs": [
    {
     "data": {
      "text/html": [
       "<div>\n",
       "<style scoped>\n",
       "    .dataframe tbody tr th:only-of-type {\n",
       "        vertical-align: middle;\n",
       "    }\n",
       "\n",
       "    .dataframe tbody tr th {\n",
       "        vertical-align: top;\n",
       "    }\n",
       "\n",
       "    .dataframe thead th {\n",
       "        text-align: right;\n",
       "    }\n",
       "</style>\n",
       "<table border=\"1\" class=\"dataframe\">\n",
       "  <thead>\n",
       "    <tr style=\"text-align: right;\">\n",
       "      <th></th>\n",
       "      <th>AnswerText</th>\n",
       "      <th>SurveyID</th>\n",
       "      <th>UserID</th>\n",
       "      <th>QuestionID</th>\n",
       "    </tr>\n",
       "  </thead>\n",
       "  <tbody>\n",
       "    <tr>\n",
       "      <th>0</th>\n",
       "      <td>37</td>\n",
       "      <td>2014</td>\n",
       "      <td>1</td>\n",
       "      <td>1</td>\n",
       "    </tr>\n",
       "    <tr>\n",
       "      <th>1</th>\n",
       "      <td>44</td>\n",
       "      <td>2014</td>\n",
       "      <td>2</td>\n",
       "      <td>1</td>\n",
       "    </tr>\n",
       "    <tr>\n",
       "      <th>2</th>\n",
       "      <td>32</td>\n",
       "      <td>2014</td>\n",
       "      <td>3</td>\n",
       "      <td>1</td>\n",
       "    </tr>\n",
       "    <tr>\n",
       "      <th>3</th>\n",
       "      <td>31</td>\n",
       "      <td>2014</td>\n",
       "      <td>4</td>\n",
       "      <td>1</td>\n",
       "    </tr>\n",
       "    <tr>\n",
       "      <th>4</th>\n",
       "      <td>31</td>\n",
       "      <td>2014</td>\n",
       "      <td>5</td>\n",
       "      <td>1</td>\n",
       "    </tr>\n",
       "  </tbody>\n",
       "</table>\n",
       "</div>"
      ],
      "text/plain": [
       "  AnswerText  SurveyID  UserID  QuestionID\n",
       "0         37      2014       1           1\n",
       "1         44      2014       2           1\n",
       "2         32      2014       3           1\n",
       "3         31      2014       4           1\n",
       "4         31      2014       5           1"
      ]
     },
     "execution_count": 4,
     "metadata": {},
     "output_type": "execute_result"
    }
   ],
   "source": [
    "df_answers = pd.read_sql_query(\"SELECT * FROM Answer\", db_survey)\n",
    "df_answers.head()"
   ]
  },
  {
   "cell_type": "markdown",
   "id": "96a5d0f3",
   "metadata": {},
   "source": [
    "# Tech Workers in Tech Companies"
   ]
  },
  {
   "cell_type": "code",
   "execution_count": 5,
   "id": "86bd8ce6",
   "metadata": {},
   "outputs": [],
   "source": [
    "df_Answer9 = pd.read_sql_query(\n",
    "    \"SELECT UserID FROM Answer where QuestionID = 9 AND AnswerText = '1'\",\n",
    "    db_survey\n",
    ")"
   ]
  },
  {
   "cell_type": "code",
   "execution_count": 6,
   "id": "ef175fb4",
   "metadata": {},
   "outputs": [],
   "source": [
    "df_Answer13 = pd.read_sql_query(\n",
    "    \"SELECT UserID FROM Answer where QuestionID = 13 AND AnswerText = '1'\",\n",
    "    db_survey\n",
    ")"
   ]
  },
  {
   "cell_type": "code",
   "execution_count": 7,
   "id": "41651c6b",
   "metadata": {},
   "outputs": [
    {
     "data": {
      "text/plain": [
       "UserID    909\n",
       "dtype: int64"
      ]
     },
     "execution_count": 7,
     "metadata": {},
     "output_type": "execute_result"
    }
   ],
   "source": [
    "df_inner = pd.merge(df_Answer9, df_Answer13, on='UserID', how='inner')\n",
    "df_inner.count()"
   ]
  },
  {
   "cell_type": "markdown",
   "id": "e18a4909",
   "metadata": {},
   "source": [
    "# Tech Workers in Tech Companies with Current Mental Disorders"
   ]
  },
  {
   "cell_type": "code",
   "execution_count": 8,
   "id": "ccccd0ce",
   "metadata": {},
   "outputs": [],
   "source": [
    "df_Answer9 = pd.read_sql_query(\n",
    "    \"SELECT UserID FROM Answer where QuestionID = 9 AND AnswerText = '1'\",\n",
    "    db_survey\n",
    ")"
   ]
  },
  {
   "cell_type": "code",
   "execution_count": 9,
   "id": "3bff594f",
   "metadata": {},
   "outputs": [],
   "source": [
    "df_Answer13 = pd.read_sql_query(\n",
    "    \"SELECT UserID FROM Answer where QuestionID = 13 AND AnswerText = '1'\",\n",
    "    db_survey\n",
    ")"
   ]
  },
  {
   "cell_type": "code",
   "execution_count": 10,
   "id": "5bc67b23",
   "metadata": {},
   "outputs": [],
   "source": [
    "df_Answer33 = pd.read_sql_query(\n",
    "    \"SELECT UserID FROM Answer where QuestionID = 33 AND AnswerText = 'Yes'\",\n",
    "    db_survey\n",
    ")"
   ]
  },
  {
   "cell_type": "code",
   "execution_count": 11,
   "id": "cf25ee53",
   "metadata": {},
   "outputs": [
    {
     "data": {
      "text/plain": [
       "UserID    379\n",
       "dtype: int64"
      ]
     },
     "execution_count": 11,
     "metadata": {},
     "output_type": "execute_result"
    }
   ],
   "source": [
    "df_inner = df_Answer9.merge(df_Answer13,on='UserID').merge(df_Answer33,on='UserID')\n",
    "df_inner.count()"
   ]
  },
  {
   "cell_type": "markdown",
   "id": "7836f5fb",
   "metadata": {},
   "source": [
    "# Tech Workers in Tech Companies with Past Mental Disorders"
   ]
  },
  {
   "cell_type": "code",
   "execution_count": 17,
   "id": "b8842e75",
   "metadata": {},
   "outputs": [],
   "source": [
    "df_Answer9 = pd.read_sql_query(\n",
    "    \"SELECT UserID FROM Answer where QuestionID = 9 AND AnswerText = '1'\",\n",
    "    db_survey\n",
    ")"
   ]
  },
  {
   "cell_type": "code",
   "execution_count": 18,
   "id": "0230561f",
   "metadata": {},
   "outputs": [],
   "source": [
    "df_Answer13 = pd.read_sql_query(\n",
    "    \"SELECT UserID FROM Answer where QuestionID = 13 AND AnswerText = '1'\",\n",
    "    db_survey\n",
    ")"
   ]
  },
  {
   "cell_type": "code",
   "execution_count": 19,
   "id": "156b4101",
   "metadata": {},
   "outputs": [],
   "source": [
    "df_Answer34 = pd.read_sql_query(\n",
    "    \"SELECT UserID FROM Answer where QuestionID = 34 AND AnswerText = 'Yes'\",\n",
    "    db_survey\n",
    ")"
   ]
  },
  {
   "cell_type": "code",
   "execution_count": 21,
   "id": "cc85dfe2",
   "metadata": {},
   "outputs": [
    {
     "data": {
      "text/plain": [
       "UserID    371\n",
       "dtype: int64"
      ]
     },
     "execution_count": 21,
     "metadata": {},
     "output_type": "execute_result"
    }
   ],
   "source": [
    "df_inner = df_Answer9.merge(df_Answer13,on='UserID').merge(df_Answer34,on='UserID')\n",
    "df_inner.count()"
   ]
  },
  {
   "cell_type": "code",
   "execution_count": null,
   "id": "fc167ae8",
   "metadata": {},
   "outputs": [],
   "source": []
  },
  {
   "cell_type": "markdown",
   "id": "ba854579",
   "metadata": {},
   "source": [
    "# Tech Workers in Tech Companies with Identified Mental Disorders"
   ]
  },
  {
   "cell_type": "code",
   "execution_count": 22,
   "id": "922e430a",
   "metadata": {},
   "outputs": [],
   "source": [
    "df_Answer9 = pd.read_sql_query(\n",
    "    \"SELECT UserID FROM Answer where QuestionID = 9 AND AnswerText = '1'\",\n",
    "    db_survey\n",
    ")"
   ]
  },
  {
   "cell_type": "code",
   "execution_count": 23,
   "id": "6a09dc60",
   "metadata": {},
   "outputs": [],
   "source": [
    "df_Answer13 = pd.read_sql_query(\n",
    "    \"SELECT UserID FROM Answer where QuestionID = 13 AND AnswerText = '1'\",\n",
    "    db_survey\n",
    ")"
   ]
  },
  {
   "cell_type": "code",
   "execution_count": 24,
   "id": "96d6328c",
   "metadata": {},
   "outputs": [],
   "source": [
    "df_Answer78 = pd.read_sql_query(\n",
    "    \"SELECT UserID FROM Answer where QuestionID = 78 AND AnswerText = 'Yes'\",\n",
    "    db_survey\n",
    ")"
   ]
  },
  {
   "cell_type": "code",
   "execution_count": 25,
   "id": "78790f23",
   "metadata": {},
   "outputs": [
    {
     "data": {
      "text/plain": [
       "UserID    0\n",
       "dtype: int64"
      ]
     },
     "execution_count": 25,
     "metadata": {},
     "output_type": "execute_result"
    }
   ],
   "source": [
    "df_inner = df_Answer9.merge(df_Answer13,on='UserID').merge(df_Answer78,on='UserID')\n",
    "df_inner.count()"
   ]
  },
  {
   "cell_type": "markdown",
   "id": "1b0d305d",
   "metadata": {},
   "source": [
    "# Tech Workers in Tech Companies who Work Remotely"
   ]
  },
  {
   "cell_type": "code",
   "execution_count": 78,
   "id": "4475ce6f",
   "metadata": {},
   "outputs": [
    {
     "data": {
      "text/html": [
       "<div>\n",
       "<style scoped>\n",
       "    .dataframe tbody tr th:only-of-type {\n",
       "        vertical-align: middle;\n",
       "    }\n",
       "\n",
       "    .dataframe tbody tr th {\n",
       "        vertical-align: top;\n",
       "    }\n",
       "\n",
       "    .dataframe thead th {\n",
       "        text-align: right;\n",
       "    }\n",
       "</style>\n",
       "<table border=\"1\" class=\"dataframe\">\n",
       "  <thead>\n",
       "    <tr style=\"text-align: right;\">\n",
       "      <th></th>\n",
       "      <th>AnswerText</th>\n",
       "    </tr>\n",
       "  </thead>\n",
       "  <tbody>\n",
       "    <tr>\n",
       "      <th>0</th>\n",
       "      <td>1</td>\n",
       "    </tr>\n",
       "    <tr>\n",
       "      <th>1</th>\n",
       "      <td>0</td>\n",
       "    </tr>\n",
       "    <tr>\n",
       "      <th>2</th>\n",
       "      <td>-1</td>\n",
       "    </tr>\n",
       "  </tbody>\n",
       "</table>\n",
       "</div>"
      ],
      "text/plain": [
       "  AnswerText\n",
       "0          1\n",
       "1          0\n",
       "2         -1"
      ]
     },
     "execution_count": 78,
     "metadata": {},
     "output_type": "execute_result"
    }
   ],
   "source": [
    "df_Answer9 = pd.read_sql_query(\n",
    "    \"SELECT DISTINCT AnswerText FROM Answer where QuestionID = 9\",\n",
    "    db_survey\n",
    ")\n",
    "df_Answer9"
   ]
  },
  {
   "cell_type": "code",
   "execution_count": 79,
   "id": "bcfbb0a5",
   "metadata": {},
   "outputs": [
    {
     "data": {
      "text/html": [
       "<div>\n",
       "<style scoped>\n",
       "    .dataframe tbody tr th:only-of-type {\n",
       "        vertical-align: middle;\n",
       "    }\n",
       "\n",
       "    .dataframe tbody tr th {\n",
       "        vertical-align: top;\n",
       "    }\n",
       "\n",
       "    .dataframe thead th {\n",
       "        text-align: right;\n",
       "    }\n",
       "</style>\n",
       "<table border=\"1\" class=\"dataframe\">\n",
       "  <thead>\n",
       "    <tr style=\"text-align: right;\">\n",
       "      <th></th>\n",
       "      <th>AnswerText</th>\n",
       "    </tr>\n",
       "  </thead>\n",
       "  <tbody>\n",
       "    <tr>\n",
       "      <th>0</th>\n",
       "      <td>1</td>\n",
       "    </tr>\n",
       "    <tr>\n",
       "      <th>1</th>\n",
       "      <td>0</td>\n",
       "    </tr>\n",
       "    <tr>\n",
       "      <th>2</th>\n",
       "      <td>-1</td>\n",
       "    </tr>\n",
       "  </tbody>\n",
       "</table>\n",
       "</div>"
      ],
      "text/plain": [
       "  AnswerText\n",
       "0          1\n",
       "1          0\n",
       "2         -1"
      ]
     },
     "execution_count": 79,
     "metadata": {},
     "output_type": "execute_result"
    }
   ],
   "source": [
    "df_Answer13 = pd.read_sql_query(\n",
    "    \"SELECT DISTINCT AnswerText FROM Answer where QuestionID = 13\",\n",
    "    db_survey\n",
    ")\n",
    "df_Answer9"
   ]
  },
  {
   "cell_type": "code",
   "execution_count": 83,
   "id": "be21690b",
   "metadata": {},
   "outputs": [
    {
     "data": {
      "text/html": [
       "<div>\n",
       "<style scoped>\n",
       "    .dataframe tbody tr th:only-of-type {\n",
       "        vertical-align: middle;\n",
       "    }\n",
       "\n",
       "    .dataframe tbody tr th {\n",
       "        vertical-align: top;\n",
       "    }\n",
       "\n",
       "    .dataframe thead th {\n",
       "        text-align: right;\n",
       "    }\n",
       "</style>\n",
       "<table border=\"1\" class=\"dataframe\">\n",
       "  <thead>\n",
       "    <tr style=\"text-align: right;\">\n",
       "      <th></th>\n",
       "      <th>AnswerText</th>\n",
       "    </tr>\n",
       "  </thead>\n",
       "  <tbody>\n",
       "    <tr>\n",
       "      <th>0</th>\n",
       "      <td>Sometimes</td>\n",
       "    </tr>\n",
       "    <tr>\n",
       "      <th>1</th>\n",
       "      <td>Never</td>\n",
       "    </tr>\n",
       "    <tr>\n",
       "      <th>2</th>\n",
       "      <td>Always</td>\n",
       "    </tr>\n",
       "  </tbody>\n",
       "</table>\n",
       "</div>"
      ],
      "text/plain": [
       "  AnswerText\n",
       "0  Sometimes\n",
       "1      Never\n",
       "2     Always"
      ]
     },
     "execution_count": 83,
     "metadata": {},
     "output_type": "execute_result"
    }
   ],
   "source": [
    "df_Answer118 = pd.read_sql_query(\n",
    "    \"SELECT DISTINCT AnswerText FROM Answer where QuestionID = 118\",\n",
    "    db_survey\n",
    ")\n",
    "df_Answer118"
   ]
  },
  {
   "cell_type": "code",
   "execution_count": 75,
   "id": "00e116f0",
   "metadata": {},
   "outputs": [
    {
     "data": {
      "text/plain": [
       "UserID    0\n",
       "dtype: int64"
      ]
     },
     "execution_count": 75,
     "metadata": {},
     "output_type": "execute_result"
    }
   ],
   "source": [
    "df_inner = df_Answer9.merge(df_Answer13,on='UserID').merge(df_Answer118,on='UserID')\n",
    "df_inner.count()"
   ]
  }
 ],
 "metadata": {
  "kernelspec": {
   "display_name": "Python 3 (ipykernel)",
   "language": "python",
   "name": "python3"
  },
  "language_info": {
   "codemirror_mode": {
    "name": "ipython",
    "version": 3
   },
   "file_extension": ".py",
   "mimetype": "text/x-python",
   "name": "python",
   "nbconvert_exporter": "python",
   "pygments_lexer": "ipython3",
   "version": "3.10.7"
  }
 },
 "nbformat": 4,
 "nbformat_minor": 5
}
