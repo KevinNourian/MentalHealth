{
 "cells": [
  {
   "cell_type": "markdown",
   "id": "67245561",
   "metadata": {},
   "source": [
    "# Openness and Attitude"
   ]
  },
  {
   "cell_type": "code",
   "execution_count": 34,
   "id": "e1e914e5",
   "metadata": {},
   "outputs": [],
   "source": [
    "import pandas as pd\n",
    "import numpy as np\n",
    "import sqlite3\n",
    "import seaborn as sns\n",
    "import matplotlib as mpl\n",
    "import matplotlib.pyplot as plt\n",
    "import warnings\n",
    "import datetime\n",
    "import matplotlib.dates as mdates\n",
    "\n",
    "from scipy import stats\n",
    "from matplotlib.dates import DateFormatter\n",
    "from IPython.display import display"
   ]
  },
  {
   "cell_type": "markdown",
   "id": "d1b3e303",
   "metadata": {},
   "source": [
    "# Load and Display Raw Data"
   ]
  },
  {
   "cell_type": "code",
   "execution_count": 35,
   "id": "1e7b07c8",
   "metadata": {},
   "outputs": [],
   "source": [
    "db_survey = sqlite3.connect(\n",
    "    \"C:\\\\Users\\\\Space\\\\Documents\\\\py\\\\Projects\\\\TuringCollege\\\\TechMentalHealth\\\\DataSet\\\\mental_health.sqlite\"\n",
    ")"
   ]
  },
  {
   "cell_type": "code",
   "execution_count": 36,
   "id": "ed95df31",
   "metadata": {},
   "outputs": [],
   "source": [
    "%matplotlib inline\n",
    "pd.options.display.max_rows = 300000\n",
    "pd.options.display.max_columns = 999\n",
    "pd.options.display.max_colwidth = 500"
   ]
  },
  {
   "cell_type": "markdown",
   "id": "ee59e7da",
   "metadata": {},
   "source": [
    "# Colors"
   ]
  },
  {
   "cell_type": "code",
   "execution_count": 37,
   "id": "f5875b09",
   "metadata": {},
   "outputs": [],
   "source": [
    "ord_color = \"bisque\"\n",
    "spec_lev1 = \"crimson\"\n",
    "spec_lev2 = \"orangered\"\n",
    "spec_lev3 = \"lightcoral\"\n",
    "male_color = \"royalblue\"\n",
    "female_color = \"pink\"\n",
    "graph_color1 = \"indianred\"\n",
    "graph_color2 = \"slategrey\""
   ]
  },
  {
   "cell_type": "markdown",
   "id": "d67adfa2",
   "metadata": {},
   "source": [
    "# Answers"
   ]
  },
  {
   "cell_type": "code",
   "execution_count": 38,
   "id": "2a53bfed",
   "metadata": {
    "scrolled": true
   },
   "outputs": [
    {
     "data": {
      "text/html": [
       "<div>\n",
       "<style scoped>\n",
       "    .dataframe tbody tr th:only-of-type {\n",
       "        vertical-align: middle;\n",
       "    }\n",
       "\n",
       "    .dataframe tbody tr th {\n",
       "        vertical-align: top;\n",
       "    }\n",
       "\n",
       "    .dataframe thead th {\n",
       "        text-align: right;\n",
       "    }\n",
       "</style>\n",
       "<table border=\"1\" class=\"dataframe\">\n",
       "  <thead>\n",
       "    <tr style=\"text-align: right;\">\n",
       "      <th></th>\n",
       "      <th>AnswerText</th>\n",
       "      <th>SurveyID</th>\n",
       "      <th>UserID</th>\n",
       "      <th>QuestionID</th>\n",
       "    </tr>\n",
       "  </thead>\n",
       "  <tbody>\n",
       "    <tr>\n",
       "      <th>0</th>\n",
       "      <td>37</td>\n",
       "      <td>2014</td>\n",
       "      <td>1</td>\n",
       "      <td>1</td>\n",
       "    </tr>\n",
       "    <tr>\n",
       "      <th>1</th>\n",
       "      <td>44</td>\n",
       "      <td>2014</td>\n",
       "      <td>2</td>\n",
       "      <td>1</td>\n",
       "    </tr>\n",
       "    <tr>\n",
       "      <th>2</th>\n",
       "      <td>32</td>\n",
       "      <td>2014</td>\n",
       "      <td>3</td>\n",
       "      <td>1</td>\n",
       "    </tr>\n",
       "    <tr>\n",
       "      <th>3</th>\n",
       "      <td>31</td>\n",
       "      <td>2014</td>\n",
       "      <td>4</td>\n",
       "      <td>1</td>\n",
       "    </tr>\n",
       "    <tr>\n",
       "      <th>4</th>\n",
       "      <td>31</td>\n",
       "      <td>2014</td>\n",
       "      <td>5</td>\n",
       "      <td>1</td>\n",
       "    </tr>\n",
       "  </tbody>\n",
       "</table>\n",
       "</div>"
      ],
      "text/plain": [
       "  AnswerText  SurveyID  UserID  QuestionID\n",
       "0         37      2014       1           1\n",
       "1         44      2014       2           1\n",
       "2         32      2014       3           1\n",
       "3         31      2014       4           1\n",
       "4         31      2014       5           1"
      ]
     },
     "execution_count": 38,
     "metadata": {},
     "output_type": "execute_result"
    }
   ],
   "source": [
    "df_answers = pd.read_sql_query(\"SELECT * FROM Answer\", db_survey)\n",
    "df_answers.head()"
   ]
  },
  {
   "cell_type": "markdown",
   "id": "96a5d0f3",
   "metadata": {},
   "source": [
    "# Tech Workers in Tech Companies"
   ]
  },
  {
   "cell_type": "code",
   "execution_count": 39,
   "id": "56f2966b",
   "metadata": {},
   "outputs": [],
   "source": [
    "df_Answer9 = pd.read_sql_query(\n",
    "    \"SELECT USERID FROM Answer where QuestionID = 9 AND AnswerText = '1'\",\n",
    "    db_survey\n",
    ")"
   ]
  },
  {
   "cell_type": "code",
   "execution_count": 40,
   "id": "e1195166",
   "metadata": {},
   "outputs": [
    {
     "data": {
      "text/plain": [
       "UserID    2888\n",
       "dtype: int64"
      ]
     },
     "execution_count": 40,
     "metadata": {},
     "output_type": "execute_result"
    }
   ],
   "source": [
    "df_Answer9.count()"
   ]
  },
  {
   "cell_type": "code",
   "execution_count": 41,
   "id": "ad7ef606",
   "metadata": {},
   "outputs": [],
   "source": [
    "df_Answer13 = pd.read_sql_query(\n",
    "    \"SELECT USERID FROM Answer where QuestionID = 13 AND AnswerText = '1'\",\n",
    "    db_survey\n",
    ")"
   ]
  },
  {
   "cell_type": "code",
   "execution_count": 42,
   "id": "0b28c6ae",
   "metadata": {},
   "outputs": [
    {
     "data": {
      "text/plain": [
       "UserID    1471\n",
       "dtype: int64"
      ]
     },
     "execution_count": 42,
     "metadata": {},
     "output_type": "execute_result"
    }
   ],
   "source": [
    "df_Answer13.count()"
   ]
  },
  {
   "cell_type": "code",
   "execution_count": 43,
   "id": "f1dedb9a",
   "metadata": {},
   "outputs": [],
   "source": [
    "df_TechinTech = pd.merge(df_Answer13, df_Answer9 , on='UserID', how='inner')"
   ]
  },
  {
   "cell_type": "code",
   "execution_count": 44,
   "id": "b87fb593",
   "metadata": {},
   "outputs": [
    {
     "data": {
      "text/html": [
       "<div>\n",
       "<style scoped>\n",
       "    .dataframe tbody tr th:only-of-type {\n",
       "        vertical-align: middle;\n",
       "    }\n",
       "\n",
       "    .dataframe tbody tr th {\n",
       "        vertical-align: top;\n",
       "    }\n",
       "\n",
       "    .dataframe thead th {\n",
       "        text-align: right;\n",
       "    }\n",
       "</style>\n",
       "<table border=\"1\" class=\"dataframe\">\n",
       "  <thead>\n",
       "    <tr style=\"text-align: right;\">\n",
       "      <th></th>\n",
       "      <th>UserID</th>\n",
       "    </tr>\n",
       "  </thead>\n",
       "  <tbody>\n",
       "    <tr>\n",
       "      <th>0</th>\n",
       "      <td>2694</td>\n",
       "    </tr>\n",
       "    <tr>\n",
       "      <th>1</th>\n",
       "      <td>2695</td>\n",
       "    </tr>\n",
       "    <tr>\n",
       "      <th>2</th>\n",
       "      <td>2696</td>\n",
       "    </tr>\n",
       "    <tr>\n",
       "      <th>3</th>\n",
       "      <td>2697</td>\n",
       "    </tr>\n",
       "    <tr>\n",
       "      <th>4</th>\n",
       "      <td>2700</td>\n",
       "    </tr>\n",
       "  </tbody>\n",
       "</table>\n",
       "</div>"
      ],
      "text/plain": [
       "   UserID\n",
       "0    2694\n",
       "1    2695\n",
       "2    2696\n",
       "3    2697\n",
       "4    2700"
      ]
     },
     "execution_count": 44,
     "metadata": {},
     "output_type": "execute_result"
    }
   ],
   "source": [
    "df_TechinTech.head()"
   ]
  },
  {
   "cell_type": "code",
   "execution_count": 45,
   "id": "5ea0df00",
   "metadata": {},
   "outputs": [
    {
     "data": {
      "text/plain": [
       "UserID    909\n",
       "dtype: int64"
      ]
     },
     "execution_count": 45,
     "metadata": {},
     "output_type": "execute_result"
    }
   ],
   "source": [
    "Total_TechinTech = df_TechinTech.count()\n",
    "Total_TechinTech"
   ]
  },
  {
   "cell_type": "markdown",
   "id": "a387c5b0",
   "metadata": {},
   "source": [
    "# Open Tech Workers"
   ]
  },
  {
   "cell_type": "markdown",
   "id": "9d607708",
   "metadata": {},
   "source": [
    "# 12\n",
    "Would you bring up a mental health issue with a potential employer in an interview?"
   ]
  },
  {
   "cell_type": "code",
   "execution_count": 46,
   "id": "c9d33d3a",
   "metadata": {},
   "outputs": [],
   "source": [
    "df_Answer12 = pd.read_sql_query(\n",
    "    \"SELECT * FROM Answer where QuestionID = 12\",\n",
    "    db_survey\n",
    ")"
   ]
  },
  {
   "cell_type": "code",
   "execution_count": 47,
   "id": "44d3855f",
   "metadata": {},
   "outputs": [],
   "source": [
    "df_Answer12_Yes = pd.read_sql_query(\n",
    "    \"SELECT UserID FROM Answer where QuestionID = 12 AND AnswerText = 'Yes'\",\n",
    "    db_survey\n",
    ")"
   ]
  },
  {
   "cell_type": "code",
   "execution_count": 48,
   "id": "5f57b770",
   "metadata": {},
   "outputs": [],
   "source": [
    "df_Answer12TechinTech = pd.merge(df_TechinTech, df_Answer12_Yes, on='UserID', how='inner')"
   ]
  },
  {
   "cell_type": "code",
   "execution_count": 49,
   "id": "778905fb",
   "metadata": {},
   "outputs": [
    {
     "data": {
      "text/plain": [
       "UserID    51\n",
       "dtype: int64"
      ]
     },
     "execution_count": 49,
     "metadata": {},
     "output_type": "execute_result"
    }
   ],
   "source": [
    "df_Answer12TechinTech.count()"
   ]
  },
  {
   "cell_type": "markdown",
   "id": "506acf16",
   "metadata": {},
   "source": [
    "# 18\n",
    "Would you feel comfortable discussing a mental health issue with a coworker?  "
   ]
  },
  {
   "cell_type": "code",
   "execution_count": 50,
   "id": "a5758d72",
   "metadata": {},
   "outputs": [],
   "source": [
    "df_Answer18 = pd.read_sql_query(\n",
    "    \"SELECT * FROM Answer where QuestionID = 18\",\n",
    "    db_survey\n",
    ")"
   ]
  },
  {
   "cell_type": "code",
   "execution_count": 51,
   "id": "3638f8ea",
   "metadata": {},
   "outputs": [],
   "source": [
    "df_Answer18_Yes = pd.read_sql_query(\n",
    "    \"SELECT UserID FROM Answer where QuestionID = 18 AND AnswerText = 'Yes'\",\n",
    "    db_survey\n",
    ")"
   ]
  },
  {
   "cell_type": "code",
   "execution_count": 52,
   "id": "c1dd6b25",
   "metadata": {},
   "outputs": [],
   "source": [
    "df_Answer18TechinTech = pd.merge(df_TechinTech, df_Answer18_Yes, on='UserID', how='inner')"
   ]
  },
  {
   "cell_type": "code",
   "execution_count": 53,
   "id": "2c703fcd",
   "metadata": {},
   "outputs": [
    {
     "data": {
      "text/plain": [
       "UserID    312\n",
       "dtype: int64"
      ]
     },
     "execution_count": 53,
     "metadata": {},
     "output_type": "execute_result"
    }
   ],
   "source": [
    "df_Answer18TechinTech.count()"
   ]
  },
  {
   "cell_type": "markdown",
   "id": "7b804a3f",
   "metadata": {},
   "source": [
    "# 19\n",
    "Would you feel comfortable discussing a mental health issue with a direct supervisor?"
   ]
  },
  {
   "cell_type": "code",
   "execution_count": 54,
   "id": "84b87ac9",
   "metadata": {},
   "outputs": [],
   "source": [
    "df_Answer19 = pd.read_sql_query(\n",
    "    \"SELECT * FROM Answer where QuestionID = 19\",\n",
    "    db_survey\n",
    ")"
   ]
  },
  {
   "cell_type": "code",
   "execution_count": 55,
   "id": "9b05fbd6",
   "metadata": {},
   "outputs": [],
   "source": [
    "df_Answer19_Yes = pd.read_sql_query(\n",
    "    \"SELECT UserID FROM Answer where QuestionID = 19 AND AnswerText = 'Yes'\",\n",
    "    db_survey\n",
    ")"
   ]
  },
  {
   "cell_type": "code",
   "execution_count": 56,
   "id": "ce881efc",
   "metadata": {},
   "outputs": [],
   "source": [
    "df_Answer19TechinTech = pd.merge(df_TechinTech, df_Answer19_Yes, on='UserID', how='inner')"
   ]
  },
  {
   "cell_type": "code",
   "execution_count": 57,
   "id": "7a573eae",
   "metadata": {},
   "outputs": [
    {
     "data": {
      "text/plain": [
       "UserID    372\n",
       "dtype: int64"
      ]
     },
     "execution_count": 57,
     "metadata": {},
     "output_type": "execute_result"
    }
   ],
   "source": [
    "df_Answer19TechinTech.count()"
   ]
  },
  {
   "cell_type": "code",
   "execution_count": 58,
   "id": "d815649a",
   "metadata": {},
   "outputs": [],
   "source": [
    "df_open = pd.merge(\n",
    "    pd.merge(df_Answer12TechinTech, df_Answer18TechinTech, on=\"UserID\"),\n",
    "    df_Answer19TechinTech,\n",
    "    on=\"UserID\",\n",
    "    how=\"inner\",\n",
    ")"
   ]
  },
  {
   "cell_type": "code",
   "execution_count": 59,
   "id": "e7294b56",
   "metadata": {},
   "outputs": [
    {
     "data": {
      "text/plain": [
       "UserID    28\n",
       "dtype: int64"
      ]
     },
     "execution_count": 59,
     "metadata": {},
     "output_type": "execute_result"
    }
   ],
   "source": [
    "df_open.count()"
   ]
  },
  {
   "cell_type": "markdown",
   "id": "a93c7509",
   "metadata": {},
   "source": [
    "# Attitude"
   ]
  },
  {
   "cell_type": "markdown",
   "id": "9caa281e",
   "metadata": {},
   "source": [
    "# 11 \n",
    "Is your anonimity protected if you choose to take advantage of mental health or substance abuse treatment resources provided by your employer?"
   ]
  },
  {
   "cell_type": "code",
   "execution_count": 60,
   "id": "26e4f4f2",
   "metadata": {},
   "outputs": [],
   "source": [
    "df_Answer11 = pd.read_sql_query(\n",
    "    \"SELECT * FROM Answer where QuestionID = 11\",\n",
    "    db_survey\n",
    ")"
   ]
  },
  {
   "cell_type": "code",
   "execution_count": 61,
   "id": "1db5c9ce",
   "metadata": {},
   "outputs": [],
   "source": [
    "df_Answer11_Yes = pd.read_sql_query(\n",
    "    \"SELECT UserID FROM Answer where QuestionID = 11 AND AnswerText = 'Yes'\",\n",
    "    db_survey\n",
    ")"
   ]
  },
  {
   "cell_type": "code",
   "execution_count": 62,
   "id": "35b7d9e0",
   "metadata": {},
   "outputs": [],
   "source": [
    "df_Answer11TechinTech = pd.merge(df_TechinTech, df_Answer11_Yes, on='UserID', how='inner')"
   ]
  },
  {
   "cell_type": "code",
   "execution_count": 63,
   "id": "d4899b90",
   "metadata": {},
   "outputs": [
    {
     "data": {
      "text/plain": [
       "UserID    295\n",
       "dtype: int64"
      ]
     },
     "execution_count": 63,
     "metadata": {},
     "output_type": "execute_result"
    }
   ],
   "source": [
    "df_Answer11TechinTech.count()"
   ]
  },
  {
   "cell_type": "markdown",
   "id": "2e57cd6b",
   "metadata": {},
   "source": [
    "# 17 \n",
    "If a mental health issue prompted you to request a medical leave from work, how easy or difficult would it be to ask for that leave?"
   ]
  },
  {
   "cell_type": "code",
   "execution_count": 64,
   "id": "fc9a9605",
   "metadata": {},
   "outputs": [],
   "source": [
    "df_Answer17 = pd.read_sql_query(\n",
    "    \"SELECT * FROM Answer where QuestionID = 17\",\n",
    "    db_survey\n",
    ")"
   ]
  },
  {
   "cell_type": "code",
   "execution_count": 65,
   "id": "70e5ca47",
   "metadata": {},
   "outputs": [
    {
     "data": {
      "text/plain": [
       "UserID    506\n",
       "dtype: int64"
      ]
     },
     "execution_count": 65,
     "metadata": {},
     "output_type": "execute_result"
    }
   ],
   "source": [
    "df_Answer17 = pd.read_sql_query(\n",
    "    \"SELECT UserID FROM Answer where QuestionID = 17 AND AnswerText = 'Very easy'\",\n",
    "    db_survey\n",
    ")\n",
    "df_Answer17.count()"
   ]
  },
  {
   "cell_type": "code",
   "execution_count": 66,
   "id": "01cfe377",
   "metadata": {},
   "outputs": [],
   "source": [
    "df_Answer17TechinTech = pd.merge(df_TechinTech, df_Answer17, on='UserID', how='inner')"
   ]
  },
  {
   "cell_type": "code",
   "execution_count": 67,
   "id": "ac7796ba",
   "metadata": {},
   "outputs": [
    {
     "data": {
      "text/plain": [
       "UserID    218\n",
       "dtype: int64"
      ]
     },
     "execution_count": 67,
     "metadata": {},
     "output_type": "execute_result"
    }
   ],
   "source": [
    "df_Answer17TechinTech.count()"
   ]
  },
  {
   "cell_type": "markdown",
   "id": "b82008a4",
   "metadata": {},
   "source": [
    "# 83 \n",
    "Have you observed or experienced supportive or well handled response to a mental health issue in your current or previous workplace?"
   ]
  },
  {
   "cell_type": "code",
   "execution_count": 68,
   "id": "91b3184b",
   "metadata": {},
   "outputs": [],
   "source": [
    "df_Answer83 = pd.read_sql_query(\n",
    "    \"SELECT * FROM Answer where QuestionID = 83\",\n",
    "    db_survey\n",
    ")"
   ]
  },
  {
   "cell_type": "code",
   "execution_count": 69,
   "id": "d58766bc",
   "metadata": {},
   "outputs": [],
   "source": [
    "df_Answer83 = pd.read_sql_query(\n",
    "    \"SELECT UserID FROM Answer where QuestionID = 83 AND (AnswerText = 'Yes, I experienced' OR AnswerText = 'Yes, I observed')\",\n",
    "    db_survey,\n",
    ")"
   ]
  },
  {
   "cell_type": "code",
   "execution_count": 70,
   "id": "f38cea20",
   "metadata": {},
   "outputs": [],
   "source": [
    "df_Answer83TechinTech = pd.merge(df_TechinTech, df_Answer83, on='UserID', how='inner')"
   ]
  },
  {
   "cell_type": "code",
   "execution_count": 71,
   "id": "b7ebfc32",
   "metadata": {},
   "outputs": [
    {
     "data": {
      "text/plain": [
       "UserID    381\n",
       "dtype: int64"
      ]
     },
     "execution_count": 71,
     "metadata": {},
     "output_type": "execute_result"
    }
   ],
   "source": [
    "df_Answer83TechinTech.count()"
   ]
  },
  {
   "cell_type": "code",
   "execution_count": 72,
   "id": "145523c7",
   "metadata": {},
   "outputs": [],
   "source": [
    "df_attitude = pd.merge(\n",
    "    pd.merge(df_Answer11TechinTech, df_Answer17TechinTech, on=\"UserID\"),\n",
    "    df_Answer83TechinTech,\n",
    "    on=\"UserID\",\n",
    "    how=\"inner\",\n",
    ")"
   ]
  },
  {
   "cell_type": "code",
   "execution_count": 73,
   "id": "9c6a7d1e",
   "metadata": {},
   "outputs": [
    {
     "data": {
      "text/plain": [
       "UserID    70\n",
       "dtype: int64"
      ]
     },
     "execution_count": 73,
     "metadata": {},
     "output_type": "execute_result"
    }
   ],
   "source": [
    "df_attitude.count()"
   ]
  },
  {
   "cell_type": "markdown",
   "id": "102fa177",
   "metadata": {},
   "source": [
    "# Open Tech Workers who Experience Good Attitude"
   ]
  },
  {
   "cell_type": "code",
   "execution_count": 76,
   "id": "29d3d131",
   "metadata": {},
   "outputs": [],
   "source": [
    "df_openandattitude = pd.merge(df_open, df_attitude, on='UserID', how='inner')"
   ]
  },
  {
   "cell_type": "code",
   "execution_count": 77,
   "id": "735fc8af",
   "metadata": {},
   "outputs": [
    {
     "data": {
      "text/plain": [
       "UserID    5\n",
       "dtype: int64"
      ]
     },
     "execution_count": 77,
     "metadata": {},
     "output_type": "execute_result"
    }
   ],
   "source": [
    "df_openandattitude.count()"
   ]
  }
 ],
 "metadata": {
  "kernelspec": {
   "display_name": "Python 3 (ipykernel)",
   "language": "python",
   "name": "python3"
  },
  "language_info": {
   "codemirror_mode": {
    "name": "ipython",
    "version": 3
   },
   "file_extension": ".py",
   "mimetype": "text/x-python",
   "name": "python",
   "nbconvert_exporter": "python",
   "pygments_lexer": "ipython3",
   "version": "3.10.7"
  }
 },
 "nbformat": 4,
 "nbformat_minor": 5
}
