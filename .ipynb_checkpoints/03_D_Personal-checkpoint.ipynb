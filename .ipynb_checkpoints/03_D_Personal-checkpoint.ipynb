{
 "cells": [
  {
   "cell_type": "markdown",
   "id": "156950c1",
   "metadata": {},
   "source": [
    "# Personal"
   ]
  },
  {
   "cell_type": "code",
   "execution_count": 21,
   "id": "e1e914e5",
   "metadata": {},
   "outputs": [],
   "source": [
    "import pandas as pd\n",
    "import numpy as np\n",
    "import sqlite3\n",
    "import seaborn as sns\n",
    "import matplotlib as mpl\n",
    "import matplotlib.pyplot as plt\n",
    "import warnings\n",
    "import datetime\n",
    "import matplotlib.dates as mdates\n",
    "\n",
    "from scipy import stats\n",
    "from matplotlib.dates import DateFormatter\n",
    "from IPython.display import display"
   ]
  },
  {
   "cell_type": "markdown",
   "id": "d1b3e303",
   "metadata": {},
   "source": [
    "# Load and Display Raw Data"
   ]
  },
  {
   "cell_type": "code",
   "execution_count": 22,
   "id": "1e7b07c8",
   "metadata": {},
   "outputs": [],
   "source": [
    "db_survey = sqlite3.connect(\n",
    "    \"C:\\\\Users\\\\Space\\\\Documents\\\\py\\\\Projects\\\\TuringCollege\\\\TechMentalHealth\\\\DataSet\\\\mental_health.sqlite\"\n",
    ")"
   ]
  },
  {
   "cell_type": "code",
   "execution_count": 23,
   "id": "ed95df31",
   "metadata": {},
   "outputs": [],
   "source": [
    "%matplotlib inline\n",
    "pd.options.display.max_rows = 300000\n",
    "pd.options.display.max_columns = 999\n",
    "pd.options.display.max_colwidth = 500"
   ]
  },
  {
   "cell_type": "markdown",
   "id": "12ff2318",
   "metadata": {},
   "source": [
    "# Questions"
   ]
  },
  {
   "cell_type": "code",
   "execution_count": 24,
   "id": "2a53bfed",
   "metadata": {},
   "outputs": [],
   "source": [
    "df_questions = pd.read_sql_query(\"SELECT * FROM Question\", db_survey)"
   ]
  },
  {
   "cell_type": "code",
   "execution_count": 25,
   "id": "ca9fa011",
   "metadata": {
    "scrolled": false
   },
   "outputs": [],
   "source": [
    "df_questions.count().to_frame()\n",
    "df_questions = df_questions.rename(\n",
    "    columns={\"questiontext\": \"QuestionText\", \"questionid\": \"QuestionID\"}\n",
    ")"
   ]
  },
  {
   "cell_type": "markdown",
   "id": "39ccf8e0",
   "metadata": {},
   "source": [
    "# Remove Questions"
   ]
  },
  {
   "cell_type": "code",
   "execution_count": 26,
   "id": "f3db975b",
   "metadata": {},
   "outputs": [],
   "source": [
    "df_questions.drop(\n",
    "    df_questions.index[\n",
    "        [\n",
    "            3,\n",
    "            7,\n",
    "            21,\n",
    "            22,\n",
    "            23,\n",
    "            24,\n",
    "            25,\n",
    "            26,\n",
    "            28,\n",
    "            34,\n",
    "            35,\n",
    "            37,\n",
    "            40,\n",
    "            41,\n",
    "            45,\n",
    "            47,\n",
    "            48,\n",
    "            49,\n",
    "            55,\n",
    "            56,\n",
    "            57,\n",
    "            58,\n",
    "            59,\n",
    "            60,\n",
    "            61,\n",
    "            62,\n",
    "            63,\n",
    "            68,\n",
    "            70,\n",
    "            72,\n",
    "            73,\n",
    "            74,\n",
    "            75,\n",
    "            87,\n",
    "            89,\n",
    "            94,\n",
    "            95,\n",
    "            96,\n",
    "            97,\n",
    "            98,\n",
    "            101,\n",
    "            102,\n",
    "            103,\n",
    "        ]\n",
    "    ],\n",
    "    inplace=True,\n",
    ")"
   ]
  },
  {
   "cell_type": "code",
   "execution_count": 27,
   "id": "629adc41",
   "metadata": {
    "scrolled": true
   },
   "outputs": [],
   "source": [
    "df_questions = df_questions.reset_index()\n",
    "df_questions.index.names = [\"Index\"]\n",
    "df_questions = df_questions.drop([\"index\"], axis=1)"
   ]
  },
  {
   "cell_type": "markdown",
   "id": "1fb272f3",
   "metadata": {},
   "source": [
    "# Personal Data Frame"
   ]
  },
  {
   "cell_type": "code",
   "execution_count": 28,
   "id": "25d02a20",
   "metadata": {
    "scrolled": false
   },
   "outputs": [
    {
     "data": {
      "text/html": [
       "<style type=\"text/css\">\n",
       "#T_f3312_row0_col0, #T_f3312_row0_col1, #T_f3312_row1_col0, #T_f3312_row1_col1, #T_f3312_row2_col0, #T_f3312_row2_col1, #T_f3312_row3_col0, #T_f3312_row3_col1, #T_f3312_row4_col0, #T_f3312_row4_col1, #T_f3312_row5_col0, #T_f3312_row5_col1, #T_f3312_row6_col0, #T_f3312_row6_col1, #T_f3312_row7_col0, #T_f3312_row7_col1, #T_f3312_row8_col0, #T_f3312_row8_col1, #T_f3312_row9_col0, #T_f3312_row9_col1, #T_f3312_row10_col0, #T_f3312_row10_col1, #T_f3312_row11_col0, #T_f3312_row11_col1, #T_f3312_row12_col0, #T_f3312_row12_col1, #T_f3312_row13_col0, #T_f3312_row13_col1, #T_f3312_row14_col0, #T_f3312_row14_col1, #T_f3312_row15_col0, #T_f3312_row15_col1, #T_f3312_row16_col0, #T_f3312_row16_col1, #T_f3312_row17_col0, #T_f3312_row17_col1, #T_f3312_row18_col0, #T_f3312_row18_col1, #T_f3312_row19_col0, #T_f3312_row19_col1, #T_f3312_row20_col0, #T_f3312_row20_col1 {\n",
       "  text-align: left;\n",
       "}\n",
       "</style>\n",
       "<table id=\"T_f3312\">\n",
       "  <thead>\n",
       "    <tr>\n",
       "      <th class=\"blank level0\" >&nbsp;</th>\n",
       "      <th id=\"T_f3312_level0_col0\" class=\"col_heading level0 col0\" >QuestionText</th>\n",
       "      <th id=\"T_f3312_level0_col1\" class=\"col_heading level0 col1\" >QuestionID</th>\n",
       "    </tr>\n",
       "    <tr>\n",
       "      <th class=\"index_name level0\" >Index</th>\n",
       "      <th class=\"blank col0\" >&nbsp;</th>\n",
       "      <th class=\"blank col1\" >&nbsp;</th>\n",
       "    </tr>\n",
       "  </thead>\n",
       "  <tbody>\n",
       "    <tr>\n",
       "      <th id=\"T_f3312_level0_row0\" class=\"row_heading level0 row0\" >9</th>\n",
       "      <td id=\"T_f3312_row0_col0\" class=\"data row0 col0\" >Would you bring up a mental health issue with a potential employer in an interview?</td>\n",
       "      <td id=\"T_f3312_row0_col1\" class=\"data row0 col1\" >12</td>\n",
       "    </tr>\n",
       "    <tr>\n",
       "      <th id=\"T_f3312_level0_row1\" class=\"row_heading level0 row1\" >15</th>\n",
       "      <td id=\"T_f3312_row1_col0\" class=\"data row1 col0\" >Would you feel comfortable discussing a mental health issue with your coworkers?</td>\n",
       "      <td id=\"T_f3312_row1_col1\" class=\"data row1 col1\" >18</td>\n",
       "    </tr>\n",
       "    <tr>\n",
       "      <th id=\"T_f3312_level0_row2\" class=\"row_heading level0 row2\" >16</th>\n",
       "      <td id=\"T_f3312_row2_col0\" class=\"data row2 col0\" >Would you feel comfortable discussing a mental health issue with your direct supervisor(s)?</td>\n",
       "      <td id=\"T_f3312_row2_col1\" class=\"data row2 col1\" >19</td>\n",
       "    </tr>\n",
       "    <tr>\n",
       "      <th id=\"T_f3312_level0_row3\" class=\"row_heading level0 row3\" >19</th>\n",
       "      <td id=\"T_f3312_row3_col0\" class=\"data row3 col0\" >Would you have been willing to discuss your mental health with your direct supervisor(s)?</td>\n",
       "      <td id=\"T_f3312_row3_col1\" class=\"data row3 col1\" >28</td>\n",
       "    </tr>\n",
       "    <tr>\n",
       "      <th id=\"T_f3312_level0_row4\" class=\"row_heading level0 row4\" >20</th>\n",
       "      <td id=\"T_f3312_row4_col0\" class=\"data row4 col0\" >How willing would you be to share with friends and family that you have a mental illness?</td>\n",
       "      <td id=\"T_f3312_row4_col1\" class=\"data row4 col1\" >30</td>\n",
       "    </tr>\n",
       "    <tr>\n",
       "      <th id=\"T_f3312_level0_row5\" class=\"row_heading level0 row5\" >21</th>\n",
       "      <td id=\"T_f3312_row5_col0\" class=\"data row5 col0\" >Have your observations of how another individual who discussed a mental health disorder made you less likely to reveal a mental health issue yourself in your current workplace?</td>\n",
       "      <td id=\"T_f3312_row5_col1\" class=\"data row5 col1\" >31</td>\n",
       "    </tr>\n",
       "    <tr>\n",
       "      <th id=\"T_f3312_level0_row6\" class=\"row_heading level0 row6\" >26</th>\n",
       "      <td id=\"T_f3312_row6_col0\" class=\"data row6 col0\" >If you have been diagnosed or treated for a mental health disorder, do you ever reveal this to clients or business contacts?</td>\n",
       "      <td id=\"T_f3312_row6_col1\" class=\"data row6 col1\" >52</td>\n",
       "    </tr>\n",
       "    <tr>\n",
       "      <th id=\"T_f3312_level0_row7\" class=\"row_heading level0 row7\" >27</th>\n",
       "      <td id=\"T_f3312_row7_col0\" class=\"data row7 col0\" >If you have been diagnosed or treated for a mental health disorder, do you ever reveal this to coworkers or employees?</td>\n",
       "      <td id=\"T_f3312_row7_col1\" class=\"data row7 col1\" >53</td>\n",
       "    </tr>\n",
       "    <tr>\n",
       "      <th id=\"T_f3312_level0_row8\" class=\"row_heading level0 row8\" >29</th>\n",
       "      <td id=\"T_f3312_row8_col0\" class=\"data row8 col0\" >Would you feel more comfortable talking to your coworkers about your physical health or your mental health?</td>\n",
       "      <td id=\"T_f3312_row8_col1\" class=\"data row8 col1\" >57</td>\n",
       "    </tr>\n",
       "    <tr>\n",
       "      <th id=\"T_f3312_level0_row9\" class=\"row_heading level0 row9\" >30</th>\n",
       "      <td id=\"T_f3312_row9_col0\" class=\"data row9 col0\" >Have you ever discussed your mental health with your employer?</td>\n",
       "      <td id=\"T_f3312_row9_col1\" class=\"data row9 col1\" >58</td>\n",
       "    </tr>\n",
       "    <tr>\n",
       "      <th id=\"T_f3312_level0_row10\" class=\"row_heading level0 row10\" >31</th>\n",
       "      <td id=\"T_f3312_row10_col0\" class=\"data row10 col0\" >Have you ever discussed your mental health with coworkers?</td>\n",
       "      <td id=\"T_f3312_row10_col1\" class=\"data row10 col1\" >60</td>\n",
       "    </tr>\n",
       "    <tr>\n",
       "      <th id=\"T_f3312_level0_row11\" class=\"row_heading level0 row11\" >43</th>\n",
       "      <td id=\"T_f3312_row11_col0\" class=\"data row11 col0\" >Do you think that discussing a physical health issue with your employer would have negative consequences?</td>\n",
       "      <td id=\"T_f3312_row11_col1\" class=\"data row11 col1\" >90</td>\n",
       "    </tr>\n",
       "    <tr>\n",
       "      <th id=\"T_f3312_level0_row12\" class=\"row_heading level0 row12\" >44</th>\n",
       "      <td id=\"T_f3312_row12_col0\" class=\"data row12 col0\" >Do you feel that your employer takes mental health as seriously as physical health?</td>\n",
       "      <td id=\"T_f3312_row12_col1\" class=\"data row12 col1\" >91</td>\n",
       "    </tr>\n",
       "    <tr>\n",
       "      <th id=\"T_f3312_level0_row13\" class=\"row_heading level0 row13\" >45</th>\n",
       "      <td id=\"T_f3312_row13_col0\" class=\"data row13 col0\" >If you have a mental health condition, do you feel that it interferes with your work?</td>\n",
       "      <td id=\"T_f3312_row13_col1\" class=\"data row13 col1\" >92</td>\n",
       "    </tr>\n",
       "    <tr>\n",
       "      <th id=\"T_f3312_level0_row14\" class=\"row_heading level0 row14\" >51</th>\n",
       "      <td id=\"T_f3312_row14_col0\" class=\"data row14 col0\" >Do you think that discussing a mental health issue with your employer would have negative consequences?</td>\n",
       "      <td id=\"T_f3312_row14_col1\" class=\"data row14 col1\" >98</td>\n",
       "    </tr>\n",
       "    <tr>\n",
       "      <th id=\"T_f3312_level0_row15\" class=\"row_heading level0 row15\" >52</th>\n",
       "      <td id=\"T_f3312_row15_col0\" class=\"data row15 col0\" >Would you be willing to discuss a mental health issue with your coworkers?</td>\n",
       "      <td id=\"T_f3312_row15_col1\" class=\"data row15 col1\" >99</td>\n",
       "    </tr>\n",
       "    <tr>\n",
       "      <th id=\"T_f3312_level0_row16\" class=\"row_heading level0 row16\" >53</th>\n",
       "      <td id=\"T_f3312_row16_col0\" class=\"data row16 col0\" >Would you be willing to discuss a mental health issue with your direct supervisor(s)?</td>\n",
       "      <td id=\"T_f3312_row16_col1\" class=\"data row16 col1\" >100</td>\n",
       "    </tr>\n",
       "    <tr>\n",
       "      <th id=\"T_f3312_level0_row17\" class=\"row_heading level0 row17\" >55</th>\n",
       "      <td id=\"T_f3312_row17_col0\" class=\"data row17 col0\" >Do you think that discussing a mental health disorder with your employer would have negative consequences?</td>\n",
       "      <td id=\"T_f3312_row17_col1\" class=\"data row17 col1\" >104</td>\n",
       "    </tr>\n",
       "    <tr>\n",
       "      <th id=\"T_f3312_level0_row18\" class=\"row_heading level0 row18\" >57</th>\n",
       "      <td id=\"T_f3312_row18_col0\" class=\"data row18 col0\" >If you have revealed a mental health issue to a client or business contact, do you believe this has impacted you negatively?</td>\n",
       "      <td id=\"T_f3312_row18_col1\" class=\"data row18 col1\" >106</td>\n",
       "    </tr>\n",
       "    <tr>\n",
       "      <th id=\"T_f3312_level0_row19\" class=\"row_heading level0 row19\" >59</th>\n",
       "      <td id=\"T_f3312_row19_col0\" class=\"data row19 col0\" >Do you feel that being identified as a person with a mental health issue would hurt your career?</td>\n",
       "      <td id=\"T_f3312_row19_col1\" class=\"data row19 col1\" >113</td>\n",
       "    </tr>\n",
       "    <tr>\n",
       "      <th id=\"T_f3312_level0_row20\" class=\"row_heading level0 row20\" >60</th>\n",
       "      <td id=\"T_f3312_row20_col0\" class=\"data row20 col0\" >Do you think that team members/co-workers would view you more negatively if they knew you suffered from a mental health issue?</td>\n",
       "      <td id=\"T_f3312_row20_col1\" class=\"data row20 col1\" >114</td>\n",
       "    </tr>\n",
       "  </tbody>\n",
       "</table>\n"
      ],
      "text/plain": [
       "<pandas.io.formats.style.Styler at 0x2334b397a90>"
      ]
     },
     "execution_count": 28,
     "metadata": {},
     "output_type": "execute_result"
    }
   ],
   "source": [
    "df_personal_questions = df_questions.iloc[\n",
    "    [\n",
    "        9,\n",
    "        15,\n",
    "        16,\n",
    "        19,\n",
    "        20,\n",
    "        21,\n",
    "        26,\n",
    "        27,\n",
    "        29,\n",
    "        30,\n",
    "        31,\n",
    "        43,\n",
    "        44,\n",
    "        45,\n",
    "        51,\n",
    "        52,\n",
    "        53,\n",
    "        55,\n",
    "        57,\n",
    "        59,\n",
    "        60,\n",
    "    ]\n",
    "]\n",
    "df_personal_questions.style.set_properties(**{\"text-align\": \"left\"})"
   ]
  },
  {
   "cell_type": "code",
   "execution_count": 29,
   "id": "cb133ffe",
   "metadata": {},
   "outputs": [
    {
     "data": {
      "text/plain": [
       "21"
      ]
     },
     "execution_count": 29,
     "metadata": {},
     "output_type": "execute_result"
    }
   ],
   "source": [
    "df_personal_questions.shape[0]"
   ]
  }
 ],
 "metadata": {
  "kernelspec": {
   "display_name": "Python 3 (ipykernel)",
   "language": "python",
   "name": "python3"
  },
  "language_info": {
   "codemirror_mode": {
    "name": "ipython",
    "version": 3
   },
   "file_extension": ".py",
   "mimetype": "text/x-python",
   "name": "python",
   "nbconvert_exporter": "python",
   "pygments_lexer": "ipython3",
   "version": "3.10.7"
  }
 },
 "nbformat": 4,
 "nbformat_minor": 5
}
