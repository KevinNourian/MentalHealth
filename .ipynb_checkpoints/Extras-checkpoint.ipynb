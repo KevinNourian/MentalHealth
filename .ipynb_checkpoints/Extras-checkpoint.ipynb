{
 "cells": [
  {
   "cell_type": "markdown",
   "id": "26194123",
   "metadata": {},
   "source": [
    "# Improvements"
   ]
  },
  {
   "cell_type": "markdown",
   "id": "5cbbd5a0",
   "metadata": {},
   "source": [
    "I concentrated on positives.\n",
    "I did not work on the narrative questions\n",
    "Some of the questions had a lot of NR. Skipped those.\n",
    "Some questions had not TechinTech who answered them at all.\n",
    "Stayed away from questions with scales of 1-10\n",
    "TechinTech starts at ... UserID\n",
    "With attitude I found only 3 questions."
   ]
  }
 ],
 "metadata": {
  "kernelspec": {
   "display_name": "Python 3 (ipykernel)",
   "language": "python",
   "name": "python3"
  },
  "language_info": {
   "codemirror_mode": {
    "name": "ipython",
    "version": 3
   },
   "file_extension": ".py",
   "mimetype": "text/x-python",
   "name": "python",
   "nbconvert_exporter": "python",
   "pygments_lexer": "ipython3",
   "version": "3.10.7"
  }
 },
 "nbformat": 4,
 "nbformat_minor": 5
}
