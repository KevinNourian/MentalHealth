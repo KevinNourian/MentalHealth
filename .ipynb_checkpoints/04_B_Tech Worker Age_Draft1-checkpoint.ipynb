{
 "cells": [
  {
   "cell_type": "markdown",
   "id": "67245561",
   "metadata": {},
   "source": [
    "# Tech Worker Age_Draft1"
   ]
  },
  {
   "cell_type": "code",
   "execution_count": 1,
   "id": "e1e914e5",
   "metadata": {},
   "outputs": [],
   "source": [
    "import pandas as pd\n",
    "import numpy as np\n",
    "import sqlite3\n",
    "import seaborn as sns\n",
    "import matplotlib as mpl\n",
    "import matplotlib.pyplot as plt\n",
    "import warnings\n",
    "import datetime\n",
    "import matplotlib.dates as mdates\n",
    "\n",
    "from scipy import stats\n",
    "from matplotlib.dates import DateFormatter\n",
    "from IPython.display import display"
   ]
  },
  {
   "cell_type": "markdown",
   "id": "d1b3e303",
   "metadata": {},
   "source": [
    "# Load Raw Data"
   ]
  },
  {
   "cell_type": "code",
   "execution_count": 2,
   "id": "1e7b07c8",
   "metadata": {},
   "outputs": [],
   "source": [
    "db_survey = sqlite3.connect(\n",
    "    \"C:\\\\Users\\\\Space\\\\Documents\\\\py\\\\Projects\\\\TuringCollege\\\\TechMentalHealth\\\\DataSet\\\\mental_health.sqlite\"\n",
    ")"
   ]
  },
  {
   "cell_type": "markdown",
   "id": "driven-arlington",
   "metadata": {},
   "source": [
    "# Display Parameters"
   ]
  },
  {
   "cell_type": "markdown",
   "id": "double-logging",
   "metadata": {},
   "source": [
    "## Display Features"
   ]
  },
  {
   "cell_type": "code",
   "execution_count": 3,
   "id": "driven-element",
   "metadata": {},
   "outputs": [],
   "source": [
    "%matplotlib inline\n",
    "pd.options.display.max_rows = 300000\n",
    "pd.options.display.max_columns = 999\n",
    "pd.options.display.max_colwidth = 500"
   ]
  },
  {
   "cell_type": "markdown",
   "id": "political-officer",
   "metadata": {},
   "source": [
    "## Colors"
   ]
  },
  {
   "cell_type": "code",
   "execution_count": 4,
   "id": "acquired-union",
   "metadata": {},
   "outputs": [],
   "source": [
    "ord_color = \"bisque\"\n",
    "spec_lev1 = \"crimson\"\n",
    "spec_lev2 = \"orangered\"\n",
    "spec_lev3 = \"lightcoral\"\n",
    "male_color = \"royalblue\"\n",
    "female_color = \"pink\"\n",
    "graph_color1 = \"indianred\"\n",
    "graph_color2 = \"slategrey\""
   ]
  },
  {
   "cell_type": "markdown",
   "id": "incredible-stupid",
   "metadata": {},
   "source": [
    "## Figure Parameters"
   ]
  },
  {
   "cell_type": "code",
   "execution_count": 5,
   "id": "secret-canadian",
   "metadata": {},
   "outputs": [],
   "source": [
    "size = 20\n",
    "\n",
    "params = {\n",
    "    \"font.family\": \"Times New Roman\",\n",
    "    \"font.size\": size,\n",
    "    \"axes.labelsize\": size,\n",
    "    \"xtick.labelsize\": size * 0.75,\n",
    "    \"ytick.labelsize\": size * 0.75,\n",
    "    \"figure.titlesize\": size * 1.5,\n",
    "    \"axes.titlesize\": size * 1.5,\n",
    "    \"axes.titlepad\": size,\n",
    "    \"axes.labelpad\": size - 10,\n",
    "    \"lines.linewidth\": 2,\n",
    "    \"axes.spines.top\": False,\n",
    "    \"axes.spines.right\": False,\n",
    "    \"axes.spines.left\": False,\n",
    "    \"axes.spines.bottom\": False,\n",
    "    \"legend.fontsize\": size,\n",
    "}"
   ]
  },
  {
   "cell_type": "markdown",
   "id": "d67adfa2",
   "metadata": {},
   "source": [
    "# Answers"
   ]
  },
  {
   "cell_type": "code",
   "execution_count": 6,
   "id": "2a53bfed",
   "metadata": {
    "scrolled": true
   },
   "outputs": [],
   "source": [
    "df_answers = pd.read_sql_query(\"SELECT * FROM Answer\", db_survey)"
   ]
  },
  {
   "cell_type": "markdown",
   "id": "96a5d0f3",
   "metadata": {},
   "source": [
    "# Tech Workers in Tech Companies"
   ]
  },
  {
   "cell_type": "code",
   "execution_count": 7,
   "id": "56f2966b",
   "metadata": {},
   "outputs": [],
   "source": [
    "df_Answer9 = pd.read_sql_query(\n",
    "    \"SELECT USERID FROM Answer where QuestionID = 9 AND AnswerText = '1'\",\n",
    "    db_survey\n",
    ")"
   ]
  },
  {
   "cell_type": "code",
   "execution_count": 8,
   "id": "ad7ef606",
   "metadata": {},
   "outputs": [],
   "source": [
    "df_Answer13 = pd.read_sql_query(\n",
    "    \"SELECT USERID FROM Answer where QuestionID = 13 AND AnswerText = '1'\",\n",
    "    db_survey\n",
    ")"
   ]
  },
  {
   "cell_type": "code",
   "execution_count": 9,
   "id": "f1dedb9a",
   "metadata": {},
   "outputs": [],
   "source": [
    "df_TechinTech = pd.merge(df_Answer13, df_Answer9 , on='UserID', how='inner')"
   ]
  },
  {
   "cell_type": "code",
   "execution_count": 10,
   "id": "5ea0df00",
   "metadata": {},
   "outputs": [],
   "source": [
    "Total_TechinTech = df_TechinTech.count()"
   ]
  },
  {
   "cell_type": "markdown",
   "id": "9d607708",
   "metadata": {},
   "source": [
    "# Tech Worker Age"
   ]
  },
  {
   "cell_type": "code",
   "execution_count": 11,
   "id": "1375be55",
   "metadata": {},
   "outputs": [],
   "source": [
    "df_age = pd.read_sql_query(\n",
    "    \"SELECT AnswerText FROM Answer where QuestionID = 1\", db_survey\n",
    ")"
   ]
  },
  {
   "cell_type": "code",
   "execution_count": 12,
   "id": "51ca1301",
   "metadata": {},
   "outputs": [],
   "source": [
    "df_age[\"AnswerText\"] = df_age[\"AnswerText\"].astype(int)"
   ]
  },
  {
   "cell_type": "code",
   "execution_count": 13,
   "id": "9b2def3d",
   "metadata": {},
   "outputs": [],
   "source": [
    "df_age.sort_values(\"AnswerText\", inplace=True)"
   ]
  },
  {
   "cell_type": "code",
   "execution_count": 14,
   "id": "c11cce1f",
   "metadata": {},
   "outputs": [],
   "source": [
    "df_age = df_age[df_age.AnswerText >= 20]\n",
    "df_age = df_age[df_age.AnswerText <= 75]"
   ]
  },
  {
   "cell_type": "code",
   "execution_count": 15,
   "id": "7744ea61",
   "metadata": {},
   "outputs": [
    {
     "ename": "NameError",
     "evalue": "name 'df_value_counts' is not defined",
     "output_type": "error",
     "traceback": [
      "\u001b[1;31m---------------------------------------------------------------------------\u001b[0m",
      "\u001b[1;31mNameError\u001b[0m                                 Traceback (most recent call last)",
      "Cell \u001b[1;32mIn [15], line 3\u001b[0m\n\u001b[0;32m      1\u001b[0m df_value_count \u001b[38;5;241m=\u001b[39m df_age\u001b[38;5;241m.\u001b[39mAnswerText\u001b[38;5;241m.\u001b[39mvalue_counts()\n\u001b[0;32m      2\u001b[0m df_age_count \u001b[38;5;241m=\u001b[39m pd\u001b[38;5;241m.\u001b[39mDataFrame(df_value_count)\n\u001b[1;32m----> 3\u001b[0m df_age_count \u001b[38;5;241m=\u001b[39m \u001b[43mdf_value_counts\u001b[49m\u001b[38;5;241m.\u001b[39mreset_index()\n",
      "\u001b[1;31mNameError\u001b[0m: name 'df_value_counts' is not defined"
     ]
    }
   ],
   "source": [
    "df_value_count = df_age.AnswerText.value_counts()\n",
    "df_age_count = pd.DataFrame(df_value_count)\n",
    "df_age_count = df_value_counts.reset_index()"
   ]
  },
  {
   "cell_type": "code",
   "execution_count": null,
   "id": "1232d416",
   "metadata": {},
   "outputs": [],
   "source": [
    "df_age_count = df_age_count.rename(columns={\"index\": \"Age\", \"AnswerText\": \"Count\"})"
   ]
  },
  {
   "cell_type": "code",
   "execution_count": null,
   "id": "5c1f37db",
   "metadata": {
    "scrolled": true
   },
   "outputs": [],
   "source": [
    "df_age_count.loc[df['Age'].between(20, 29, 'both'), 'Range'] = '20s'\n",
    "df_age_count.loc[df['Age'].between(30, 39, 'both'), 'Range'] = '30s'\n",
    "df_age_count.loc[df['Age'].between(40, 49, 'both'), 'Range'] = '40s'\n",
    "df_age_count.loc[df['Age'].between(50, 59, 'both'), 'Range'] = '50s'\n",
    "df_age_count.loc[df['Age'].between(60, 69, 'both'), 'Range'] = '60s'\n",
    "df_age_count.loc[df['Age'].between(70, 79, 'both'), 'Range'] = '70s'"
   ]
  },
  {
   "cell_type": "code",
   "execution_count": null,
   "id": "e2fb54d9",
   "metadata": {
    "scrolled": false
   },
   "outputs": [],
   "source": [
    "df_age_count.Range.value_counts()"
   ]
  },
  {
   "cell_type": "code",
   "execution_count": null,
   "id": "56c583ef",
   "metadata": {},
   "outputs": [],
   "source": [
    "df_age_count_grouped = df_age_count.groupby('Range')['Count'].sum()\n",
    "df_age_count_grouped = df_age_count_grouped.to_frame()\n",
    "df_age_count_grouped = df_age_count_grouped.reset_index()"
   ]
  },
  {
   "cell_type": "code",
   "execution_count": null,
   "id": "30d70bc0",
   "metadata": {},
   "outputs": [],
   "source": [
    "plt.rcParams.update(params)\n",
    "\n",
    "fig, axes = plt.subplots(1, 1, figsize=(15, 7))\n",
    "sns.set(style=\"white\")\n",
    "\n",
    "chart = sns.barplot(\n",
    "    ax=axes,\n",
    "    x=\"Range\",\n",
    "    y=\"Count\",\n",
    "    data=df_age_count_grouped,\n",
    "    errorbar=None,\n",
    "    palette=[ord_color if x != \"30s\" else spec_lev1\n",
    "        for x in df_age_count_grouped[\"Range\"]],\n",
    ")\n",
    "\n",
    "\n",
    "plt.xlabel(\"Age Range\")\n",
    "plt.ylabel(\"Number of Tech Workers\")\n",
    "plt.xticks()\n",
    "plt.yticks()\n",
    "\n",
    "chart.set_xticklabels(chart.get_xticklabels(), rotation=45, horizontalalignment=\"right\")\n",
    "plt.suptitle(\"Age Range of Tech Workers\")\n",
    "\n",
    "plt.show()"
   ]
  }
 ],
 "metadata": {
  "kernelspec": {
   "display_name": "Python 3 (ipykernel)",
   "language": "python",
   "name": "python3"
  },
  "language_info": {
   "codemirror_mode": {
    "name": "ipython",
    "version": 3
   },
   "file_extension": ".py",
   "mimetype": "text/x-python",
   "name": "python",
   "nbconvert_exporter": "python",
   "pygments_lexer": "ipython3",
   "version": "3.10.7"
  }
 },
 "nbformat": 4,
 "nbformat_minor": 5
}
