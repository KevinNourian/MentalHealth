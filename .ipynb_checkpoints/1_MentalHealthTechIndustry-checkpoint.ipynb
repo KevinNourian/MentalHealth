{
 "cells": [
  {
   "cell_type": "markdown",
   "id": "badfc338",
   "metadata": {},
   "source": [
    "# Mental Health in Tech Industry Draft1"
   ]
  },
  {
   "cell_type": "markdown",
   "id": "7cfab38c",
   "metadata": {},
   "source": [
    "# Introduction"
   ]
  },
  {
   "cell_type": "markdown",
   "id": "94caf356",
   "metadata": {},
   "source": [
    "According to the World Health Organization, Mental health is described as a state of well-being where a person is able to cope with the normal stresses of life. This state permits productive work output and allows for meaningful contributions to society. In the United States, Centers for Disease Control and Prevention (CDC) estimates that 1 in 5 adults experience at least one mental health condition every year.\n",
    "\n",
    "Mental health is an important issue. Mental health affects every area of life and it goes without saying that a person who is dealing with metal health issues is less productive in the work place than one who does not. Dealing with mental health disorders can impact productivity levels. A person who is mentally healthy, is more likely to work more efficiently and provide higher quality work.\n",
    "\n",
    "It is also clear that western societies do not treat physical issues the same way as mental issues. There tends to be a stigma attached to anything related to mental health. This is not the case with many of our physical issues. The stigma surrouding issues of mental health causes many people to be more careful in how and with whom we speak about their mental health. This is significantly different than how we consider our physical health issues. \n",
    "\n",
    "In this report, I will analyze the findings of 5 surveys of tech industry workers related to mental health. The surveys were taken in 2014, 2016, 2017, 2018, and 2019. In total, 4218 people from 79 countries participated in the surveys. The majority of participants were from the United States. I used 3 databases for this analysis:\n",
    "\n",
    "> * Survey: Contains the year each survey was conducted. The year serves as the SurveyID.\n",
    "> * Question: Contains 105 questions. Not all questions were used in all the years. Not all questions were given to every individual surveyed. \n",
    "> * Answer: Contains 236,898 answers. A participant answered more than one question.\n",
    "\n",
    "For this analysis, concentrated on tech industry workers who work for tech companies. I did not choose participants who answered No to the question that asked if their primary role in the company is tech/IT related (QuestionID 9). I did not choose participants who answered No to the question that asked if the employer is primarily a tech company/organization (QuestionID 13). The number of participants in my analysis became 909."
   ]
  },
  {
   "cell_type": "markdown",
   "id": "7cf13b08",
   "metadata": {},
   "source": [
    "# Goal"
   ]
  },
  {
   "cell_type": "markdown",
   "id": "56d430f2",
   "metadata": {},
   "source": [
    "The goal of this analysis is to provide more clarity regarding mental health issues encountered by tech workers in tech companies."
   ]
  },
  {
   "cell_type": "markdown",
   "id": "079731ac",
   "metadata": {},
   "source": [
    "# Hypothesis"
   ]
  },
  {
   "cell_type": "markdown",
   "id": "fd0d943c",
   "metadata": {},
   "source": [
    "1. Are tech workers from certain countries more open to mental health issues? \n",
    "2. Do tech industry worker who are more open about issues on mental health also find more resources in their work place for dealing with mental health?\n",
    "3. Do tech industry worker who are more open about issues on mental health also encounter more positive attitudes regarding mental health in the work place?"
   ]
  },
  {
   "cell_type": "markdown",
   "id": "18ec9520",
   "metadata": {},
   "source": [
    "# Technical Requirements"
   ]
  },
  {
   "cell_type": "markdown",
   "id": "934a3615",
   "metadata": {},
   "source": [
    "1. Download the data from Mental Health in the Tech Industry.\n",
    "2. Load the data using SQLite and Pandas.\n",
    "3. Perform exploratory data analysis. This should include creating statistical summaries and charts, testing for anomalies, checking for correlations and other relations between variables, and other EDA elements.\n",
    "4. Provide clear explanations in your notebook. Your explanations should inform the reader what you are trying to achieve, what results did you get, and what these results mean.\n",
    "5. Provide suggestions about how your analysis can be improved."
   ]
  },
  {
   "cell_type": "markdown",
   "id": "55b75ab1",
   "metadata": {},
   "source": [
    "# Libraries"
   ]
  },
  {
   "cell_type": "code",
   "execution_count": 1,
   "id": "e1e914e5",
   "metadata": {},
   "outputs": [],
   "source": [
    "import pandas as pd\n",
    "import numpy as np\n",
    "import sqlite3\n",
    "import seaborn as sns\n",
    "import matplotlib as mpl\n",
    "import matplotlib.pyplot as plt\n",
    "import warnings\n",
    "import datetime\n",
    "import matplotlib.dates as mdates\n",
    "\n",
    "from scipy import stats\n",
    "from matplotlib.dates import DateFormatter\n",
    "from IPython.display import display"
   ]
  },
  {
   "cell_type": "markdown",
   "id": "driven-arlington",
   "metadata": {},
   "source": [
    "# Display Parameters"
   ]
  },
  {
   "cell_type": "markdown",
   "id": "double-logging",
   "metadata": {},
   "source": [
    "## Display Features"
   ]
  },
  {
   "cell_type": "code",
   "execution_count": 2,
   "id": "driven-element",
   "metadata": {},
   "outputs": [],
   "source": [
    "%matplotlib inline\n",
    "pd.options.display.max_rows = 300000\n",
    "pd.options.display.max_columns = 999\n",
    "pd.options.display.max_colwidth = 500"
   ]
  },
  {
   "cell_type": "markdown",
   "id": "political-officer",
   "metadata": {},
   "source": [
    "## Colors"
   ]
  },
  {
   "cell_type": "code",
   "execution_count": 3,
   "id": "acquired-union",
   "metadata": {},
   "outputs": [],
   "source": [
    "ord_color = \"bisque\"\n",
    "spec_lev1 = \"crimson\"\n",
    "spec_lev2 = \"orangered\"\n",
    "spec_lev3 = \"lightcoral\"\n",
    "male_color = \"royalblue\"\n",
    "female_color = \"pink\"\n",
    "graph_color1 = \"indianred\"\n",
    "graph_color2 = \"slategrey\""
   ]
  },
  {
   "cell_type": "markdown",
   "id": "incredible-stupid",
   "metadata": {},
   "source": [
    "## Figure Parameters"
   ]
  },
  {
   "cell_type": "code",
   "execution_count": 4,
   "id": "secret-canadian",
   "metadata": {},
   "outputs": [],
   "source": [
    "size = 20\n",
    "\n",
    "params = {\n",
    "    \"font.family\": \"Times New Roman\",\n",
    "    \"font.size\": size,\n",
    "    \"axes.labelsize\": size,\n",
    "    \"xtick.labelsize\": size * 0.75,\n",
    "    \"ytick.labelsize\": size * 0.75,\n",
    "    \"figure.titlesize\": size * 1.5,\n",
    "    \"axes.titlesize\": size * 1.5,\n",
    "    \"axes.titlepad\": size,\n",
    "    \"axes.labelpad\": size - 10,\n",
    "    \"lines.linewidth\": 2,\n",
    "    \"axes.spines.top\": False,\n",
    "    \"axes.spines.right\": False,\n",
    "    \"axes.spines.left\": False,\n",
    "    \"axes.spines.bottom\": False,\n",
    "    \"legend.fontsize\": size,\n",
    "}"
   ]
  },
  {
   "cell_type": "markdown",
   "id": "d1b3e303",
   "metadata": {},
   "source": [
    "# Load and Display Raw Data"
   ]
  },
  {
   "cell_type": "code",
   "execution_count": 5,
   "id": "1e7b07c8",
   "metadata": {},
   "outputs": [],
   "source": [
    "db_survey = sqlite3.connect(\n",
    "    \"C:\\\\Users\\\\Space\\\\Documents\\\\py\\\\Projects\\\\TuringCollege\\\\TechMentalHealth\\\\DataSet\\\\mental_health.sqlite\"\n",
    ")"
   ]
  },
  {
   "cell_type": "markdown",
   "id": "e73026ec",
   "metadata": {},
   "source": [
    "# Data Sets"
   ]
  },
  {
   "cell_type": "markdown",
   "id": "6e898851",
   "metadata": {},
   "source": [
    "## Survey Database"
   ]
  },
  {
   "cell_type": "code",
   "execution_count": 6,
   "id": "313ef30c",
   "metadata": {},
   "outputs": [],
   "source": [
    "df_surveys = pd.read_sql_query(\"SELECT * FROM Survey\", db_survey)"
   ]
  },
  {
   "cell_type": "code",
   "execution_count": 7,
   "id": "c4a5d7a6",
   "metadata": {},
   "outputs": [
    {
     "data": {
      "text/html": [
       "<div>\n",
       "<style scoped>\n",
       "    .dataframe tbody tr th:only-of-type {\n",
       "        vertical-align: middle;\n",
       "    }\n",
       "\n",
       "    .dataframe tbody tr th {\n",
       "        vertical-align: top;\n",
       "    }\n",
       "\n",
       "    .dataframe thead th {\n",
       "        text-align: right;\n",
       "    }\n",
       "</style>\n",
       "<table border=\"1\" class=\"dataframe\">\n",
       "  <thead>\n",
       "    <tr style=\"text-align: right;\">\n",
       "      <th></th>\n",
       "      <th>SurveyID</th>\n",
       "      <th>Description</th>\n",
       "    </tr>\n",
       "  </thead>\n",
       "  <tbody>\n",
       "    <tr>\n",
       "      <th>0</th>\n",
       "      <td>2014</td>\n",
       "      <td>mental health survey for 2014</td>\n",
       "    </tr>\n",
       "    <tr>\n",
       "      <th>1</th>\n",
       "      <td>2016</td>\n",
       "      <td>mental health survey for 2016</td>\n",
       "    </tr>\n",
       "    <tr>\n",
       "      <th>2</th>\n",
       "      <td>2017</td>\n",
       "      <td>mental health survey for 2017</td>\n",
       "    </tr>\n",
       "    <tr>\n",
       "      <th>3</th>\n",
       "      <td>2018</td>\n",
       "      <td>mental health survey for 2018</td>\n",
       "    </tr>\n",
       "    <tr>\n",
       "      <th>4</th>\n",
       "      <td>2019</td>\n",
       "      <td>mental health survey for 2019</td>\n",
       "    </tr>\n",
       "  </tbody>\n",
       "</table>\n",
       "</div>"
      ],
      "text/plain": [
       "   SurveyID                    Description\n",
       "0      2014  mental health survey for 2014\n",
       "1      2016  mental health survey for 2016\n",
       "2      2017  mental health survey for 2017\n",
       "3      2018  mental health survey for 2018\n",
       "4      2019  mental health survey for 2019"
      ]
     },
     "execution_count": 7,
     "metadata": {},
     "output_type": "execute_result"
    }
   ],
   "source": [
    "df_surveys"
   ]
  },
  {
   "cell_type": "code",
   "execution_count": 8,
   "id": "0d8d5770",
   "metadata": {},
   "outputs": [
    {
     "data": {
      "text/plain": [
       "5"
      ]
     },
     "execution_count": 8,
     "metadata": {},
     "output_type": "execute_result"
    }
   ],
   "source": [
    "df_surveys.SurveyID.count()"
   ]
  },
  {
   "cell_type": "markdown",
   "id": "73ad7bd4",
   "metadata": {},
   "source": [
    "## Question Database"
   ]
  },
  {
   "cell_type": "code",
   "execution_count": 9,
   "id": "3656c7a9",
   "metadata": {},
   "outputs": [
    {
     "data": {
      "text/html": [
       "<style type=\"text/css\">\n",
       "#T_bd567_row0_col0, #T_bd567_row0_col1, #T_bd567_row1_col0, #T_bd567_row1_col1, #T_bd567_row2_col0, #T_bd567_row2_col1, #T_bd567_row3_col0, #T_bd567_row3_col1, #T_bd567_row4_col0, #T_bd567_row4_col1, #T_bd567_row5_col0, #T_bd567_row5_col1, #T_bd567_row6_col0, #T_bd567_row6_col1, #T_bd567_row7_col0, #T_bd567_row7_col1, #T_bd567_row8_col0, #T_bd567_row8_col1, #T_bd567_row9_col0, #T_bd567_row9_col1, #T_bd567_row10_col0, #T_bd567_row10_col1, #T_bd567_row11_col0, #T_bd567_row11_col1, #T_bd567_row12_col0, #T_bd567_row12_col1, #T_bd567_row13_col0, #T_bd567_row13_col1, #T_bd567_row14_col0, #T_bd567_row14_col1, #T_bd567_row15_col0, #T_bd567_row15_col1, #T_bd567_row16_col0, #T_bd567_row16_col1, #T_bd567_row17_col0, #T_bd567_row17_col1, #T_bd567_row18_col0, #T_bd567_row18_col1, #T_bd567_row19_col0, #T_bd567_row19_col1, #T_bd567_row20_col0, #T_bd567_row20_col1, #T_bd567_row21_col0, #T_bd567_row21_col1, #T_bd567_row22_col0, #T_bd567_row22_col1, #T_bd567_row23_col0, #T_bd567_row23_col1, #T_bd567_row24_col0, #T_bd567_row24_col1, #T_bd567_row25_col0, #T_bd567_row25_col1, #T_bd567_row26_col0, #T_bd567_row26_col1, #T_bd567_row27_col0, #T_bd567_row27_col1, #T_bd567_row28_col0, #T_bd567_row28_col1, #T_bd567_row29_col0, #T_bd567_row29_col1, #T_bd567_row30_col0, #T_bd567_row30_col1, #T_bd567_row31_col0, #T_bd567_row31_col1, #T_bd567_row32_col0, #T_bd567_row32_col1, #T_bd567_row33_col0, #T_bd567_row33_col1, #T_bd567_row34_col0, #T_bd567_row34_col1, #T_bd567_row35_col0, #T_bd567_row35_col1, #T_bd567_row36_col0, #T_bd567_row36_col1, #T_bd567_row37_col0, #T_bd567_row37_col1, #T_bd567_row38_col0, #T_bd567_row38_col1, #T_bd567_row39_col0, #T_bd567_row39_col1, #T_bd567_row40_col0, #T_bd567_row40_col1, #T_bd567_row41_col0, #T_bd567_row41_col1, #T_bd567_row42_col0, #T_bd567_row42_col1, #T_bd567_row43_col0, #T_bd567_row43_col1, #T_bd567_row44_col0, #T_bd567_row44_col1, #T_bd567_row45_col0, #T_bd567_row45_col1, #T_bd567_row46_col0, #T_bd567_row46_col1, #T_bd567_row47_col0, #T_bd567_row47_col1, #T_bd567_row48_col0, #T_bd567_row48_col1, #T_bd567_row49_col0, #T_bd567_row49_col1, #T_bd567_row50_col0, #T_bd567_row50_col1, #T_bd567_row51_col0, #T_bd567_row51_col1, #T_bd567_row52_col0, #T_bd567_row52_col1, #T_bd567_row53_col0, #T_bd567_row53_col1, #T_bd567_row54_col0, #T_bd567_row54_col1, #T_bd567_row55_col0, #T_bd567_row55_col1, #T_bd567_row56_col0, #T_bd567_row56_col1, #T_bd567_row57_col0, #T_bd567_row57_col1, #T_bd567_row58_col0, #T_bd567_row58_col1, #T_bd567_row59_col0, #T_bd567_row59_col1, #T_bd567_row60_col0, #T_bd567_row60_col1, #T_bd567_row61_col0, #T_bd567_row61_col1, #T_bd567_row62_col0, #T_bd567_row62_col1, #T_bd567_row63_col0, #T_bd567_row63_col1, #T_bd567_row64_col0, #T_bd567_row64_col1, #T_bd567_row65_col0, #T_bd567_row65_col1, #T_bd567_row66_col0, #T_bd567_row66_col1, #T_bd567_row67_col0, #T_bd567_row67_col1, #T_bd567_row68_col0, #T_bd567_row68_col1, #T_bd567_row69_col0, #T_bd567_row69_col1, #T_bd567_row70_col0, #T_bd567_row70_col1, #T_bd567_row71_col0, #T_bd567_row71_col1, #T_bd567_row72_col0, #T_bd567_row72_col1, #T_bd567_row73_col0, #T_bd567_row73_col1, #T_bd567_row74_col0, #T_bd567_row74_col1, #T_bd567_row75_col0, #T_bd567_row75_col1, #T_bd567_row76_col0, #T_bd567_row76_col1, #T_bd567_row77_col0, #T_bd567_row77_col1, #T_bd567_row78_col0, #T_bd567_row78_col1, #T_bd567_row79_col0, #T_bd567_row79_col1, #T_bd567_row80_col0, #T_bd567_row80_col1, #T_bd567_row81_col0, #T_bd567_row81_col1, #T_bd567_row82_col0, #T_bd567_row82_col1, #T_bd567_row83_col0, #T_bd567_row83_col1, #T_bd567_row84_col0, #T_bd567_row84_col1, #T_bd567_row85_col0, #T_bd567_row85_col1, #T_bd567_row86_col0, #T_bd567_row86_col1, #T_bd567_row87_col0, #T_bd567_row87_col1, #T_bd567_row88_col0, #T_bd567_row88_col1, #T_bd567_row89_col0, #T_bd567_row89_col1, #T_bd567_row90_col0, #T_bd567_row90_col1, #T_bd567_row91_col0, #T_bd567_row91_col1, #T_bd567_row92_col0, #T_bd567_row92_col1, #T_bd567_row93_col0, #T_bd567_row93_col1, #T_bd567_row94_col0, #T_bd567_row94_col1, #T_bd567_row95_col0, #T_bd567_row95_col1, #T_bd567_row96_col0, #T_bd567_row96_col1, #T_bd567_row97_col0, #T_bd567_row97_col1, #T_bd567_row98_col0, #T_bd567_row98_col1, #T_bd567_row99_col0, #T_bd567_row99_col1, #T_bd567_row100_col0, #T_bd567_row100_col1, #T_bd567_row101_col0, #T_bd567_row101_col1, #T_bd567_row102_col0, #T_bd567_row102_col1, #T_bd567_row103_col0, #T_bd567_row103_col1, #T_bd567_row104_col0, #T_bd567_row104_col1 {\n",
       "  text-align: left;\n",
       "}\n",
       "</style>\n",
       "<table id=\"T_bd567\">\n",
       "  <thead>\n",
       "    <tr>\n",
       "      <th class=\"blank level0\" >&nbsp;</th>\n",
       "      <th id=\"T_bd567_level0_col0\" class=\"col_heading level0 col0\" >QuestionText</th>\n",
       "      <th id=\"T_bd567_level0_col1\" class=\"col_heading level0 col1\" >QuestionID</th>\n",
       "    </tr>\n",
       "  </thead>\n",
       "  <tbody>\n",
       "    <tr>\n",
       "      <th id=\"T_bd567_level0_row0\" class=\"row_heading level0 row0\" >0</th>\n",
       "      <td id=\"T_bd567_row0_col0\" class=\"data row0 col0\" >What is your age?</td>\n",
       "      <td id=\"T_bd567_row0_col1\" class=\"data row0 col1\" >1</td>\n",
       "    </tr>\n",
       "    <tr>\n",
       "      <th id=\"T_bd567_level0_row1\" class=\"row_heading level0 row1\" >1</th>\n",
       "      <td id=\"T_bd567_row1_col0\" class=\"data row1 col0\" >What is your gender?</td>\n",
       "      <td id=\"T_bd567_row1_col1\" class=\"data row1 col1\" >2</td>\n",
       "    </tr>\n",
       "    <tr>\n",
       "      <th id=\"T_bd567_level0_row2\" class=\"row_heading level0 row2\" >2</th>\n",
       "      <td id=\"T_bd567_row2_col0\" class=\"data row2 col0\" >What country do you live in?</td>\n",
       "      <td id=\"T_bd567_row2_col1\" class=\"data row2 col1\" >3</td>\n",
       "    </tr>\n",
       "    <tr>\n",
       "      <th id=\"T_bd567_level0_row3\" class=\"row_heading level0 row3\" >3</th>\n",
       "      <td id=\"T_bd567_row3_col0\" class=\"data row3 col0\" >If you live in the United States, which state or territory do you live in?</td>\n",
       "      <td id=\"T_bd567_row3_col1\" class=\"data row3 col1\" >4</td>\n",
       "    </tr>\n",
       "    <tr>\n",
       "      <th id=\"T_bd567_level0_row4\" class=\"row_heading level0 row4\" >4</th>\n",
       "      <td id=\"T_bd567_row4_col0\" class=\"data row4 col0\" >Are you self-employed?</td>\n",
       "      <td id=\"T_bd567_row4_col1\" class=\"data row4 col1\" >5</td>\n",
       "    </tr>\n",
       "    <tr>\n",
       "      <th id=\"T_bd567_level0_row5\" class=\"row_heading level0 row5\" >5</th>\n",
       "      <td id=\"T_bd567_row5_col0\" class=\"data row5 col0\" >Do you have a family history of mental illness?</td>\n",
       "      <td id=\"T_bd567_row5_col1\" class=\"data row5 col1\" >6</td>\n",
       "    </tr>\n",
       "    <tr>\n",
       "      <th id=\"T_bd567_level0_row6\" class=\"row_heading level0 row6\" >6</th>\n",
       "      <td id=\"T_bd567_row6_col0\" class=\"data row6 col0\" >Have you ever sought treatment for a mental health disorder from a mental health professional?</td>\n",
       "      <td id=\"T_bd567_row6_col1\" class=\"data row6 col1\" >7</td>\n",
       "    </tr>\n",
       "    <tr>\n",
       "      <th id=\"T_bd567_level0_row7\" class=\"row_heading level0 row7\" >7</th>\n",
       "      <td id=\"T_bd567_row7_col0\" class=\"data row7 col0\" >How many employees does your company or organization have?</td>\n",
       "      <td id=\"T_bd567_row7_col1\" class=\"data row7 col1\" >8</td>\n",
       "    </tr>\n",
       "    <tr>\n",
       "      <th id=\"T_bd567_level0_row8\" class=\"row_heading level0 row8\" >8</th>\n",
       "      <td id=\"T_bd567_row8_col0\" class=\"data row8 col0\" >Is your employer primarily a tech company/organization?</td>\n",
       "      <td id=\"T_bd567_row8_col1\" class=\"data row8 col1\" >9</td>\n",
       "    </tr>\n",
       "    <tr>\n",
       "      <th id=\"T_bd567_level0_row9\" class=\"row_heading level0 row9\" >9</th>\n",
       "      <td id=\"T_bd567_row9_col0\" class=\"data row9 col0\" >Does your employer provide mental health benefits as part of healthcare coverage?</td>\n",
       "      <td id=\"T_bd567_row9_col1\" class=\"data row9 col1\" >10</td>\n",
       "    </tr>\n",
       "    <tr>\n",
       "      <th id=\"T_bd567_level0_row10\" class=\"row_heading level0 row10\" >10</th>\n",
       "      <td id=\"T_bd567_row10_col0\" class=\"data row10 col0\" >Is your anonymity protected if you choose to take advantage of mental health or substance abuse treatment resources provided by your employer?</td>\n",
       "      <td id=\"T_bd567_row10_col1\" class=\"data row10 col1\" >11</td>\n",
       "    </tr>\n",
       "    <tr>\n",
       "      <th id=\"T_bd567_level0_row11\" class=\"row_heading level0 row11\" >11</th>\n",
       "      <td id=\"T_bd567_row11_col0\" class=\"data row11 col0\" >Would you bring up a mental health issue with a potential employer in an interview?</td>\n",
       "      <td id=\"T_bd567_row11_col1\" class=\"data row11 col1\" >12</td>\n",
       "    </tr>\n",
       "    <tr>\n",
       "      <th id=\"T_bd567_level0_row12\" class=\"row_heading level0 row12\" >12</th>\n",
       "      <td id=\"T_bd567_row12_col0\" class=\"data row12 col0\" >Is your primary role within your company related to tech/IT?</td>\n",
       "      <td id=\"T_bd567_row12_col1\" class=\"data row12 col1\" >13</td>\n",
       "    </tr>\n",
       "    <tr>\n",
       "      <th id=\"T_bd567_level0_row13\" class=\"row_heading level0 row13\" >13</th>\n",
       "      <td id=\"T_bd567_row13_col0\" class=\"data row13 col0\" >Do you know the options for mental health care available under your employer-provided health coverage?</td>\n",
       "      <td id=\"T_bd567_row13_col1\" class=\"data row13 col1\" >14</td>\n",
       "    </tr>\n",
       "    <tr>\n",
       "      <th id=\"T_bd567_level0_row14\" class=\"row_heading level0 row14\" >14</th>\n",
       "      <td id=\"T_bd567_row14_col0\" class=\"data row14 col0\" >Has your employer ever formally discussed mental health (for example, as part of a wellness campaign or other official communication)?</td>\n",
       "      <td id=\"T_bd567_row14_col1\" class=\"data row14 col1\" >15</td>\n",
       "    </tr>\n",
       "    <tr>\n",
       "      <th id=\"T_bd567_level0_row15\" class=\"row_heading level0 row15\" >15</th>\n",
       "      <td id=\"T_bd567_row15_col0\" class=\"data row15 col0\" >Does your employer offer resources to learn more about mental health disorders and options for seeking help?</td>\n",
       "      <td id=\"T_bd567_row15_col1\" class=\"data row15 col1\" >16</td>\n",
       "    </tr>\n",
       "    <tr>\n",
       "      <th id=\"T_bd567_level0_row16\" class=\"row_heading level0 row16\" >16</th>\n",
       "      <td id=\"T_bd567_row16_col0\" class=\"data row16 col0\" >If a mental health issue prompted you to request a medical leave from work, how easy or difficult would it be to ask for that leave?</td>\n",
       "      <td id=\"T_bd567_row16_col1\" class=\"data row16 col1\" >17</td>\n",
       "    </tr>\n",
       "    <tr>\n",
       "      <th id=\"T_bd567_level0_row17\" class=\"row_heading level0 row17\" >17</th>\n",
       "      <td id=\"T_bd567_row17_col0\" class=\"data row17 col0\" >Would you feel comfortable discussing a mental health issue with your coworkers?</td>\n",
       "      <td id=\"T_bd567_row17_col1\" class=\"data row17 col1\" >18</td>\n",
       "    </tr>\n",
       "    <tr>\n",
       "      <th id=\"T_bd567_level0_row18\" class=\"row_heading level0 row18\" >18</th>\n",
       "      <td id=\"T_bd567_row18_col0\" class=\"data row18 col0\" >Would you feel comfortable discussing a mental health issue with your direct supervisor(s)?</td>\n",
       "      <td id=\"T_bd567_row18_col1\" class=\"data row18 col1\" >19</td>\n",
       "    </tr>\n",
       "    <tr>\n",
       "      <th id=\"T_bd567_level0_row19\" class=\"row_heading level0 row19\" >19</th>\n",
       "      <td id=\"T_bd567_row19_col0\" class=\"data row19 col0\" >Do you have medical coverage (private insurance or state-provided) that includes treatment of mental health disorders?</td>\n",
       "      <td id=\"T_bd567_row19_col1\" class=\"data row19 col1\" >20</td>\n",
       "    </tr>\n",
       "    <tr>\n",
       "      <th id=\"T_bd567_level0_row20\" class=\"row_heading level0 row20\" >20</th>\n",
       "      <td id=\"T_bd567_row20_col0\" class=\"data row20 col0\" >Do you know local or online resources to seek help for a mental health issue?</td>\n",
       "      <td id=\"T_bd567_row20_col1\" class=\"data row20 col1\" >21</td>\n",
       "    </tr>\n",
       "    <tr>\n",
       "      <th id=\"T_bd567_level0_row21\" class=\"row_heading level0 row21\" >21</th>\n",
       "      <td id=\"T_bd567_row21_col0\" class=\"data row21 col0\" >Do you have previous employers?</td>\n",
       "      <td id=\"T_bd567_row21_col1\" class=\"data row21 col1\" >22</td>\n",
       "    </tr>\n",
       "    <tr>\n",
       "      <th id=\"T_bd567_level0_row22\" class=\"row_heading level0 row22\" >22</th>\n",
       "      <td id=\"T_bd567_row22_col0\" class=\"data row22 col0\" >Have your previous employers provided mental health benefits?</td>\n",
       "      <td id=\"T_bd567_row22_col1\" class=\"data row22 col1\" >23</td>\n",
       "    </tr>\n",
       "    <tr>\n",
       "      <th id=\"T_bd567_level0_row23\" class=\"row_heading level0 row23\" >23</th>\n",
       "      <td id=\"T_bd567_row23_col0\" class=\"data row23 col0\" >Were you aware of the options for mental health care provided by your previous employers?</td>\n",
       "      <td id=\"T_bd567_row23_col1\" class=\"data row23 col1\" >24</td>\n",
       "    </tr>\n",
       "    <tr>\n",
       "      <th id=\"T_bd567_level0_row24\" class=\"row_heading level0 row24\" >24</th>\n",
       "      <td id=\"T_bd567_row24_col0\" class=\"data row24 col0\" >Did your previous employers ever formally discuss mental health (as part of a wellness campaign or other official communication)?</td>\n",
       "      <td id=\"T_bd567_row24_col1\" class=\"data row24 col1\" >25</td>\n",
       "    </tr>\n",
       "    <tr>\n",
       "      <th id=\"T_bd567_level0_row25\" class=\"row_heading level0 row25\" >25</th>\n",
       "      <td id=\"T_bd567_row25_col0\" class=\"data row25 col0\" >Did your previous employers provide resources to learn more about mental health disorders and how to seek help?</td>\n",
       "      <td id=\"T_bd567_row25_col1\" class=\"data row25 col1\" >26</td>\n",
       "    </tr>\n",
       "    <tr>\n",
       "      <th id=\"T_bd567_level0_row26\" class=\"row_heading level0 row26\" >26</th>\n",
       "      <td id=\"T_bd567_row26_col0\" class=\"data row26 col0\" >Was your anonymity protected if you chose to take advantage of mental health or substance abuse treatment resources with previous employers?</td>\n",
       "      <td id=\"T_bd567_row26_col1\" class=\"data row26 col1\" >27</td>\n",
       "    </tr>\n",
       "    <tr>\n",
       "      <th id=\"T_bd567_level0_row27\" class=\"row_heading level0 row27\" >27</th>\n",
       "      <td id=\"T_bd567_row27_col0\" class=\"data row27 col0\" >Would you have been willing to discuss your mental health with your direct supervisor(s)?</td>\n",
       "      <td id=\"T_bd567_row27_col1\" class=\"data row27 col1\" >28</td>\n",
       "    </tr>\n",
       "    <tr>\n",
       "      <th id=\"T_bd567_level0_row28\" class=\"row_heading level0 row28\" >28</th>\n",
       "      <td id=\"T_bd567_row28_col0\" class=\"data row28 col0\" >Would you be willing to bring up a physical health issue with a potential employer in an interview?</td>\n",
       "      <td id=\"T_bd567_row28_col1\" class=\"data row28 col1\" >29</td>\n",
       "    </tr>\n",
       "    <tr>\n",
       "      <th id=\"T_bd567_level0_row29\" class=\"row_heading level0 row29\" >29</th>\n",
       "      <td id=\"T_bd567_row29_col0\" class=\"data row29 col0\" >How willing would you be to share with friends and family that you have a mental illness?</td>\n",
       "      <td id=\"T_bd567_row29_col1\" class=\"data row29 col1\" >30</td>\n",
       "    </tr>\n",
       "    <tr>\n",
       "      <th id=\"T_bd567_level0_row30\" class=\"row_heading level0 row30\" >30</th>\n",
       "      <td id=\"T_bd567_row30_col0\" class=\"data row30 col0\" >Have your observations of how another individual who discussed a mental health disorder made you less likely to reveal a mental health issue yourself in your current workplace?</td>\n",
       "      <td id=\"T_bd567_row30_col1\" class=\"data row30 col1\" >31</td>\n",
       "    </tr>\n",
       "    <tr>\n",
       "      <th id=\"T_bd567_level0_row31\" class=\"row_heading level0 row31\" >31</th>\n",
       "      <td id=\"T_bd567_row31_col0\" class=\"data row31 col0\" >Have you had a mental health disorder in the past?</td>\n",
       "      <td id=\"T_bd567_row31_col1\" class=\"data row31 col1\" >32</td>\n",
       "    </tr>\n",
       "    <tr>\n",
       "      <th id=\"T_bd567_level0_row32\" class=\"row_heading level0 row32\" >32</th>\n",
       "      <td id=\"T_bd567_row32_col0\" class=\"data row32 col0\" >Do you currently have a mental health disorder?</td>\n",
       "      <td id=\"T_bd567_row32_col1\" class=\"data row32 col1\" >33</td>\n",
       "    </tr>\n",
       "    <tr>\n",
       "      <th id=\"T_bd567_level0_row33\" class=\"row_heading level0 row33\" >33</th>\n",
       "      <td id=\"T_bd567_row33_col0\" class=\"data row33 col0\" >Have you ever been diagnosed with a mental health disorder?</td>\n",
       "      <td id=\"T_bd567_row33_col1\" class=\"data row33 col1\" >34</td>\n",
       "    </tr>\n",
       "    <tr>\n",
       "      <th id=\"T_bd567_level0_row34\" class=\"row_heading level0 row34\" >34</th>\n",
       "      <td id=\"T_bd567_row34_col0\" class=\"data row34 col0\" >If you have a mental health disorder, how often do you feel that it interferes with your work when being treated effectively?</td>\n",
       "      <td id=\"T_bd567_row34_col1\" class=\"data row34 col1\" >48</td>\n",
       "    </tr>\n",
       "    <tr>\n",
       "      <th id=\"T_bd567_level0_row35\" class=\"row_heading level0 row35\" >35</th>\n",
       "      <td id=\"T_bd567_row35_col0\" class=\"data row35 col0\" >If you have a mental health disorder, how often do you feel that it interferes with your work when not being treated effectively (i.e., when you are experiencing symptoms)?</td>\n",
       "      <td id=\"T_bd567_row35_col1\" class=\"data row35 col1\" >49</td>\n",
       "    </tr>\n",
       "    <tr>\n",
       "      <th id=\"T_bd567_level0_row36\" class=\"row_heading level0 row36\" >36</th>\n",
       "      <td id=\"T_bd567_row36_col0\" class=\"data row36 col0\" >What country do you work in?</td>\n",
       "      <td id=\"T_bd567_row36_col1\" class=\"data row36 col1\" >50</td>\n",
       "    </tr>\n",
       "    <tr>\n",
       "      <th id=\"T_bd567_level0_row37\" class=\"row_heading level0 row37\" >37</th>\n",
       "      <td id=\"T_bd567_row37_col0\" class=\"data row37 col0\" >What US state or territory do you work in?</td>\n",
       "      <td id=\"T_bd567_row37_col1\" class=\"data row37 col1\" >51</td>\n",
       "    </tr>\n",
       "    <tr>\n",
       "      <th id=\"T_bd567_level0_row38\" class=\"row_heading level0 row38\" >38</th>\n",
       "      <td id=\"T_bd567_row38_col0\" class=\"data row38 col0\" >If you have been diagnosed or treated for a mental health disorder, do you ever reveal this to clients or business contacts?</td>\n",
       "      <td id=\"T_bd567_row38_col1\" class=\"data row38 col1\" >52</td>\n",
       "    </tr>\n",
       "    <tr>\n",
       "      <th id=\"T_bd567_level0_row39\" class=\"row_heading level0 row39\" >39</th>\n",
       "      <td id=\"T_bd567_row39_col0\" class=\"data row39 col0\" >If you have been diagnosed or treated for a mental health disorder, do you ever reveal this to coworkers or employees?</td>\n",
       "      <td id=\"T_bd567_row39_col1\" class=\"data row39 col1\" >53</td>\n",
       "    </tr>\n",
       "    <tr>\n",
       "      <th id=\"T_bd567_level0_row40\" class=\"row_heading level0 row40\" >40</th>\n",
       "      <td id=\"T_bd567_row40_col0\" class=\"data row40 col0\" >Do you believe your productivity is ever affected by a mental health issue?</td>\n",
       "      <td id=\"T_bd567_row40_col1\" class=\"data row40 col1\" >54</td>\n",
       "    </tr>\n",
       "    <tr>\n",
       "      <th id=\"T_bd567_level0_row41\" class=\"row_heading level0 row41\" >41</th>\n",
       "      <td id=\"T_bd567_row41_col0\" class=\"data row41 col0\" >If yes, what percentage of your work time (time performing primary or secondary job functions) is affected by a mental health issue?</td>\n",
       "      <td id=\"T_bd567_row41_col1\" class=\"data row41 col1\" >55</td>\n",
       "    </tr>\n",
       "    <tr>\n",
       "      <th id=\"T_bd567_level0_row42\" class=\"row_heading level0 row42\" >42</th>\n",
       "      <td id=\"T_bd567_row42_col0\" class=\"data row42 col0\" >Have you observed or experienced an unsupportive or badly handled response to a mental health issue in your current or previous workplace?</td>\n",
       "      <td id=\"T_bd567_row42_col1\" class=\"data row42 col1\" >56</td>\n",
       "    </tr>\n",
       "    <tr>\n",
       "      <th id=\"T_bd567_level0_row43\" class=\"row_heading level0 row43\" >43</th>\n",
       "      <td id=\"T_bd567_row43_col0\" class=\"data row43 col0\" >Would you feel more comfortable talking to your coworkers about your physical health or your mental health?</td>\n",
       "      <td id=\"T_bd567_row43_col1\" class=\"data row43 col1\" >57</td>\n",
       "    </tr>\n",
       "    <tr>\n",
       "      <th id=\"T_bd567_level0_row44\" class=\"row_heading level0 row44\" >44</th>\n",
       "      <td id=\"T_bd567_row44_col0\" class=\"data row44 col0\" >Have you ever discussed your mental health with your employer?</td>\n",
       "      <td id=\"T_bd567_row44_col1\" class=\"data row44 col1\" >58</td>\n",
       "    </tr>\n",
       "    <tr>\n",
       "      <th id=\"T_bd567_level0_row45\" class=\"row_heading level0 row45\" >45</th>\n",
       "      <td id=\"T_bd567_row45_col0\" class=\"data row45 col0\" >Describe the conversation you had with your employer about your mental health, including their reactions and what actions were taken to address your mental health issue/questions.</td>\n",
       "      <td id=\"T_bd567_row45_col1\" class=\"data row45 col1\" >59</td>\n",
       "    </tr>\n",
       "    <tr>\n",
       "      <th id=\"T_bd567_level0_row46\" class=\"row_heading level0 row46\" >46</th>\n",
       "      <td id=\"T_bd567_row46_col0\" class=\"data row46 col0\" >Have you ever discussed your mental health with coworkers?</td>\n",
       "      <td id=\"T_bd567_row46_col1\" class=\"data row46 col1\" >60</td>\n",
       "    </tr>\n",
       "    <tr>\n",
       "      <th id=\"T_bd567_level0_row47\" class=\"row_heading level0 row47\" >47</th>\n",
       "      <td id=\"T_bd567_row47_col0\" class=\"data row47 col0\" >Describe the conversation with coworkers you had about your mental health including their reactions.</td>\n",
       "      <td id=\"T_bd567_row47_col1\" class=\"data row47 col1\" >61</td>\n",
       "    </tr>\n",
       "    <tr>\n",
       "      <th id=\"T_bd567_level0_row48\" class=\"row_heading level0 row48\" >48</th>\n",
       "      <td id=\"T_bd567_row48_col0\" class=\"data row48 col0\" >Have you ever had a coworker discuss their or another coworker's mental health with you?</td>\n",
       "      <td id=\"T_bd567_row48_col1\" class=\"data row48 col1\" >62</td>\n",
       "    </tr>\n",
       "    <tr>\n",
       "      <th id=\"T_bd567_level0_row49\" class=\"row_heading level0 row49\" >49</th>\n",
       "      <td id=\"T_bd567_row49_col0\" class=\"data row49 col0\" >Describe the conversation your coworker had with you about their mental health (please do not use names).</td>\n",
       "      <td id=\"T_bd567_row49_col1\" class=\"data row49 col1\" >63</td>\n",
       "    </tr>\n",
       "    <tr>\n",
       "      <th id=\"T_bd567_level0_row50\" class=\"row_heading level0 row50\" >50</th>\n",
       "      <td id=\"T_bd567_row50_col0\" class=\"data row50 col0\" >Overall, how much importance does your employer place on physical health?</td>\n",
       "      <td id=\"T_bd567_row50_col1\" class=\"data row50 col1\" >64</td>\n",
       "    </tr>\n",
       "    <tr>\n",
       "      <th id=\"T_bd567_level0_row51\" class=\"row_heading level0 row51\" >51</th>\n",
       "      <td id=\"T_bd567_row51_col0\" class=\"data row51 col0\" >Overall, how much importance does your employer place on mental health?</td>\n",
       "      <td id=\"T_bd567_row51_col1\" class=\"data row51 col1\" >65</td>\n",
       "    </tr>\n",
       "    <tr>\n",
       "      <th id=\"T_bd567_level0_row52\" class=\"row_heading level0 row52\" >52</th>\n",
       "      <td id=\"T_bd567_row52_col0\" class=\"data row52 col0\" >If you have revealed a mental health disorder to a client or business contact, how has this affected you or the relationship?</td>\n",
       "      <td id=\"T_bd567_row52_col1\" class=\"data row52 col1\" >66</td>\n",
       "    </tr>\n",
       "    <tr>\n",
       "      <th id=\"T_bd567_level0_row53\" class=\"row_heading level0 row53\" >53</th>\n",
       "      <td id=\"T_bd567_row53_col0\" class=\"data row53 col0\" >If you have revealed a mental health disorder to a coworker or employee, how has this impacted you or the relationship?</td>\n",
       "      <td id=\"T_bd567_row53_col1\" class=\"data row53 col1\" >67</td>\n",
       "    </tr>\n",
       "    <tr>\n",
       "      <th id=\"T_bd567_level0_row54\" class=\"row_heading level0 row54\" >54</th>\n",
       "      <td id=\"T_bd567_row54_col0\" class=\"data row54 col0\" >Was your employer primarily a tech company/organization?</td>\n",
       "      <td id=\"T_bd567_row54_col1\" class=\"data row54 col1\" >68</td>\n",
       "    </tr>\n",
       "    <tr>\n",
       "      <th id=\"T_bd567_level0_row55\" class=\"row_heading level0 row55\" >55</th>\n",
       "      <td id=\"T_bd567_row55_col0\" class=\"data row55 col0\" >Would you have felt more comfortable talking to your previous employer about your physical health or your mental health?</td>\n",
       "      <td id=\"T_bd567_row55_col1\" class=\"data row55 col1\" >69</td>\n",
       "    </tr>\n",
       "    <tr>\n",
       "      <th id=\"T_bd567_level0_row56\" class=\"row_heading level0 row56\" >56</th>\n",
       "      <td id=\"T_bd567_row56_col0\" class=\"data row56 col0\" >Did you ever discuss your mental health with your previous employer?</td>\n",
       "      <td id=\"T_bd567_row56_col1\" class=\"data row56 col1\" >70</td>\n",
       "    </tr>\n",
       "    <tr>\n",
       "      <th id=\"T_bd567_level0_row57\" class=\"row_heading level0 row57\" >57</th>\n",
       "      <td id=\"T_bd567_row57_col0\" class=\"data row57 col0\" >Describe the conversation you had with your previous employer about your mental health, including their reactions and actions taken to address your mental health issue/questions.</td>\n",
       "      <td id=\"T_bd567_row57_col1\" class=\"data row57 col1\" >71</td>\n",
       "    </tr>\n",
       "    <tr>\n",
       "      <th id=\"T_bd567_level0_row58\" class=\"row_heading level0 row58\" >58</th>\n",
       "      <td id=\"T_bd567_row58_col0\" class=\"data row58 col0\" >Did you ever discuss your mental health with a previous coworker(s)?</td>\n",
       "      <td id=\"T_bd567_row58_col1\" class=\"data row58 col1\" >72</td>\n",
       "    </tr>\n",
       "    <tr>\n",
       "      <th id=\"T_bd567_level0_row59\" class=\"row_heading level0 row59\" >59</th>\n",
       "      <td id=\"T_bd567_row59_col0\" class=\"data row59 col0\" >Describe the conversation you had with your previous coworkers about your mental health including their reactions.</td>\n",
       "      <td id=\"T_bd567_row59_col1\" class=\"data row59 col1\" >73</td>\n",
       "    </tr>\n",
       "    <tr>\n",
       "      <th id=\"T_bd567_level0_row60\" class=\"row_heading level0 row60\" >60</th>\n",
       "      <td id=\"T_bd567_row60_col0\" class=\"data row60 col0\" >Did you ever have a previous coworker discuss their or another coworker's mental health with you?</td>\n",
       "      <td id=\"T_bd567_row60_col1\" class=\"data row60 col1\" >74</td>\n",
       "    </tr>\n",
       "    <tr>\n",
       "      <th id=\"T_bd567_level0_row61\" class=\"row_heading level0 row61\" >61</th>\n",
       "      <td id=\"T_bd567_row61_col0\" class=\"data row61 col0\" >Describe the conversation your coworker had with you about their mental health (please do not use names)..1</td>\n",
       "      <td id=\"T_bd567_row61_col1\" class=\"data row61 col1\" >75</td>\n",
       "    </tr>\n",
       "    <tr>\n",
       "      <th id=\"T_bd567_level0_row62\" class=\"row_heading level0 row62\" >62</th>\n",
       "      <td id=\"T_bd567_row62_col0\" class=\"data row62 col0\" >Overall, how much importance did your previous employer place on physical health?</td>\n",
       "      <td id=\"T_bd567_row62_col1\" class=\"data row62 col1\" >76</td>\n",
       "    </tr>\n",
       "    <tr>\n",
       "      <th id=\"T_bd567_level0_row63\" class=\"row_heading level0 row63\" >63</th>\n",
       "      <td id=\"T_bd567_row63_col0\" class=\"data row63 col0\" >Overall, how much importance did your previous employer place on mental health?</td>\n",
       "      <td id=\"T_bd567_row63_col1\" class=\"data row63 col1\" >77</td>\n",
       "    </tr>\n",
       "    <tr>\n",
       "      <th id=\"T_bd567_level0_row64\" class=\"row_heading level0 row64\" >64</th>\n",
       "      <td id=\"T_bd567_row64_col0\" class=\"data row64 col0\" >Are you openly identified at work as a person with a mental health issue?</td>\n",
       "      <td id=\"T_bd567_row64_col1\" class=\"data row64 col1\" >78</td>\n",
       "    </tr>\n",
       "    <tr>\n",
       "      <th id=\"T_bd567_level0_row65\" class=\"row_heading level0 row65\" >65</th>\n",
       "      <td id=\"T_bd567_row65_col0\" class=\"data row65 col0\" >Has being identified as a person with a mental health issue affected your career?</td>\n",
       "      <td id=\"T_bd567_row65_col1\" class=\"data row65 col1\" >79</td>\n",
       "    </tr>\n",
       "    <tr>\n",
       "      <th id=\"T_bd567_level0_row66\" class=\"row_heading level0 row66\" >66</th>\n",
       "      <td id=\"T_bd567_row66_col0\" class=\"data row66 col0\" >How has it affected your career?</td>\n",
       "      <td id=\"T_bd567_row66_col1\" class=\"data row66 col1\" >80</td>\n",
       "    </tr>\n",
       "    <tr>\n",
       "      <th id=\"T_bd567_level0_row67\" class=\"row_heading level0 row67\" >67</th>\n",
       "      <td id=\"T_bd567_row67_col0\" class=\"data row67 col0\" >If they knew you suffered from a mental health disorder, how do you think that your team members/co-workers would react?</td>\n",
       "      <td id=\"T_bd567_row67_col1\" class=\"data row67 col1\" >81</td>\n",
       "    </tr>\n",
       "    <tr>\n",
       "      <th id=\"T_bd567_level0_row68\" class=\"row_heading level0 row68\" >68</th>\n",
       "      <td id=\"T_bd567_row68_col0\" class=\"data row68 col0\" >Describe the circumstances of the badly handled or unsupportive response.</td>\n",
       "      <td id=\"T_bd567_row68_col1\" class=\"data row68 col1\" >82</td>\n",
       "    </tr>\n",
       "    <tr>\n",
       "      <th id=\"T_bd567_level0_row69\" class=\"row_heading level0 row69\" >69</th>\n",
       "      <td id=\"T_bd567_row69_col0\" class=\"data row69 col0\" >Have you observed or experienced supportive or well handled response to a mental health issue in your current or previous workplace?</td>\n",
       "      <td id=\"T_bd567_row69_col1\" class=\"data row69 col1\" >83</td>\n",
       "    </tr>\n",
       "    <tr>\n",
       "      <th id=\"T_bd567_level0_row70\" class=\"row_heading level0 row70\" >70</th>\n",
       "      <td id=\"T_bd567_row70_col0\" class=\"data row70 col0\" >Describe the circumstances of the supportive or well handled response.</td>\n",
       "      <td id=\"T_bd567_row70_col1\" class=\"data row70 col1\" >84</td>\n",
       "    </tr>\n",
       "    <tr>\n",
       "      <th id=\"T_bd567_level0_row71\" class=\"row_heading level0 row71\" >71</th>\n",
       "      <td id=\"T_bd567_row71_col0\" class=\"data row71 col0\" >Overall, how well do you think the tech industry supports employees with mental health issues?</td>\n",
       "      <td id=\"T_bd567_row71_col1\" class=\"data row71 col1\" >85</td>\n",
       "    </tr>\n",
       "    <tr>\n",
       "      <th id=\"T_bd567_level0_row72\" class=\"row_heading level0 row72\" >72</th>\n",
       "      <td id=\"T_bd567_row72_col0\" class=\"data row72 col0\" >Briefly describe what you think the industry as a whole and/or employers could do to improve mental health support for employees.</td>\n",
       "      <td id=\"T_bd567_row72_col1\" class=\"data row72 col1\" >86</td>\n",
       "    </tr>\n",
       "    <tr>\n",
       "      <th id=\"T_bd567_level0_row73\" class=\"row_heading level0 row73\" >73</th>\n",
       "      <td id=\"T_bd567_row73_col0\" class=\"data row73 col0\" >If there is anything else you would like to tell us that has not been covered by the survey questions, please use this space to do so.</td>\n",
       "      <td id=\"T_bd567_row73_col1\" class=\"data row73 col1\" >87</td>\n",
       "    </tr>\n",
       "    <tr>\n",
       "      <th id=\"T_bd567_level0_row74\" class=\"row_heading level0 row74\" >74</th>\n",
       "      <td id=\"T_bd567_row74_col0\" class=\"data row74 col0\" >Would you be willing to talk to one of us more extensively about your experiences with mental health issues in the tech industry? (Note that all interview responses would be used _anonymously_ and only with your permission.)</td>\n",
       "      <td id=\"T_bd567_row74_col1\" class=\"data row74 col1\" >88</td>\n",
       "    </tr>\n",
       "    <tr>\n",
       "      <th id=\"T_bd567_level0_row75\" class=\"row_heading level0 row75\" >75</th>\n",
       "      <td id=\"T_bd567_row75_col0\" class=\"data row75 col0\" >What is your race?</td>\n",
       "      <td id=\"T_bd567_row75_col1\" class=\"data row75 col1\" >89</td>\n",
       "    </tr>\n",
       "    <tr>\n",
       "      <th id=\"T_bd567_level0_row76\" class=\"row_heading level0 row76\" >76</th>\n",
       "      <td id=\"T_bd567_row76_col0\" class=\"data row76 col0\" >Do you think that discussing a physical health issue with your employer would have negative consequences?</td>\n",
       "      <td id=\"T_bd567_row76_col1\" class=\"data row76 col1\" >90</td>\n",
       "    </tr>\n",
       "    <tr>\n",
       "      <th id=\"T_bd567_level0_row77\" class=\"row_heading level0 row77\" >77</th>\n",
       "      <td id=\"T_bd567_row77_col0\" class=\"data row77 col0\" >Do you feel that your employer takes mental health as seriously as physical health?</td>\n",
       "      <td id=\"T_bd567_row77_col1\" class=\"data row77 col1\" >91</td>\n",
       "    </tr>\n",
       "    <tr>\n",
       "      <th id=\"T_bd567_level0_row78\" class=\"row_heading level0 row78\" >78</th>\n",
       "      <td id=\"T_bd567_row78_col0\" class=\"data row78 col0\" >If you have a mental health condition, do you feel that it interferes with your work?</td>\n",
       "      <td id=\"T_bd567_row78_col1\" class=\"data row78 col1\" >92</td>\n",
       "    </tr>\n",
       "    <tr>\n",
       "      <th id=\"T_bd567_level0_row79\" class=\"row_heading level0 row79\" >79</th>\n",
       "      <td id=\"T_bd567_row79_col0\" class=\"data row79 col0\" >Do you work remotely (outside of an office) at least 50% of the time?</td>\n",
       "      <td id=\"T_bd567_row79_col1\" class=\"data row79 col1\" >93</td>\n",
       "    </tr>\n",
       "    <tr>\n",
       "      <th id=\"T_bd567_level0_row80\" class=\"row_heading level0 row80\" >80</th>\n",
       "      <td id=\"T_bd567_row80_col0\" class=\"data row80 col0\" >Do you know the options for mental health care your employer provides?</td>\n",
       "      <td id=\"T_bd567_row80_col1\" class=\"data row80 col1\" >94</td>\n",
       "    </tr>\n",
       "    <tr>\n",
       "      <th id=\"T_bd567_level0_row81\" class=\"row_heading level0 row81\" >81</th>\n",
       "      <td id=\"T_bd567_row81_col0\" class=\"data row81 col0\" >Has your employer ever discussed mental health as part of an employee wellness program?</td>\n",
       "      <td id=\"T_bd567_row81_col1\" class=\"data row81 col1\" >95</td>\n",
       "    </tr>\n",
       "    <tr>\n",
       "      <th id=\"T_bd567_level0_row82\" class=\"row_heading level0 row82\" >82</th>\n",
       "      <td id=\"T_bd567_row82_col0\" class=\"data row82 col0\" >Does your employer provide resources to learn more about mental health issues and how to seek help?</td>\n",
       "      <td id=\"T_bd567_row82_col1\" class=\"data row82 col1\" >96</td>\n",
       "    </tr>\n",
       "    <tr>\n",
       "      <th id=\"T_bd567_level0_row83\" class=\"row_heading level0 row83\" >83</th>\n",
       "      <td id=\"T_bd567_row83_col0\" class=\"data row83 col0\" >How easy is it for you to take medical leave for a mental health condition?</td>\n",
       "      <td id=\"T_bd567_row83_col1\" class=\"data row83 col1\" >97</td>\n",
       "    </tr>\n",
       "    <tr>\n",
       "      <th id=\"T_bd567_level0_row84\" class=\"row_heading level0 row84\" >84</th>\n",
       "      <td id=\"T_bd567_row84_col0\" class=\"data row84 col0\" >Do you think that discussing a mental health issue with your employer would have negative consequences?</td>\n",
       "      <td id=\"T_bd567_row84_col1\" class=\"data row84 col1\" >98</td>\n",
       "    </tr>\n",
       "    <tr>\n",
       "      <th id=\"T_bd567_level0_row85\" class=\"row_heading level0 row85\" >85</th>\n",
       "      <td id=\"T_bd567_row85_col0\" class=\"data row85 col0\" >Would you be willing to discuss a mental health issue with your coworkers?</td>\n",
       "      <td id=\"T_bd567_row85_col1\" class=\"data row85 col1\" >99</td>\n",
       "    </tr>\n",
       "    <tr>\n",
       "      <th id=\"T_bd567_level0_row86\" class=\"row_heading level0 row86\" >86</th>\n",
       "      <td id=\"T_bd567_row86_col0\" class=\"data row86 col0\" >Would you be willing to discuss a mental health issue with your direct supervisor(s)?</td>\n",
       "      <td id=\"T_bd567_row86_col1\" class=\"data row86 col1\" >100</td>\n",
       "    </tr>\n",
       "    <tr>\n",
       "      <th id=\"T_bd567_level0_row87\" class=\"row_heading level0 row87\" >87</th>\n",
       "      <td id=\"T_bd567_row87_col0\" class=\"data row87 col0\" >Would you bring up a physical health issue with a potential employer in an interview?</td>\n",
       "      <td id=\"T_bd567_row87_col1\" class=\"data row87 col1\" >101</td>\n",
       "    </tr>\n",
       "    <tr>\n",
       "      <th id=\"T_bd567_level0_row88\" class=\"row_heading level0 row88\" >88</th>\n",
       "      <td id=\"T_bd567_row88_col0\" class=\"data row88 col0\" >Have you heard of or observed negative consequences for coworkers with mental health conditions in your workplace?</td>\n",
       "      <td id=\"T_bd567_row88_col1\" class=\"data row88 col1\" >102</td>\n",
       "    </tr>\n",
       "    <tr>\n",
       "      <th id=\"T_bd567_level0_row89\" class=\"row_heading level0 row89\" >89</th>\n",
       "      <td id=\"T_bd567_row89_col0\" class=\"data row89 col0\" >Any additional notes or comments</td>\n",
       "      <td id=\"T_bd567_row89_col1\" class=\"data row89 col1\" >103</td>\n",
       "    </tr>\n",
       "    <tr>\n",
       "      <th id=\"T_bd567_level0_row90\" class=\"row_heading level0 row90\" >90</th>\n",
       "      <td id=\"T_bd567_row90_col0\" class=\"data row90 col0\" >Do you think that discussing a mental health disorder with your employer would have negative consequences?</td>\n",
       "      <td id=\"T_bd567_row90_col1\" class=\"data row90 col1\" >104</td>\n",
       "    </tr>\n",
       "    <tr>\n",
       "      <th id=\"T_bd567_level0_row91\" class=\"row_heading level0 row91\" >91</th>\n",
       "      <td id=\"T_bd567_row91_col0\" class=\"data row91 col0\" >Have you heard of or observed negative consequences for co-workers who have been open about mental health issues in your workplace?</td>\n",
       "      <td id=\"T_bd567_row91_col1\" class=\"data row91 col1\" >105</td>\n",
       "    </tr>\n",
       "    <tr>\n",
       "      <th id=\"T_bd567_level0_row92\" class=\"row_heading level0 row92\" >92</th>\n",
       "      <td id=\"T_bd567_row92_col0\" class=\"data row92 col0\" >If you have revealed a mental health issue to a client or business contact, do you believe this has impacted you negatively?</td>\n",
       "      <td id=\"T_bd567_row92_col1\" class=\"data row92 col1\" >106</td>\n",
       "    </tr>\n",
       "    <tr>\n",
       "      <th id=\"T_bd567_level0_row93\" class=\"row_heading level0 row93\" >93</th>\n",
       "      <td id=\"T_bd567_row93_col0\" class=\"data row93 col0\" >If you have revealed a mental health issue to a coworker or employee, do you believe this has impacted you negatively?</td>\n",
       "      <td id=\"T_bd567_row93_col1\" class=\"data row93 col1\" >107</td>\n",
       "    </tr>\n",
       "    <tr>\n",
       "      <th id=\"T_bd567_level0_row94\" class=\"row_heading level0 row94\" >94</th>\n",
       "      <td id=\"T_bd567_row94_col0\" class=\"data row94 col0\" >Do you think that discussing a mental health disorder with previous employers would have negative consequences?</td>\n",
       "      <td id=\"T_bd567_row94_col1\" class=\"data row94 col1\" >108</td>\n",
       "    </tr>\n",
       "    <tr>\n",
       "      <th id=\"T_bd567_level0_row95\" class=\"row_heading level0 row95\" >95</th>\n",
       "      <td id=\"T_bd567_row95_col0\" class=\"data row95 col0\" >Do you think that discussing a physical health issue with previous employers would have negative consequences?</td>\n",
       "      <td id=\"T_bd567_row95_col1\" class=\"data row95 col1\" >109</td>\n",
       "    </tr>\n",
       "    <tr>\n",
       "      <th id=\"T_bd567_level0_row96\" class=\"row_heading level0 row96\" >96</th>\n",
       "      <td id=\"T_bd567_row96_col0\" class=\"data row96 col0\" >Would you have been willing to discuss a mental health issue with your previous co-workers?</td>\n",
       "      <td id=\"T_bd567_row96_col1\" class=\"data row96 col1\" >110</td>\n",
       "    </tr>\n",
       "    <tr>\n",
       "      <th id=\"T_bd567_level0_row97\" class=\"row_heading level0 row97\" >97</th>\n",
       "      <td id=\"T_bd567_row97_col0\" class=\"data row97 col0\" >Did you feel that your previous employers took mental health as seriously as physical health?</td>\n",
       "      <td id=\"T_bd567_row97_col1\" class=\"data row97 col1\" >111</td>\n",
       "    </tr>\n",
       "    <tr>\n",
       "      <th id=\"T_bd567_level0_row98\" class=\"row_heading level0 row98\" >98</th>\n",
       "      <td id=\"T_bd567_row98_col0\" class=\"data row98 col0\" >Did you hear of or observe negative consequences for co-workers with mental health issues in your previous workplaces?</td>\n",
       "      <td id=\"T_bd567_row98_col1\" class=\"data row98 col1\" >112</td>\n",
       "    </tr>\n",
       "    <tr>\n",
       "      <th id=\"T_bd567_level0_row99\" class=\"row_heading level0 row99\" >99</th>\n",
       "      <td id=\"T_bd567_row99_col0\" class=\"data row99 col0\" >Do you feel that being identified as a person with a mental health issue would hurt your career?</td>\n",
       "      <td id=\"T_bd567_row99_col1\" class=\"data row99 col1\" >113</td>\n",
       "    </tr>\n",
       "    <tr>\n",
       "      <th id=\"T_bd567_level0_row100\" class=\"row_heading level0 row100\" >100</th>\n",
       "      <td id=\"T_bd567_row100_col0\" class=\"data row100 col0\" >Do you think that team members/co-workers would view you more negatively if they knew you suffered from a mental health issue?</td>\n",
       "      <td id=\"T_bd567_row100_col1\" class=\"data row100 col1\" >114</td>\n",
       "    </tr>\n",
       "    <tr>\n",
       "      <th id=\"T_bd567_level0_row101\" class=\"row_heading level0 row101\" >101</th>\n",
       "      <td id=\"T_bd567_row101_col0\" class=\"data row101 col0\" >If yes, what condition(s) have you been diagnosed with?</td>\n",
       "      <td id=\"T_bd567_row101_col1\" class=\"data row101 col1\" >115</td>\n",
       "    </tr>\n",
       "    <tr>\n",
       "      <th id=\"T_bd567_level0_row102\" class=\"row_heading level0 row102\" >102</th>\n",
       "      <td id=\"T_bd567_row102_col0\" class=\"data row102 col0\" >If maybe, what condition(s) do you believe you have?</td>\n",
       "      <td id=\"T_bd567_row102_col1\" class=\"data row102 col1\" >116</td>\n",
       "    </tr>\n",
       "    <tr>\n",
       "      <th id=\"T_bd567_level0_row103\" class=\"row_heading level0 row103\" >103</th>\n",
       "      <td id=\"T_bd567_row103_col0\" class=\"data row103 col0\" >Which of the following best describes your work position?</td>\n",
       "      <td id=\"T_bd567_row103_col1\" class=\"data row103 col1\" >117</td>\n",
       "    </tr>\n",
       "    <tr>\n",
       "      <th id=\"T_bd567_level0_row104\" class=\"row_heading level0 row104\" >104</th>\n",
       "      <td id=\"T_bd567_row104_col0\" class=\"data row104 col0\" >Do you work remotely?</td>\n",
       "      <td id=\"T_bd567_row104_col1\" class=\"data row104 col1\" >118</td>\n",
       "    </tr>\n",
       "  </tbody>\n",
       "</table>\n"
      ],
      "text/plain": [
       "<pandas.io.formats.style.Styler at 0x20b48c80c70>"
      ]
     },
     "execution_count": 9,
     "metadata": {},
     "output_type": "execute_result"
    }
   ],
   "source": [
    "df_questions = pd.read_sql_query(\"SELECT * FROM Question\", db_survey)\n",
    "df_questions.count().to_frame()\n",
    "df_questions = df_questions.rename(\n",
    "    columns={\"questiontext\": \"QuestionText\", \"questionid\": \"QuestionID\"}\n",
    ")\n",
    "df_questions.style.set_properties(**{'text-align': 'left'})"
   ]
  },
  {
   "cell_type": "code",
   "execution_count": 29,
   "id": "8a4f84df",
   "metadata": {},
   "outputs": [
    {
     "data": {
      "text/plain": [
       "105"
      ]
     },
     "execution_count": 29,
     "metadata": {},
     "output_type": "execute_result"
    }
   ],
   "source": [
    "df_questions.QuestionID.count()"
   ]
  },
  {
   "cell_type": "markdown",
   "id": "ae0bfc3c",
   "metadata": {},
   "source": [
    "### Section Summary\n",
    "> * Question ID is from 1 - 118. Number of rows is 1 - 104.\n",
    "> * 13 numbers are missing in the QuestionID column: 35, 36, 37, 38, 39, 40, 41, 42, 43, 44, 45, 46, 47.\n",
    "> * Eliminate question 87\n",
    "> * Question 15 and 95 are the same.\n"
   ]
  },
  {
   "cell_type": "markdown",
   "id": "a7ce2fb8",
   "metadata": {},
   "source": [
    "## Answer Database"
   ]
  },
  {
   "cell_type": "code",
   "execution_count": 30,
   "id": "b8bb96d5",
   "metadata": {},
   "outputs": [],
   "source": [
    "df_answers = pd.read_sql_query(\"SELECT * FROM Answer\", db_survey)"
   ]
  },
  {
   "cell_type": "code",
   "execution_count": 31,
   "id": "731f981d",
   "metadata": {
    "scrolled": true
   },
   "outputs": [
    {
     "data": {
      "text/html": [
       "<div>\n",
       "<style scoped>\n",
       "    .dataframe tbody tr th:only-of-type {\n",
       "        vertical-align: middle;\n",
       "    }\n",
       "\n",
       "    .dataframe tbody tr th {\n",
       "        vertical-align: top;\n",
       "    }\n",
       "\n",
       "    .dataframe thead th {\n",
       "        text-align: right;\n",
       "    }\n",
       "</style>\n",
       "<table border=\"1\" class=\"dataframe\">\n",
       "  <thead>\n",
       "    <tr style=\"text-align: right;\">\n",
       "      <th></th>\n",
       "      <th>AnswerText</th>\n",
       "      <th>SurveyID</th>\n",
       "      <th>UserID</th>\n",
       "      <th>QuestionID</th>\n",
       "    </tr>\n",
       "  </thead>\n",
       "  <tbody>\n",
       "    <tr>\n",
       "      <th>0</th>\n",
       "      <td>37</td>\n",
       "      <td>2014</td>\n",
       "      <td>1</td>\n",
       "      <td>1</td>\n",
       "    </tr>\n",
       "    <tr>\n",
       "      <th>1</th>\n",
       "      <td>44</td>\n",
       "      <td>2014</td>\n",
       "      <td>2</td>\n",
       "      <td>1</td>\n",
       "    </tr>\n",
       "    <tr>\n",
       "      <th>2</th>\n",
       "      <td>32</td>\n",
       "      <td>2014</td>\n",
       "      <td>3</td>\n",
       "      <td>1</td>\n",
       "    </tr>\n",
       "    <tr>\n",
       "      <th>3</th>\n",
       "      <td>31</td>\n",
       "      <td>2014</td>\n",
       "      <td>4</td>\n",
       "      <td>1</td>\n",
       "    </tr>\n",
       "    <tr>\n",
       "      <th>4</th>\n",
       "      <td>31</td>\n",
       "      <td>2014</td>\n",
       "      <td>5</td>\n",
       "      <td>1</td>\n",
       "    </tr>\n",
       "  </tbody>\n",
       "</table>\n",
       "</div>"
      ],
      "text/plain": [
       "  AnswerText  SurveyID  UserID  QuestionID\n",
       "0         37      2014       1           1\n",
       "1         44      2014       2           1\n",
       "2         32      2014       3           1\n",
       "3         31      2014       4           1\n",
       "4         31      2014       5           1"
      ]
     },
     "execution_count": 31,
     "metadata": {},
     "output_type": "execute_result"
    }
   ],
   "source": [
    "df_answers.head()"
   ]
  },
  {
   "cell_type": "code",
   "execution_count": 32,
   "id": "d8ff2c56",
   "metadata": {},
   "outputs": [
    {
     "data": {
      "text/plain": [
       "236898"
      ]
     },
     "execution_count": 32,
     "metadata": {},
     "output_type": "execute_result"
    }
   ],
   "source": [
    "df_answers.QuestionID.count()"
   ]
  },
  {
   "cell_type": "markdown",
   "id": "56278870",
   "metadata": {},
   "source": [
    "# Number of Participants"
   ]
  },
  {
   "cell_type": "code",
   "execution_count": 33,
   "id": "54e1908e",
   "metadata": {},
   "outputs": [
    {
     "data": {
      "text/html": [
       "<div>\n",
       "<style scoped>\n",
       "    .dataframe tbody tr th:only-of-type {\n",
       "        vertical-align: middle;\n",
       "    }\n",
       "\n",
       "    .dataframe tbody tr th {\n",
       "        vertical-align: top;\n",
       "    }\n",
       "\n",
       "    .dataframe thead th {\n",
       "        text-align: right;\n",
       "    }\n",
       "</style>\n",
       "<table border=\"1\" class=\"dataframe\">\n",
       "  <thead>\n",
       "    <tr style=\"text-align: right;\">\n",
       "      <th></th>\n",
       "      <th>Count</th>\n",
       "    </tr>\n",
       "    <tr>\n",
       "      <th>SurveyID</th>\n",
       "      <th></th>\n",
       "    </tr>\n",
       "  </thead>\n",
       "  <tbody>\n",
       "    <tr>\n",
       "      <th>2014</th>\n",
       "      <td>794430</td>\n",
       "    </tr>\n",
       "    <tr>\n",
       "      <th>2016</th>\n",
       "      <td>2833041</td>\n",
       "    </tr>\n",
       "    <tr>\n",
       "      <th>2017</th>\n",
       "      <td>2322054</td>\n",
       "    </tr>\n",
       "    <tr>\n",
       "      <th>2018</th>\n",
       "      <td>1525386</td>\n",
       "    </tr>\n",
       "    <tr>\n",
       "      <th>2019</th>\n",
       "      <td>1422960</td>\n",
       "    </tr>\n",
       "  </tbody>\n",
       "</table>\n",
       "</div>"
      ],
      "text/plain": [
       "            Count\n",
       "SurveyID         \n",
       "2014       794430\n",
       "2016      2833041\n",
       "2017      2322054\n",
       "2018      1525386\n",
       "2019      1422960"
      ]
     },
     "execution_count": 33,
     "metadata": {},
     "output_type": "execute_result"
    }
   ],
   "source": [
    "df_participants = pd.read_sql_query(\n",
    "    \"SELECT DISTINCT UserID, SurveyID FROM Answer\",\n",
    "    db_survey\n",
    ")\n",
    "\n",
    "df_participants = df_participants.groupby('SurveyID')['UserID'].sum().to_frame()\n",
    "df_participants.rename(columns={\"UserID\": \"Count\"}, inplace=True)\n",
    "df_participants"
   ]
  },
  {
   "cell_type": "code",
   "execution_count": 34,
   "id": "50663e90",
   "metadata": {},
   "outputs": [
    {
     "data": {
      "text/plain": [
       "Count    8897871\n",
       "dtype: int64"
      ]
     },
     "execution_count": 34,
     "metadata": {},
     "output_type": "execute_result"
    }
   ],
   "source": [
    "df_participants = df_participants.sum(numeric_only = True)\n",
    "df_participants"
   ]
  },
  {
   "cell_type": "markdown",
   "id": "be7956a1",
   "metadata": {},
   "source": [
    "# Tech Workers in Tech Companies"
   ]
  },
  {
   "cell_type": "markdown",
   "id": "f995bc8e",
   "metadata": {},
   "source": [
    "## QuestionID: 9\n",
    "Is your employer primarily a tech company/organization?"
   ]
  },
  {
   "cell_type": "code",
   "execution_count": 37,
   "id": "56f2966b",
   "metadata": {},
   "outputs": [],
   "source": [
    "df_Answer9 = pd.read_sql_query(\n",
    "    \"SELECT USERID FROM Answer where QuestionID = 9 AND AnswerText = '1'\",\n",
    "    db_survey\n",
    ")"
   ]
  },
  {
   "cell_type": "code",
   "execution_count": 38,
   "id": "e1195166",
   "metadata": {},
   "outputs": [
    {
     "data": {
      "text/plain": [
       "2888"
      ]
     },
     "execution_count": 38,
     "metadata": {},
     "output_type": "execute_result"
    }
   ],
   "source": [
    "df_Answer9.UserID.count()"
   ]
  },
  {
   "cell_type": "markdown",
   "id": "32374082",
   "metadata": {},
   "source": [
    "## QuestionID: 31\n",
    "Is your primary role within your company related to tech/IT?"
   ]
  },
  {
   "cell_type": "code",
   "execution_count": 39,
   "id": "ad7ef606",
   "metadata": {},
   "outputs": [],
   "source": [
    "df_Answer13 = pd.read_sql_query(\n",
    "    \"SELECT USERID FROM Answer where QuestionID = 13 AND AnswerText = '1'\",\n",
    "    db_survey\n",
    ")"
   ]
  },
  {
   "cell_type": "code",
   "execution_count": 40,
   "id": "0b28c6ae",
   "metadata": {},
   "outputs": [
    {
     "data": {
      "text/plain": [
       "1471"
      ]
     },
     "execution_count": 40,
     "metadata": {},
     "output_type": "execute_result"
    }
   ],
   "source": [
    "df_Answer13.UserID.count()"
   ]
  },
  {
   "cell_type": "code",
   "execution_count": 41,
   "id": "f1dedb9a",
   "metadata": {},
   "outputs": [],
   "source": [
    "df_TechinTech = pd.merge(df_Answer13, df_Answer9 , on='UserID', how='inner')"
   ]
  },
  {
   "cell_type": "code",
   "execution_count": 42,
   "id": "1d591b53",
   "metadata": {},
   "outputs": [
    {
     "data": {
      "text/plain": [
       "909"
      ]
     },
     "execution_count": 42,
     "metadata": {},
     "output_type": "execute_result"
    }
   ],
   "source": [
    "Total_TechinTech = df_TechinTech.UserID.count()\n",
    "Total_TechinTech"
   ]
  },
  {
   "cell_type": "markdown",
   "id": "9d607708",
   "metadata": {},
   "source": [
    "# Tech Worker Live Countries"
   ]
  },
  {
   "cell_type": "code",
   "execution_count": 135,
   "id": "53391b11",
   "metadata": {},
   "outputs": [],
   "source": [
    "df_Answer3 = pd.read_sql_query(\n",
    "    \"SELECT * FROM Answer where QuestionID = 3\",\n",
    "    db_survey\n",
    ")"
   ]
  },
  {
   "cell_type": "code",
   "execution_count": 136,
   "id": "481d0c46",
   "metadata": {},
   "outputs": [],
   "source": [
    "df_CountryLive = pd.merge(df_TechinTech, df_Answer3 , on='UserID', how='inner')"
   ]
  },
  {
   "cell_type": "code",
   "execution_count": 137,
   "id": "5fbdd04e",
   "metadata": {},
   "outputs": [],
   "source": [
    "df_CountryLive = df_CountryLive.drop(['UserID', 'SurveyID', 'QuestionID'], axis = 1)"
   ]
  },
  {
   "cell_type": "code",
   "execution_count": 138,
   "id": "8de03e3c",
   "metadata": {},
   "outputs": [
    {
     "data": {
      "text/plain": [
       "909"
      ]
     },
     "execution_count": 138,
     "metadata": {},
     "output_type": "execute_result"
    }
   ],
   "source": [
    "df_CountryLive.AnswerText.count()"
   ]
  },
  {
   "cell_type": "code",
   "execution_count": 139,
   "id": "12ad93fc",
   "metadata": {},
   "outputs": [],
   "source": [
    "df_CountryLive_counts = df_CountryLive.AnswerText.value_counts()"
   ]
  },
  {
   "cell_type": "code",
   "execution_count": 140,
   "id": "860ccab8",
   "metadata": {},
   "outputs": [],
   "source": [
    "df_CountryLive_counts = pd.DataFrame(df_CountryLive_counts)"
   ]
  },
  {
   "cell_type": "code",
   "execution_count": 141,
   "id": "bd531413",
   "metadata": {},
   "outputs": [],
   "source": [
    "df_CountryLive_counts = df_CountryLive_counts.reset_index()"
   ]
  },
  {
   "cell_type": "code",
   "execution_count": 142,
   "id": "0d9822ef",
   "metadata": {},
   "outputs": [],
   "source": [
    "df_CountryLive_counts = df_CountryLive_counts.rename(\n",
    "    columns={\"index\": \"Country\", \"AnswerText\": \"Count\"}\n",
    ")"
   ]
  },
  {
   "cell_type": "code",
   "execution_count": 143,
   "id": "2109cb46",
   "metadata": {},
   "outputs": [],
   "source": [
    "df_CountryLive_counts[\"Country\"] = df_CountryLive_counts[\"Country\"].replace(\n",
    "    {\n",
    "        \"-1\": \"Other\",\n",
    "        \"Bahamas, The\": \"Bahamas\",\n",
    "        \"United States of America\": 'United States'\n",
    "    }\n",
    ")"
   ]
  },
  {
   "cell_type": "code",
   "execution_count": 151,
   "id": "f6740c71",
   "metadata": {},
   "outputs": [],
   "source": [
    "Total_OtherCountries = df_CountryLive_counts[8:][['Count']].sum()\n",
    "Total_OtherCountries = Total_OtherCountries.Count"
   ]
  },
  {
   "cell_type": "code",
   "execution_count": 148,
   "id": "129a2bc3",
   "metadata": {
    "scrolled": true
   },
   "outputs": [
    {
     "data": {
      "text/html": [
       "<div>\n",
       "<style scoped>\n",
       "    .dataframe tbody tr th:only-of-type {\n",
       "        vertical-align: middle;\n",
       "    }\n",
       "\n",
       "    .dataframe tbody tr th {\n",
       "        vertical-align: top;\n",
       "    }\n",
       "\n",
       "    .dataframe thead th {\n",
       "        text-align: right;\n",
       "    }\n",
       "</style>\n",
       "<table border=\"1\" class=\"dataframe\">\n",
       "  <thead>\n",
       "    <tr style=\"text-align: right;\">\n",
       "      <th></th>\n",
       "      <th>Country</th>\n",
       "      <th>Count</th>\n",
       "    </tr>\n",
       "  </thead>\n",
       "  <tbody>\n",
       "    <tr>\n",
       "      <th>0</th>\n",
       "      <td>United States</td>\n",
       "      <td>624</td>\n",
       "    </tr>\n",
       "    <tr>\n",
       "      <th>1</th>\n",
       "      <td>United Kingdom</td>\n",
       "      <td>61</td>\n",
       "    </tr>\n",
       "    <tr>\n",
       "      <th>2</th>\n",
       "      <td>Canada</td>\n",
       "      <td>21</td>\n",
       "    </tr>\n",
       "    <tr>\n",
       "      <th>3</th>\n",
       "      <td>India</td>\n",
       "      <td>21</td>\n",
       "    </tr>\n",
       "    <tr>\n",
       "      <th>4</th>\n",
       "      <td>Portugal</td>\n",
       "      <td>18</td>\n",
       "    </tr>\n",
       "    <tr>\n",
       "      <th>5</th>\n",
       "      <td>Germany</td>\n",
       "      <td>18</td>\n",
       "    </tr>\n",
       "    <tr>\n",
       "      <th>6</th>\n",
       "      <td>France</td>\n",
       "      <td>16</td>\n",
       "    </tr>\n",
       "    <tr>\n",
       "      <th>7</th>\n",
       "      <td>Spain</td>\n",
       "      <td>15</td>\n",
       "    </tr>\n",
       "    <tr>\n",
       "      <th>8</th>\n",
       "      <td>Netherlands</td>\n",
       "      <td>14</td>\n",
       "    </tr>\n",
       "  </tbody>\n",
       "</table>\n",
       "</div>"
      ],
      "text/plain": [
       "          Country  Count\n",
       "0   United States    624\n",
       "1  United Kingdom     61\n",
       "2          Canada     21\n",
       "3           India     21\n",
       "4        Portugal     18\n",
       "5         Germany     18\n",
       "6          France     16\n",
       "7           Spain     15\n",
       "8     Netherlands     14"
      ]
     },
     "execution_count": 148,
     "metadata": {},
     "output_type": "execute_result"
    }
   ],
   "source": [
    "df_CountryLive_counts = df_CountryLive_counts[df_CountryLive_counts.Count >= 14]\n",
    "df_CountryLive_counts"
   ]
  },
  {
   "cell_type": "code",
   "execution_count": 149,
   "id": "4f8c88c2",
   "metadata": {},
   "outputs": [
    {
     "data": {
      "text/html": [
       "<div>\n",
       "<style scoped>\n",
       "    .dataframe tbody tr th:only-of-type {\n",
       "        vertical-align: middle;\n",
       "    }\n",
       "\n",
       "    .dataframe tbody tr th {\n",
       "        vertical-align: top;\n",
       "    }\n",
       "\n",
       "    .dataframe thead th {\n",
       "        text-align: right;\n",
       "    }\n",
       "</style>\n",
       "<table border=\"1\" class=\"dataframe\">\n",
       "  <thead>\n",
       "    <tr style=\"text-align: right;\">\n",
       "      <th></th>\n",
       "      <th>Country</th>\n",
       "      <th>Count</th>\n",
       "    </tr>\n",
       "  </thead>\n",
       "  <tbody>\n",
       "    <tr>\n",
       "      <th>0</th>\n",
       "      <td>United States</td>\n",
       "      <td>624</td>\n",
       "    </tr>\n",
       "    <tr>\n",
       "      <th>1</th>\n",
       "      <td>United Kingdom</td>\n",
       "      <td>61</td>\n",
       "    </tr>\n",
       "    <tr>\n",
       "      <th>2</th>\n",
       "      <td>Canada</td>\n",
       "      <td>21</td>\n",
       "    </tr>\n",
       "    <tr>\n",
       "      <th>3</th>\n",
       "      <td>India</td>\n",
       "      <td>21</td>\n",
       "    </tr>\n",
       "    <tr>\n",
       "      <th>4</th>\n",
       "      <td>Portugal</td>\n",
       "      <td>18</td>\n",
       "    </tr>\n",
       "    <tr>\n",
       "      <th>5</th>\n",
       "      <td>Germany</td>\n",
       "      <td>18</td>\n",
       "    </tr>\n",
       "    <tr>\n",
       "      <th>6</th>\n",
       "      <td>France</td>\n",
       "      <td>16</td>\n",
       "    </tr>\n",
       "    <tr>\n",
       "      <th>7</th>\n",
       "      <td>Spain</td>\n",
       "      <td>15</td>\n",
       "    </tr>\n",
       "    <tr>\n",
       "      <th>8</th>\n",
       "      <td>Netherlands</td>\n",
       "      <td>14</td>\n",
       "    </tr>\n",
       "    <tr>\n",
       "      <th>13</th>\n",
       "      <td>Other</td>\n",
       "      <td>115</td>\n",
       "    </tr>\n",
       "  </tbody>\n",
       "</table>\n",
       "</div>"
      ],
      "text/plain": [
       "           Country  Count\n",
       "0    United States    624\n",
       "1   United Kingdom     61\n",
       "2           Canada     21\n",
       "3            India     21\n",
       "4         Portugal     18\n",
       "5          Germany     18\n",
       "6           France     16\n",
       "7            Spain     15\n",
       "8      Netherlands     14\n",
       "13           Other    115"
      ]
     },
     "execution_count": 149,
     "metadata": {},
     "output_type": "execute_result"
    }
   ],
   "source": [
    "df_CountryLive_counts.loc[13] = ['Other', Total_OtherCountries] \n",
    "df_CountryLive_counts"
   ]
  },
  {
   "cell_type": "code",
   "execution_count": 150,
   "id": "e159b640",
   "metadata": {},
   "outputs": [
    {
     "data": {
      "image/png": "[encoded data removed]",
      "text/plain": [
       "<Figure size 1500x700 with 1 Axes>"
      ]
     },
     "metadata": {},
     "output_type": "display_data"
    }
   ],
   "source": [
    "plt.rcParams.update(params)\n",
    "\n",
    "fig, axes = plt.subplots(1, 1, figsize=(15, 7))\n",
    "sns.set(style=\"white\")\n",
    "\n",
    "chart = sns.barplot(\n",
    "    ax=axes,\n",
    "    x=\"Country\",\n",
    "    y=\"Count\",\n",
    "    data=df_CountryLive_counts,\n",
    "    errorbar=None,\n",
    "    palette=[ord_color if x != \"United States\" else spec_lev1\n",
    "        for x in df_CountryLive_counts[\"Country\"]],\n",
    ")\n",
    "\n",
    "\n",
    "plt.xlabel(\"Country\")\n",
    "plt.ylabel(\"Number of Tech Workers\")\n",
    "plt.xticks()\n",
    "plt.yticks()\n",
    "\n",
    "chart.set_xticklabels(chart.get_xticklabels(), rotation=45, horizontalalignment=\"right\")\n",
    "plt.suptitle(\"Countries Where Tech Workers Live\")\n",
    "\n",
    "plt.show()"
   ]
  },
  {
   "cell_type": "markdown",
   "id": "1fb272f3",
   "metadata": {},
   "source": [
    "# Profile Questions"
   ]
  },
  {
   "cell_type": "code",
   "execution_count": null,
   "id": "25d02a20",
   "metadata": {
    "scrolled": false
   },
   "outputs": [],
   "source": [
    "df_profile_questions = df_questions.iloc[[0, 1, 2, 3, 4, 5, 6, 10, 11, 17, 18, 22, 23, 24, 25, 36, 37, 43, 46, 47, 61]] \n",
    "df_profile_questions.style.set_properties(**{\"text-align\": \"left\"})"
   ]
  },
  {
   "cell_type": "code",
   "execution_count": null,
   "id": "a23c89f1",
   "metadata": {},
   "outputs": [],
   "source": [
    "df_profile_questions.shape[0]"
   ]
  },
  {
   "cell_type": "markdown",
   "id": "102aee1b",
   "metadata": {},
   "source": [
    "# Questions Related to the Employers"
   ]
  },
  {
   "cell_type": "code",
   "execution_count": null,
   "id": "84852da2",
   "metadata": {
    "scrolled": false
   },
   "outputs": [],
   "source": [
    "df_employer_questions = df_questions.iloc[[7, 8, 12, 13, 14, 28, 32, 33, 41, 42, 48, 49, 50,]] \n",
    "df_employer_questions.style.set_properties(**{\"text-align\": \"left\"})"
   ]
  },
  {
   "cell_type": "code",
   "execution_count": null,
   "id": "d1ba2135",
   "metadata": {},
   "outputs": [],
   "source": [
    "df_employer_questions.shape[0]"
   ]
  },
  {
   "cell_type": "markdown",
   "id": "5be1e90d",
   "metadata": {},
   "source": [
    "# Questions Related to Co-Worker or Business Contact"
   ]
  },
  {
   "cell_type": "code",
   "execution_count": null,
   "id": "9dc86a01",
   "metadata": {
    "scrolled": true
   },
   "outputs": [],
   "source": [
    "df_client_questions = df_questions.iloc[[34, 35, 40, 54, 56, 58]] \n",
    "df_client_questions.style.set_properties(**{\"text-align\": \"left\"})"
   ]
  },
  {
   "cell_type": "code",
   "execution_count": null,
   "id": "020db5c6",
   "metadata": {},
   "outputs": [],
   "source": [
    "df_client_questions.shape[0]"
   ]
  },
  {
   "cell_type": "markdown",
   "id": "f1925dff",
   "metadata": {},
   "source": [
    "# Conclusions"
   ]
  },
  {
   "cell_type": "markdown",
   "id": "612c766e",
   "metadata": {},
   "source": [
    "# Suggestions for Improvement"
   ]
  },
  {
   "cell_type": "markdown",
   "id": "c5be8e49",
   "metadata": {},
   "source": [
    "> * I concentrated on positives. \n",
    "> * I did not work on the narrative questions Some of the questions had a lot of NR. \n",
    "> * Some questions had not TechinTech who answered them at all. \n",
    "> * Stayed away from questions with scales of 1-10 TechinTech starts at ... UserID With attitude I found only 3 questions."
   ]
  },
  {
   "cell_type": "markdown",
   "id": "4db3c01b",
   "metadata": {},
   "source": [
    "# Appendix\n"
   ]
  },
  {
   "cell_type": "code",
   "execution_count": null,
   "id": "fef8505b",
   "metadata": {},
   "outputs": [],
   "source": []
  },
  {
   "cell_type": "code",
   "execution_count": null,
   "id": "f608a653",
   "metadata": {},
   "outputs": [],
   "source": []
  }
 ],
 "metadata": {
  "kernelspec": {
   "display_name": "Python 3 (ipykernel)",
   "language": "python",
   "name": "python3"
  },
  "language_info": {
   "codemirror_mode": {
    "name": "ipython",
    "version": 3
   },
   "file_extension": ".py",
   "mimetype": "text/x-python",
   "name": "python",
   "nbconvert_exporter": "python",
   "pygments_lexer": "ipython3",
   "version": "3.10.7"
  }
 },
 "nbformat": 4,
 "nbformat_minor": 5
}
