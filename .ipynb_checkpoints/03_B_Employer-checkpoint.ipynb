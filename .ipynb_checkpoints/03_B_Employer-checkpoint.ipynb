{
 "cells": [
  {
   "cell_type": "markdown",
   "id": "156950c1",
   "metadata": {},
   "source": [
    "# Employer"
   ]
  },
  {
   "cell_type": "code",
   "execution_count": 24,
   "id": "e1e914e5",
   "metadata": {},
   "outputs": [],
   "source": [
    "import pandas as pd\n",
    "import numpy as np\n",
    "import sqlite3\n",
    "import seaborn as sns\n",
    "import matplotlib as mpl\n",
    "import matplotlib.pyplot as plt\n",
    "import warnings\n",
    "import datetime\n",
    "import matplotlib.dates as mdates\n",
    "\n",
    "from scipy import stats\n",
    "from matplotlib.dates import DateFormatter\n",
    "from IPython.display import display"
   ]
  },
  {
   "cell_type": "markdown",
   "id": "d1b3e303",
   "metadata": {},
   "source": [
    "# Load and Display Raw Data"
   ]
  },
  {
   "cell_type": "code",
   "execution_count": 25,
   "id": "1e7b07c8",
   "metadata": {},
   "outputs": [],
   "source": [
    "db_survey = sqlite3.connect(\n",
    "    \"C:\\\\Users\\\\Space\\\\Documents\\\\py\\\\Projects\\\\TuringCollege\\\\TechMentalHealth\\\\DataSet\\\\mental_health.sqlite\"\n",
    ")"
   ]
  },
  {
   "cell_type": "code",
   "execution_count": 26,
   "id": "ed95df31",
   "metadata": {},
   "outputs": [],
   "source": [
    "%matplotlib inline\n",
    "pd.options.display.max_rows = 300000\n",
    "pd.options.display.max_columns = 999\n",
    "pd.options.display.max_colwidth = 500"
   ]
  },
  {
   "cell_type": "markdown",
   "id": "12ff2318",
   "metadata": {},
   "source": [
    "# Questions"
   ]
  },
  {
   "cell_type": "code",
   "execution_count": 27,
   "id": "2a53bfed",
   "metadata": {},
   "outputs": [],
   "source": [
    "df_questions = pd.read_sql_query(\"SELECT * FROM Question\", db_survey)"
   ]
  },
  {
   "cell_type": "code",
   "execution_count": 28,
   "id": "ca9fa011",
   "metadata": {
    "scrolled": false
   },
   "outputs": [],
   "source": [
    "df_questions.count().to_frame()\n",
    "df_questions = df_questions.rename(\n",
    "    columns={\"questiontext\": \"QuestionText\", \"questionid\": \"QuestionID\"}\n",
    ")"
   ]
  },
  {
   "cell_type": "markdown",
   "id": "39ccf8e0",
   "metadata": {},
   "source": [
    "# Remove Questions"
   ]
  },
  {
   "cell_type": "code",
   "execution_count": 29,
   "id": "f3db975b",
   "metadata": {},
   "outputs": [],
   "source": [
    "df_questions.drop(\n",
    "    df_questions.index[\n",
    "        [\n",
    "            3,\n",
    "            7,\n",
    "            21,\n",
    "            22,\n",
    "            23,\n",
    "            24,\n",
    "            25,\n",
    "            26,\n",
    "            28,\n",
    "            34,\n",
    "            35,\n",
    "            37,\n",
    "            40,\n",
    "            41,\n",
    "            45,\n",
    "            47,\n",
    "            48,\n",
    "            49,\n",
    "            55,\n",
    "            56,\n",
    "            57,\n",
    "            58,\n",
    "            59,\n",
    "            60,\n",
    "            61,\n",
    "            62,\n",
    "            63,\n",
    "            68,\n",
    "            70,\n",
    "            72,\n",
    "            73,\n",
    "            74,\n",
    "            75,\n",
    "            87,\n",
    "            89,\n",
    "            94,\n",
    "            95,\n",
    "            96,\n",
    "            97,\n",
    "            98,\n",
    "            101,\n",
    "            102,\n",
    "            103,\n",
    "        ]\n",
    "    ],\n",
    "    inplace=True,\n",
    ")"
   ]
  },
  {
   "cell_type": "code",
   "execution_count": 30,
   "id": "629adc41",
   "metadata": {
    "scrolled": true
   },
   "outputs": [],
   "source": [
    "df_questions = df_questions.reset_index()\n",
    "df_questions.index.names = ['Index']\n",
    "df_questions = df_questions.drop(['index'], axis = 1)"
   ]
  },
  {
   "cell_type": "markdown",
   "id": "102aee1b",
   "metadata": {},
   "source": [
    "# Employer Data Frame"
   ]
  },
  {
   "cell_type": "code",
   "execution_count": 31,
   "id": "84852da2",
   "metadata": {
    "scrolled": false
   },
   "outputs": [
    {
     "data": {
      "text/html": [
       "<style type=\"text/css\">\n",
       "#T_0a445_row0_col0, #T_0a445_row0_col1, #T_0a445_row1_col0, #T_0a445_row1_col1, #T_0a445_row2_col0, #T_0a445_row2_col1, #T_0a445_row3_col0, #T_0a445_row3_col1, #T_0a445_row4_col0, #T_0a445_row4_col1, #T_0a445_row5_col0, #T_0a445_row5_col1, #T_0a445_row6_col0, #T_0a445_row6_col1, #T_0a445_row7_col0, #T_0a445_row7_col1, #T_0a445_row8_col0, #T_0a445_row8_col1, #T_0a445_row9_col0, #T_0a445_row9_col1, #T_0a445_row10_col0, #T_0a445_row10_col1, #T_0a445_row11_col0, #T_0a445_row11_col1, #T_0a445_row12_col0, #T_0a445_row12_col1 {\n",
       "  text-align: left;\n",
       "}\n",
       "</style>\n",
       "<table id=\"T_0a445\">\n",
       "  <thead>\n",
       "    <tr>\n",
       "      <th class=\"blank level0\" >&nbsp;</th>\n",
       "      <th id=\"T_0a445_level0_col0\" class=\"col_heading level0 col0\" >QuestionText</th>\n",
       "      <th id=\"T_0a445_level0_col1\" class=\"col_heading level0 col1\" >QuestionID</th>\n",
       "    </tr>\n",
       "    <tr>\n",
       "      <th class=\"index_name level0\" >Index</th>\n",
       "      <th class=\"blank col0\" >&nbsp;</th>\n",
       "      <th class=\"blank col1\" >&nbsp;</th>\n",
       "    </tr>\n",
       "  </thead>\n",
       "  <tbody>\n",
       "    <tr>\n",
       "      <th id=\"T_0a445_level0_row0\" class=\"row_heading level0 row0\" >7</th>\n",
       "      <td id=\"T_0a445_row0_col0\" class=\"data row0 col0\" >Does your employer provide mental health benefits as part of healthcare coverage?</td>\n",
       "      <td id=\"T_0a445_row0_col1\" class=\"data row0 col1\" >10</td>\n",
       "    </tr>\n",
       "    <tr>\n",
       "      <th id=\"T_0a445_level0_row1\" class=\"row_heading level0 row1\" >8</th>\n",
       "      <td id=\"T_0a445_row1_col0\" class=\"data row1 col0\" >Is your anonymity protected if you choose to take advantage of mental health or substance abuse treatment resources provided by your employer?</td>\n",
       "      <td id=\"T_0a445_row1_col1\" class=\"data row1 col1\" >11</td>\n",
       "    </tr>\n",
       "    <tr>\n",
       "      <th id=\"T_0a445_level0_row2\" class=\"row_heading level0 row2\" >12</th>\n",
       "      <td id=\"T_0a445_row2_col0\" class=\"data row2 col0\" >Has your employer ever formally discussed mental health (for example, as part of a wellness campaign or other official communication)?</td>\n",
       "      <td id=\"T_0a445_row2_col1\" class=\"data row2 col1\" >15</td>\n",
       "    </tr>\n",
       "    <tr>\n",
       "      <th id=\"T_0a445_level0_row3\" class=\"row_heading level0 row3\" >13</th>\n",
       "      <td id=\"T_0a445_row3_col0\" class=\"data row3 col0\" >Does your employer offer resources to learn more about mental health disorders and options for seeking help?</td>\n",
       "      <td id=\"T_0a445_row3_col1\" class=\"data row3 col1\" >16</td>\n",
       "    </tr>\n",
       "    <tr>\n",
       "      <th id=\"T_0a445_level0_row4\" class=\"row_heading level0 row4\" >14</th>\n",
       "      <td id=\"T_0a445_row4_col0\" class=\"data row4 col0\" >If a mental health issue prompted you to request a medical leave from work, how easy or difficult would it be to ask for that leave?</td>\n",
       "      <td id=\"T_0a445_row4_col1\" class=\"data row4 col1\" >17</td>\n",
       "    </tr>\n",
       "    <tr>\n",
       "      <th id=\"T_0a445_level0_row5\" class=\"row_heading level0 row5\" >28</th>\n",
       "      <td id=\"T_0a445_row5_col0\" class=\"data row5 col0\" >Have you observed or experienced an unsupportive or badly handled response to a mental health issue in your current or previous workplace?</td>\n",
       "      <td id=\"T_0a445_row5_col1\" class=\"data row5 col1\" >56</td>\n",
       "    </tr>\n",
       "    <tr>\n",
       "      <th id=\"T_0a445_level0_row6\" class=\"row_heading level0 row6\" >32</th>\n",
       "      <td id=\"T_0a445_row6_col0\" class=\"data row6 col0\" >Overall, how much importance does your employer place on physical health?</td>\n",
       "      <td id=\"T_0a445_row6_col1\" class=\"data row6 col1\" >64</td>\n",
       "    </tr>\n",
       "    <tr>\n",
       "      <th id=\"T_0a445_level0_row7\" class=\"row_heading level0 row7\" >33</th>\n",
       "      <td id=\"T_0a445_row7_col0\" class=\"data row7 col0\" >Overall, how much importance does your employer place on mental health?</td>\n",
       "      <td id=\"T_0a445_row7_col1\" class=\"data row7 col1\" >65</td>\n",
       "    </tr>\n",
       "    <tr>\n",
       "      <th id=\"T_0a445_level0_row8\" class=\"row_heading level0 row8\" >41</th>\n",
       "      <td id=\"T_0a445_row8_col0\" class=\"data row8 col0\" >Have you observed or experienced supportive or well handled response to a mental health issue in your current or previous workplace?</td>\n",
       "      <td id=\"T_0a445_row8_col1\" class=\"data row8 col1\" >83</td>\n",
       "    </tr>\n",
       "    <tr>\n",
       "      <th id=\"T_0a445_level0_row9\" class=\"row_heading level0 row9\" >42</th>\n",
       "      <td id=\"T_0a445_row9_col0\" class=\"data row9 col0\" >Overall, how well do you think the tech industry supports employees with mental health issues?</td>\n",
       "      <td id=\"T_0a445_row9_col1\" class=\"data row9 col1\" >85</td>\n",
       "    </tr>\n",
       "    <tr>\n",
       "      <th id=\"T_0a445_level0_row10\" class=\"row_heading level0 row10\" >48</th>\n",
       "      <td id=\"T_0a445_row10_col0\" class=\"data row10 col0\" >Has your employer ever discussed mental health as part of an employee wellness program?</td>\n",
       "      <td id=\"T_0a445_row10_col1\" class=\"data row10 col1\" >95</td>\n",
       "    </tr>\n",
       "    <tr>\n",
       "      <th id=\"T_0a445_level0_row11\" class=\"row_heading level0 row11\" >49</th>\n",
       "      <td id=\"T_0a445_row11_col0\" class=\"data row11 col0\" >Does your employer provide resources to learn more about mental health issues and how to seek help?</td>\n",
       "      <td id=\"T_0a445_row11_col1\" class=\"data row11 col1\" >96</td>\n",
       "    </tr>\n",
       "    <tr>\n",
       "      <th id=\"T_0a445_level0_row12\" class=\"row_heading level0 row12\" >50</th>\n",
       "      <td id=\"T_0a445_row12_col0\" class=\"data row12 col0\" >How easy is it for you to take medical leave for a mental health condition?</td>\n",
       "      <td id=\"T_0a445_row12_col1\" class=\"data row12 col1\" >97</td>\n",
       "    </tr>\n",
       "  </tbody>\n",
       "</table>\n"
      ],
      "text/plain": [
       "<pandas.io.formats.style.Styler at 0x1ecef6122c0>"
      ]
     },
     "execution_count": 31,
     "metadata": {},
     "output_type": "execute_result"
    }
   ],
   "source": [
    "df_employer_questions = df_questions.iloc[[7, 8, 12, 13, 14, 28, 32, 33, 41, 42, 48, 49, 50,]] \n",
    "df_employer_questions.style.set_properties(**{\"text-align\": \"left\"})"
   ]
  },
  {
   "cell_type": "code",
   "execution_count": 32,
   "id": "d1ba2135",
   "metadata": {},
   "outputs": [
    {
     "data": {
      "text/plain": [
       "13"
      ]
     },
     "execution_count": 32,
     "metadata": {},
     "output_type": "execute_result"
    }
   ],
   "source": [
    "df_employer_questions.shape[0]"
   ]
  }
 ],
 "metadata": {
  "kernelspec": {
   "display_name": "Python 3 (ipykernel)",
   "language": "python",
   "name": "python3"
  },
  "language_info": {
   "codemirror_mode": {
    "name": "ipython",
    "version": 3
   },
   "file_extension": ".py",
   "mimetype": "text/x-python",
   "name": "python",
   "nbconvert_exporter": "python",
   "pygments_lexer": "ipython3",
   "version": "3.10.7"
  }
 },
 "nbformat": 4,
 "nbformat_minor": 5
}
