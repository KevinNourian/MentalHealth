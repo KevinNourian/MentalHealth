{
 "cells": [
  {
   "cell_type": "markdown",
   "id": "badfc338",
   "metadata": {},
   "source": [
    "# Mental Health in Tech Industry Draft2"
   ]
  },
  {
   "cell_type": "markdown",
   "id": "7cfab38c",
   "metadata": {},
   "source": [
    "# Introduction"
   ]
  },
  {
   "cell_type": "markdown",
   "id": "94caf356",
   "metadata": {},
   "source": [
    "According to the World Health Organization, Mental health is described as a state of well-being where a person is able to cope with the normal stresses of life. This state permits productive work output and allows for meaningful contributions to society. In the United States, Centers for Disease Control and Prevention (CDC) estimates that 1 in 5 adults experience at least one mental health condition every year.\n",
    "\n",
    "Mental health is an important issue. Mental health affects every area of life and it goes without saying that a person who is dealing with metal health issues is less productive in the work place than one who does not. Dealing with mental health disorders can impact productivity levels. A person who is mentally healthy, is more likely to work more efficiently and provide higher quality work.\n",
    "\n",
    "It is also clear that western societies do not treat physical issues the same way as mental issues. There tends to be a stigma attached to anything related to mental health. This is not the case with many of our physical issues. The stigma surrouding issues of mental health causes many people to be more careful in how and with whom we speak about their mental health. This is significantly different than how we consider our physical health issues. \n",
    "\n",
    "In this report, I will analyze the findings of 5 surveys of tech industry workers related to mental health. The surveys were taken in 2014, 2016, 2017, 2018, and 2019. In total, 4218 people from 79 countries participated in the surveys. The majority of participants were from the United States. I used 3 databases for this analysis:\n",
    "\n",
    "> * Survey: Contains the year each survey was conducted. The year serves as the SurveyID.\n",
    "> * Question: Contains 105 questions. Not all questions were used in all the years. Not all questions were given to every individual surveyed. \n",
    "> * Answer: Contains 236,898 answers. A participant answered more than one question.\n",
    "\n",
    "For this analysis, concentrated on tech industry workers who work for tech companies. I did not choose participants who answered No to the question that asked if their primary role in the company is tech/IT related (QuestionID 9). I did not choose participants who answered No to the question that asked if the employer is primarily a tech company/organization (QuestionID 13). The number of participants in my analysis became 909."
   ]
  },
  {
   "cell_type": "markdown",
   "id": "7cf13b08",
   "metadata": {},
   "source": [
    "# Goal"
   ]
  },
  {
   "cell_type": "markdown",
   "id": "56d430f2",
   "metadata": {},
   "source": [
    "The goal of this analysis is to provide more clarity regarding mental health issues encountered by tech workers in tech companies."
   ]
  },
  {
   "cell_type": "markdown",
   "id": "079731ac",
   "metadata": {},
   "source": [
    "# Hypothesis"
   ]
  },
  {
   "cell_type": "markdown",
   "id": "fd0d943c",
   "metadata": {},
   "source": [
    "Do tech industry workers who are more open about issues on mental health also find more resources in their work place and experience more positive attitudes from their supervisors, coworkers and clients? "
   ]
  },
  {
   "cell_type": "markdown",
   "id": "18ec9520",
   "metadata": {},
   "source": [
    "# Technical Requirements"
   ]
  },
  {
   "cell_type": "markdown",
   "id": "934a3615",
   "metadata": {},
   "source": [
    "1. Download the data from Mental Health in the Tech Industry.\n",
    "2. Load the data using SQLite and Pandas.\n",
    "3. Perform exploratory data analysis. This should include creating statistical summaries and charts, testing for anomalies, checking for correlations and other relations between variables, and other EDA elements.\n",
    "4. Provide clear explanations in your notebook. Your explanations should inform the reader what you are trying to achieve, what results did you get, and what these results mean.\n",
    "5. Provide suggestions about how your analysis can be improved."
   ]
  },
  {
   "cell_type": "markdown",
   "id": "55b75ab1",
   "metadata": {},
   "source": [
    "# Libraries"
   ]
  },
  {
   "cell_type": "code",
   "execution_count": 251,
   "id": "e1e914e5",
   "metadata": {},
   "outputs": [],
   "source": [
    "import pandas as pd\n",
    "import numpy as np\n",
    "import sqlite3\n",
    "import seaborn as sns\n",
    "import matplotlib as mpl\n",
    "import matplotlib.pyplot as plt\n",
    "import warnings\n",
    "import datetime\n",
    "import matplotlib.dates as mdates\n",
    "\n",
    "from scipy import stats\n",
    "from matplotlib.dates import DateFormatter\n",
    "from IPython.display import display"
   ]
  },
  {
   "cell_type": "markdown",
   "id": "driven-arlington",
   "metadata": {},
   "source": [
    "# Display Parameters"
   ]
  },
  {
   "cell_type": "markdown",
   "id": "double-logging",
   "metadata": {},
   "source": [
    "## Display Features"
   ]
  },
  {
   "cell_type": "code",
   "execution_count": 283,
   "id": "driven-element",
   "metadata": {},
   "outputs": [],
   "source": [
    "%matplotlib inline\n",
    "pd.options.display.max_rows = 300000\n",
    "pd.options.display.max_columns = 999\n",
    "pd.options.display.max_colwidth = 500"
   ]
  },
  {
   "cell_type": "markdown",
   "id": "political-officer",
   "metadata": {},
   "source": [
    "## Colors"
   ]
  },
  {
   "cell_type": "code",
   "execution_count": 255,
   "id": "acquired-union",
   "metadata": {},
   "outputs": [],
   "source": [
    "ord_color = \"bisque\"\n",
    "spec_lev1 = \"crimson\"\n",
    "spec_lev2 = \"orangered\"\n",
    "spec_lev3 = \"lightcoral\"\n",
    "male_color = \"royalblue\"\n",
    "female_color = \"pink\"\n",
    "graph_color1 = \"indianred\"\n",
    "graph_color2 = \"slategrey\""
   ]
  },
  {
   "cell_type": "markdown",
   "id": "incredible-stupid",
   "metadata": {},
   "source": [
    "## Figure Parameters"
   ]
  },
  {
   "cell_type": "code",
   "execution_count": 256,
   "id": "secret-canadian",
   "metadata": {},
   "outputs": [],
   "source": [
    "size = 20\n",
    "\n",
    "params = {\n",
    "    \"font.family\": \"Times New Roman\",\n",
    "    \"font.size\": size,\n",
    "    \"axes.labelsize\": size,\n",
    "    \"xtick.labelsize\": size * 0.75,\n",
    "    \"ytick.labelsize\": size * 0.75,\n",
    "    \"figure.titlesize\": size * 1.5,\n",
    "    \"axes.titlesize\": size * 1.5,\n",
    "    \"axes.titlepad\": size,\n",
    "    \"axes.labelpad\": size - 10,\n",
    "    \"lines.linewidth\": 2,\n",
    "    \"axes.spines.top\": False,\n",
    "    \"axes.spines.right\": False,\n",
    "    \"axes.spines.left\": False,\n",
    "    \"axes.spines.bottom\": False,\n",
    "    \"legend.fontsize\": size,\n",
    "}"
   ]
  },
  {
   "cell_type": "markdown",
   "id": "d1b3e303",
   "metadata": {},
   "source": [
    "# Load and Display Raw Data"
   ]
  },
  {
   "cell_type": "code",
   "execution_count": 257,
   "id": "1e7b07c8",
   "metadata": {},
   "outputs": [],
   "source": [
    "db_survey = sqlite3.connect(\n",
    "    \"C:\\\\Users\\\\Space\\\\Documents\\\\py\\\\Projects\\\\TuringCollege\\\\TechMentalHealth\\\\DataSet\\\\mental_health.sqlite\"\n",
    ")"
   ]
  },
  {
   "cell_type": "markdown",
   "id": "e73026ec",
   "metadata": {},
   "source": [
    "# Data Sets"
   ]
  },
  {
   "cell_type": "markdown",
   "id": "6e898851",
   "metadata": {},
   "source": [
    "## Survey Database"
   ]
  },
  {
   "cell_type": "code",
   "execution_count": 258,
   "id": "313ef30c",
   "metadata": {},
   "outputs": [],
   "source": [
    "df_surveys = pd.read_sql_query(\"SELECT * FROM Survey\", db_survey)"
   ]
  },
  {
   "cell_type": "code",
   "execution_count": 259,
   "id": "c4a5d7a6",
   "metadata": {},
   "outputs": [
    {
     "data": {
      "text/html": [
       "<div>\n",
       "<style scoped>\n",
       "    .dataframe tbody tr th:only-of-type {\n",
       "        vertical-align: middle;\n",
       "    }\n",
       "\n",
       "    .dataframe tbody tr th {\n",
       "        vertical-align: top;\n",
       "    }\n",
       "\n",
       "    .dataframe thead th {\n",
       "        text-align: right;\n",
       "    }\n",
       "</style>\n",
       "<table border=\"1\" class=\"dataframe\">\n",
       "  <thead>\n",
       "    <tr style=\"text-align: right;\">\n",
       "      <th></th>\n",
       "      <th>SurveyID</th>\n",
       "      <th>Description</th>\n",
       "    </tr>\n",
       "  </thead>\n",
       "  <tbody>\n",
       "    <tr>\n",
       "      <th>0</th>\n",
       "      <td>2014</td>\n",
       "      <td>mental health survey for 2014</td>\n",
       "    </tr>\n",
       "    <tr>\n",
       "      <th>1</th>\n",
       "      <td>2016</td>\n",
       "      <td>mental health survey for 2016</td>\n",
       "    </tr>\n",
       "    <tr>\n",
       "      <th>2</th>\n",
       "      <td>2017</td>\n",
       "      <td>mental health survey for 2017</td>\n",
       "    </tr>\n",
       "    <tr>\n",
       "      <th>3</th>\n",
       "      <td>2018</td>\n",
       "      <td>mental health survey for 2018</td>\n",
       "    </tr>\n",
       "    <tr>\n",
       "      <th>4</th>\n",
       "      <td>2019</td>\n",
       "      <td>mental health survey for 2019</td>\n",
       "    </tr>\n",
       "  </tbody>\n",
       "</table>\n",
       "</div>"
      ],
      "text/plain": [
       "   SurveyID                    Description\n",
       "0      2014  mental health survey for 2014\n",
       "1      2016  mental health survey for 2016\n",
       "2      2017  mental health survey for 2017\n",
       "3      2018  mental health survey for 2018\n",
       "4      2019  mental health survey for 2019"
      ]
     },
     "execution_count": 259,
     "metadata": {},
     "output_type": "execute_result"
    }
   ],
   "source": [
    "df_surveys"
   ]
  },
  {
   "cell_type": "code",
   "execution_count": 260,
   "id": "0d8d5770",
   "metadata": {},
   "outputs": [
    {
     "data": {
      "text/plain": [
       "5"
      ]
     },
     "execution_count": 260,
     "metadata": {},
     "output_type": "execute_result"
    }
   ],
   "source": [
    "df_surveys.SurveyID.count()"
   ]
  },
  {
   "cell_type": "markdown",
   "id": "73ad7bd4",
   "metadata": {},
   "source": [
    "## Question Database"
   ]
  },
  {
   "cell_type": "code",
   "execution_count": 261,
   "id": "3656c7a9",
   "metadata": {},
   "outputs": [
    {
     "data": {
      "text/html": [
       "<style type=\"text/css\">\n",
       "#T_48c75_row0_col0, #T_48c75_row0_col1, #T_48c75_row1_col0, #T_48c75_row1_col1, #T_48c75_row2_col0, #T_48c75_row2_col1, #T_48c75_row3_col0, #T_48c75_row3_col1, #T_48c75_row4_col0, #T_48c75_row4_col1, #T_48c75_row5_col0, #T_48c75_row5_col1, #T_48c75_row6_col0, #T_48c75_row6_col1, #T_48c75_row7_col0, #T_48c75_row7_col1, #T_48c75_row8_col0, #T_48c75_row8_col1, #T_48c75_row9_col0, #T_48c75_row9_col1, #T_48c75_row10_col0, #T_48c75_row10_col1, #T_48c75_row11_col0, #T_48c75_row11_col1, #T_48c75_row12_col0, #T_48c75_row12_col1, #T_48c75_row13_col0, #T_48c75_row13_col1, #T_48c75_row14_col0, #T_48c75_row14_col1, #T_48c75_row15_col0, #T_48c75_row15_col1, #T_48c75_row16_col0, #T_48c75_row16_col1, #T_48c75_row17_col0, #T_48c75_row17_col1, #T_48c75_row18_col0, #T_48c75_row18_col1, #T_48c75_row19_col0, #T_48c75_row19_col1, #T_48c75_row20_col0, #T_48c75_row20_col1, #T_48c75_row21_col0, #T_48c75_row21_col1, #T_48c75_row22_col0, #T_48c75_row22_col1, #T_48c75_row23_col0, #T_48c75_row23_col1, #T_48c75_row24_col0, #T_48c75_row24_col1, #T_48c75_row25_col0, #T_48c75_row25_col1, #T_48c75_row26_col0, #T_48c75_row26_col1, #T_48c75_row27_col0, #T_48c75_row27_col1, #T_48c75_row28_col0, #T_48c75_row28_col1, #T_48c75_row29_col0, #T_48c75_row29_col1, #T_48c75_row30_col0, #T_48c75_row30_col1, #T_48c75_row31_col0, #T_48c75_row31_col1, #T_48c75_row32_col0, #T_48c75_row32_col1, #T_48c75_row33_col0, #T_48c75_row33_col1, #T_48c75_row34_col0, #T_48c75_row34_col1, #T_48c75_row35_col0, #T_48c75_row35_col1, #T_48c75_row36_col0, #T_48c75_row36_col1, #T_48c75_row37_col0, #T_48c75_row37_col1, #T_48c75_row38_col0, #T_48c75_row38_col1, #T_48c75_row39_col0, #T_48c75_row39_col1, #T_48c75_row40_col0, #T_48c75_row40_col1, #T_48c75_row41_col0, #T_48c75_row41_col1, #T_48c75_row42_col0, #T_48c75_row42_col1, #T_48c75_row43_col0, #T_48c75_row43_col1, #T_48c75_row44_col0, #T_48c75_row44_col1, #T_48c75_row45_col0, #T_48c75_row45_col1, #T_48c75_row46_col0, #T_48c75_row46_col1, #T_48c75_row47_col0, #T_48c75_row47_col1, #T_48c75_row48_col0, #T_48c75_row48_col1, #T_48c75_row49_col0, #T_48c75_row49_col1, #T_48c75_row50_col0, #T_48c75_row50_col1, #T_48c75_row51_col0, #T_48c75_row51_col1, #T_48c75_row52_col0, #T_48c75_row52_col1, #T_48c75_row53_col0, #T_48c75_row53_col1, #T_48c75_row54_col0, #T_48c75_row54_col1, #T_48c75_row55_col0, #T_48c75_row55_col1, #T_48c75_row56_col0, #T_48c75_row56_col1, #T_48c75_row57_col0, #T_48c75_row57_col1, #T_48c75_row58_col0, #T_48c75_row58_col1, #T_48c75_row59_col0, #T_48c75_row59_col1, #T_48c75_row60_col0, #T_48c75_row60_col1, #T_48c75_row61_col0, #T_48c75_row61_col1, #T_48c75_row62_col0, #T_48c75_row62_col1, #T_48c75_row63_col0, #T_48c75_row63_col1, #T_48c75_row64_col0, #T_48c75_row64_col1, #T_48c75_row65_col0, #T_48c75_row65_col1, #T_48c75_row66_col0, #T_48c75_row66_col1, #T_48c75_row67_col0, #T_48c75_row67_col1, #T_48c75_row68_col0, #T_48c75_row68_col1, #T_48c75_row69_col0, #T_48c75_row69_col1, #T_48c75_row70_col0, #T_48c75_row70_col1, #T_48c75_row71_col0, #T_48c75_row71_col1, #T_48c75_row72_col0, #T_48c75_row72_col1, #T_48c75_row73_col0, #T_48c75_row73_col1, #T_48c75_row74_col0, #T_48c75_row74_col1, #T_48c75_row75_col0, #T_48c75_row75_col1, #T_48c75_row76_col0, #T_48c75_row76_col1, #T_48c75_row77_col0, #T_48c75_row77_col1, #T_48c75_row78_col0, #T_48c75_row78_col1, #T_48c75_row79_col0, #T_48c75_row79_col1, #T_48c75_row80_col0, #T_48c75_row80_col1, #T_48c75_row81_col0, #T_48c75_row81_col1, #T_48c75_row82_col0, #T_48c75_row82_col1, #T_48c75_row83_col0, #T_48c75_row83_col1, #T_48c75_row84_col0, #T_48c75_row84_col1, #T_48c75_row85_col0, #T_48c75_row85_col1, #T_48c75_row86_col0, #T_48c75_row86_col1, #T_48c75_row87_col0, #T_48c75_row87_col1, #T_48c75_row88_col0, #T_48c75_row88_col1, #T_48c75_row89_col0, #T_48c75_row89_col1, #T_48c75_row90_col0, #T_48c75_row90_col1, #T_48c75_row91_col0, #T_48c75_row91_col1, #T_48c75_row92_col0, #T_48c75_row92_col1, #T_48c75_row93_col0, #T_48c75_row93_col1, #T_48c75_row94_col0, #T_48c75_row94_col1, #T_48c75_row95_col0, #T_48c75_row95_col1, #T_48c75_row96_col0, #T_48c75_row96_col1, #T_48c75_row97_col0, #T_48c75_row97_col1, #T_48c75_row98_col0, #T_48c75_row98_col1, #T_48c75_row99_col0, #T_48c75_row99_col1, #T_48c75_row100_col0, #T_48c75_row100_col1, #T_48c75_row101_col0, #T_48c75_row101_col1, #T_48c75_row102_col0, #T_48c75_row102_col1, #T_48c75_row103_col0, #T_48c75_row103_col1, #T_48c75_row104_col0, #T_48c75_row104_col1 {\n",
       "  text-align: left;\n",
       "}\n",
       "</style>\n",
       "<table id=\"T_48c75\">\n",
       "  <thead>\n",
       "    <tr>\n",
       "      <th class=\"blank level0\" >&nbsp;</th>\n",
       "      <th id=\"T_48c75_level0_col0\" class=\"col_heading level0 col0\" >QuestionText</th>\n",
       "      <th id=\"T_48c75_level0_col1\" class=\"col_heading level0 col1\" >QuestionID</th>\n",
       "    </tr>\n",
       "  </thead>\n",
       "  <tbody>\n",
       "    <tr>\n",
       "      <th id=\"T_48c75_level0_row0\" class=\"row_heading level0 row0\" >0</th>\n",
       "      <td id=\"T_48c75_row0_col0\" class=\"data row0 col0\" >What is your age?</td>\n",
       "      <td id=\"T_48c75_row0_col1\" class=\"data row0 col1\" >1</td>\n",
       "    </tr>\n",
       "    <tr>\n",
       "      <th id=\"T_48c75_level0_row1\" class=\"row_heading level0 row1\" >1</th>\n",
       "      <td id=\"T_48c75_row1_col0\" class=\"data row1 col0\" >What is your gender?</td>\n",
       "      <td id=\"T_48c75_row1_col1\" class=\"data row1 col1\" >2</td>\n",
       "    </tr>\n",
       "    <tr>\n",
       "      <th id=\"T_48c75_level0_row2\" class=\"row_heading level0 row2\" >2</th>\n",
       "      <td id=\"T_48c75_row2_col0\" class=\"data row2 col0\" >What country do you live in?</td>\n",
       "      <td id=\"T_48c75_row2_col1\" class=\"data row2 col1\" >3</td>\n",
       "    </tr>\n",
       "    <tr>\n",
       "      <th id=\"T_48c75_level0_row3\" class=\"row_heading level0 row3\" >3</th>\n",
       "      <td id=\"T_48c75_row3_col0\" class=\"data row3 col0\" >If you live in the United States, which state or territory do you live in?</td>\n",
       "      <td id=\"T_48c75_row3_col1\" class=\"data row3 col1\" >4</td>\n",
       "    </tr>\n",
       "    <tr>\n",
       "      <th id=\"T_48c75_level0_row4\" class=\"row_heading level0 row4\" >4</th>\n",
       "      <td id=\"T_48c75_row4_col0\" class=\"data row4 col0\" >Are you self-employed?</td>\n",
       "      <td id=\"T_48c75_row4_col1\" class=\"data row4 col1\" >5</td>\n",
       "    </tr>\n",
       "    <tr>\n",
       "      <th id=\"T_48c75_level0_row5\" class=\"row_heading level0 row5\" >5</th>\n",
       "      <td id=\"T_48c75_row5_col0\" class=\"data row5 col0\" >Do you have a family history of mental illness?</td>\n",
       "      <td id=\"T_48c75_row5_col1\" class=\"data row5 col1\" >6</td>\n",
       "    </tr>\n",
       "    <tr>\n",
       "      <th id=\"T_48c75_level0_row6\" class=\"row_heading level0 row6\" >6</th>\n",
       "      <td id=\"T_48c75_row6_col0\" class=\"data row6 col0\" >Have you ever sought treatment for a mental health disorder from a mental health professional?</td>\n",
       "      <td id=\"T_48c75_row6_col1\" class=\"data row6 col1\" >7</td>\n",
       "    </tr>\n",
       "    <tr>\n",
       "      <th id=\"T_48c75_level0_row7\" class=\"row_heading level0 row7\" >7</th>\n",
       "      <td id=\"T_48c75_row7_col0\" class=\"data row7 col0\" >How many employees does your company or organization have?</td>\n",
       "      <td id=\"T_48c75_row7_col1\" class=\"data row7 col1\" >8</td>\n",
       "    </tr>\n",
       "    <tr>\n",
       "      <th id=\"T_48c75_level0_row8\" class=\"row_heading level0 row8\" >8</th>\n",
       "      <td id=\"T_48c75_row8_col0\" class=\"data row8 col0\" >Is your employer primarily a tech company/organization?</td>\n",
       "      <td id=\"T_48c75_row8_col1\" class=\"data row8 col1\" >9</td>\n",
       "    </tr>\n",
       "    <tr>\n",
       "      <th id=\"T_48c75_level0_row9\" class=\"row_heading level0 row9\" >9</th>\n",
       "      <td id=\"T_48c75_row9_col0\" class=\"data row9 col0\" >Does your employer provide mental health benefits as part of healthcare coverage?</td>\n",
       "      <td id=\"T_48c75_row9_col1\" class=\"data row9 col1\" >10</td>\n",
       "    </tr>\n",
       "    <tr>\n",
       "      <th id=\"T_48c75_level0_row10\" class=\"row_heading level0 row10\" >10</th>\n",
       "      <td id=\"T_48c75_row10_col0\" class=\"data row10 col0\" >Is your anonymity protected if you choose to take advantage of mental health or substance abuse treatment resources provided by your employer?</td>\n",
       "      <td id=\"T_48c75_row10_col1\" class=\"data row10 col1\" >11</td>\n",
       "    </tr>\n",
       "    <tr>\n",
       "      <th id=\"T_48c75_level0_row11\" class=\"row_heading level0 row11\" >11</th>\n",
       "      <td id=\"T_48c75_row11_col0\" class=\"data row11 col0\" >Would you bring up a mental health issue with a potential employer in an interview?</td>\n",
       "      <td id=\"T_48c75_row11_col1\" class=\"data row11 col1\" >12</td>\n",
       "    </tr>\n",
       "    <tr>\n",
       "      <th id=\"T_48c75_level0_row12\" class=\"row_heading level0 row12\" >12</th>\n",
       "      <td id=\"T_48c75_row12_col0\" class=\"data row12 col0\" >Is your primary role within your company related to tech/IT?</td>\n",
       "      <td id=\"T_48c75_row12_col1\" class=\"data row12 col1\" >13</td>\n",
       "    </tr>\n",
       "    <tr>\n",
       "      <th id=\"T_48c75_level0_row13\" class=\"row_heading level0 row13\" >13</th>\n",
       "      <td id=\"T_48c75_row13_col0\" class=\"data row13 col0\" >Do you know the options for mental health care available under your employer-provided health coverage?</td>\n",
       "      <td id=\"T_48c75_row13_col1\" class=\"data row13 col1\" >14</td>\n",
       "    </tr>\n",
       "    <tr>\n",
       "      <th id=\"T_48c75_level0_row14\" class=\"row_heading level0 row14\" >14</th>\n",
       "      <td id=\"T_48c75_row14_col0\" class=\"data row14 col0\" >Has your employer ever formally discussed mental health (for example, as part of a wellness campaign or other official communication)?</td>\n",
       "      <td id=\"T_48c75_row14_col1\" class=\"data row14 col1\" >15</td>\n",
       "    </tr>\n",
       "    <tr>\n",
       "      <th id=\"T_48c75_level0_row15\" class=\"row_heading level0 row15\" >15</th>\n",
       "      <td id=\"T_48c75_row15_col0\" class=\"data row15 col0\" >Does your employer offer resources to learn more about mental health disorders and options for seeking help?</td>\n",
       "      <td id=\"T_48c75_row15_col1\" class=\"data row15 col1\" >16</td>\n",
       "    </tr>\n",
       "    <tr>\n",
       "      <th id=\"T_48c75_level0_row16\" class=\"row_heading level0 row16\" >16</th>\n",
       "      <td id=\"T_48c75_row16_col0\" class=\"data row16 col0\" >If a mental health issue prompted you to request a medical leave from work, how easy or difficult would it be to ask for that leave?</td>\n",
       "      <td id=\"T_48c75_row16_col1\" class=\"data row16 col1\" >17</td>\n",
       "    </tr>\n",
       "    <tr>\n",
       "      <th id=\"T_48c75_level0_row17\" class=\"row_heading level0 row17\" >17</th>\n",
       "      <td id=\"T_48c75_row17_col0\" class=\"data row17 col0\" >Would you feel comfortable discussing a mental health issue with your coworkers?</td>\n",
       "      <td id=\"T_48c75_row17_col1\" class=\"data row17 col1\" >18</td>\n",
       "    </tr>\n",
       "    <tr>\n",
       "      <th id=\"T_48c75_level0_row18\" class=\"row_heading level0 row18\" >18</th>\n",
       "      <td id=\"T_48c75_row18_col0\" class=\"data row18 col0\" >Would you feel comfortable discussing a mental health issue with your direct supervisor(s)?</td>\n",
       "      <td id=\"T_48c75_row18_col1\" class=\"data row18 col1\" >19</td>\n",
       "    </tr>\n",
       "    <tr>\n",
       "      <th id=\"T_48c75_level0_row19\" class=\"row_heading level0 row19\" >19</th>\n",
       "      <td id=\"T_48c75_row19_col0\" class=\"data row19 col0\" >Do you have medical coverage (private insurance or state-provided) that includes treatment of mental health disorders?</td>\n",
       "      <td id=\"T_48c75_row19_col1\" class=\"data row19 col1\" >20</td>\n",
       "    </tr>\n",
       "    <tr>\n",
       "      <th id=\"T_48c75_level0_row20\" class=\"row_heading level0 row20\" >20</th>\n",
       "      <td id=\"T_48c75_row20_col0\" class=\"data row20 col0\" >Do you know local or online resources to seek help for a mental health issue?</td>\n",
       "      <td id=\"T_48c75_row20_col1\" class=\"data row20 col1\" >21</td>\n",
       "    </tr>\n",
       "    <tr>\n",
       "      <th id=\"T_48c75_level0_row21\" class=\"row_heading level0 row21\" >21</th>\n",
       "      <td id=\"T_48c75_row21_col0\" class=\"data row21 col0\" >Do you have previous employers?</td>\n",
       "      <td id=\"T_48c75_row21_col1\" class=\"data row21 col1\" >22</td>\n",
       "    </tr>\n",
       "    <tr>\n",
       "      <th id=\"T_48c75_level0_row22\" class=\"row_heading level0 row22\" >22</th>\n",
       "      <td id=\"T_48c75_row22_col0\" class=\"data row22 col0\" >Have your previous employers provided mental health benefits?</td>\n",
       "      <td id=\"T_48c75_row22_col1\" class=\"data row22 col1\" >23</td>\n",
       "    </tr>\n",
       "    <tr>\n",
       "      <th id=\"T_48c75_level0_row23\" class=\"row_heading level0 row23\" >23</th>\n",
       "      <td id=\"T_48c75_row23_col0\" class=\"data row23 col0\" >Were you aware of the options for mental health care provided by your previous employers?</td>\n",
       "      <td id=\"T_48c75_row23_col1\" class=\"data row23 col1\" >24</td>\n",
       "    </tr>\n",
       "    <tr>\n",
       "      <th id=\"T_48c75_level0_row24\" class=\"row_heading level0 row24\" >24</th>\n",
       "      <td id=\"T_48c75_row24_col0\" class=\"data row24 col0\" >Did your previous employers ever formally discuss mental health (as part of a wellness campaign or other official communication)?</td>\n",
       "      <td id=\"T_48c75_row24_col1\" class=\"data row24 col1\" >25</td>\n",
       "    </tr>\n",
       "    <tr>\n",
       "      <th id=\"T_48c75_level0_row25\" class=\"row_heading level0 row25\" >25</th>\n",
       "      <td id=\"T_48c75_row25_col0\" class=\"data row25 col0\" >Did your previous employers provide resources to learn more about mental health disorders and how to seek help?</td>\n",
       "      <td id=\"T_48c75_row25_col1\" class=\"data row25 col1\" >26</td>\n",
       "    </tr>\n",
       "    <tr>\n",
       "      <th id=\"T_48c75_level0_row26\" class=\"row_heading level0 row26\" >26</th>\n",
       "      <td id=\"T_48c75_row26_col0\" class=\"data row26 col0\" >Was your anonymity protected if you chose to take advantage of mental health or substance abuse treatment resources with previous employers?</td>\n",
       "      <td id=\"T_48c75_row26_col1\" class=\"data row26 col1\" >27</td>\n",
       "    </tr>\n",
       "    <tr>\n",
       "      <th id=\"T_48c75_level0_row27\" class=\"row_heading level0 row27\" >27</th>\n",
       "      <td id=\"T_48c75_row27_col0\" class=\"data row27 col0\" >Would you have been willing to discuss your mental health with your direct supervisor(s)?</td>\n",
       "      <td id=\"T_48c75_row27_col1\" class=\"data row27 col1\" >28</td>\n",
       "    </tr>\n",
       "    <tr>\n",
       "      <th id=\"T_48c75_level0_row28\" class=\"row_heading level0 row28\" >28</th>\n",
       "      <td id=\"T_48c75_row28_col0\" class=\"data row28 col0\" >Would you be willing to bring up a physical health issue with a potential employer in an interview?</td>\n",
       "      <td id=\"T_48c75_row28_col1\" class=\"data row28 col1\" >29</td>\n",
       "    </tr>\n",
       "    <tr>\n",
       "      <th id=\"T_48c75_level0_row29\" class=\"row_heading level0 row29\" >29</th>\n",
       "      <td id=\"T_48c75_row29_col0\" class=\"data row29 col0\" >How willing would you be to share with friends and family that you have a mental illness?</td>\n",
       "      <td id=\"T_48c75_row29_col1\" class=\"data row29 col1\" >30</td>\n",
       "    </tr>\n",
       "    <tr>\n",
       "      <th id=\"T_48c75_level0_row30\" class=\"row_heading level0 row30\" >30</th>\n",
       "      <td id=\"T_48c75_row30_col0\" class=\"data row30 col0\" >Have your observations of how another individual who discussed a mental health disorder made you less likely to reveal a mental health issue yourself in your current workplace?</td>\n",
       "      <td id=\"T_48c75_row30_col1\" class=\"data row30 col1\" >31</td>\n",
       "    </tr>\n",
       "    <tr>\n",
       "      <th id=\"T_48c75_level0_row31\" class=\"row_heading level0 row31\" >31</th>\n",
       "      <td id=\"T_48c75_row31_col0\" class=\"data row31 col0\" >Have you had a mental health disorder in the past?</td>\n",
       "      <td id=\"T_48c75_row31_col1\" class=\"data row31 col1\" >32</td>\n",
       "    </tr>\n",
       "    <tr>\n",
       "      <th id=\"T_48c75_level0_row32\" class=\"row_heading level0 row32\" >32</th>\n",
       "      <td id=\"T_48c75_row32_col0\" class=\"data row32 col0\" >Do you currently have a mental health disorder?</td>\n",
       "      <td id=\"T_48c75_row32_col1\" class=\"data row32 col1\" >33</td>\n",
       "    </tr>\n",
       "    <tr>\n",
       "      <th id=\"T_48c75_level0_row33\" class=\"row_heading level0 row33\" >33</th>\n",
       "      <td id=\"T_48c75_row33_col0\" class=\"data row33 col0\" >Have you ever been diagnosed with a mental health disorder?</td>\n",
       "      <td id=\"T_48c75_row33_col1\" class=\"data row33 col1\" >34</td>\n",
       "    </tr>\n",
       "    <tr>\n",
       "      <th id=\"T_48c75_level0_row34\" class=\"row_heading level0 row34\" >34</th>\n",
       "      <td id=\"T_48c75_row34_col0\" class=\"data row34 col0\" >If you have a mental health disorder, how often do you feel that it interferes with your work when being treated effectively?</td>\n",
       "      <td id=\"T_48c75_row34_col1\" class=\"data row34 col1\" >48</td>\n",
       "    </tr>\n",
       "    <tr>\n",
       "      <th id=\"T_48c75_level0_row35\" class=\"row_heading level0 row35\" >35</th>\n",
       "      <td id=\"T_48c75_row35_col0\" class=\"data row35 col0\" >If you have a mental health disorder, how often do you feel that it interferes with your work when not being treated effectively (i.e., when you are experiencing symptoms)?</td>\n",
       "      <td id=\"T_48c75_row35_col1\" class=\"data row35 col1\" >49</td>\n",
       "    </tr>\n",
       "    <tr>\n",
       "      <th id=\"T_48c75_level0_row36\" class=\"row_heading level0 row36\" >36</th>\n",
       "      <td id=\"T_48c75_row36_col0\" class=\"data row36 col0\" >What country do you work in?</td>\n",
       "      <td id=\"T_48c75_row36_col1\" class=\"data row36 col1\" >50</td>\n",
       "    </tr>\n",
       "    <tr>\n",
       "      <th id=\"T_48c75_level0_row37\" class=\"row_heading level0 row37\" >37</th>\n",
       "      <td id=\"T_48c75_row37_col0\" class=\"data row37 col0\" >What US state or territory do you work in?</td>\n",
       "      <td id=\"T_48c75_row37_col1\" class=\"data row37 col1\" >51</td>\n",
       "    </tr>\n",
       "    <tr>\n",
       "      <th id=\"T_48c75_level0_row38\" class=\"row_heading level0 row38\" >38</th>\n",
       "      <td id=\"T_48c75_row38_col0\" class=\"data row38 col0\" >If you have been diagnosed or treated for a mental health disorder, do you ever reveal this to clients or business contacts?</td>\n",
       "      <td id=\"T_48c75_row38_col1\" class=\"data row38 col1\" >52</td>\n",
       "    </tr>\n",
       "    <tr>\n",
       "      <th id=\"T_48c75_level0_row39\" class=\"row_heading level0 row39\" >39</th>\n",
       "      <td id=\"T_48c75_row39_col0\" class=\"data row39 col0\" >If you have been diagnosed or treated for a mental health disorder, do you ever reveal this to coworkers or employees?</td>\n",
       "      <td id=\"T_48c75_row39_col1\" class=\"data row39 col1\" >53</td>\n",
       "    </tr>\n",
       "    <tr>\n",
       "      <th id=\"T_48c75_level0_row40\" class=\"row_heading level0 row40\" >40</th>\n",
       "      <td id=\"T_48c75_row40_col0\" class=\"data row40 col0\" >Do you believe your productivity is ever affected by a mental health issue?</td>\n",
       "      <td id=\"T_48c75_row40_col1\" class=\"data row40 col1\" >54</td>\n",
       "    </tr>\n",
       "    <tr>\n",
       "      <th id=\"T_48c75_level0_row41\" class=\"row_heading level0 row41\" >41</th>\n",
       "      <td id=\"T_48c75_row41_col0\" class=\"data row41 col0\" >If yes, what percentage of your work time (time performing primary or secondary job functions) is affected by a mental health issue?</td>\n",
       "      <td id=\"T_48c75_row41_col1\" class=\"data row41 col1\" >55</td>\n",
       "    </tr>\n",
       "    <tr>\n",
       "      <th id=\"T_48c75_level0_row42\" class=\"row_heading level0 row42\" >42</th>\n",
       "      <td id=\"T_48c75_row42_col0\" class=\"data row42 col0\" >Have you observed or experienced an unsupportive or badly handled response to a mental health issue in your current or previous workplace?</td>\n",
       "      <td id=\"T_48c75_row42_col1\" class=\"data row42 col1\" >56</td>\n",
       "    </tr>\n",
       "    <tr>\n",
       "      <th id=\"T_48c75_level0_row43\" class=\"row_heading level0 row43\" >43</th>\n",
       "      <td id=\"T_48c75_row43_col0\" class=\"data row43 col0\" >Would you feel more comfortable talking to your coworkers about your physical health or your mental health?</td>\n",
       "      <td id=\"T_48c75_row43_col1\" class=\"data row43 col1\" >57</td>\n",
       "    </tr>\n",
       "    <tr>\n",
       "      <th id=\"T_48c75_level0_row44\" class=\"row_heading level0 row44\" >44</th>\n",
       "      <td id=\"T_48c75_row44_col0\" class=\"data row44 col0\" >Have you ever discussed your mental health with your employer?</td>\n",
       "      <td id=\"T_48c75_row44_col1\" class=\"data row44 col1\" >58</td>\n",
       "    </tr>\n",
       "    <tr>\n",
       "      <th id=\"T_48c75_level0_row45\" class=\"row_heading level0 row45\" >45</th>\n",
       "      <td id=\"T_48c75_row45_col0\" class=\"data row45 col0\" >Describe the conversation you had with your employer about your mental health, including their reactions and what actions were taken to address your mental health issue/questions.</td>\n",
       "      <td id=\"T_48c75_row45_col1\" class=\"data row45 col1\" >59</td>\n",
       "    </tr>\n",
       "    <tr>\n",
       "      <th id=\"T_48c75_level0_row46\" class=\"row_heading level0 row46\" >46</th>\n",
       "      <td id=\"T_48c75_row46_col0\" class=\"data row46 col0\" >Have you ever discussed your mental health with coworkers?</td>\n",
       "      <td id=\"T_48c75_row46_col1\" class=\"data row46 col1\" >60</td>\n",
       "    </tr>\n",
       "    <tr>\n",
       "      <th id=\"T_48c75_level0_row47\" class=\"row_heading level0 row47\" >47</th>\n",
       "      <td id=\"T_48c75_row47_col0\" class=\"data row47 col0\" >Describe the conversation with coworkers you had about your mental health including their reactions.</td>\n",
       "      <td id=\"T_48c75_row47_col1\" class=\"data row47 col1\" >61</td>\n",
       "    </tr>\n",
       "    <tr>\n",
       "      <th id=\"T_48c75_level0_row48\" class=\"row_heading level0 row48\" >48</th>\n",
       "      <td id=\"T_48c75_row48_col0\" class=\"data row48 col0\" >Have you ever had a coworker discuss their or another coworker's mental health with you?</td>\n",
       "      <td id=\"T_48c75_row48_col1\" class=\"data row48 col1\" >62</td>\n",
       "    </tr>\n",
       "    <tr>\n",
       "      <th id=\"T_48c75_level0_row49\" class=\"row_heading level0 row49\" >49</th>\n",
       "      <td id=\"T_48c75_row49_col0\" class=\"data row49 col0\" >Describe the conversation your coworker had with you about their mental health (please do not use names).</td>\n",
       "      <td id=\"T_48c75_row49_col1\" class=\"data row49 col1\" >63</td>\n",
       "    </tr>\n",
       "    <tr>\n",
       "      <th id=\"T_48c75_level0_row50\" class=\"row_heading level0 row50\" >50</th>\n",
       "      <td id=\"T_48c75_row50_col0\" class=\"data row50 col0\" >Overall, how much importance does your employer place on physical health?</td>\n",
       "      <td id=\"T_48c75_row50_col1\" class=\"data row50 col1\" >64</td>\n",
       "    </tr>\n",
       "    <tr>\n",
       "      <th id=\"T_48c75_level0_row51\" class=\"row_heading level0 row51\" >51</th>\n",
       "      <td id=\"T_48c75_row51_col0\" class=\"data row51 col0\" >Overall, how much importance does your employer place on mental health?</td>\n",
       "      <td id=\"T_48c75_row51_col1\" class=\"data row51 col1\" >65</td>\n",
       "    </tr>\n",
       "    <tr>\n",
       "      <th id=\"T_48c75_level0_row52\" class=\"row_heading level0 row52\" >52</th>\n",
       "      <td id=\"T_48c75_row52_col0\" class=\"data row52 col0\" >If you have revealed a mental health disorder to a client or business contact, how has this affected you or the relationship?</td>\n",
       "      <td id=\"T_48c75_row52_col1\" class=\"data row52 col1\" >66</td>\n",
       "    </tr>\n",
       "    <tr>\n",
       "      <th id=\"T_48c75_level0_row53\" class=\"row_heading level0 row53\" >53</th>\n",
       "      <td id=\"T_48c75_row53_col0\" class=\"data row53 col0\" >If you have revealed a mental health disorder to a coworker or employee, how has this impacted you or the relationship?</td>\n",
       "      <td id=\"T_48c75_row53_col1\" class=\"data row53 col1\" >67</td>\n",
       "    </tr>\n",
       "    <tr>\n",
       "      <th id=\"T_48c75_level0_row54\" class=\"row_heading level0 row54\" >54</th>\n",
       "      <td id=\"T_48c75_row54_col0\" class=\"data row54 col0\" >Was your employer primarily a tech company/organization?</td>\n",
       "      <td id=\"T_48c75_row54_col1\" class=\"data row54 col1\" >68</td>\n",
       "    </tr>\n",
       "    <tr>\n",
       "      <th id=\"T_48c75_level0_row55\" class=\"row_heading level0 row55\" >55</th>\n",
       "      <td id=\"T_48c75_row55_col0\" class=\"data row55 col0\" >Would you have felt more comfortable talking to your previous employer about your physical health or your mental health?</td>\n",
       "      <td id=\"T_48c75_row55_col1\" class=\"data row55 col1\" >69</td>\n",
       "    </tr>\n",
       "    <tr>\n",
       "      <th id=\"T_48c75_level0_row56\" class=\"row_heading level0 row56\" >56</th>\n",
       "      <td id=\"T_48c75_row56_col0\" class=\"data row56 col0\" >Did you ever discuss your mental health with your previous employer?</td>\n",
       "      <td id=\"T_48c75_row56_col1\" class=\"data row56 col1\" >70</td>\n",
       "    </tr>\n",
       "    <tr>\n",
       "      <th id=\"T_48c75_level0_row57\" class=\"row_heading level0 row57\" >57</th>\n",
       "      <td id=\"T_48c75_row57_col0\" class=\"data row57 col0\" >Describe the conversation you had with your previous employer about your mental health, including their reactions and actions taken to address your mental health issue/questions.</td>\n",
       "      <td id=\"T_48c75_row57_col1\" class=\"data row57 col1\" >71</td>\n",
       "    </tr>\n",
       "    <tr>\n",
       "      <th id=\"T_48c75_level0_row58\" class=\"row_heading level0 row58\" >58</th>\n",
       "      <td id=\"T_48c75_row58_col0\" class=\"data row58 col0\" >Did you ever discuss your mental health with a previous coworker(s)?</td>\n",
       "      <td id=\"T_48c75_row58_col1\" class=\"data row58 col1\" >72</td>\n",
       "    </tr>\n",
       "    <tr>\n",
       "      <th id=\"T_48c75_level0_row59\" class=\"row_heading level0 row59\" >59</th>\n",
       "      <td id=\"T_48c75_row59_col0\" class=\"data row59 col0\" >Describe the conversation you had with your previous coworkers about your mental health including their reactions.</td>\n",
       "      <td id=\"T_48c75_row59_col1\" class=\"data row59 col1\" >73</td>\n",
       "    </tr>\n",
       "    <tr>\n",
       "      <th id=\"T_48c75_level0_row60\" class=\"row_heading level0 row60\" >60</th>\n",
       "      <td id=\"T_48c75_row60_col0\" class=\"data row60 col0\" >Did you ever have a previous coworker discuss their or another coworker's mental health with you?</td>\n",
       "      <td id=\"T_48c75_row60_col1\" class=\"data row60 col1\" >74</td>\n",
       "    </tr>\n",
       "    <tr>\n",
       "      <th id=\"T_48c75_level0_row61\" class=\"row_heading level0 row61\" >61</th>\n",
       "      <td id=\"T_48c75_row61_col0\" class=\"data row61 col0\" >Describe the conversation your coworker had with you about their mental health (please do not use names)..1</td>\n",
       "      <td id=\"T_48c75_row61_col1\" class=\"data row61 col1\" >75</td>\n",
       "    </tr>\n",
       "    <tr>\n",
       "      <th id=\"T_48c75_level0_row62\" class=\"row_heading level0 row62\" >62</th>\n",
       "      <td id=\"T_48c75_row62_col0\" class=\"data row62 col0\" >Overall, how much importance did your previous employer place on physical health?</td>\n",
       "      <td id=\"T_48c75_row62_col1\" class=\"data row62 col1\" >76</td>\n",
       "    </tr>\n",
       "    <tr>\n",
       "      <th id=\"T_48c75_level0_row63\" class=\"row_heading level0 row63\" >63</th>\n",
       "      <td id=\"T_48c75_row63_col0\" class=\"data row63 col0\" >Overall, how much importance did your previous employer place on mental health?</td>\n",
       "      <td id=\"T_48c75_row63_col1\" class=\"data row63 col1\" >77</td>\n",
       "    </tr>\n",
       "    <tr>\n",
       "      <th id=\"T_48c75_level0_row64\" class=\"row_heading level0 row64\" >64</th>\n",
       "      <td id=\"T_48c75_row64_col0\" class=\"data row64 col0\" >Are you openly identified at work as a person with a mental health issue?</td>\n",
       "      <td id=\"T_48c75_row64_col1\" class=\"data row64 col1\" >78</td>\n",
       "    </tr>\n",
       "    <tr>\n",
       "      <th id=\"T_48c75_level0_row65\" class=\"row_heading level0 row65\" >65</th>\n",
       "      <td id=\"T_48c75_row65_col0\" class=\"data row65 col0\" >Has being identified as a person with a mental health issue affected your career?</td>\n",
       "      <td id=\"T_48c75_row65_col1\" class=\"data row65 col1\" >79</td>\n",
       "    </tr>\n",
       "    <tr>\n",
       "      <th id=\"T_48c75_level0_row66\" class=\"row_heading level0 row66\" >66</th>\n",
       "      <td id=\"T_48c75_row66_col0\" class=\"data row66 col0\" >How has it affected your career?</td>\n",
       "      <td id=\"T_48c75_row66_col1\" class=\"data row66 col1\" >80</td>\n",
       "    </tr>\n",
       "    <tr>\n",
       "      <th id=\"T_48c75_level0_row67\" class=\"row_heading level0 row67\" >67</th>\n",
       "      <td id=\"T_48c75_row67_col0\" class=\"data row67 col0\" >If they knew you suffered from a mental health disorder, how do you think that your team members/co-workers would react?</td>\n",
       "      <td id=\"T_48c75_row67_col1\" class=\"data row67 col1\" >81</td>\n",
       "    </tr>\n",
       "    <tr>\n",
       "      <th id=\"T_48c75_level0_row68\" class=\"row_heading level0 row68\" >68</th>\n",
       "      <td id=\"T_48c75_row68_col0\" class=\"data row68 col0\" >Describe the circumstances of the badly handled or unsupportive response.</td>\n",
       "      <td id=\"T_48c75_row68_col1\" class=\"data row68 col1\" >82</td>\n",
       "    </tr>\n",
       "    <tr>\n",
       "      <th id=\"T_48c75_level0_row69\" class=\"row_heading level0 row69\" >69</th>\n",
       "      <td id=\"T_48c75_row69_col0\" class=\"data row69 col0\" >Have you observed or experienced supportive or well handled response to a mental health issue in your current or previous workplace?</td>\n",
       "      <td id=\"T_48c75_row69_col1\" class=\"data row69 col1\" >83</td>\n",
       "    </tr>\n",
       "    <tr>\n",
       "      <th id=\"T_48c75_level0_row70\" class=\"row_heading level0 row70\" >70</th>\n",
       "      <td id=\"T_48c75_row70_col0\" class=\"data row70 col0\" >Describe the circumstances of the supportive or well handled response.</td>\n",
       "      <td id=\"T_48c75_row70_col1\" class=\"data row70 col1\" >84</td>\n",
       "    </tr>\n",
       "    <tr>\n",
       "      <th id=\"T_48c75_level0_row71\" class=\"row_heading level0 row71\" >71</th>\n",
       "      <td id=\"T_48c75_row71_col0\" class=\"data row71 col0\" >Overall, how well do you think the tech industry supports employees with mental health issues?</td>\n",
       "      <td id=\"T_48c75_row71_col1\" class=\"data row71 col1\" >85</td>\n",
       "    </tr>\n",
       "    <tr>\n",
       "      <th id=\"T_48c75_level0_row72\" class=\"row_heading level0 row72\" >72</th>\n",
       "      <td id=\"T_48c75_row72_col0\" class=\"data row72 col0\" >Briefly describe what you think the industry as a whole and/or employers could do to improve mental health support for employees.</td>\n",
       "      <td id=\"T_48c75_row72_col1\" class=\"data row72 col1\" >86</td>\n",
       "    </tr>\n",
       "    <tr>\n",
       "      <th id=\"T_48c75_level0_row73\" class=\"row_heading level0 row73\" >73</th>\n",
       "      <td id=\"T_48c75_row73_col0\" class=\"data row73 col0\" >If there is anything else you would like to tell us that has not been covered by the survey questions, please use this space to do so.</td>\n",
       "      <td id=\"T_48c75_row73_col1\" class=\"data row73 col1\" >87</td>\n",
       "    </tr>\n",
       "    <tr>\n",
       "      <th id=\"T_48c75_level0_row74\" class=\"row_heading level0 row74\" >74</th>\n",
       "      <td id=\"T_48c75_row74_col0\" class=\"data row74 col0\" >Would you be willing to talk to one of us more extensively about your experiences with mental health issues in the tech industry? (Note that all interview responses would be used _anonymously_ and only with your permission.)</td>\n",
       "      <td id=\"T_48c75_row74_col1\" class=\"data row74 col1\" >88</td>\n",
       "    </tr>\n",
       "    <tr>\n",
       "      <th id=\"T_48c75_level0_row75\" class=\"row_heading level0 row75\" >75</th>\n",
       "      <td id=\"T_48c75_row75_col0\" class=\"data row75 col0\" >What is your race?</td>\n",
       "      <td id=\"T_48c75_row75_col1\" class=\"data row75 col1\" >89</td>\n",
       "    </tr>\n",
       "    <tr>\n",
       "      <th id=\"T_48c75_level0_row76\" class=\"row_heading level0 row76\" >76</th>\n",
       "      <td id=\"T_48c75_row76_col0\" class=\"data row76 col0\" >Do you think that discussing a physical health issue with your employer would have negative consequences?</td>\n",
       "      <td id=\"T_48c75_row76_col1\" class=\"data row76 col1\" >90</td>\n",
       "    </tr>\n",
       "    <tr>\n",
       "      <th id=\"T_48c75_level0_row77\" class=\"row_heading level0 row77\" >77</th>\n",
       "      <td id=\"T_48c75_row77_col0\" class=\"data row77 col0\" >Do you feel that your employer takes mental health as seriously as physical health?</td>\n",
       "      <td id=\"T_48c75_row77_col1\" class=\"data row77 col1\" >91</td>\n",
       "    </tr>\n",
       "    <tr>\n",
       "      <th id=\"T_48c75_level0_row78\" class=\"row_heading level0 row78\" >78</th>\n",
       "      <td id=\"T_48c75_row78_col0\" class=\"data row78 col0\" >If you have a mental health condition, do you feel that it interferes with your work?</td>\n",
       "      <td id=\"T_48c75_row78_col1\" class=\"data row78 col1\" >92</td>\n",
       "    </tr>\n",
       "    <tr>\n",
       "      <th id=\"T_48c75_level0_row79\" class=\"row_heading level0 row79\" >79</th>\n",
       "      <td id=\"T_48c75_row79_col0\" class=\"data row79 col0\" >Do you work remotely (outside of an office) at least 50% of the time?</td>\n",
       "      <td id=\"T_48c75_row79_col1\" class=\"data row79 col1\" >93</td>\n",
       "    </tr>\n",
       "    <tr>\n",
       "      <th id=\"T_48c75_level0_row80\" class=\"row_heading level0 row80\" >80</th>\n",
       "      <td id=\"T_48c75_row80_col0\" class=\"data row80 col0\" >Do you know the options for mental health care your employer provides?</td>\n",
       "      <td id=\"T_48c75_row80_col1\" class=\"data row80 col1\" >94</td>\n",
       "    </tr>\n",
       "    <tr>\n",
       "      <th id=\"T_48c75_level0_row81\" class=\"row_heading level0 row81\" >81</th>\n",
       "      <td id=\"T_48c75_row81_col0\" class=\"data row81 col0\" >Has your employer ever discussed mental health as part of an employee wellness program?</td>\n",
       "      <td id=\"T_48c75_row81_col1\" class=\"data row81 col1\" >95</td>\n",
       "    </tr>\n",
       "    <tr>\n",
       "      <th id=\"T_48c75_level0_row82\" class=\"row_heading level0 row82\" >82</th>\n",
       "      <td id=\"T_48c75_row82_col0\" class=\"data row82 col0\" >Does your employer provide resources to learn more about mental health issues and how to seek help?</td>\n",
       "      <td id=\"T_48c75_row82_col1\" class=\"data row82 col1\" >96</td>\n",
       "    </tr>\n",
       "    <tr>\n",
       "      <th id=\"T_48c75_level0_row83\" class=\"row_heading level0 row83\" >83</th>\n",
       "      <td id=\"T_48c75_row83_col0\" class=\"data row83 col0\" >How easy is it for you to take medical leave for a mental health condition?</td>\n",
       "      <td id=\"T_48c75_row83_col1\" class=\"data row83 col1\" >97</td>\n",
       "    </tr>\n",
       "    <tr>\n",
       "      <th id=\"T_48c75_level0_row84\" class=\"row_heading level0 row84\" >84</th>\n",
       "      <td id=\"T_48c75_row84_col0\" class=\"data row84 col0\" >Do you think that discussing a mental health issue with your employer would have negative consequences?</td>\n",
       "      <td id=\"T_48c75_row84_col1\" class=\"data row84 col1\" >98</td>\n",
       "    </tr>\n",
       "    <tr>\n",
       "      <th id=\"T_48c75_level0_row85\" class=\"row_heading level0 row85\" >85</th>\n",
       "      <td id=\"T_48c75_row85_col0\" class=\"data row85 col0\" >Would you be willing to discuss a mental health issue with your coworkers?</td>\n",
       "      <td id=\"T_48c75_row85_col1\" class=\"data row85 col1\" >99</td>\n",
       "    </tr>\n",
       "    <tr>\n",
       "      <th id=\"T_48c75_level0_row86\" class=\"row_heading level0 row86\" >86</th>\n",
       "      <td id=\"T_48c75_row86_col0\" class=\"data row86 col0\" >Would you be willing to discuss a mental health issue with your direct supervisor(s)?</td>\n",
       "      <td id=\"T_48c75_row86_col1\" class=\"data row86 col1\" >100</td>\n",
       "    </tr>\n",
       "    <tr>\n",
       "      <th id=\"T_48c75_level0_row87\" class=\"row_heading level0 row87\" >87</th>\n",
       "      <td id=\"T_48c75_row87_col0\" class=\"data row87 col0\" >Would you bring up a physical health issue with a potential employer in an interview?</td>\n",
       "      <td id=\"T_48c75_row87_col1\" class=\"data row87 col1\" >101</td>\n",
       "    </tr>\n",
       "    <tr>\n",
       "      <th id=\"T_48c75_level0_row88\" class=\"row_heading level0 row88\" >88</th>\n",
       "      <td id=\"T_48c75_row88_col0\" class=\"data row88 col0\" >Have you heard of or observed negative consequences for coworkers with mental health conditions in your workplace?</td>\n",
       "      <td id=\"T_48c75_row88_col1\" class=\"data row88 col1\" >102</td>\n",
       "    </tr>\n",
       "    <tr>\n",
       "      <th id=\"T_48c75_level0_row89\" class=\"row_heading level0 row89\" >89</th>\n",
       "      <td id=\"T_48c75_row89_col0\" class=\"data row89 col0\" >Any additional notes or comments</td>\n",
       "      <td id=\"T_48c75_row89_col1\" class=\"data row89 col1\" >103</td>\n",
       "    </tr>\n",
       "    <tr>\n",
       "      <th id=\"T_48c75_level0_row90\" class=\"row_heading level0 row90\" >90</th>\n",
       "      <td id=\"T_48c75_row90_col0\" class=\"data row90 col0\" >Do you think that discussing a mental health disorder with your employer would have negative consequences?</td>\n",
       "      <td id=\"T_48c75_row90_col1\" class=\"data row90 col1\" >104</td>\n",
       "    </tr>\n",
       "    <tr>\n",
       "      <th id=\"T_48c75_level0_row91\" class=\"row_heading level0 row91\" >91</th>\n",
       "      <td id=\"T_48c75_row91_col0\" class=\"data row91 col0\" >Have you heard of or observed negative consequences for co-workers who have been open about mental health issues in your workplace?</td>\n",
       "      <td id=\"T_48c75_row91_col1\" class=\"data row91 col1\" >105</td>\n",
       "    </tr>\n",
       "    <tr>\n",
       "      <th id=\"T_48c75_level0_row92\" class=\"row_heading level0 row92\" >92</th>\n",
       "      <td id=\"T_48c75_row92_col0\" class=\"data row92 col0\" >If you have revealed a mental health issue to a client or business contact, do you believe this has impacted you negatively?</td>\n",
       "      <td id=\"T_48c75_row92_col1\" class=\"data row92 col1\" >106</td>\n",
       "    </tr>\n",
       "    <tr>\n",
       "      <th id=\"T_48c75_level0_row93\" class=\"row_heading level0 row93\" >93</th>\n",
       "      <td id=\"T_48c75_row93_col0\" class=\"data row93 col0\" >If you have revealed a mental health issue to a coworker or employee, do you believe this has impacted you negatively?</td>\n",
       "      <td id=\"T_48c75_row93_col1\" class=\"data row93 col1\" >107</td>\n",
       "    </tr>\n",
       "    <tr>\n",
       "      <th id=\"T_48c75_level0_row94\" class=\"row_heading level0 row94\" >94</th>\n",
       "      <td id=\"T_48c75_row94_col0\" class=\"data row94 col0\" >Do you think that discussing a mental health disorder with previous employers would have negative consequences?</td>\n",
       "      <td id=\"T_48c75_row94_col1\" class=\"data row94 col1\" >108</td>\n",
       "    </tr>\n",
       "    <tr>\n",
       "      <th id=\"T_48c75_level0_row95\" class=\"row_heading level0 row95\" >95</th>\n",
       "      <td id=\"T_48c75_row95_col0\" class=\"data row95 col0\" >Do you think that discussing a physical health issue with previous employers would have negative consequences?</td>\n",
       "      <td id=\"T_48c75_row95_col1\" class=\"data row95 col1\" >109</td>\n",
       "    </tr>\n",
       "    <tr>\n",
       "      <th id=\"T_48c75_level0_row96\" class=\"row_heading level0 row96\" >96</th>\n",
       "      <td id=\"T_48c75_row96_col0\" class=\"data row96 col0\" >Would you have been willing to discuss a mental health issue with your previous co-workers?</td>\n",
       "      <td id=\"T_48c75_row96_col1\" class=\"data row96 col1\" >110</td>\n",
       "    </tr>\n",
       "    <tr>\n",
       "      <th id=\"T_48c75_level0_row97\" class=\"row_heading level0 row97\" >97</th>\n",
       "      <td id=\"T_48c75_row97_col0\" class=\"data row97 col0\" >Did you feel that your previous employers took mental health as seriously as physical health?</td>\n",
       "      <td id=\"T_48c75_row97_col1\" class=\"data row97 col1\" >111</td>\n",
       "    </tr>\n",
       "    <tr>\n",
       "      <th id=\"T_48c75_level0_row98\" class=\"row_heading level0 row98\" >98</th>\n",
       "      <td id=\"T_48c75_row98_col0\" class=\"data row98 col0\" >Did you hear of or observe negative consequences for co-workers with mental health issues in your previous workplaces?</td>\n",
       "      <td id=\"T_48c75_row98_col1\" class=\"data row98 col1\" >112</td>\n",
       "    </tr>\n",
       "    <tr>\n",
       "      <th id=\"T_48c75_level0_row99\" class=\"row_heading level0 row99\" >99</th>\n",
       "      <td id=\"T_48c75_row99_col0\" class=\"data row99 col0\" >Do you feel that being identified as a person with a mental health issue would hurt your career?</td>\n",
       "      <td id=\"T_48c75_row99_col1\" class=\"data row99 col1\" >113</td>\n",
       "    </tr>\n",
       "    <tr>\n",
       "      <th id=\"T_48c75_level0_row100\" class=\"row_heading level0 row100\" >100</th>\n",
       "      <td id=\"T_48c75_row100_col0\" class=\"data row100 col0\" >Do you think that team members/co-workers would view you more negatively if they knew you suffered from a mental health issue?</td>\n",
       "      <td id=\"T_48c75_row100_col1\" class=\"data row100 col1\" >114</td>\n",
       "    </tr>\n",
       "    <tr>\n",
       "      <th id=\"T_48c75_level0_row101\" class=\"row_heading level0 row101\" >101</th>\n",
       "      <td id=\"T_48c75_row101_col0\" class=\"data row101 col0\" >If yes, what condition(s) have you been diagnosed with?</td>\n",
       "      <td id=\"T_48c75_row101_col1\" class=\"data row101 col1\" >115</td>\n",
       "    </tr>\n",
       "    <tr>\n",
       "      <th id=\"T_48c75_level0_row102\" class=\"row_heading level0 row102\" >102</th>\n",
       "      <td id=\"T_48c75_row102_col0\" class=\"data row102 col0\" >If maybe, what condition(s) do you believe you have?</td>\n",
       "      <td id=\"T_48c75_row102_col1\" class=\"data row102 col1\" >116</td>\n",
       "    </tr>\n",
       "    <tr>\n",
       "      <th id=\"T_48c75_level0_row103\" class=\"row_heading level0 row103\" >103</th>\n",
       "      <td id=\"T_48c75_row103_col0\" class=\"data row103 col0\" >Which of the following best describes your work position?</td>\n",
       "      <td id=\"T_48c75_row103_col1\" class=\"data row103 col1\" >117</td>\n",
       "    </tr>\n",
       "    <tr>\n",
       "      <th id=\"T_48c75_level0_row104\" class=\"row_heading level0 row104\" >104</th>\n",
       "      <td id=\"T_48c75_row104_col0\" class=\"data row104 col0\" >Do you work remotely?</td>\n",
       "      <td id=\"T_48c75_row104_col1\" class=\"data row104 col1\" >118</td>\n",
       "    </tr>\n",
       "  </tbody>\n",
       "</table>\n"
      ],
      "text/plain": [
       "<pandas.io.formats.style.Styler at 0x2705a2e6080>"
      ]
     },
     "execution_count": 261,
     "metadata": {},
     "output_type": "execute_result"
    }
   ],
   "source": [
    "df_questions = pd.read_sql_query(\"SELECT * FROM Question\", db_survey)\n",
    "df_questions.count().to_frame()\n",
    "df_questions = df_questions.rename(\n",
    "    columns={\"questiontext\": \"QuestionText\", \"questionid\": \"QuestionID\"}\n",
    ")\n",
    "df_questions.style.set_properties(**{'text-align': 'left'})"
   ]
  },
  {
   "cell_type": "code",
   "execution_count": 262,
   "id": "8a4f84df",
   "metadata": {},
   "outputs": [
    {
     "data": {
      "text/plain": [
       "105"
      ]
     },
     "execution_count": 262,
     "metadata": {},
     "output_type": "execute_result"
    }
   ],
   "source": [
    "df_questions.QuestionID.count()"
   ]
  },
  {
   "cell_type": "markdown",
   "id": "ae0bfc3c",
   "metadata": {},
   "source": [
    "### Section Summary\n",
    "> * Question ID is from 1 - 118. Number of rows is 1 - 104.\n",
    "> * 13 numbers are missing in the QuestionID column: 35, 36, 37, 38, 39, 40, 41, 42, 43, 44, 45, 46, 47.\n",
    "> * Eliminate question 87\n",
    "> * Question 15 and 95 are the same.\n"
   ]
  },
  {
   "cell_type": "markdown",
   "id": "a7ce2fb8",
   "metadata": {},
   "source": [
    "## Answer Database"
   ]
  },
  {
   "cell_type": "code",
   "execution_count": 263,
   "id": "b8bb96d5",
   "metadata": {},
   "outputs": [],
   "source": [
    "df_answers = pd.read_sql_query(\"SELECT * FROM Answer\", db_survey)"
   ]
  },
  {
   "cell_type": "code",
   "execution_count": 264,
   "id": "731f981d",
   "metadata": {
    "scrolled": true
   },
   "outputs": [
    {
     "data": {
      "text/html": [
       "<div>\n",
       "<style scoped>\n",
       "    .dataframe tbody tr th:only-of-type {\n",
       "        vertical-align: middle;\n",
       "    }\n",
       "\n",
       "    .dataframe tbody tr th {\n",
       "        vertical-align: top;\n",
       "    }\n",
       "\n",
       "    .dataframe thead th {\n",
       "        text-align: right;\n",
       "    }\n",
       "</style>\n",
       "<table border=\"1\" class=\"dataframe\">\n",
       "  <thead>\n",
       "    <tr style=\"text-align: right;\">\n",
       "      <th></th>\n",
       "      <th>AnswerText</th>\n",
       "      <th>SurveyID</th>\n",
       "      <th>UserID</th>\n",
       "      <th>QuestionID</th>\n",
       "    </tr>\n",
       "  </thead>\n",
       "  <tbody>\n",
       "    <tr>\n",
       "      <th>0</th>\n",
       "      <td>37</td>\n",
       "      <td>2014</td>\n",
       "      <td>1</td>\n",
       "      <td>1</td>\n",
       "    </tr>\n",
       "    <tr>\n",
       "      <th>1</th>\n",
       "      <td>44</td>\n",
       "      <td>2014</td>\n",
       "      <td>2</td>\n",
       "      <td>1</td>\n",
       "    </tr>\n",
       "    <tr>\n",
       "      <th>2</th>\n",
       "      <td>32</td>\n",
       "      <td>2014</td>\n",
       "      <td>3</td>\n",
       "      <td>1</td>\n",
       "    </tr>\n",
       "    <tr>\n",
       "      <th>3</th>\n",
       "      <td>31</td>\n",
       "      <td>2014</td>\n",
       "      <td>4</td>\n",
       "      <td>1</td>\n",
       "    </tr>\n",
       "    <tr>\n",
       "      <th>4</th>\n",
       "      <td>31</td>\n",
       "      <td>2014</td>\n",
       "      <td>5</td>\n",
       "      <td>1</td>\n",
       "    </tr>\n",
       "  </tbody>\n",
       "</table>\n",
       "</div>"
      ],
      "text/plain": [
       "  AnswerText  SurveyID  UserID  QuestionID\n",
       "0         37      2014       1           1\n",
       "1         44      2014       2           1\n",
       "2         32      2014       3           1\n",
       "3         31      2014       4           1\n",
       "4         31      2014       5           1"
      ]
     },
     "execution_count": 264,
     "metadata": {},
     "output_type": "execute_result"
    }
   ],
   "source": [
    "df_answers.head()"
   ]
  },
  {
   "cell_type": "code",
   "execution_count": 265,
   "id": "d8ff2c56",
   "metadata": {},
   "outputs": [
    {
     "data": {
      "text/plain": [
       "236898"
      ]
     },
     "execution_count": 265,
     "metadata": {},
     "output_type": "execute_result"
    }
   ],
   "source": [
    "df_answers.QuestionID.count()"
   ]
  },
  {
   "cell_type": "markdown",
   "id": "be7956a1",
   "metadata": {},
   "source": [
    "# Tech Workers in Tech Companies"
   ]
  },
  {
   "cell_type": "markdown",
   "id": "f995bc8e",
   "metadata": {},
   "source": [
    "## QuestionID: 9\n",
    "Is your employer primarily a tech company/organization?"
   ]
  },
  {
   "cell_type": "code",
   "execution_count": 266,
   "id": "56f2966b",
   "metadata": {},
   "outputs": [],
   "source": [
    "df_Answer9 = pd.read_sql_query(\n",
    "    \"SELECT USERID FROM Answer where QuestionID = 9 AND AnswerText = '1'\",\n",
    "    db_survey\n",
    ")"
   ]
  },
  {
   "cell_type": "markdown",
   "id": "32374082",
   "metadata": {},
   "source": [
    "## QuestionID: 31\n",
    "Is your primary role within your company related to tech/IT?"
   ]
  },
  {
   "cell_type": "code",
   "execution_count": 267,
   "id": "ad7ef606",
   "metadata": {},
   "outputs": [],
   "source": [
    "df_Answer13 = pd.read_sql_query(\n",
    "    \"SELECT USERID FROM Answer where QuestionID = 13 AND AnswerText = '1'\",\n",
    "    db_survey\n",
    ")"
   ]
  },
  {
   "cell_type": "code",
   "execution_count": 268,
   "id": "f1dedb9a",
   "metadata": {},
   "outputs": [],
   "source": [
    "df_TechinTech = pd.merge(df_Answer13, df_Answer9 , on='UserID', how='inner')"
   ]
  },
  {
   "cell_type": "code",
   "execution_count": 269,
   "id": "1d591b53",
   "metadata": {},
   "outputs": [
    {
     "data": {
      "text/plain": [
       "909"
      ]
     },
     "execution_count": 269,
     "metadata": {},
     "output_type": "execute_result"
    }
   ],
   "source": [
    "Total_TechinTech = df_TechinTech.UserID.count()\n",
    "Total_TechinTech"
   ]
  },
  {
   "cell_type": "markdown",
   "id": "9d607708",
   "metadata": {},
   "source": [
    "# Countries"
   ]
  },
  {
   "cell_type": "code",
   "execution_count": 270,
   "id": "53391b11",
   "metadata": {},
   "outputs": [],
   "source": [
    "df_Answer3 = pd.read_sql_query(\n",
    "    \"SELECT * FROM Answer where QuestionID = 3\",\n",
    "    db_survey\n",
    ")"
   ]
  },
  {
   "cell_type": "code",
   "execution_count": 271,
   "id": "481d0c46",
   "metadata": {},
   "outputs": [],
   "source": [
    "df_Country = pd.merge(df_TechinTech, df_Answer3 , on='UserID', how='inner')"
   ]
  },
  {
   "cell_type": "code",
   "execution_count": 272,
   "id": "5fbdd04e",
   "metadata": {},
   "outputs": [],
   "source": [
    "df_Country = df_Country.drop(['UserID', 'SurveyID', 'QuestionID'], axis = 1)"
   ]
  },
  {
   "cell_type": "code",
   "execution_count": 273,
   "id": "12ad93fc",
   "metadata": {},
   "outputs": [],
   "source": [
    "df_Country_count = df_Country.AnswerText.value_counts()"
   ]
  },
  {
   "cell_type": "code",
   "execution_count": 274,
   "id": "860ccab8",
   "metadata": {},
   "outputs": [],
   "source": [
    "df_Country_count = pd.DataFrame(df_Country_count)"
   ]
  },
  {
   "cell_type": "code",
   "execution_count": 275,
   "id": "bd531413",
   "metadata": {},
   "outputs": [],
   "source": [
    "df_Country_count = df_Country_count.reset_index()"
   ]
  },
  {
   "cell_type": "code",
   "execution_count": 276,
   "id": "0d9822ef",
   "metadata": {},
   "outputs": [],
   "source": [
    "df_Country_count = df_Country_count.rename(\n",
    "    columns={\"index\": \"Country\", \"AnswerText\": \"Count\"}\n",
    ")"
   ]
  },
  {
   "cell_type": "code",
   "execution_count": 277,
   "id": "2109cb46",
   "metadata": {},
   "outputs": [],
   "source": [
    "df_Country_count[\"Country\"] = df_Country_count[\"Country\"].replace(\n",
    "    {\n",
    "        \"-1\": \"Other\",\n",
    "        \"Bahamas, The\": \"Bahamas\",\n",
    "        \"United States of America\": 'United States'\n",
    "    }\n",
    ")"
   ]
  },
  {
   "cell_type": "code",
   "execution_count": 278,
   "id": "f6740c71",
   "metadata": {},
   "outputs": [],
   "source": [
    "Total_OtherCountries = df_Country_count[8:][['Count']].sum()\n",
    "Total_OtherCountries = Total_OtherCountries.Count"
   ]
  },
  {
   "cell_type": "code",
   "execution_count": 279,
   "id": "e985264d",
   "metadata": {},
   "outputs": [],
   "source": [
    "df_Country_count = df_Country_count[df_Country_count.Count >= 14]"
   ]
  },
  {
   "cell_type": "code",
   "execution_count": 280,
   "id": "4f8c88c2",
   "metadata": {},
   "outputs": [],
   "source": [
    "df_Country_count.loc[13] = ['Other', Total_OtherCountries] "
   ]
  },
  {
   "cell_type": "code",
   "execution_count": 281,
   "id": "e159b640",
   "metadata": {
    "scrolled": true
   },
   "outputs": [
    {
     "data": {
      "application/javascript": [
       "/* Put everything inside the global mpl namespace */\n",
       "/* global mpl */\n",
       "window.mpl = {};\n",
       "\n",
       "mpl.get_websocket_type = function () {\n",
       "    if (typeof WebSocket !== 'undefined') {\n",
       "        return WebSocket;\n",
       "    } else if (typeof MozWebSocket !== 'undefined') {\n",
       "        return MozWebSocket;\n",
       "    } else {\n",
       "        alert(\n",
       "            'Your browser does not have WebSocket support. ' +\n",
       "                'Please try Chrome, Safari or Firefox ≥ 6. ' +\n",
       "                'Firefox 4 and 5 are also supported but you ' +\n",
       "                'have to enable WebSockets in about:config.'\n",
       "        );\n",
       "    }\n",
       "};\n",
       "\n",
       "mpl.figure = function (figure_id, websocket, ondownload, parent_element) {\n",
       "    this.id = figure_id;\n",
       "\n",
       "    this.ws = websocket;\n",
       "\n",
       "    this.supports_binary = this.ws.binaryType !== undefined;\n",
       "\n",
       "    if (!this.supports_binary) {\n",
       "        var warnings = document.getElementById('mpl-warnings');\n",
       "        if (warnings) {\n",
       "            warnings.style.display = 'block';\n",
       "            warnings.textContent =\n",
       "                'This browser does not support binary websocket messages. ' +\n",
       "                'Performance may be slow.';\n",
       "        }\n",
       "    }\n",
       "\n",
       "    this.imageObj = new Image();\n",
       "\n",
       "    this.context = undefined;\n",
       "    this.message = undefined;\n",
       "    this.canvas = undefined;\n",
       "    this.rubberband_canvas = undefined;\n",
       "    this.rubberband_context = undefined;\n",
       "    this.format_dropdown = undefined;\n",
       "\n",
       "    this.image_mode = 'full';\n",
       "\n",
       "    this.root = document.createElement('div');\n",
       "    this.root.setAttribute('style', 'display: inline-block');\n",
       "    this._root_extra_style(this.root);\n",
       "\n",
       "    parent_element.appendChild(this.root);\n",
       "\n",
       "    this._init_header(this);\n",
       "    this._init_canvas(this);\n",
       "    this._init_toolbar(this);\n",
       "\n",
       "    var fig = this;\n",
       "\n",
       "    this.waiting = false;\n",
       "\n",
       "    this.ws.onopen = function () {\n",
       "        fig.send_message('supports_binary', { value: fig.supports_binary });\n",
       "        fig.send_message('send_image_mode', {});\n",
       "        if (fig.ratio !== 1) {\n",
       "            fig.send_message('set_device_pixel_ratio', {\n",
       "                device_pixel_ratio: fig.ratio,\n",
       "            });\n",
       "        }\n",
       "        fig.send_message('refresh', {});\n",
       "    };\n",
       "\n",
       "    this.imageObj.onload = function () {\n",
       "        if (fig.image_mode === 'full') {\n",
       "            // Full images could contain transparency (where diff images\n",
       "            // almost always do), so we need to clear the canvas so that\n",
       "            // there is no ghosting.\n",
       "            fig.context.clearRect(0, 0, fig.canvas.width, fig.canvas.height);\n",
       "        }\n",
       "        fig.context.drawImage(fig.imageObj, 0, 0);\n",
       "    };\n",
       "\n",
       "    this.imageObj.onunload = function () {\n",
       "        fig.ws.close();\n",
       "    };\n",
       "\n",
       "    this.ws.onmessage = this._make_on_message_function(this);\n",
       "\n",
       "    this.ondownload = ondownload;\n",
       "};\n",
       "\n",
       "mpl.figure.prototype._init_header = function () {\n",
       "    var titlebar = document.createElement('div');\n",
       "    titlebar.classList =\n",
       "        'ui-dialog-titlebar ui-widget-header ui-corner-all ui-helper-clearfix';\n",
       "    var titletext = document.createElement('div');\n",
       "    titletext.classList = 'ui-dialog-title';\n",
       "    titletext.setAttribute(\n",
       "        'style',\n",
       "        'width: 100%; text-align: center; padding: 3px;'\n",
       "    );\n",
       "    titlebar.appendChild(titletext);\n",
       "    this.root.appendChild(titlebar);\n",
       "    this.header = titletext;\n",
       "};\n",
       "\n",
       "mpl.figure.prototype._canvas_extra_style = function (_canvas_div) {};\n",
       "\n",
       "mpl.figure.prototype._root_extra_style = function (_canvas_div) {};\n",
       "\n",
       "mpl.figure.prototype._init_canvas = function () {\n",
       "    var fig = this;\n",
       "\n",
       "    var canvas_div = (this.canvas_div = document.createElement('div'));\n",
       "    canvas_div.setAttribute(\n",
       "        'style',\n",
       "        'border: 1px solid #ddd;' +\n",
       "            'box-sizing: content-box;' +\n",
       "            'clear: both;' +\n",
       "            'min-height: 1px;' +\n",
       "            'min-width: 1px;' +\n",
       "            'outline: 0;' +\n",
       "            'overflow: hidden;' +\n",
       "            'position: relative;' +\n",
       "            'resize: both;'\n",
       "    );\n",
       "\n",
       "    function on_keyboard_event_closure(name) {\n",
       "        return function (event) {\n",
       "            return fig.key_event(event, name);\n",
       "        };\n",
       "    }\n",
       "\n",
       "    canvas_div.addEventListener(\n",
       "        'keydown',\n",
       "        on_keyboard_event_closure('key_press')\n",
       "    );\n",
       "    canvas_div.addEventListener(\n",
       "        'keyup',\n",
       "        on_keyboard_event_closure('key_release')\n",
       "    );\n",
       "\n",
       "    this._canvas_extra_style(canvas_div);\n",
       "    this.root.appendChild(canvas_div);\n",
       "\n",
       "    var canvas = (this.canvas = document.createElement('canvas'));\n",
       "    canvas.classList.add('mpl-canvas');\n",
       "    canvas.setAttribute('style', 'box-sizing: content-box;');\n",
       "\n",
       "    this.context = canvas.getContext('2d');\n",
       "\n",
       "    var backingStore =\n",
       "        this.context.backingStorePixelRatio ||\n",
       "        this.context.webkitBackingStorePixelRatio ||\n",
       "        this.context.mozBackingStorePixelRatio ||\n",
       "        this.context.msBackingStorePixelRatio ||\n",
       "        this.context.oBackingStorePixelRatio ||\n",
       "        this.context.backingStorePixelRatio ||\n",
       "        1;\n",
       "\n",
       "    this.ratio = (window.devicePixelRatio || 1) / backingStore;\n",
       "\n",
       "    var rubberband_canvas = (this.rubberband_canvas = document.createElement(\n",
       "        'canvas'\n",
       "    ));\n",
       "    rubberband_canvas.setAttribute(\n",
       "        'style',\n",
       "        'box-sizing: content-box; position: absolute; left: 0; top: 0; z-index: 1;'\n",
       "    );\n",
       "\n",
       "    // Apply a ponyfill if ResizeObserver is not implemented by browser.\n",
       "    if (this.ResizeObserver === undefined) {\n",
       "        if (window.ResizeObserver !== undefined) {\n",
       "            this.ResizeObserver = window.ResizeObserver;\n",
       "        } else {\n",
       "            var obs = _JSXTOOLS_RESIZE_OBSERVER({});\n",
       "            this.ResizeObserver = obs.ResizeObserver;\n",
       "        }\n",
       "    }\n",
       "\n",
       "    this.resizeObserverInstance = new this.ResizeObserver(function (entries) {\n",
       "        var nentries = entries.length;\n",
       "        for (var i = 0; i < nentries; i++) {\n",
       "            var entry = entries[i];\n",
       "            var width, height;\n",
       "            if (entry.contentBoxSize) {\n",
       "                if (entry.contentBoxSize instanceof Array) {\n",
       "                    // Chrome 84 implements new version of spec.\n",
       "                    width = entry.contentBoxSize[0].inlineSize;\n",
       "                    height = entry.contentBoxSize[0].blockSize;\n",
       "                } else {\n",
       "                    // Firefox implements old version of spec.\n",
       "                    width = entry.contentBoxSize.inlineSize;\n",
       "                    height = entry.contentBoxSize.blockSize;\n",
       "                }\n",
       "            } else {\n",
       "                // Chrome <84 implements even older version of spec.\n",
       "                width = entry.contentRect.width;\n",
       "                height = entry.contentRect.height;\n",
       "            }\n",
       "\n",
       "            // Keep the size of the canvas and rubber band canvas in sync with\n",
       "            // the canvas container.\n",
       "            if (entry.devicePixelContentBoxSize) {\n",
       "                // Chrome 84 implements new version of spec.\n",
       "                canvas.setAttribute(\n",
       "                    'width',\n",
       "                    entry.devicePixelContentBoxSize[0].inlineSize\n",
       "                );\n",
       "                canvas.setAttribute(\n",
       "                    'height',\n",
       "                    entry.devicePixelContentBoxSize[0].blockSize\n",
       "                );\n",
       "            } else {\n",
       "                canvas.setAttribute('width', width * fig.ratio);\n",
       "                canvas.setAttribute('height', height * fig.ratio);\n",
       "            }\n",
       "            canvas.setAttribute(\n",
       "                'style',\n",
       "                'width: ' + width + 'px; height: ' + height + 'px;'\n",
       "            );\n",
       "\n",
       "            rubberband_canvas.setAttribute('width', width);\n",
       "            rubberband_canvas.setAttribute('height', height);\n",
       "\n",
       "            // And update the size in Python. We ignore the initial 0/0 size\n",
       "            // that occurs as the element is placed into the DOM, which should\n",
       "            // otherwise not happen due to the minimum size styling.\n",
       "            if (fig.ws.readyState == 1 && width != 0 && height != 0) {\n",
       "                fig.request_resize(width, height);\n",
       "            }\n",
       "        }\n",
       "    });\n",
       "    this.resizeObserverInstance.observe(canvas_div);\n",
       "\n",
       "    function on_mouse_event_closure(name) {\n",
       "        return function (event) {\n",
       "            return fig.mouse_event(event, name);\n",
       "        };\n",
       "    }\n",
       "\n",
       "    rubberband_canvas.addEventListener(\n",
       "        'mousedown',\n",
       "        on_mouse_event_closure('button_press')\n",
       "    );\n",
       "    rubberband_canvas.addEventListener(\n",
       "        'mouseup',\n",
       "        on_mouse_event_closure('button_release')\n",
       "    );\n",
       "    rubberband_canvas.addEventListener(\n",
       "        'dblclick',\n",
       "        on_mouse_event_closure('dblclick')\n",
       "    );\n",
       "    // Throttle sequential mouse events to 1 every 20ms.\n",
       "    rubberband_canvas.addEventListener(\n",
       "        'mousemove',\n",
       "        on_mouse_event_closure('motion_notify')\n",
       "    );\n",
       "\n",
       "    rubberband_canvas.addEventListener(\n",
       "        'mouseenter',\n",
       "        on_mouse_event_closure('figure_enter')\n",
       "    );\n",
       "    rubberband_canvas.addEventListener(\n",
       "        'mouseleave',\n",
       "        on_mouse_event_closure('figure_leave')\n",
       "    );\n",
       "\n",
       "    canvas_div.addEventListener('wheel', function (event) {\n",
       "        if (event.deltaY < 0) {\n",
       "            event.step = 1;\n",
       "        } else {\n",
       "            event.step = -1;\n",
       "        }\n",
       "        on_mouse_event_closure('scroll')(event);\n",
       "    });\n",
       "\n",
       "    canvas_div.appendChild(canvas);\n",
       "    canvas_div.appendChild(rubberband_canvas);\n",
       "\n",
       "    this.rubberband_context = rubberband_canvas.getContext('2d');\n",
       "    this.rubberband_context.strokeStyle = '#000000';\n",
       "\n",
       "    this._resize_canvas = function (width, height, forward) {\n",
       "        if (forward) {\n",
       "            canvas_div.style.width = width + 'px';\n",
       "            canvas_div.style.height = height + 'px';\n",
       "        }\n",
       "    };\n",
       "\n",
       "    // Disable right mouse context menu.\n",
       "    this.rubberband_canvas.addEventListener('contextmenu', function (_e) {\n",
       "        event.preventDefault();\n",
       "        return false;\n",
       "    });\n",
       "\n",
       "    function set_focus() {\n",
       "        canvas.focus();\n",
       "        canvas_div.focus();\n",
       "    }\n",
       "\n",
       "    window.setTimeout(set_focus, 100);\n",
       "};\n",
       "\n",
       "mpl.figure.prototype._init_toolbar = function () {\n",
       "    var fig = this;\n",
       "\n",
       "    var toolbar = document.createElement('div');\n",
       "    toolbar.classList = 'mpl-toolbar';\n",
       "    this.root.appendChild(toolbar);\n",
       "\n",
       "    function on_click_closure(name) {\n",
       "        return function (_event) {\n",
       "            return fig.toolbar_button_onclick(name);\n",
       "        };\n",
       "    }\n",
       "\n",
       "    function on_mouseover_closure(tooltip) {\n",
       "        return function (event) {\n",
       "            if (!event.currentTarget.disabled) {\n",
       "                return fig.toolbar_button_onmouseover(tooltip);\n",
       "            }\n",
       "        };\n",
       "    }\n",
       "\n",
       "    fig.buttons = {};\n",
       "    var buttonGroup = document.createElement('div');\n",
       "    buttonGroup.classList = 'mpl-button-group';\n",
       "    for (var toolbar_ind in mpl.toolbar_items) {\n",
       "        var name = mpl.toolbar_items[toolbar_ind][0];\n",
       "        var tooltip = mpl.toolbar_items[toolbar_ind][1];\n",
       "        var image = mpl.toolbar_items[toolbar_ind][2];\n",
       "        var method_name = mpl.toolbar_items[toolbar_ind][3];\n",
       "\n",
       "        if (!name) {\n",
       "            /* Instead of a spacer, we start a new button group. */\n",
       "            if (buttonGroup.hasChildNodes()) {\n",
       "                toolbar.appendChild(buttonGroup);\n",
       "            }\n",
       "            buttonGroup = document.createElement('div');\n",
       "            buttonGroup.classList = 'mpl-button-group';\n",
       "            continue;\n",
       "        }\n",
       "\n",
       "        var button = (fig.buttons[name] = document.createElement('button'));\n",
       "        button.classList = 'mpl-widget';\n",
       "        button.setAttribute('role', 'button');\n",
       "        button.setAttribute('aria-disabled', 'false');\n",
       "        button.addEventListener('click', on_click_closure(method_name));\n",
       "        button.addEventListener('mouseover', on_mouseover_closure(tooltip));\n",
       "\n",
       "        var icon_img = document.createElement('img');\n",
       "        icon_img.src = '_images/' + image + '.png';\n",
       "        icon_img.srcset = '_images/' + image + '_large.png 2x';\n",
       "        icon_img.alt = tooltip;\n",
       "        button.appendChild(icon_img);\n",
       "\n",
       "        buttonGroup.appendChild(button);\n",
       "    }\n",
       "\n",
       "    if (buttonGroup.hasChildNodes()) {\n",
       "        toolbar.appendChild(buttonGroup);\n",
       "    }\n",
       "\n",
       "    var fmt_picker = document.createElement('select');\n",
       "    fmt_picker.classList = 'mpl-widget';\n",
       "    toolbar.appendChild(fmt_picker);\n",
       "    this.format_dropdown = fmt_picker;\n",
       "\n",
       "    for (var ind in mpl.extensions) {\n",
       "        var fmt = mpl.extensions[ind];\n",
       "        var option = document.createElement('option');\n",
       "        option.selected = fmt === mpl.default_extension;\n",
       "        option.innerHTML = fmt;\n",
       "        fmt_picker.appendChild(option);\n",
       "    }\n",
       "\n",
       "    var status_bar = document.createElement('span');\n",
       "    status_bar.classList = 'mpl-message';\n",
       "    toolbar.appendChild(status_bar);\n",
       "    this.message = status_bar;\n",
       "};\n",
       "\n",
       "mpl.figure.prototype.request_resize = function (x_pixels, y_pixels) {\n",
       "    // Request matplotlib to resize the figure. Matplotlib will then trigger a resize in the client,\n",
       "    // which will in turn request a refresh of the image.\n",
       "    this.send_message('resize', { width: x_pixels, height: y_pixels });\n",
       "};\n",
       "\n",
       "mpl.figure.prototype.send_message = function (type, properties) {\n",
       "    properties['type'] = type;\n",
       "    properties['figure_id'] = this.id;\n",
       "    this.ws.send(JSON.stringify(properties));\n",
       "};\n",
       "\n",
       "mpl.figure.prototype.send_draw_message = function () {\n",
       "    if (!this.waiting) {\n",
       "        this.waiting = true;\n",
       "        this.ws.send(JSON.stringify({ type: 'draw', figure_id: this.id }));\n",
       "    }\n",
       "};\n",
       "\n",
       "mpl.figure.prototype.handle_save = function (fig, _msg) {\n",
       "    var format_dropdown = fig.format_dropdown;\n",
       "    var format = format_dropdown.options[format_dropdown.selectedIndex].value;\n",
       "    fig.ondownload(fig, format);\n",
       "};\n",
       "\n",
       "mpl.figure.prototype.handle_resize = function (fig, msg) {\n",
       "    var size = msg['size'];\n",
       "    if (size[0] !== fig.canvas.width || size[1] !== fig.canvas.height) {\n",
       "        fig._resize_canvas(size[0], size[1], msg['forward']);\n",
       "        fig.send_message('refresh', {});\n",
       "    }\n",
       "};\n",
       "\n",
       "mpl.figure.prototype.handle_rubberband = function (fig, msg) {\n",
       "    var x0 = msg['x0'] / fig.ratio;\n",
       "    var y0 = (fig.canvas.height - msg['y0']) / fig.ratio;\n",
       "    var x1 = msg['x1'] / fig.ratio;\n",
       "    var y1 = (fig.canvas.height - msg['y1']) / fig.ratio;\n",
       "    x0 = Math.floor(x0) + 0.5;\n",
       "    y0 = Math.floor(y0) + 0.5;\n",
       "    x1 = Math.floor(x1) + 0.5;\n",
       "    y1 = Math.floor(y1) + 0.5;\n",
       "    var min_x = Math.min(x0, x1);\n",
       "    var min_y = Math.min(y0, y1);\n",
       "    var width = Math.abs(x1 - x0);\n",
       "    var height = Math.abs(y1 - y0);\n",
       "\n",
       "    fig.rubberband_context.clearRect(\n",
       "        0,\n",
       "        0,\n",
       "        fig.canvas.width / fig.ratio,\n",
       "        fig.canvas.height / fig.ratio\n",
       "    );\n",
       "\n",
       "    fig.rubberband_context.strokeRect(min_x, min_y, width, height);\n",
       "};\n",
       "\n",
       "mpl.figure.prototype.handle_figure_label = function (fig, msg) {\n",
       "    // Updates the figure title.\n",
       "    fig.header.textContent = msg['label'];\n",
       "};\n",
       "\n",
       "mpl.figure.prototype.handle_cursor = function (fig, msg) {\n",
       "    fig.rubberband_canvas.style.cursor = msg['cursor'];\n",
       "};\n",
       "\n",
       "mpl.figure.prototype.handle_message = function (fig, msg) {\n",
       "    fig.message.textContent = msg['message'];\n",
       "};\n",
       "\n",
       "mpl.figure.prototype.handle_draw = function (fig, _msg) {\n",
       "    // Request the server to send over a new figure.\n",
       "    fig.send_draw_message();\n",
       "};\n",
       "\n",
       "mpl.figure.prototype.handle_image_mode = function (fig, msg) {\n",
       "    fig.image_mode = msg['mode'];\n",
       "};\n",
       "\n",
       "mpl.figure.prototype.handle_history_buttons = function (fig, msg) {\n",
       "    for (var key in msg) {\n",
       "        if (!(key in fig.buttons)) {\n",
       "            continue;\n",
       "        }\n",
       "        fig.buttons[key].disabled = !msg[key];\n",
       "        fig.buttons[key].setAttribute('aria-disabled', !msg[key]);\n",
       "    }\n",
       "};\n",
       "\n",
       "mpl.figure.prototype.handle_navigate_mode = function (fig, msg) {\n",
       "    if (msg['mode'] === 'PAN') {\n",
       "        fig.buttons['Pan'].classList.add('active');\n",
       "        fig.buttons['Zoom'].classList.remove('active');\n",
       "    } else if (msg['mode'] === 'ZOOM') {\n",
       "        fig.buttons['Pan'].classList.remove('active');\n",
       "        fig.buttons['Zoom'].classList.add('active');\n",
       "    } else {\n",
       "        fig.buttons['Pan'].classList.remove('active');\n",
       "        fig.buttons['Zoom'].classList.remove('active');\n",
       "    }\n",
       "};\n",
       "\n",
       "mpl.figure.prototype.updated_canvas_event = function () {\n",
       "    // Called whenever the canvas gets updated.\n",
       "    this.send_message('ack', {});\n",
       "};\n",
       "\n",
       "// A function to construct a web socket function for onmessage handling.\n",
       "// Called in the figure constructor.\n",
       "mpl.figure.prototype._make_on_message_function = function (fig) {\n",
       "    return function socket_on_message(evt) {\n",
       "        if (evt.data instanceof Blob) {\n",
       "            var img = evt.data;\n",
       "            if (img.type !== 'image/png') {\n",
       "                /* FIXME: We get \"Resource interpreted as Image but\n",
       "                 * transferred with MIME type text/plain:\" errors on\n",
       "                 * Chrome.  But how to set the MIME type?  It doesn't seem\n",
       "                 * to be part of the websocket stream */\n",
       "                img.type = 'image/png';\n",
       "            }\n",
       "\n",
       "            /* Free the memory for the previous frames */\n",
       "            if (fig.imageObj.src) {\n",
       "                (window.URL || window.webkitURL).revokeObjectURL(\n",
       "                    fig.imageObj.src\n",
       "                );\n",
       "            }\n",
       "\n",
       "            fig.imageObj.src = (window.URL || window.webkitURL).createObjectURL(\n",
       "                img\n",
       "            );\n",
       "            fig.updated_canvas_event();\n",
       "            fig.waiting = false;\n",
       "            return;\n",
       "        } else if (\n",
       "            typeof evt.data === 'string' &&\n",
       "            evt.data.slice(0, 21) === 'data:image/png;base64'\n",
       "        ) {\n",
       "            fig.imageObj.src = evt.data;\n",
       "            fig.updated_canvas_event();\n",
       "            fig.waiting = false;\n",
       "            return;\n",
       "        }\n",
       "\n",
       "        var msg = JSON.parse(evt.data);\n",
       "        var msg_type = msg['type'];\n",
       "\n",
       "        // Call the  \"handle_{type}\" callback, which takes\n",
       "        // the figure and JSON message as its only arguments.\n",
       "        try {\n",
       "            var callback = fig['handle_' + msg_type];\n",
       "        } catch (e) {\n",
       "            console.log(\n",
       "                \"No handler for the '\" + msg_type + \"' message type: \",\n",
       "                msg\n",
       "            );\n",
       "            return;\n",
       "        }\n",
       "\n",
       "        if (callback) {\n",
       "            try {\n",
       "                // console.log(\"Handling '\" + msg_type + \"' message: \", msg);\n",
       "                callback(fig, msg);\n",
       "            } catch (e) {\n",
       "                console.log(\n",
       "                    \"Exception inside the 'handler_\" + msg_type + \"' callback:\",\n",
       "                    e,\n",
       "                    e.stack,\n",
       "                    msg\n",
       "                );\n",
       "            }\n",
       "        }\n",
       "    };\n",
       "};\n",
       "\n",
       "// from https://stackoverflow.com/questions/1114465/getting-mouse-location-in-canvas\n",
       "mpl.findpos = function (e) {\n",
       "    //this section is from http://www.quirksmode.org/js/events_properties.html\n",
       "    var targ;\n",
       "    if (!e) {\n",
       "        e = window.event;\n",
       "    }\n",
       "    if (e.target) {\n",
       "        targ = e.target;\n",
       "    } else if (e.srcElement) {\n",
       "        targ = e.srcElement;\n",
       "    }\n",
       "    if (targ.nodeType === 3) {\n",
       "        // defeat Safari bug\n",
       "        targ = targ.parentNode;\n",
       "    }\n",
       "\n",
       "    // pageX,Y are the mouse positions relative to the document\n",
       "    var boundingRect = targ.getBoundingClientRect();\n",
       "    var x = e.pageX - (boundingRect.left + document.body.scrollLeft);\n",
       "    var y = e.pageY - (boundingRect.top + document.body.scrollTop);\n",
       "\n",
       "    return { x: x, y: y };\n",
       "};\n",
       "\n",
       "/*\n",
       " * return a copy of an object with only non-object keys\n",
       " * we need this to avoid circular references\n",
       " * https://stackoverflow.com/a/24161582/3208463\n",
       " */\n",
       "function simpleKeys(original) {\n",
       "    return Object.keys(original).reduce(function (obj, key) {\n",
       "        if (typeof original[key] !== 'object') {\n",
       "            obj[key] = original[key];\n",
       "        }\n",
       "        return obj;\n",
       "    }, {});\n",
       "}\n",
       "\n",
       "mpl.figure.prototype.mouse_event = function (event, name) {\n",
       "    var canvas_pos = mpl.findpos(event);\n",
       "\n",
       "    if (name === 'button_press') {\n",
       "        this.canvas.focus();\n",
       "        this.canvas_div.focus();\n",
       "    }\n",
       "\n",
       "    var x = canvas_pos.x * this.ratio;\n",
       "    var y = canvas_pos.y * this.ratio;\n",
       "\n",
       "    this.send_message(name, {\n",
       "        x: x,\n",
       "        y: y,\n",
       "        button: event.button,\n",
       "        step: event.step,\n",
       "        guiEvent: simpleKeys(event),\n",
       "    });\n",
       "\n",
       "    /* This prevents the web browser from automatically changing to\n",
       "     * the text insertion cursor when the button is pressed.  We want\n",
       "     * to control all of the cursor setting manually through the\n",
       "     * 'cursor' event from matplotlib */\n",
       "    event.preventDefault();\n",
       "    return false;\n",
       "};\n",
       "\n",
       "mpl.figure.prototype._key_event_extra = function (_event, _name) {\n",
       "    // Handle any extra behaviour associated with a key event\n",
       "};\n",
       "\n",
       "mpl.figure.prototype.key_event = function (event, name) {\n",
       "    // Prevent repeat events\n",
       "    if (name === 'key_press') {\n",
       "        if (event.key === this._key) {\n",
       "            return;\n",
       "        } else {\n",
       "            this._key = event.key;\n",
       "        }\n",
       "    }\n",
       "    if (name === 'key_release') {\n",
       "        this._key = null;\n",
       "    }\n",
       "\n",
       "    var value = '';\n",
       "    if (event.ctrlKey && event.key !== 'Control') {\n",
       "        value += 'ctrl+';\n",
       "    }\n",
       "    else if (event.altKey && event.key !== 'Alt') {\n",
       "        value += 'alt+';\n",
       "    }\n",
       "    else if (event.shiftKey && event.key !== 'Shift') {\n",
       "        value += 'shift+';\n",
       "    }\n",
       "\n",
       "    value += 'k' + event.key;\n",
       "\n",
       "    this._key_event_extra(event, name);\n",
       "\n",
       "    this.send_message(name, { key: value, guiEvent: simpleKeys(event) });\n",
       "    return false;\n",
       "};\n",
       "\n",
       "mpl.figure.prototype.toolbar_button_onclick = function (name) {\n",
       "    if (name === 'download') {\n",
       "        this.handle_save(this, null);\n",
       "    } else {\n",
       "        this.send_message('toolbar_button', { name: name });\n",
       "    }\n",
       "};\n",
       "\n",
       "mpl.figure.prototype.toolbar_button_onmouseover = function (tooltip) {\n",
       "    this.message.textContent = tooltip;\n",
       "};\n",
       "\n",
       "///////////////// REMAINING CONTENT GENERATED BY embed_js.py /////////////////\n",
       "// prettier-ignore\n",
       "var _JSXTOOLS_RESIZE_OBSERVER=function(A){var t,i=new WeakMap,n=new WeakMap,a=new WeakMap,r=new WeakMap,o=new Set;function s(e){if(!(this instanceof s))throw new TypeError(\"Constructor requires 'new' operator\");i.set(this,e)}function h(){throw new TypeError(\"Function is not a constructor\")}function c(e,t,i,n){e=0 in arguments?Number(arguments[0]):0,t=1 in arguments?Number(arguments[1]):0,i=2 in arguments?Number(arguments[2]):0,n=3 in arguments?Number(arguments[3]):0,this.right=(this.x=this.left=e)+(this.width=i),this.bottom=(this.y=this.top=t)+(this.height=n),Object.freeze(this)}function d(){t=requestAnimationFrame(d);var s=new WeakMap,p=new Set;o.forEach((function(t){r.get(t).forEach((function(i){var r=t instanceof window.SVGElement,o=a.get(t),d=r?0:parseFloat(o.paddingTop),f=r?0:parseFloat(o.paddingRight),l=r?0:parseFloat(o.paddingBottom),u=r?0:parseFloat(o.paddingLeft),g=r?0:parseFloat(o.borderTopWidth),m=r?0:parseFloat(o.borderRightWidth),w=r?0:parseFloat(o.borderBottomWidth),b=u+f,F=d+l,v=(r?0:parseFloat(o.borderLeftWidth))+m,W=g+w,y=r?0:t.offsetHeight-W-t.clientHeight,E=r?0:t.offsetWidth-v-t.clientWidth,R=b+v,z=F+W,M=r?t.width:parseFloat(o.width)-R-E,O=r?t.height:parseFloat(o.height)-z-y;if(n.has(t)){var k=n.get(t);if(k[0]===M&&k[1]===O)return}n.set(t,[M,O]);var S=Object.create(h.prototype);S.target=t,S.contentRect=new c(u,d,M,O),s.has(i)||(s.set(i,[]),p.add(i)),s.get(i).push(S)}))})),p.forEach((function(e){i.get(e).call(e,s.get(e),e)}))}return s.prototype.observe=function(i){if(i instanceof window.Element){r.has(i)||(r.set(i,new Set),o.add(i),a.set(i,window.getComputedStyle(i)));var n=r.get(i);n.has(this)||n.add(this),cancelAnimationFrame(t),t=requestAnimationFrame(d)}},s.prototype.unobserve=function(i){if(i instanceof window.Element&&r.has(i)){var n=r.get(i);n.has(this)&&(n.delete(this),n.size||(r.delete(i),o.delete(i))),n.size||r.delete(i),o.size||cancelAnimationFrame(t)}},A.DOMRectReadOnly=c,A.ResizeObserver=s,A.ResizeObserverEntry=h,A}; // eslint-disable-line\n",
       "mpl.toolbar_items = [[\"Home\", \"Reset original view\", \"fa fa-home\", \"home\"], [\"Back\", \"Back to previous view\", \"fa fa-arrow-left\", \"back\"], [\"Forward\", \"Forward to next view\", \"fa fa-arrow-right\", \"forward\"], [\"\", \"\", \"\", \"\"], [\"Pan\", \"Left button pans, Right button zooms\\nx/y fixes axis, CTRL fixes aspect\", \"fa fa-arrows\", \"pan\"], [\"Zoom\", \"Zoom to rectangle\\nx/y fixes axis\", \"fa fa-square-o\", \"zoom\"], [\"\", \"\", \"\", \"\"], [\"Download\", \"Download plot\", \"fa fa-floppy-o\", \"download\"]];\n",
       "\n",
       "mpl.extensions = [\"eps\", \"jpeg\", \"pgf\", \"pdf\", \"png\", \"ps\", \"raw\", \"svg\", \"tif\", \"webp\"];\n",
       "\n",
       "mpl.default_extension = \"png\";/* global mpl */\n",
       "\n",
       "var comm_websocket_adapter = function (comm) {\n",
       "    // Create a \"websocket\"-like object which calls the given IPython comm\n",
       "    // object with the appropriate methods. Currently this is a non binary\n",
       "    // socket, so there is still some room for performance tuning.\n",
       "    var ws = {};\n",
       "\n",
       "    ws.binaryType = comm.kernel.ws.binaryType;\n",
       "    ws.readyState = comm.kernel.ws.readyState;\n",
       "    function updateReadyState(_event) {\n",
       "        if (comm.kernel.ws) {\n",
       "            ws.readyState = comm.kernel.ws.readyState;\n",
       "        } else {\n",
       "            ws.readyState = 3; // Closed state.\n",
       "        }\n",
       "    }\n",
       "    comm.kernel.ws.addEventListener('open', updateReadyState);\n",
       "    comm.kernel.ws.addEventListener('close', updateReadyState);\n",
       "    comm.kernel.ws.addEventListener('error', updateReadyState);\n",
       "\n",
       "    ws.close = function () {\n",
       "        comm.close();\n",
       "    };\n",
       "    ws.send = function (m) {\n",
       "        //console.log('sending', m);\n",
       "        comm.send(m);\n",
       "    };\n",
       "    // Register the callback with on_msg.\n",
       "    comm.on_msg(function (msg) {\n",
       "        //console.log('receiving', msg['content']['data'], msg);\n",
       "        var data = msg['content']['data'];\n",
       "        if (data['blob'] !== undefined) {\n",
       "            data = {\n",
       "                data: new Blob(msg['buffers'], { type: data['blob'] }),\n",
       "            };\n",
       "        }\n",
       "        // Pass the mpl event to the overridden (by mpl) onmessage function.\n",
       "        ws.onmessage(data);\n",
       "    });\n",
       "    return ws;\n",
       "};\n",
       "\n",
       "mpl.mpl_figure_comm = function (comm, msg) {\n",
       "    // This is the function which gets called when the mpl process\n",
       "    // starts-up an IPython Comm through the \"matplotlib\" channel.\n",
       "\n",
       "    var id = msg.content.data.id;\n",
       "    // Get hold of the div created by the display call when the Comm\n",
       "    // socket was opened in Python.\n",
       "    var element = document.getElementById(id);\n",
       "    var ws_proxy = comm_websocket_adapter(comm);\n",
       "\n",
       "    function ondownload(figure, _format) {\n",
       "        window.open(figure.canvas.toDataURL());\n",
       "    }\n",
       "\n",
       "    var fig = new mpl.figure(id, ws_proxy, ondownload, element);\n",
       "\n",
       "    // Call onopen now - mpl needs it, as it is assuming we've passed it a real\n",
       "    // web socket which is closed, not our websocket->open comm proxy.\n",
       "    ws_proxy.onopen();\n",
       "\n",
       "    fig.parent_element = element;\n",
       "    fig.cell_info = mpl.find_output_cell(\"<div id='\" + id + \"'></div>\");\n",
       "    if (!fig.cell_info) {\n",
       "        console.error('Failed to find cell for figure', id, fig);\n",
       "        return;\n",
       "    }\n",
       "    fig.cell_info[0].output_area.element.on(\n",
       "        'cleared',\n",
       "        { fig: fig },\n",
       "        fig._remove_fig_handler\n",
       "    );\n",
       "};\n",
       "\n",
       "mpl.figure.prototype.handle_close = function (fig, msg) {\n",
       "    var width = fig.canvas.width / fig.ratio;\n",
       "    fig.cell_info[0].output_area.element.off(\n",
       "        'cleared',\n",
       "        fig._remove_fig_handler\n",
       "    );\n",
       "    fig.resizeObserverInstance.unobserve(fig.canvas_div);\n",
       "\n",
       "    // Update the output cell to use the data from the current canvas.\n",
       "    fig.push_to_output();\n",
       "    var dataURL = fig.canvas.toDataURL();\n",
       "    // Re-enable the keyboard manager in IPython - without this line, in FF,\n",
       "    // the notebook keyboard shortcuts fail.\n",
       "    IPython.keyboard_manager.enable();\n",
       "    fig.parent_element.innerHTML =\n",
       "        '<img src=\"' + dataURL + '\" width=\"' + width + '\">';\n",
       "    fig.close_ws(fig, msg);\n",
       "};\n",
       "\n",
       "mpl.figure.prototype.close_ws = function (fig, msg) {\n",
       "    fig.send_message('closing', msg);\n",
       "    // fig.ws.close()\n",
       "};\n",
       "\n",
       "mpl.figure.prototype.push_to_output = function (_remove_interactive) {\n",
       "    // Turn the data on the canvas into data in the output cell.\n",
       "    var width = this.canvas.width / this.ratio;\n",
       "    var dataURL = this.canvas.toDataURL();\n",
       "    this.cell_info[1]['text/html'] =\n",
       "        '<img src=\"' + dataURL + '\" width=\"' + width + '\">';\n",
       "};\n",
       "\n",
       "mpl.figure.prototype.updated_canvas_event = function () {\n",
       "    // Tell IPython that the notebook contents must change.\n",
       "    IPython.notebook.set_dirty(true);\n",
       "    this.send_message('ack', {});\n",
       "    var fig = this;\n",
       "    // Wait a second, then push the new image to the DOM so\n",
       "    // that it is saved nicely (might be nice to debounce this).\n",
       "    setTimeout(function () {\n",
       "        fig.push_to_output();\n",
       "    }, 1000);\n",
       "};\n",
       "\n",
       "mpl.figure.prototype._init_toolbar = function () {\n",
       "    var fig = this;\n",
       "\n",
       "    var toolbar = document.createElement('div');\n",
       "    toolbar.classList = 'btn-toolbar';\n",
       "    this.root.appendChild(toolbar);\n",
       "\n",
       "    function on_click_closure(name) {\n",
       "        return function (_event) {\n",
       "            return fig.toolbar_button_onclick(name);\n",
       "        };\n",
       "    }\n",
       "\n",
       "    function on_mouseover_closure(tooltip) {\n",
       "        return function (event) {\n",
       "            if (!event.currentTarget.disabled) {\n",
       "                return fig.toolbar_button_onmouseover(tooltip);\n",
       "            }\n",
       "        };\n",
       "    }\n",
       "\n",
       "    fig.buttons = {};\n",
       "    var buttonGroup = document.createElement('div');\n",
       "    buttonGroup.classList = 'btn-group';\n",
       "    var button;\n",
       "    for (var toolbar_ind in mpl.toolbar_items) {\n",
       "        var name = mpl.toolbar_items[toolbar_ind][0];\n",
       "        var tooltip = mpl.toolbar_items[toolbar_ind][1];\n",
       "        var image = mpl.toolbar_items[toolbar_ind][2];\n",
       "        var method_name = mpl.toolbar_items[toolbar_ind][3];\n",
       "\n",
       "        if (!name) {\n",
       "            /* Instead of a spacer, we start a new button group. */\n",
       "            if (buttonGroup.hasChildNodes()) {\n",
       "                toolbar.appendChild(buttonGroup);\n",
       "            }\n",
       "            buttonGroup = document.createElement('div');\n",
       "            buttonGroup.classList = 'btn-group';\n",
       "            continue;\n",
       "        }\n",
       "\n",
       "        button = fig.buttons[name] = document.createElement('button');\n",
       "        button.classList = 'btn btn-default';\n",
       "        button.href = '#';\n",
       "        button.title = name;\n",
       "        button.innerHTML = '<i class=\"fa ' + image + ' fa-lg\"></i>';\n",
       "        button.addEventListener('click', on_click_closure(method_name));\n",
       "        button.addEventListener('mouseover', on_mouseover_closure(tooltip));\n",
       "        buttonGroup.appendChild(button);\n",
       "    }\n",
       "\n",
       "    if (buttonGroup.hasChildNodes()) {\n",
       "        toolbar.appendChild(buttonGroup);\n",
       "    }\n",
       "\n",
       "    // Add the status bar.\n",
       "    var status_bar = document.createElement('span');\n",
       "    status_bar.classList = 'mpl-message pull-right';\n",
       "    toolbar.appendChild(status_bar);\n",
       "    this.message = status_bar;\n",
       "\n",
       "    // Add the close button to the window.\n",
       "    var buttongrp = document.createElement('div');\n",
       "    buttongrp.classList = 'btn-group inline pull-right';\n",
       "    button = document.createElement('button');\n",
       "    button.classList = 'btn btn-mini btn-primary';\n",
       "    button.href = '#';\n",
       "    button.title = 'Stop Interaction';\n",
       "    button.innerHTML = '<i class=\"fa fa-power-off icon-remove icon-large\"></i>';\n",
       "    button.addEventListener('click', function (_evt) {\n",
       "        fig.handle_close(fig, {});\n",
       "    });\n",
       "    button.addEventListener(\n",
       "        'mouseover',\n",
       "        on_mouseover_closure('Stop Interaction')\n",
       "    );\n",
       "    buttongrp.appendChild(button);\n",
       "    var titlebar = this.root.querySelector('.ui-dialog-titlebar');\n",
       "    titlebar.insertBefore(buttongrp, titlebar.firstChild);\n",
       "};\n",
       "\n",
       "mpl.figure.prototype._remove_fig_handler = function (event) {\n",
       "    var fig = event.data.fig;\n",
       "    if (event.target !== this) {\n",
       "        // Ignore bubbled events from children.\n",
       "        return;\n",
       "    }\n",
       "    fig.close_ws(fig, {});\n",
       "};\n",
       "\n",
       "mpl.figure.prototype._root_extra_style = function (el) {\n",
       "    el.style.boxSizing = 'content-box'; // override notebook setting of border-box.\n",
       "};\n",
       "\n",
       "mpl.figure.prototype._canvas_extra_style = function (el) {\n",
       "    // this is important to make the div 'focusable\n",
       "    el.setAttribute('tabindex', 0);\n",
       "    // reach out to IPython and tell the keyboard manager to turn it's self\n",
       "    // off when our div gets focus\n",
       "\n",
       "    // location in version 3\n",
       "    if (IPython.notebook.keyboard_manager) {\n",
       "        IPython.notebook.keyboard_manager.register_events(el);\n",
       "    } else {\n",
       "        // location in version 2\n",
       "        IPython.keyboard_manager.register_events(el);\n",
       "    }\n",
       "};\n",
       "\n",
       "mpl.figure.prototype._key_event_extra = function (event, _name) {\n",
       "    // Check for shift+enter\n",
       "    if (event.shiftKey && event.which === 13) {\n",
       "        this.canvas_div.blur();\n",
       "        // select the cell after this one\n",
       "        var index = IPython.notebook.find_cell_index(this.cell_info[0]);\n",
       "        IPython.notebook.select(index + 1);\n",
       "    }\n",
       "};\n",
       "\n",
       "mpl.figure.prototype.handle_save = function (fig, _msg) {\n",
       "    fig.ondownload(fig, null);\n",
       "};\n",
       "\n",
       "mpl.find_output_cell = function (html_output) {\n",
       "    // Return the cell and output element which can be found *uniquely* in the notebook.\n",
       "    // Note - this is a bit hacky, but it is done because the \"notebook_saving.Notebook\"\n",
       "    // IPython event is triggered only after the cells have been serialised, which for\n",
       "    // our purposes (turning an active figure into a static one), is too late.\n",
       "    var cells = IPython.notebook.get_cells();\n",
       "    var ncells = cells.length;\n",
       "    for (var i = 0; i < ncells; i++) {\n",
       "        var cell = cells[i];\n",
       "        if (cell.cell_type === 'code') {\n",
       "            for (var j = 0; j < cell.output_area.outputs.length; j++) {\n",
       "                var data = cell.output_area.outputs[j];\n",
       "                if (data.data) {\n",
       "                    // IPython >= 3 moved mimebundle to data attribute of output\n",
       "                    data = data.data;\n",
       "                }\n",
       "                if (data['text/html'] === html_output) {\n",
       "                    return [cell, data, j];\n",
       "                }\n",
       "            }\n",
       "        }\n",
       "    }\n",
       "};\n",
       "\n",
       "// Register the function which deals with the matplotlib target/channel.\n",
       "// The kernel may be null if the page has been refreshed.\n",
       "if (IPython.notebook.kernel !== null) {\n",
       "    IPython.notebook.kernel.comm_manager.register_target(\n",
       "        'matplotlib',\n",
       "        mpl.mpl_figure_comm\n",
       "    );\n",
       "}\n"
      ],
      "text/plain": [
       "<IPython.core.display.Javascript object>"
      ]
     },
     "metadata": {},
     "output_type": "display_data"
    },
    {
     "data": {
      "text/html": [
       "<img src=\"data:image/png;base64,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\" width=\"1500\">"
      ],
      "text/plain": [
       "<IPython.core.display.HTML object>"
      ]
     },
     "metadata": {},
     "output_type": "display_data"
    }
   ],
   "source": [
    "plt.rcParams.update(params)\n",
    "\n",
    "fig, axes = plt.subplots(1, 1, figsize=(15, 7))\n",
    "sns.set(style=\"white\")\n",
    "\n",
    "chart = sns.barplot(\n",
    "    ax=axes,\n",
    "    x=\"Country\",\n",
    "    y=\"Count\",\n",
    "    data=df_Country_count,\n",
    "    errorbar=None,\n",
    "    palette=[ord_color if x != \"United States\" else spec_lev1\n",
    "        for x in df_Country_count[\"Country\"]],\n",
    ")\n",
    "\n",
    "\n",
    "plt.xlabel(\"Country\")\n",
    "plt.ylabel(\"Number of Tech Workers\")\n",
    "plt.xticks()\n",
    "plt.yticks()\n",
    "\n",
    "chart.set_xticklabels(chart.get_xticklabels(), rotation=45, horizontalalignment=\"right\")\n",
    "plt.suptitle(\"Countries Where Tech Workers in Tech Industry Live\")\n",
    "\n",
    "plt.show()"
   ]
  },
  {
   "cell_type": "markdown",
   "id": "8edc24ba",
   "metadata": {},
   "source": [
    "# Gender"
   ]
  },
  {
   "cell_type": "code",
   "execution_count": 282,
   "id": "45ebdcaf",
   "metadata": {
    "scrolled": false
   },
   "outputs": [],
   "source": [
    "df_Answer2 = pd.read_sql_query(\"SELECT * FROM Answer where QuestionID = 2\", db_survey)"
   ]
  },
  {
   "cell_type": "code",
   "execution_count": 182,
   "id": "7928c3ab",
   "metadata": {},
   "outputs": [],
   "source": [
    "df_Gender = pd.merge(df_TechinTech, df_Answer2 , on='UserID', how='inner')"
   ]
  },
  {
   "cell_type": "code",
   "execution_count": 183,
   "id": "b1a9d2d3",
   "metadata": {},
   "outputs": [],
   "source": [
    "df_Gender_count = df_Gender.AnswerText.value_counts()\n",
    "df_Gender_count = pd.DataFrame(df_Gender_count)\n",
    "df_Gender_count = df_Gender_count.reset_index()"
   ]
  },
  {
   "cell_type": "code",
   "execution_count": 184,
   "id": "52feb10e",
   "metadata": {},
   "outputs": [],
   "source": [
    "df_Gender_count = df_Gender_count.rename(\n",
    "    columns={\"index\": \"Gender\", \"AnswerText\": \"Count\"}\n",
    ")"
   ]
  },
  {
   "cell_type": "code",
   "execution_count": 185,
   "id": "9e63cbe5",
   "metadata": {},
   "outputs": [],
   "source": [
    "df_Gender_count[\"Gender\"] = df_Gender_count[\"Gender\"].replace(\n",
    "    {\"female\": \"Female\", \"male\": \"Male\", \"MALE\": \"Male\"}\n",
    ")"
   ]
  },
  {
   "cell_type": "code",
   "execution_count": 186,
   "id": "7a3bd7c1",
   "metadata": {},
   "outputs": [],
   "source": [
    "df_Gender_count[\"Gender\"] = np.where(\n",
    "    (df_Gender_count[\"Gender\"] == \"Male\") | (df_Gender_count[\"Gender\"] == \"Female\"),\n",
    "    df_Gender_count[\"Gender\"],\n",
    "    \"Other\",\n",
    ")"
   ]
  },
  {
   "cell_type": "code",
   "execution_count": 187,
   "id": "79431157",
   "metadata": {},
   "outputs": [],
   "source": [
    "df_Gender_count = df_Gender_count.groupby(\"Gender\").sum()\n",
    "df_Gender_count = df_Gender_count.reset_index()"
   ]
  },
  {
   "cell_type": "code",
   "execution_count": 188,
   "id": "f5fcf901",
   "metadata": {},
   "outputs": [
    {
     "data": {
      "image/png": "[encoded data removed]",
      "text/plain": [
       "<Figure size 1500x700 with 1 Axes>"
      ]
     },
     "metadata": {},
     "output_type": "display_data"
    }
   ],
   "source": [
    "plt.rcParams.update(params)\n",
    "\n",
    "fig, axes = plt.subplots(1, 1, figsize=(15, 7))\n",
    "sns.set(style=\"white\")\n",
    "\n",
    "chart = sns.barplot(\n",
    "    ax=axes,\n",
    "    x=\"Gender\",\n",
    "    y=\"Count\",\n",
    "    data=df_Gender_count,\n",
    "    errorbar=None,\n",
    "    palette=[ord_color if x != \"Male\" else spec_lev1\n",
    "        for x in df_Gender_count[\"Gender\"]],\n",
    ")\n",
    "\n",
    "\n",
    "plt.xlabel(\"Gender\")\n",
    "plt.ylabel(\"Number of Tech Workers\")\n",
    "plt.xticks()\n",
    "plt.yticks()\n",
    "\n",
    "chart.set_xticklabels(chart.get_xticklabels(), rotation=45, horizontalalignment=\"right\")\n",
    "plt.suptitle(\"Gender of Tech Workers in Tech Industry\")\n",
    "\n",
    "plt.show()"
   ]
  },
  {
   "cell_type": "markdown",
   "id": "9680e9fa",
   "metadata": {},
   "source": [
    "# Age"
   ]
  },
  {
   "cell_type": "code",
   "execution_count": 189,
   "id": "1375be55",
   "metadata": {},
   "outputs": [],
   "source": [
    "df_Answer1 = pd.read_sql_query(\n",
    "    \"SELECT * FROM Answer where QuestionID = 1\", db_survey\n",
    ")"
   ]
  },
  {
   "cell_type": "code",
   "execution_count": 190,
   "id": "4d6cca26",
   "metadata": {},
   "outputs": [],
   "source": [
    "df_Answer1 = pd.merge(df_TechinTech, df_Answer1 , on='UserID', how='inner')"
   ]
  },
  {
   "cell_type": "code",
   "execution_count": 191,
   "id": "51ca1301",
   "metadata": {},
   "outputs": [],
   "source": [
    "df_Answer1[\"AnswerText\"] = df_Answer1[\"AnswerText\"].astype(int)"
   ]
  },
  {
   "cell_type": "code",
   "execution_count": 192,
   "id": "9b2def3d",
   "metadata": {},
   "outputs": [],
   "source": [
    "df_Answer1.sort_values(\"AnswerText\", inplace=True)"
   ]
  },
  {
   "cell_type": "code",
   "execution_count": 193,
   "id": "c11cce1f",
   "metadata": {},
   "outputs": [],
   "source": [
    "df_Answer1 = df_Answer1[df_Answer1.AnswerText >= 20]\n",
    "df_Answer1 = df_Answer1[df_Answer1.AnswerText <= 75]"
   ]
  },
  {
   "cell_type": "code",
   "execution_count": 194,
   "id": "7744ea61",
   "metadata": {},
   "outputs": [],
   "source": [
    "df_Age_count = df_Answer1.AnswerText.value_counts()\n",
    "df_Age_count = pd.DataFrame(df_Age_count)\n",
    "df_Age_count = df_Age_count.reset_index()"
   ]
  },
  {
   "cell_type": "code",
   "execution_count": 195,
   "id": "1232d416",
   "metadata": {},
   "outputs": [],
   "source": [
    "df_Age_count = df_Age_count.rename(columns={\"index\": \"Age\", \"AnswerText\": \"Count\"})"
   ]
  },
  {
   "cell_type": "code",
   "execution_count": 196,
   "id": "5c1f37db",
   "metadata": {
    "scrolled": true
   },
   "outputs": [],
   "source": [
    "df_Age_count.loc[df_Age_count['Age'].between(20, 29, 'both'), 'Range'] = '20s'\n",
    "df_Age_count.loc[df_Age_count['Age'].between(30, 39, 'both'), 'Range'] = '30s'\n",
    "df_Age_count.loc[df_Age_count['Age'].between(40, 49, 'both'), 'Range'] = '40s'\n",
    "df_Age_count.loc[df_Age_count['Age'].between(50, 59, 'both'), 'Range'] = '50s'\n",
    "df_Age_count.loc[df_Age_count['Age'].between(60, 69, 'both'), 'Range'] = '60s'\n",
    "df_Age_count.loc[df_Age_count['Age'].between(70, 79, 'both'), 'Range'] = '70s'"
   ]
  },
  {
   "cell_type": "code",
   "execution_count": 197,
   "id": "56c583ef",
   "metadata": {},
   "outputs": [],
   "source": [
    "df_Age_count_grouped = df_Age_count.groupby('Range')['Count'].sum()\n",
    "df_Age_count_grouped = df_Age_count_grouped.to_frame()\n",
    "df_Age_count_grouped = df_Age_count_grouped.reset_index()"
   ]
  },
  {
   "cell_type": "code",
   "execution_count": 198,
   "id": "30d70bc0",
   "metadata": {},
   "outputs": [
    {
     "data": {
      "image/png": "[encoded data removed]",
      "text/plain": [
       "<Figure size 1500x700 with 1 Axes>"
      ]
     },
     "metadata": {},
     "output_type": "display_data"
    }
   ],
   "source": [
    "plt.rcParams.update(params)\n",
    "\n",
    "fig, axes = plt.subplots(1, 1, figsize=(15, 7))\n",
    "sns.set(style=\"white\")\n",
    "\n",
    "chart = sns.barplot(\n",
    "    ax=axes,\n",
    "    x=\"Range\",\n",
    "    y=\"Count\",\n",
    "    data=df_Age_count_grouped,\n",
    "    errorbar=None,\n",
    "    palette=[ord_color if x != \"30s\" else spec_lev1\n",
    "        for x in df_Age_count_grouped[\"Range\"]],\n",
    ")\n",
    "\n",
    "\n",
    "plt.xlabel(\"Age Range\")\n",
    "plt.ylabel(\"Number of Tech Workers\")\n",
    "plt.xticks()\n",
    "plt.yticks()\n",
    "\n",
    "chart.set_xticklabels(chart.get_xticklabels(), rotation=45, horizontalalignment=\"right\")\n",
    "plt.suptitle(\"Age Range of Tech Workers in Tech Industry\")\n",
    "\n",
    "plt.show()"
   ]
  },
  {
   "cell_type": "markdown",
   "id": "5f896303",
   "metadata": {},
   "source": [
    "# Mental Disorders in Tech Industry Workers"
   ]
  },
  {
   "cell_type": "markdown",
   "id": "30fb8056",
   "metadata": {},
   "source": [
    "## Family History of Mental Illness"
   ]
  },
  {
   "cell_type": "code",
   "execution_count": 199,
   "id": "971bd1ed",
   "metadata": {},
   "outputs": [],
   "source": [
    "df_Answer6 = pd.read_sql_query(\n",
    "    \"SELECT USERID FROM Answer where QuestionID = 6 AND AnswerText = 'Yes'\",\n",
    "    db_survey\n",
    ")"
   ]
  },
  {
   "cell_type": "code",
   "execution_count": 200,
   "id": "799b3005",
   "metadata": {},
   "outputs": [],
   "source": [
    "df_FamilyDisorder = pd.merge(df_TechinTech, df_Answer6 , on='UserID', how='inner')"
   ]
  },
  {
   "cell_type": "code",
   "execution_count": 201,
   "id": "a0ec750e",
   "metadata": {},
   "outputs": [],
   "source": [
    "Total_FamilyDisorder = df_FamilyDisorder.count()"
   ]
  },
  {
   "cell_type": "code",
   "execution_count": 202,
   "id": "1db2d06a",
   "metadata": {},
   "outputs": [],
   "source": [
    "Total_NoFamilyDisorder = Total_TechinTech - Total_FamilyDisorder "
   ]
  },
  {
   "cell_type": "markdown",
   "id": "4cbb88b5",
   "metadata": {},
   "source": [
    "## Past Diagnosis of Mental Health Disorder"
   ]
  },
  {
   "cell_type": "code",
   "execution_count": 203,
   "id": "f250cc00",
   "metadata": {},
   "outputs": [],
   "source": [
    "df_Answer34 = pd.read_sql_query(\n",
    "    \"SELECT USERID FROM Answer where QuestionID = 34 AND AnswerText = 'Yes'\",\n",
    "    db_survey\n",
    ")"
   ]
  },
  {
   "cell_type": "code",
   "execution_count": 204,
   "id": "67879f7c",
   "metadata": {},
   "outputs": [],
   "source": [
    "df_PastDisorder = pd.merge(df_TechinTech, df_Answer34 , on='UserID', how='inner')"
   ]
  },
  {
   "cell_type": "code",
   "execution_count": 205,
   "id": "d47cddb3",
   "metadata": {},
   "outputs": [
    {
     "data": {
      "text/plain": [
       "371"
      ]
     },
     "execution_count": 205,
     "metadata": {},
     "output_type": "execute_result"
    }
   ],
   "source": [
    "Total_PastDisorder = df_PastDisorder.count()\n",
    "Total_PastDisorder.UserID"
   ]
  },
  {
   "cell_type": "code",
   "execution_count": 206,
   "id": "f5b05ebd",
   "metadata": {},
   "outputs": [],
   "source": [
    "Total_NoPastDisorder = Total_TechinTech - Total_PastDisorder "
   ]
  },
  {
   "cell_type": "markdown",
   "id": "62a652ad",
   "metadata": {},
   "source": [
    "## Current Mental Health Disorder"
   ]
  },
  {
   "cell_type": "code",
   "execution_count": 207,
   "id": "ff665af3",
   "metadata": {},
   "outputs": [],
   "source": [
    "df_Answer33 = pd.read_sql_query(\n",
    "    \"SELECT UserID FROM Answer where QuestionID = 33 AND AnswerText = 'Yes'\",\n",
    "    db_survey\n",
    ")"
   ]
  },
  {
   "cell_type": "code",
   "execution_count": 208,
   "id": "67635e02",
   "metadata": {},
   "outputs": [],
   "source": [
    "df_CurrentDisorder = pd.merge(df_TechinTech, df_Answer33 , on='UserID', how='inner')"
   ]
  },
  {
   "cell_type": "code",
   "execution_count": 209,
   "id": "6ce9fb79",
   "metadata": {},
   "outputs": [],
   "source": [
    "Total_CurrentDisorder = df_CurrentDisorder.count()"
   ]
  },
  {
   "cell_type": "code",
   "execution_count": 210,
   "id": "1349f6cf",
   "metadata": {},
   "outputs": [],
   "source": [
    "Total_NoCurrentDisorder = Total_TechinTech - Total_CurrentDisorder "
   ]
  },
  {
   "cell_type": "code",
   "execution_count": 211,
   "id": "ce2b15b5",
   "metadata": {},
   "outputs": [
    {
     "data": {
      "image/png": "[encoded data removed]",
      "text/plain": [
       "<Figure size 2000x700 with 3 Axes>"
      ]
     },
     "metadata": {},
     "output_type": "display_data"
    }
   ],
   "source": [
    "fig, (ax1, ax2, ax3) = plt.subplots(1, 3, figsize=(20, 7))\n",
    "\n",
    "data_FamilyDisorder = [Total_FamilyDisorder.UserID, Total_NoFamilyDisorder.UserID]\n",
    "data_PastDisorder = [Total_PastDisorder.UserID, Total_NoPastDisorder.UserID]\n",
    "data_CurrentDisorder = [Total_CurrentDisorder.UserID, Total_NoCurrentDisorder.UserID]\n",
    "\n",
    "labels_MentalDisorder = [\"Yes\", \"No\"]\n",
    "\n",
    "\n",
    "ax1.pie(\n",
    "    data_FamilyDisorder,\n",
    "    startangle=90,\n",
    "    colors = [spec_lev1, ord_color],\n",
    "    autopct=\"%0.0f%%\",\n",
    "    wedgeprops={\"edgecolor\": \"black\"},\n",
    "    textprops={\"fontsize\": 20},\n",
    "    \n",
    ")\n",
    "\n",
    "ax2.pie(\n",
    "    data_PastDisorder,\n",
    "    startangle=90,\n",
    "    colors = [spec_lev1, ord_color],\n",
    "    autopct=\"%0.0f%%\",\n",
    "    wedgeprops={\"edgecolor\": \"black\"},\n",
    "    textprops={\"fontsize\": 20},\n",
    "   \n",
    ")\n",
    "\n",
    "ax3.pie(\n",
    "    data_CurrentDisorder,\n",
    "    startangle=90,\n",
    "    colors = [spec_lev1, ord_color],\n",
    "    autopct=\"%0.0f%%\",\n",
    "    wedgeprops={\"edgecolor\": \"black\"},\n",
    "    textprops={\"fontsize\": 20},\n",
    "\n",
    ")\n",
    "\n",
    "ax1.set_title('Family History', fontsize=20)\n",
    "ax2.set_title('Past Diagnosis', fontsize=20)\n",
    "ax3.set_title('Current Disorder', fontsize=20)\n",
    "\n",
    "plt.tight_layout()\n",
    "\n",
    "plt.show()"
   ]
  },
  {
   "cell_type": "markdown",
   "id": "0134de71",
   "metadata": {},
   "source": [
    "# Attitude Toward Mental Illness in the Tech Industry"
   ]
  },
  {
   "cell_type": "markdown",
   "id": "9caa281e",
   "metadata": {},
   "source": [
    "## Question ID: 11 \n",
    "Is your anonimity protected if you choose to take advantage of mental health or substance abuse treatment resources provided by your employer?"
   ]
  },
  {
   "cell_type": "code",
   "execution_count": 212,
   "id": "26e4f4f2",
   "metadata": {},
   "outputs": [],
   "source": [
    "df_Answer11 = pd.read_sql_query(\"SELECT * FROM Answer where QuestionID = 11\", db_survey)\n",
    "Total_Answer11 = df_Answer11.UserID.count()"
   ]
  },
  {
   "cell_type": "code",
   "execution_count": 213,
   "id": "1db5c9ce",
   "metadata": {},
   "outputs": [],
   "source": [
    "df_Answer11_Yes = pd.read_sql_query(\n",
    "    \"SELECT UserID FROM Answer where QuestionID = 11 AND AnswerText = 'Yes'\", db_survey\n",
    ")\n",
    "Yes_Answer11 = df_Answer11_Yes.UserID.count()"
   ]
  },
  {
   "cell_type": "code",
   "execution_count": 214,
   "id": "35b7d9e0",
   "metadata": {},
   "outputs": [],
   "source": [
    "df_Answer11TechinTech = pd.merge(\n",
    "    df_TechinTech, df_Answer11_Yes, on=\"UserID\", how=\"inner\"\n",
    ")"
   ]
  },
  {
   "cell_type": "code",
   "execution_count": 215,
   "id": "d4899b90",
   "metadata": {},
   "outputs": [],
   "source": [
    "TechinTech_Answer11 = df_Answer11TechinTech.UserID.count()"
   ]
  },
  {
   "cell_type": "markdown",
   "id": "2e57cd6b",
   "metadata": {},
   "source": [
    "## Question ID: 17 \n",
    "If a mental health issue prompted you to request a medical leave from work, how easy or difficult would it be to ask for that leave?"
   ]
  },
  {
   "cell_type": "code",
   "execution_count": 216,
   "id": "fc9a9605",
   "metadata": {},
   "outputs": [],
   "source": [
    "df_Answer17 = pd.read_sql_query(\"SELECT * FROM Answer where QuestionID = 17\", db_survey)\n",
    "Total_Answer17 = df_Answer17.UserID.count()"
   ]
  },
  {
   "cell_type": "code",
   "execution_count": 217,
   "id": "70e5ca47",
   "metadata": {},
   "outputs": [],
   "source": [
    "df_Answer17_Yes = pd.read_sql_query(\n",
    "    \"SELECT UserID FROM Answer where QuestionID = 17 AND (AnswerText = 'Very easy' OR AnswerText = 'Somewhat easy')\",\n",
    "    db_survey,\n",
    ")\n",
    "Yes_Answer17 = df_Answer17_Yes.UserID.count()"
   ]
  },
  {
   "cell_type": "code",
   "execution_count": 218,
   "id": "01cfe377",
   "metadata": {},
   "outputs": [],
   "source": [
    "df_Answer17TechinTech = pd.merge(\n",
    "    df_TechinTech, df_Answer17_Yes, on=\"UserID\", how=\"inner\"\n",
    ")"
   ]
  },
  {
   "cell_type": "code",
   "execution_count": 219,
   "id": "ac7796ba",
   "metadata": {},
   "outputs": [],
   "source": [
    "TechinTech_Answer17 = df_Answer17TechinTech.UserID.count()"
   ]
  },
  {
   "cell_type": "markdown",
   "id": "b82008a4",
   "metadata": {},
   "source": [
    "## Question ID: 83 \n",
    "Have you observed or experienced supportive or well handled response to a mental health issue in your current or previous workplace?"
   ]
  },
  {
   "cell_type": "code",
   "execution_count": 220,
   "id": "91b3184b",
   "metadata": {},
   "outputs": [],
   "source": [
    "df_Answer83 = pd.read_sql_query(\"SELECT * FROM Answer where QuestionID = 83\", db_survey)\n",
    "Total_Answer83 = df_Answer83.UserID.count()"
   ]
  },
  {
   "cell_type": "code",
   "execution_count": 221,
   "id": "d58766bc",
   "metadata": {},
   "outputs": [],
   "source": [
    "df_Answer83_Yes = pd.read_sql_query(\n",
    "    \"SELECT UserID FROM Answer where QuestionID = 83 AND (AnswerText = 'Yes, I experienced' OR AnswerText = 'Yes, I observed')\",\n",
    "    db_survey,\n",
    ")\n",
    "Yes_Answer83 = df_Answer83_Yes.UserID.count()"
   ]
  },
  {
   "cell_type": "code",
   "execution_count": 222,
   "id": "f38cea20",
   "metadata": {},
   "outputs": [],
   "source": [
    "df_Answer83TechinTech = pd.merge(df_TechinTech, df_Answer83_Yes, on=\"UserID\", how=\"inner\")"
   ]
  },
  {
   "cell_type": "code",
   "execution_count": 223,
   "id": "b7ebfc32",
   "metadata": {
    "scrolled": true
   },
   "outputs": [],
   "source": [
    "TechinTech_Answer83 = df_Answer83TechinTech.UserID.count()"
   ]
  },
  {
   "cell_type": "markdown",
   "id": "aedee5ae",
   "metadata": {},
   "source": [
    "# Access to Mental Illness in the Tech Industry"
   ]
  },
  {
   "cell_type": "markdown",
   "id": "8e25773f",
   "metadata": {},
   "source": [
    "## QuestionID: 10 \n",
    "Does employer provide mental health benefits as part of healthcare coverage?"
   ]
  },
  {
   "cell_type": "code",
   "execution_count": 224,
   "id": "24796458",
   "metadata": {},
   "outputs": [
    {
     "data": {
      "text/plain": [
       "4218"
      ]
     },
     "execution_count": 224,
     "metadata": {},
     "output_type": "execute_result"
    }
   ],
   "source": [
    "df_Answer10 = pd.read_sql_query(\"SELECT * FROM Answer where QuestionID = 10\", db_survey)\n",
    "Total_Answer10 = df_Answer10.UserID.count()\n",
    "Total_Answer10"
   ]
  },
  {
   "cell_type": "code",
   "execution_count": 225,
   "id": "36bc93c3",
   "metadata": {},
   "outputs": [
    {
     "data": {
      "text/plain": [
       "1744"
      ]
     },
     "execution_count": 225,
     "metadata": {},
     "output_type": "execute_result"
    }
   ],
   "source": [
    "df_Answer10_Yes = pd.read_sql_query(\n",
    "    \"SELECT UserID FROM Answer where QuestionID = 10 AND AnswerText = 'Yes'\", db_survey\n",
    ")\n",
    "Yes_Answer10 = df_Answer10_Yes.UserID.count()\n",
    "Yes_Answer10"
   ]
  },
  {
   "cell_type": "code",
   "execution_count": 226,
   "id": "c7b8beb2",
   "metadata": {},
   "outputs": [],
   "source": [
    "df_Answer10TechinTech = pd.merge(\n",
    "    df_TechinTech, df_Answer10_Yes, on=\"UserID\", how=\"inner\"\n",
    ")"
   ]
  },
  {
   "cell_type": "code",
   "execution_count": 227,
   "id": "b646cdea",
   "metadata": {},
   "outputs": [
    {
     "data": {
      "text/plain": [
       "498"
      ]
     },
     "execution_count": 227,
     "metadata": {},
     "output_type": "execute_result"
    }
   ],
   "source": [
    "TechinTech_Answer10 = df_Answer10TechinTech.UserID.count()\n",
    "TechinTech_Answer10"
   ]
  },
  {
   "cell_type": "markdown",
   "id": "d8973094",
   "metadata": {},
   "source": [
    "## QuestionID: 14 \n",
    "Do you know options for mental health care available under your employer provided health coverage?"
   ]
  },
  {
   "cell_type": "code",
   "execution_count": 228,
   "id": "10b06e19",
   "metadata": {},
   "outputs": [
    {
     "data": {
      "text/plain": [
       "2958"
      ]
     },
     "execution_count": 228,
     "metadata": {},
     "output_type": "execute_result"
    }
   ],
   "source": [
    "df_Answer14 = pd.read_sql_query(\"SELECT * FROM Answer where QuestionID = 14\", db_survey)\n",
    "Total_Answer14 = df_Answer14.UserID.count()\n",
    "Total_Answer14"
   ]
  },
  {
   "cell_type": "code",
   "execution_count": 229,
   "id": "d68a3da7",
   "metadata": {},
   "outputs": [
    {
     "data": {
      "text/plain": [
       "869"
      ]
     },
     "execution_count": 229,
     "metadata": {},
     "output_type": "execute_result"
    }
   ],
   "source": [
    "df_Answer14_Yes = pd.read_sql_query(\n",
    "    \"SELECT UserID FROM Answer where QuestionID = 14 AND AnswerText = 'Yes'\", db_survey\n",
    ")\n",
    "Yes_Answer14 = df_Answer14_Yes.UserID.count()\n",
    "Yes_Answer14"
   ]
  },
  {
   "cell_type": "code",
   "execution_count": 230,
   "id": "621ec690",
   "metadata": {},
   "outputs": [],
   "source": [
    "df_Answer14TechinTech = pd.merge(\n",
    "    df_TechinTech, df_Answer14_Yes, on=\"UserID\", how=\"inner\"\n",
    ")"
   ]
  },
  {
   "cell_type": "code",
   "execution_count": 231,
   "id": "94c89baa",
   "metadata": {},
   "outputs": [
    {
     "data": {
      "text/plain": [
       "378"
      ]
     },
     "execution_count": 231,
     "metadata": {},
     "output_type": "execute_result"
    }
   ],
   "source": [
    "TechinTech_Answer14 = df_Answer14TechinTech.UserID.count()\n",
    "TechinTech_Answer14"
   ]
  },
  {
   "cell_type": "markdown",
   "id": "a655cbe7",
   "metadata": {},
   "source": [
    "## QuestionID: 16 \n",
    "Does employer offer resources to learn more about mental health disorders and options for seeking help?"
   ]
  },
  {
   "cell_type": "code",
   "execution_count": 232,
   "id": "d4c29fd2",
   "metadata": {},
   "outputs": [
    {
     "data": {
      "text/plain": [
       "2958"
      ]
     },
     "execution_count": 232,
     "metadata": {},
     "output_type": "execute_result"
    }
   ],
   "source": [
    "df_Answer16 = pd.read_sql_query(\"SELECT * FROM Answer where QuestionID = 16\", db_survey)\n",
    "Total_Answer16 = df_Answer16.UserID.count()\n",
    "Total_Answer16"
   ]
  },
  {
   "cell_type": "code",
   "execution_count": 233,
   "id": "24c77ce5",
   "metadata": {},
   "outputs": [
    {
     "data": {
      "text/plain": [
       "702"
      ]
     },
     "execution_count": 233,
     "metadata": {},
     "output_type": "execute_result"
    }
   ],
   "source": [
    "df_Answer16_Yes = pd.read_sql_query(\n",
    "    \"SELECT UserID FROM Answer where QuestionID = 16 AND AnswerText = 'Yes'\", db_survey\n",
    ")\n",
    "Yes_Answer16 = df_Answer16_Yes.UserID.count()\n",
    "Yes_Answer16"
   ]
  },
  {
   "cell_type": "code",
   "execution_count": 234,
   "id": "bb21567d",
   "metadata": {},
   "outputs": [],
   "source": [
    "df_Answer16TechinTech = pd.merge(\n",
    "    df_TechinTech, df_Answer16_Yes, on=\"UserID\", how=\"inner\"\n",
    ")"
   ]
  },
  {
   "cell_type": "code",
   "execution_count": 235,
   "id": "e0b1f4b7",
   "metadata": {},
   "outputs": [
    {
     "data": {
      "text/plain": [
       "255"
      ]
     },
     "execution_count": 235,
     "metadata": {},
     "output_type": "execute_result"
    }
   ],
   "source": [
    "TechinTech_Answer16 = df_Answer16TechinTech.UserID.count()\n",
    "TechinTech_Answer16"
   ]
  },
  {
   "cell_type": "markdown",
   "id": "213bd72a",
   "metadata": {},
   "source": [
    "# Openness of Tech Workers about Mental Illness in the Tech Industry"
   ]
  },
  {
   "cell_type": "markdown",
   "id": "e89a8f19",
   "metadata": {},
   "source": [
    "## QuestionID: 12\n",
    "Would you bring up a mental health issue with a potential employer in an interview?"
   ]
  },
  {
   "cell_type": "code",
   "execution_count": 236,
   "id": "c9d33d3a",
   "metadata": {},
   "outputs": [],
   "source": [
    "df_Answer12 = pd.read_sql_query(\n",
    "    \"SELECT * FROM Answer where QuestionID = 12\",\n",
    "    db_survey\n",
    ")\n",
    "Total_Answer12 = df_Answer12.UserID.count()"
   ]
  },
  {
   "cell_type": "code",
   "execution_count": 237,
   "id": "44d3855f",
   "metadata": {},
   "outputs": [],
   "source": [
    "df_Answer12_Yes = pd.read_sql_query(\n",
    "    \"SELECT UserID FROM Answer where QuestionID = 12 AND AnswerText = 'Yes'\",\n",
    "    db_survey\n",
    ")\n",
    "Yes_Answer12 = df_Answer12_Yes.UserID.count()"
   ]
  },
  {
   "cell_type": "code",
   "execution_count": 238,
   "id": "5f57b770",
   "metadata": {},
   "outputs": [],
   "source": [
    "df_Answer12TechinTech = pd.merge(df_TechinTech, df_Answer12_Yes, on='UserID', how='inner')"
   ]
  },
  {
   "cell_type": "code",
   "execution_count": 239,
   "id": "778905fb",
   "metadata": {},
   "outputs": [],
   "source": [
    "TechinTech_Answer12 = df_Answer12TechinTech.UserID.count()"
   ]
  },
  {
   "cell_type": "markdown",
   "id": "506acf16",
   "metadata": {},
   "source": [
    "## QuestionID:  18\n",
    "Would you feel comfortable discussing a mental health issue with a coworker?  "
   ]
  },
  {
   "cell_type": "code",
   "execution_count": 240,
   "id": "a5758d72",
   "metadata": {},
   "outputs": [],
   "source": [
    "df_Answer18 = pd.read_sql_query(\n",
    "    \"SELECT * FROM Answer where QuestionID = 18\",\n",
    "    db_survey\n",
    ")\n",
    "Total_Answer18 = df_Answer18.UserID.count()"
   ]
  },
  {
   "cell_type": "code",
   "execution_count": 241,
   "id": "3638f8ea",
   "metadata": {},
   "outputs": [],
   "source": [
    "df_Answer18_Yes = pd.read_sql_query(\n",
    "    \"SELECT UserID FROM Answer where QuestionID = 18 AND AnswerText = 'Yes'\",\n",
    "    db_survey\n",
    ")\n",
    "Yes_Answer18 = df_Answer18_Yes.UserID.count()"
   ]
  },
  {
   "cell_type": "code",
   "execution_count": 242,
   "id": "c1dd6b25",
   "metadata": {},
   "outputs": [],
   "source": [
    "df_Answer18TechinTech = pd.merge(df_TechinTech, df_Answer18_Yes, on='UserID', how='inner')"
   ]
  },
  {
   "cell_type": "code",
   "execution_count": 243,
   "id": "2c703fcd",
   "metadata": {},
   "outputs": [],
   "source": [
    "TechinTech_Answer18 = df_Answer18TechinTech.UserID.count()"
   ]
  },
  {
   "cell_type": "markdown",
   "id": "7b804a3f",
   "metadata": {},
   "source": [
    "## QuestionID: 19\n",
    "Would you feel comfortable discussing a mental health issue with a direct supervisor?"
   ]
  },
  {
   "cell_type": "code",
   "execution_count": 244,
   "id": "84b87ac9",
   "metadata": {},
   "outputs": [],
   "source": [
    "df_Answer19 = pd.read_sql_query(\n",
    "    \"SELECT * FROM Answer where QuestionID = 19\",\n",
    "    db_survey\n",
    ")\n",
    "Total_Answer19 = df_Answer19.UserID.count()"
   ]
  },
  {
   "cell_type": "code",
   "execution_count": 245,
   "id": "9b05fbd6",
   "metadata": {},
   "outputs": [],
   "source": [
    "df_Answer19_Yes = pd.read_sql_query(\n",
    "    \"SELECT UserID FROM Answer where QuestionID = 19 AND AnswerText = 'Yes'\",\n",
    "    db_survey\n",
    ")\n",
    "Yes_Answer19 = df_Answer19_Yes.UserID.count()"
   ]
  },
  {
   "cell_type": "code",
   "execution_count": 246,
   "id": "ce881efc",
   "metadata": {},
   "outputs": [],
   "source": [
    "df_Answer19TechinTech = pd.merge(df_TechinTech, df_Answer19_Yes, on='UserID', how='inner')"
   ]
  },
  {
   "cell_type": "code",
   "execution_count": 247,
   "id": "7a573eae",
   "metadata": {},
   "outputs": [],
   "source": [
    "TechinTech_Answer19 = df_Answer19TechinTech.UserID.count()"
   ]
  },
  {
   "cell_type": "markdown",
   "id": "ca950a05",
   "metadata": {},
   "source": [
    "# Experience of Positive Attitudes about Mental Illness"
   ]
  },
  {
   "cell_type": "code",
   "execution_count": 293,
   "id": "c9691203",
   "metadata": {},
   "outputs": [
    {
     "data": {
      "text/plain": [
       "117"
      ]
     },
     "execution_count": 293,
     "metadata": {},
     "output_type": "execute_result"
    }
   ],
   "source": [
    "df_attitude = pd.merge(\n",
    "    pd.merge(df_Answer11TechinTech, df_Answer17TechinTech, on=\"UserID\"),\n",
    "    df_Answer83TechinTech,\n",
    "    on=\"UserID\",\n",
    "    how=\"inner\",\n",
    ")\n",
    "df_attitude.UserID.count()"
   ]
  },
  {
   "cell_type": "markdown",
   "id": "4e70fb2f",
   "metadata": {},
   "source": [
    "## Attitude Score"
   ]
  },
  {
   "cell_type": "code",
   "execution_count": 248,
   "id": "581db54f",
   "metadata": {},
   "outputs": [
    {
     "data": {
      "text/plain": [
       "127"
      ]
     },
     "execution_count": 248,
     "metadata": {},
     "output_type": "execute_result"
    }
   ],
   "source": [
    "Attitude_Score = (\n",
    "    (TechinTech_Answer11 * Yes_Answer11)\n",
    "    + (TechinTech_Answer17 * Yes_Answer17)\n",
    "    + (TechinTech_Answer83 * Yes_Answer83)\n",
    ") / (Total_Answer11 + Total_Answer17 + Total_Answer83)\n",
    "Attitude_Score = int(Attitude_Score)\n",
    "Attitude_Score"
   ]
  },
  {
   "cell_type": "markdown",
   "id": "34b73a90",
   "metadata": {},
   "source": [
    "# Access to Mental Health Resources"
   ]
  },
  {
   "cell_type": "code",
   "execution_count": 294,
   "id": "bf5662ff",
   "metadata": {},
   "outputs": [
    {
     "data": {
      "text/plain": [
       "176"
      ]
     },
     "execution_count": 294,
     "metadata": {},
     "output_type": "execute_result"
    }
   ],
   "source": [
    "df_access = pd.merge(\n",
    "    pd.merge(df_Answer10TechinTech, df_Answer14TechinTech, on=\"UserID\"),\n",
    "    df_Answer16TechinTech,\n",
    "    on=\"UserID\",\n",
    "    how=\"inner\",\n",
    ")\n",
    "df_access.UserID.count()"
   ]
  },
  {
   "cell_type": "markdown",
   "id": "fc5eba1f",
   "metadata": {},
   "source": [
    "## Resources Score"
   ]
  },
  {
   "cell_type": "code",
   "execution_count": 289,
   "id": "89df5905",
   "metadata": {},
   "outputs": [
    {
     "data": {
      "text/plain": [
       "135"
      ]
     },
     "execution_count": 289,
     "metadata": {},
     "output_type": "execute_result"
    }
   ],
   "source": [
    "Access_Score = (\n",
    "    (TechinTech_Answer10 * Yes_Answer10)\n",
    "    + (TechinTech_Answer14 * Yes_Answer14)\n",
    "    + (TechinTech_Answer16 * Yes_Answer16)\n",
    ") / (Total_Answer10 + Total_Answer14 + Total_Answer16)\n",
    "Access_Score = int(Access_Score)\n",
    "Access_Score"
   ]
  },
  {
   "cell_type": "markdown",
   "id": "1f3b1e28",
   "metadata": {},
   "source": [
    "# Openness to Disussing Mental Health Issues"
   ]
  },
  {
   "cell_type": "code",
   "execution_count": 291,
   "id": "b9f23c91",
   "metadata": {},
   "outputs": [
    {
     "data": {
      "text/plain": [
       "28"
      ]
     },
     "execution_count": 291,
     "metadata": {},
     "output_type": "execute_result"
    }
   ],
   "source": [
    "df_openness = pd.merge(\n",
    "    pd.merge(df_Answer12TechinTech, df_Answer18TechinTech, on=\"UserID\"),\n",
    "    df_Answer19TechinTech,\n",
    "    on=\"UserID\",\n",
    "    how=\"inner\",\n",
    ")\n",
    "df_openness.UserID.count()"
   ]
  },
  {
   "cell_type": "markdown",
   "id": "10c57b3c",
   "metadata": {},
   "source": [
    "## Openness Score"
   ]
  },
  {
   "cell_type": "code",
   "execution_count": 250,
   "id": "3525cf6a",
   "metadata": {},
   "outputs": [
    {
     "data": {
      "text/plain": [
       "56"
      ]
     },
     "execution_count": 250,
     "metadata": {},
     "output_type": "execute_result"
    }
   ],
   "source": [
    "Openness_Score = (\n",
    "    (TechinTech_Answer12 * Yes_Answer12)\n",
    "    + (TechinTech_Answer18 * Yes_Answer18)\n",
    "    + (TechinTech_Answer19 * Yes_Answer19)\n",
    ") / (Total_Answer12 + Total_Answer18 + Total_Answer19)\n",
    "Openness_Score = int(Openness_Score)\n",
    "Openness_Score"
   ]
  },
  {
   "cell_type": "markdown",
   "id": "f1925dff",
   "metadata": {},
   "source": [
    "# Conclusions"
   ]
  },
  {
   "cell_type": "markdown",
   "id": "612c766e",
   "metadata": {},
   "source": [
    "# Suggestions for Improvement"
   ]
  },
  {
   "cell_type": "markdown",
   "id": "c5be8e49",
   "metadata": {},
   "source": [
    "> * I concentrated on positives. \n",
    "> * I did not work on the narrative questions Some of the questions had a lot of NR. \n",
    "> * Some questions had not TechinTech who answered them at all. \n",
    "> * Stayed away from questions with scales of 1-10 TechinTech starts at ... UserID With attitude I found only 3 questions."
   ]
  },
  {
   "cell_type": "markdown",
   "id": "4db3c01b",
   "metadata": {},
   "source": [
    "# Appendix\n"
   ]
  }
 ],
 "metadata": {
  "kernelspec": {
   "display_name": "Python 3 (ipykernel)",
   "language": "python",
   "name": "python3"
  },
  "language_info": {
   "codemirror_mode": {
    "name": "ipython",
    "version": 3
   },
   "file_extension": ".py",
   "mimetype": "text/x-python",
   "name": "python",
   "nbconvert_exporter": "python",
   "pygments_lexer": "ipython3",
   "version": "3.10.7"
  }
 },
 "nbformat": 4,
 "nbformat_minor": 5
}
